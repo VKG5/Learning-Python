{
 "cells": [
  {
   "cell_type": "markdown",
   "metadata": {},
   "source": [
    "# Step 1"
   ]
  },
  {
   "cell_type": "code",
   "execution_count": 1,
   "metadata": {},
   "outputs": [],
   "source": [
    "import csv\n",
    "\n",
    "file=open('PNB-EQ.csv', newline='', encoding='UTF8')\n",
    "\n",
    "raw = csv.reader(file)\n",
    "\n",
    "l=[]\n",
    "for line in raw:\n",
    "    for a in line:\n",
    "        # print(a)\n",
    "        if(a.isdigit()):\n",
    "            l.append(float(a))\n",
    "\n",
    "# For checking if the list is formed\n",
    "#print(l)\n",
    "\n",
    "# For checking total number of data elements\n",
    "# print(len(l))"
   ]
  },
  {
   "cell_type": "code",
   "execution_count": 2,
   "metadata": {},
   "outputs": [],
   "source": [
    "prof_list=[]\n",
    "\n",
    "for i in range(len(l)-1):\n",
    "    if(l[i]<=l[i+1]):\n",
    "        prof_list.append(\"+\")\n",
    "    else:\n",
    "        prof_list.append(\"-\")\n",
    "        \n",
    "days=len(prof_list)\n",
    "# For checking if list is formed\n",
    "#print(prof_list)"
   ]
  },
  {
   "cell_type": "markdown",
   "metadata": {},
   "source": [
    "# Step 2\n"
   ]
  },
  {
   "cell_type": "code",
   "execution_count": 4,
   "metadata": {},
   "outputs": [
    {
     "name": "stdout",
     "output_type": "stream",
     "text": [
      "Enter the number of days you want: 10\n",
      "\n",
      "Max Range -  1179\n",
      "Enter the day number: 124\n",
      "['+', '-', '+', '+', '+', '-', '+', '+', '-', '+']\n",
      "\n",
      "Profit, stock is quite stable\n"
     ]
    }
   ],
   "source": [
    "check=[]\n",
    "\n",
    "n=int(input(\"Enter the number of days you want: \"))\n",
    "print(\"\\nMax Range - \",days)\n",
    "d=int(input(\"Enter the day number: \"))\n",
    "\n",
    "for i in range(n):\n",
    "    check.append(prof_list[d-1])\n",
    "    d+=1\n",
    "\n",
    "print(check)\n",
    "\n",
    "count1=0\n",
    "count2=0\n",
    "for k in check:\n",
    "    if(k=='+'):\n",
    "        count1+=1\n",
    "    else:\n",
    "        count2+=1\n",
    "        \n",
    "if(count1>count2 and check[len(check)-1]=='-'):\n",
    "    print(\"\\nShort-Profit, stock will fall\")\n",
    "    \n",
    "elif(count1>count2):\n",
    "    print(\"\\nProfit, stock is quite stable\")\n",
    "    \n",
    "elif(count1<count2 and check[len(check)-1]==\"+\"):\n",
    "    print(\"\\nLong-Profit, stock will rise\")\n",
    "\n",
    "else:\n",
    "    print(\"\\nLoss, stock is quite stable\")"
   ]
  },
  {
   "cell_type": "code",
   "execution_count": null,
   "metadata": {},
   "outputs": [],
   "source": []
  }
 ],
 "metadata": {
  "kernelspec": {
   "display_name": "Python 3",
   "language": "python",
   "name": "python3"
  },
  "language_info": {
   "codemirror_mode": {
    "name": "ipython",
    "version": 3
   },
   "file_extension": ".py",
   "mimetype": "text/x-python",
   "name": "python",
   "nbconvert_exporter": "python",
   "pygments_lexer": "ipython3",
   "version": "3.7.3"
  }
 },
 "nbformat": 4,
 "nbformat_minor": 2
}
