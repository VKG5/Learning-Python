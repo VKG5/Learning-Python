{
 "cells": [
  {
   "cell_type": "markdown",
   "metadata": {},
   "source": [
    "## Method 1"
   ]
  },
  {
   "cell_type": "code",
   "execution_count": 1,
   "metadata": {},
   "outputs": [
    {
     "name": "stdout",
     "output_type": "stream",
     "text": [
      "3105\n",
      "11\n"
     ]
    }
   ],
   "source": [
    "# To read the data\n",
    "import csv\n",
    "import numpy as np\n",
    "\n",
    "file = open('dataset.csv', newline='', encoding='utf-8-sig')\n",
    "\n",
    "raw = csv.reader(file, quoting=csv.QUOTE_NONNUMERIC)\n",
    "l = []\n",
    "\n",
    "for row in raw:\n",
    "    # print(row)\n",
    "    # print(type(row))\n",
    "    \n",
    "    l.append(row)\n",
    "    \n",
    "# print(type(l[0][0]))\n",
    "\n",
    "# Total number of rows\n",
    "print(len(l))\n",
    "# Total number of columns\n",
    "print(len(l[0]))"
   ]
  },
  {
   "cell_type": "code",
   "execution_count": 2,
   "metadata": {},
   "outputs": [],
   "source": [
    "from tabulate import tabulate\n",
    "\n",
    "table=(tabulate(l, headers=['A','B','C','D','E','F','G','H','I','J','Output'], tablefmt='simple', numalign='center'))"
   ]
  },
  {
   "cell_type": "code",
   "execution_count": 3,
   "metadata": {},
   "outputs": [],
   "source": [
    "# print(table)"
   ]
  },
  {
   "cell_type": "code",
   "execution_count": null,
   "metadata": {},
   "outputs": [],
   "source": []
  },
  {
   "cell_type": "markdown",
   "metadata": {},
   "source": [
    "## Method 2"
   ]
  },
  {
   "cell_type": "code",
   "execution_count": 4,
   "metadata": {},
   "outputs": [
    {
     "name": "stdout",
     "output_type": "stream",
     "text": [
      "3105\n"
     ]
    }
   ],
   "source": [
    "import pandas as pd\n",
    "import numpy as np\n",
    "\n",
    "file = pd.read_csv('dataset.csv', header=None)\n",
    "\n",
    "print(len(file))"
   ]
  },
  {
   "cell_type": "code",
   "execution_count": 5,
   "metadata": {},
   "outputs": [],
   "source": [
    "files2 = file[file.columns[0:10]]"
   ]
  },
  {
   "cell_type": "code",
   "execution_count": 22,
   "metadata": {},
   "outputs": [],
   "source": [
    "# Checking the dataframe\n",
    "# files2"
   ]
  },
  {
   "cell_type": "code",
   "execution_count": 23,
   "metadata": {},
   "outputs": [],
   "source": [
    "correlation_matrix = files2.corr()"
   ]
  },
  {
   "cell_type": "code",
   "execution_count": 24,
   "metadata": {},
   "outputs": [
    {
     "data": {
      "text/html": [
       "<div>\n",
       "<style scoped>\n",
       "    .dataframe tbody tr th:only-of-type {\n",
       "        vertical-align: middle;\n",
       "    }\n",
       "\n",
       "    .dataframe tbody tr th {\n",
       "        vertical-align: top;\n",
       "    }\n",
       "\n",
       "    .dataframe thead th {\n",
       "        text-align: right;\n",
       "    }\n",
       "</style>\n",
       "<table border=\"1\" class=\"dataframe\">\n",
       "  <thead>\n",
       "    <tr style=\"text-align: right;\">\n",
       "      <th></th>\n",
       "      <th>0</th>\n",
       "      <th>1</th>\n",
       "      <th>2</th>\n",
       "      <th>3</th>\n",
       "      <th>4</th>\n",
       "      <th>5</th>\n",
       "      <th>6</th>\n",
       "      <th>7</th>\n",
       "      <th>8</th>\n",
       "      <th>9</th>\n",
       "    </tr>\n",
       "  </thead>\n",
       "  <tbody>\n",
       "    <tr>\n",
       "      <th>0</th>\n",
       "      <td>1.000000</td>\n",
       "      <td>0.784511</td>\n",
       "      <td>0.621155</td>\n",
       "      <td>0.546582</td>\n",
       "      <td>0.484746</td>\n",
       "      <td>0.438765</td>\n",
       "      <td>0.418068</td>\n",
       "      <td>0.397117</td>\n",
       "      <td>0.372596</td>\n",
       "      <td>0.372596</td>\n",
       "    </tr>\n",
       "    <tr>\n",
       "      <th>1</th>\n",
       "      <td>0.784511</td>\n",
       "      <td>1.000000</td>\n",
       "      <td>0.866822</td>\n",
       "      <td>0.746373</td>\n",
       "      <td>0.671546</td>\n",
       "      <td>0.609160</td>\n",
       "      <td>0.568189</td>\n",
       "      <td>0.541786</td>\n",
       "      <td>0.513389</td>\n",
       "      <td>0.513389</td>\n",
       "    </tr>\n",
       "    <tr>\n",
       "      <th>2</th>\n",
       "      <td>0.621155</td>\n",
       "      <td>0.866822</td>\n",
       "      <td>1.000000</td>\n",
       "      <td>0.906618</td>\n",
       "      <td>0.809560</td>\n",
       "      <td>0.741860</td>\n",
       "      <td>0.688529</td>\n",
       "      <td>0.649816</td>\n",
       "      <td>0.619948</td>\n",
       "      <td>0.619948</td>\n",
       "    </tr>\n",
       "    <tr>\n",
       "      <th>3</th>\n",
       "      <td>0.546582</td>\n",
       "      <td>0.746373</td>\n",
       "      <td>0.906618</td>\n",
       "      <td>1.000000</td>\n",
       "      <td>0.927893</td>\n",
       "      <td>0.846960</td>\n",
       "      <td>0.789558</td>\n",
       "      <td>0.742097</td>\n",
       "      <td>0.704288</td>\n",
       "      <td>0.704288</td>\n",
       "    </tr>\n",
       "    <tr>\n",
       "      <th>4</th>\n",
       "      <td>0.484746</td>\n",
       "      <td>0.671546</td>\n",
       "      <td>0.809560</td>\n",
       "      <td>0.927893</td>\n",
       "      <td>1.000000</td>\n",
       "      <td>0.941356</td>\n",
       "      <td>0.873845</td>\n",
       "      <td>0.823756</td>\n",
       "      <td>0.779973</td>\n",
       "      <td>0.779973</td>\n",
       "    </tr>\n",
       "    <tr>\n",
       "      <th>5</th>\n",
       "      <td>0.438765</td>\n",
       "      <td>0.609160</td>\n",
       "      <td>0.741860</td>\n",
       "      <td>0.846960</td>\n",
       "      <td>0.941356</td>\n",
       "      <td>1.000000</td>\n",
       "      <td>0.951232</td>\n",
       "      <td>0.893459</td>\n",
       "      <td>0.848416</td>\n",
       "      <td>0.848416</td>\n",
       "    </tr>\n",
       "    <tr>\n",
       "      <th>6</th>\n",
       "      <td>0.418068</td>\n",
       "      <td>0.568189</td>\n",
       "      <td>0.688529</td>\n",
       "      <td>0.789558</td>\n",
       "      <td>0.873845</td>\n",
       "      <td>0.951232</td>\n",
       "      <td>1.000000</td>\n",
       "      <td>0.958438</td>\n",
       "      <td>0.907637</td>\n",
       "      <td>0.907637</td>\n",
       "    </tr>\n",
       "    <tr>\n",
       "      <th>7</th>\n",
       "      <td>0.397117</td>\n",
       "      <td>0.541786</td>\n",
       "      <td>0.649816</td>\n",
       "      <td>0.742097</td>\n",
       "      <td>0.823756</td>\n",
       "      <td>0.893459</td>\n",
       "      <td>0.958438</td>\n",
       "      <td>1.000000</td>\n",
       "      <td>0.963750</td>\n",
       "      <td>0.963750</td>\n",
       "    </tr>\n",
       "    <tr>\n",
       "      <th>8</th>\n",
       "      <td>0.372596</td>\n",
       "      <td>0.513389</td>\n",
       "      <td>0.619948</td>\n",
       "      <td>0.704288</td>\n",
       "      <td>0.779973</td>\n",
       "      <td>0.848416</td>\n",
       "      <td>0.907637</td>\n",
       "      <td>0.963750</td>\n",
       "      <td>1.000000</td>\n",
       "      <td>1.000000</td>\n",
       "    </tr>\n",
       "    <tr>\n",
       "      <th>9</th>\n",
       "      <td>0.372596</td>\n",
       "      <td>0.513389</td>\n",
       "      <td>0.619948</td>\n",
       "      <td>0.704288</td>\n",
       "      <td>0.779973</td>\n",
       "      <td>0.848416</td>\n",
       "      <td>0.907637</td>\n",
       "      <td>0.963750</td>\n",
       "      <td>1.000000</td>\n",
       "      <td>1.000000</td>\n",
       "    </tr>\n",
       "  </tbody>\n",
       "</table>\n",
       "</div>"
      ],
      "text/plain": [
       "          0         1         2         3         4         5         6  \\\n",
       "0  1.000000  0.784511  0.621155  0.546582  0.484746  0.438765  0.418068   \n",
       "1  0.784511  1.000000  0.866822  0.746373  0.671546  0.609160  0.568189   \n",
       "2  0.621155  0.866822  1.000000  0.906618  0.809560  0.741860  0.688529   \n",
       "3  0.546582  0.746373  0.906618  1.000000  0.927893  0.846960  0.789558   \n",
       "4  0.484746  0.671546  0.809560  0.927893  1.000000  0.941356  0.873845   \n",
       "5  0.438765  0.609160  0.741860  0.846960  0.941356  1.000000  0.951232   \n",
       "6  0.418068  0.568189  0.688529  0.789558  0.873845  0.951232  1.000000   \n",
       "7  0.397117  0.541786  0.649816  0.742097  0.823756  0.893459  0.958438   \n",
       "8  0.372596  0.513389  0.619948  0.704288  0.779973  0.848416  0.907637   \n",
       "9  0.372596  0.513389  0.619948  0.704288  0.779973  0.848416  0.907637   \n",
       "\n",
       "          7         8         9  \n",
       "0  0.397117  0.372596  0.372596  \n",
       "1  0.541786  0.513389  0.513389  \n",
       "2  0.649816  0.619948  0.619948  \n",
       "3  0.742097  0.704288  0.704288  \n",
       "4  0.823756  0.779973  0.779973  \n",
       "5  0.893459  0.848416  0.848416  \n",
       "6  0.958438  0.907637  0.907637  \n",
       "7  1.000000  0.963750  0.963750  \n",
       "8  0.963750  1.000000  1.000000  \n",
       "9  0.963750  1.000000  1.000000  "
      ]
     },
     "execution_count": 24,
     "metadata": {},
     "output_type": "execute_result"
    }
   ],
   "source": [
    "correlation_matrix"
   ]
  },
  {
   "cell_type": "markdown",
   "metadata": {},
   "source": [
    "### Now, we will use the formula y = thetaT * x \\ b1 * xT, since this is simple linear regression, we only have one independent variable and one dependent variable.\n",
    "\n",
    "                                               y = thetaT*x \\ b1*xT"
   ]
  },
  {
   "cell_type": "markdown",
   "metadata": {},
   "source": [
    "#### Creating arrays for the same\n",
    "Getting the values of x,y from the dataset"
   ]
  },
  {
   "cell_type": "code",
   "execution_count": 21,
   "metadata": {},
   "outputs": [
    {
     "name": "stdout",
     "output_type": "stream",
     "text": [
      "(3105,)\n"
     ]
    }
   ],
   "source": [
    "x = file[file.columns[0:9]]\n",
    "y = file[file.columns[10]]\n",
    "# x"
   ]
  },
  {
   "cell_type": "markdown",
   "metadata": {},
   "source": [
    "Calculating x transpose and y transpose"
   ]
  },
  {
   "cell_type": "code",
   "execution_count": 10,
   "metadata": {},
   "outputs": [],
   "source": [
    "xT = np.transpose(x)\n",
    "yT = np.transpose(y)\n",
    "# xT"
   ]
  },
  {
   "cell_type": "code",
   "execution_count": 15,
   "metadata": {},
   "outputs": [],
   "source": [
    "A = np.linalg.inv(xT.dot(x))\n",
    "B = xT.dot(y)\n",
    "# B"
   ]
  },
  {
   "cell_type": "markdown",
   "metadata": {},
   "source": [
    "#### theta_hat = (xT * x)^-1 * xT * y"
   ]
  },
  {
   "cell_type": "code",
   "execution_count": 25,
   "metadata": {},
   "outputs": [],
   "source": [
    "theta_hat = A.dot(B)\n",
    "theta_hat = np.mat(theta_hat)\n",
    "theta_hat = np.transpose(theta_hat)\n",
    "\n",
    "# For calculating transpose, theta_hat.T\n",
    "# theta_hat"
   ]
  },
  {
   "cell_type": "markdown",
   "metadata": {},
   "source": [
    "#### y_hat = theta_hatT * x\n",
    "\n",
    "And creating a matrix for the same"
   ]
  },
  {
   "cell_type": "code",
   "execution_count": 26,
   "metadata": {},
   "outputs": [
    {
     "name": "stdout",
     "output_type": "stream",
     "text": [
      "(9, 1)\n",
      "(3105, 9)\n"
     ]
    }
   ],
   "source": [
    "# Printing the shapes\n",
    "print(theta_hat.shape)\n",
    "print(x.shape)"
   ]
  },
  {
   "cell_type": "code",
   "execution_count": 27,
   "metadata": {},
   "outputs": [
    {
     "name": "stdout",
     "output_type": "stream",
     "text": [
      "<class 'numpy.ndarray'>\n"
     ]
    }
   ],
   "source": [
    "y_hat = x.dot(theta_hat)\n",
    "y_hat = y_hat.to_numpy()\n",
    "print(type(y_hat))"
   ]
  },
  {
   "cell_type": "markdown",
   "metadata": {},
   "source": [
    "#### Calculating the mean"
   ]
  },
  {
   "cell_type": "code",
   "execution_count": 28,
   "metadata": {},
   "outputs": [
    {
     "name": "stdout",
     "output_type": "stream",
     "text": [
      "<class 'numpy.ndarray'>\n"
     ]
    }
   ],
   "source": [
    "# Checking the dimensions\n",
    "yT = yT.to_numpy()\n",
    "print(type(yT))"
   ]
  },
  {
   "cell_type": "code",
   "execution_count": 29,
   "metadata": {},
   "outputs": [],
   "source": [
    "mean = ((yT-y_hat)**2)"
   ]
  },
  {
   "cell_type": "code",
   "execution_count": 30,
   "metadata": {},
   "outputs": [
    {
     "name": "stdout",
     "output_type": "stream",
     "text": [
      "Mean square error:  0.0016080212427283772\n"
     ]
    }
   ],
   "source": [
    "sum = 0\n",
    "for i in mean:\n",
    "    sum+=i\n",
    "    \n",
    "n = np.average(sum)\n",
    "print(\"Mean square error: \",n/len(y))"
   ]
  },
  {
   "cell_type": "code",
   "execution_count": null,
   "metadata": {},
   "outputs": [],
   "source": []
  }
 ],
 "metadata": {
  "kernelspec": {
   "display_name": "Python 3",
   "language": "python",
   "name": "python3"
  },
  "language_info": {
   "codemirror_mode": {
    "name": "ipython",
    "version": 3
   },
   "file_extension": ".py",
   "mimetype": "text/x-python",
   "name": "python",
   "nbconvert_exporter": "python",
   "pygments_lexer": "ipython3",
   "version": "3.7.3"
  }
 },
 "nbformat": 4,
 "nbformat_minor": 2
}
