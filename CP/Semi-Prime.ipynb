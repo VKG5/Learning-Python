{
 "cells": [
  {
   "cell_type": "code",
   "execution_count": 15,
   "metadata": {},
   "outputs": [
    {
     "name": "stdout",
     "output_type": "stream",
     "text": [
      "3\n",
      "45\n",
      "[6, 10, 14, 15, 21, 22, 26, 33, 34, 35, 38, 39]\n",
      "26\n",
      "[6, 10, 14, 15, 21, 22]\n",
      "685\n",
      "[6, 10, 14, 15, 21, 22, 26, 33, 34, 35, 38, 39, 46, 51, 55, 57, 58, 62, 65, 69, 74, 77, 82, 85, 86, 87, 91, 93, 94, 95, 106, 111, 115, 118, 119, 122, 123, 129, 133, 134, 141, 142, 143, 145, 146, 155, 158, 159, 161, 166, 177, 178, 183, 185, 187, 194, 201, 202, 203, 205, 206, 209, 213, 214, 215, 217, 218, 219, 221, 226, 235, 237, 247, 249, 253, 254, 259, 262, 265, 267, 274, 278, 287, 291, 295, 298, 299, 301, 302, 303, 305, 309, 314, 319, 321, 323, 326, 327, 329, 334, 335, 339, 341, 346, 355, 358, 362, 365, 371, 377, 381, 382, 386, 391, 393, 394, 395, 398, 403, 407, 411, 413, 415, 417, 422, 427, 437, 445, 446, 447, 451, 453, 454, 458, 466, 469, 471, 473, 478, 481, 482, 485, 489, 493, 497, 501, 502, 505, 511, 514, 515, 517, 519, 526, 527, 533, 535, 537, 538, 542, 543, 545, 551, 553, 554, 559, 562, 565, 566, 573, 579, 581, 583, 586, 589, 591, 597, 611, 614, 622, 623, 626, 629, 633, 634, 635, 649, 655, 662, 667, 669, 671, 674, 679, 681]\n",
      "YES\n",
      "NO\n",
      "YES\n"
     ]
    }
   ],
   "source": [
    "def semip(a):\n",
    "    fop=[]\n",
    "    def prime(x):\n",
    "        count=0\n",
    "        for i in range(2,x):\n",
    "            if(x%i==0):\n",
    "                count=1\n",
    "        return count\n",
    "    for i in range(2,a):\n",
    "        if(a%i==0 and prime(i)==0 ):\n",
    "            fop.append(i)\n",
    "    for j in fop:\n",
    "        fop.remove(j)\n",
    "        for k in fop :\n",
    "            if(j*k==a):\n",
    "                return 1\n",
    "            else:\n",
    "                return 0\n",
    "t=int(input())\n",
    "cnta=[]\n",
    "\n",
    "while(t!=0):\n",
    "    t-=1\n",
    "    n=int(input())\n",
    "    semis=[]\n",
    "    for i in range(2,n):\n",
    "        if(semip(i)==1):\n",
    "            semis.append(i)\n",
    "    cnt=0\n",
    "\n",
    "    for qw in semis:\n",
    "        for ew in semis:\n",
    "            if(qw+ew==n):\n",
    "                cnt=1\n",
    "    if(cnt==1):\n",
    "        cnta.append(cnt)\n",
    "    else:\n",
    "        cnta.append(0)\n",
    "    print(semis)\n",
    "for y in range(0,len(cnta)):\n",
    "    if(cnta[y]==1):\n",
    "        print(\"YES\")\n",
    "    else:\n",
    "        print(\"NO\")"
   ]
  }
 ],
 "metadata": {
  "kernelspec": {
   "display_name": "Python 3",
   "language": "python",
   "name": "python3"
  },
  "language_info": {
   "codemirror_mode": {
    "name": "ipython",
    "version": 3
   },
   "file_extension": ".py",
   "mimetype": "text/x-python",
   "name": "python",
   "nbconvert_exporter": "python",
   "pygments_lexer": "ipython3",
   "version": "3.7.3"
  }
 },
 "nbformat": 4,
 "nbformat_minor": 2
}
