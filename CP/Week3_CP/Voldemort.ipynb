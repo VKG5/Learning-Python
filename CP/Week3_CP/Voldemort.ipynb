{
 "cells": [
  {
   "cell_type": "markdown",
   "metadata": {},
   "source": [
    "## Voldemort"
   ]
  },
  {
   "cell_type": "code",
   "execution_count": 18,
   "metadata": {},
   "outputs": [
    {
     "name": "stdout",
     "output_type": "stream",
     "text": [
      "3\n",
      "1 2 3\n",
      "4 5 6\n",
      "7 8 9\n",
      "1 2 3 6 9 8 7 4 5 "
     ]
    }
   ],
   "source": [
    "def spiral(final,a,b):\n",
    "    arr = []\n",
    "    k=0\n",
    "    l=0 \n",
    "    \n",
    "    # a = start index\n",
    "    # b = end index\n",
    "    \n",
    "    while(k<a and l<b):\n",
    "        for i in range(l,b):\n",
    "            arr.append(final[k][i])\n",
    "        k+=1\n",
    "        \n",
    "        for j in range(k,a):\n",
    "            arr.append(final[j][b-1])\n",
    "        b-=1\n",
    "        \n",
    "        if(k<a):\n",
    "            for i in range(b-1,l-1,-1):\n",
    "                arr.append(final[a-1][i])\n",
    "            a-=1\n",
    "            \n",
    "        if(l<b):\n",
    "            for j in range(a-1,k-1,-1):\n",
    "                arr.append(final[j][k-1])\n",
    "            l+=1\n",
    "        \n",
    "    for j in arr:\n",
    "        print(j, end = \" \")\n",
    "                \n",
    "a = int(input())\n",
    "final = []\n",
    "\n",
    "for i in range(a):\n",
    "    ls = list(map(int,input().split()))\n",
    "    final.append(ls)\n",
    "    \n",
    "b = len(final[0])\n",
    "\n",
    "spiral(final, a, b)"
   ]
  },
  {
   "cell_type": "markdown",
   "metadata": {},
   "source": [
    "## Thanos"
   ]
  },
  {
   "cell_type": "code",
   "execution_count": 20,
   "metadata": {},
   "outputs": [
    {
     "name": "stdout",
     "output_type": "stream",
     "text": [
      "6\n"
     ]
    },
    {
     "ename": "KeyboardInterrupt",
     "evalue": "",
     "output_type": "error",
     "traceback": [
      "\u001b[1;31m---------------------------------------------------------------------------\u001b[0m",
      "\u001b[1;31mKeyboardInterrupt\u001b[0m                         Traceback (most recent call last)",
      "\u001b[1;32m<ipython-input-20-e70d9f1bc6f1>\u001b[0m in \u001b[0;36m<module>\u001b[1;34m\u001b[0m\n\u001b[0;32m      7\u001b[0m     \u001b[0mcount\u001b[0m \u001b[1;33m=\u001b[0m \u001b[1;36m0\u001b[0m\u001b[1;33m\u001b[0m\u001b[1;33m\u001b[0m\u001b[0m\n\u001b[0;32m      8\u001b[0m     \u001b[0mfac\u001b[0m \u001b[1;33m=\u001b[0m \u001b[0mmath\u001b[0m\u001b[1;33m.\u001b[0m\u001b[0mfactorial\u001b[0m\u001b[1;33m(\u001b[0m\u001b[0mi\u001b[0m\u001b[1;33m)\u001b[0m\u001b[1;33m\u001b[0m\u001b[1;33m\u001b[0m\u001b[0m\n\u001b[1;32m----> 9\u001b[1;33m     \u001b[0ma\u001b[0m \u001b[1;33m=\u001b[0m \u001b[0mstr\u001b[0m\u001b[1;33m(\u001b[0m\u001b[0mfac\u001b[0m\u001b[1;33m)\u001b[0m\u001b[1;33m\u001b[0m\u001b[1;33m\u001b[0m\u001b[0m\n\u001b[0m\u001b[0;32m     10\u001b[0m \u001b[1;33m\u001b[0m\u001b[0m\n\u001b[0;32m     11\u001b[0m     \u001b[1;32mif\u001b[0m \u001b[1;34m\"0\"\u001b[0m \u001b[1;32min\u001b[0m \u001b[0ma\u001b[0m\u001b[1;33m[\u001b[0m\u001b[1;33m:\u001b[0m\u001b[1;33m:\u001b[0m\u001b[1;33m-\u001b[0m\u001b[1;36m1\u001b[0m\u001b[1;33m]\u001b[0m\u001b[1;33m:\u001b[0m\u001b[1;33m\u001b[0m\u001b[1;33m\u001b[0m\u001b[0m\n",
      "\u001b[1;31mKeyboardInterrupt\u001b[0m: "
     ]
    }
   ],
   "source": [
    "import math\n",
    "\n",
    "n = int(input())\n",
    "\n",
    "i=0\n",
    "while(i<100):\n",
    "    count = 0\n",
    "    fac = math.factorial(i)\n",
    "    a = str(fac)\n",
    "    \n",
    "    if \"0\" in a[::-1]:\n",
    "        count+=1\n",
    "        \n",
    "    if(count==n):\n",
    "        break\n",
    "\n",
    "print(i)"
   ]
  },
  {
   "cell_type": "code",
   "execution_count": null,
   "metadata": {},
   "outputs": [],
   "source": []
  }
 ],
 "metadata": {
  "kernelspec": {
   "display_name": "Python 3",
   "language": "python",
   "name": "python3"
  },
  "language_info": {
   "codemirror_mode": {
    "name": "ipython",
    "version": 3
   },
   "file_extension": ".py",
   "mimetype": "text/x-python",
   "name": "python",
   "nbconvert_exporter": "python",
   "pygments_lexer": "ipython3",
   "version": "3.7.3"
  }
 },
 "nbformat": 4,
 "nbformat_minor": 2
}
