{
 "cells": [
  {
   "cell_type": "markdown",
   "metadata": {
    "id": "Pl78-nJv7NvS"
   },
   "source": [
    "### Importing Libraries"
   ]
  },
  {
   "cell_type": "code",
   "execution_count": 3,
   "metadata": {
    "id": "QYl2hjck6wPm"
   },
   "outputs": [],
   "source": [
    "import numpy as np\n",
    "import threading\n",
    "import os\n",
    "import time\n",
    "import multiprocessing"
   ]
  },
  {
   "cell_type": "markdown",
   "metadata": {
    "id": "pRTlL-Fv7RUM"
   },
   "source": [
    "### Q1"
   ]
  },
  {
   "cell_type": "markdown",
   "metadata": {
    "id": "o_cy22ULFifT"
   },
   "source": [
    "#### Creating the matrices"
   ]
  },
  {
   "cell_type": "code",
   "execution_count": 27,
   "metadata": {
    "id": "hzLl4Y4R7P9x"
   },
   "outputs": [],
   "source": [
    "# n = size of the square matrix\n",
    "n = 5\n",
    "min_val = 0\n",
    "max_val = 10\n",
    "\n",
    "A = np.random.randint(min_val,max_val,(n,n))\n",
    "B = np.random.randint(min_val,max_val,(n,n))"
   ]
  },
  {
   "cell_type": "code",
   "execution_count": 28,
   "metadata": {
    "colab": {
     "base_uri": "https://localhost:8080/"
    },
    "id": "AZrysAjf7YDg",
    "outputId": "9ead090a-6c2d-4a4e-f4d0-1d66ab109134"
   },
   "outputs": [
    {
     "name": "stdout",
     "output_type": "stream",
     "text": [
      "A:\n",
      " [[1 8 4 2 7]\n",
      " [5 7 0 0 9]\n",
      " [0 2 8 5 1]\n",
      " [7 6 2 5 2]\n",
      " [1 2 9 1 9]]\n",
      "B:\n",
      " [[8 9 4 5 4]\n",
      " [7 5 3 8 6]\n",
      " [8 0 6 5 8]\n",
      " [0 6 9 5 0]\n",
      " [0 7 2 9 1]]\n"
     ]
    }
   ],
   "source": [
    "print(\"A:\\n\", A)\n",
    "print(\"B:\\n\", B)"
   ]
  },
  {
   "cell_type": "markdown",
   "metadata": {
    "id": "lM_cIQlU83_Q"
   },
   "source": [
    "##### 1. Manual Multiplication\n",
    "\n"
   ]
  },
  {
   "cell_type": "code",
   "execution_count": 29,
   "metadata": {
    "id": "ksaCxNdk7bFo"
   },
   "outputs": [],
   "source": [
    "# Defining the output matrix\n",
    "C = [[0 for i in range(n)] for i in range(n)]"
   ]
  },
  {
   "cell_type": "code",
   "execution_count": 30,
   "metadata": {
    "id": "cwTPh4yF9PcY"
   },
   "outputs": [],
   "source": [
    "# For measuring the time\n",
    "start = time.time()\n",
    "\n",
    "for i in range(n):  \n",
    "  for j in range(n):\n",
    "    for k in range(n):\n",
    "      C[i][j] += A[i][k] * B[k][j]\n",
    "\n",
    "end = time.time()"
   ]
  },
  {
   "cell_type": "code",
   "execution_count": 31,
   "metadata": {
    "colab": {
     "base_uri": "https://localhost:8080/"
    },
    "id": "fwnFxTr69QEg",
    "outputId": "48c5d259-acf9-488e-f2f3-ce5dadecc02e"
   },
   "outputs": [
    {
     "data": {
      "text/plain": [
       "[[96, 110, 84, 162, 91],\n",
       " [89, 143, 59, 162, 71],\n",
       " [78, 47, 101, 90, 77],\n",
       " [114, 137, 107, 136, 82],\n",
       " [94, 88, 91, 152, 97]]"
      ]
     },
     "execution_count": 31,
     "metadata": {
      "tags": []
     },
     "output_type": "execute_result"
    }
   ],
   "source": [
    "C"
   ]
  },
  {
   "cell_type": "code",
   "execution_count": 32,
   "metadata": {
    "colab": {
     "base_uri": "https://localhost:8080/"
    },
    "id": "WMoiSd8Y_hxX",
    "outputId": "ed4b29fc-1adf-40ae-a2b8-a3219204a1b2"
   },
   "outputs": [
    {
     "name": "stdout",
     "output_type": "stream",
     "text": [
      "Time: 0.0005686283111572266\n"
     ]
    }
   ],
   "source": [
    "print(\"Time:\", end-start)"
   ]
  },
  {
   "cell_type": "markdown",
   "metadata": {
    "id": "dKM39x6QA-Pt"
   },
   "source": [
    "##### 2. MultiThreading"
   ]
  },
  {
   "cell_type": "code",
   "execution_count": 33,
   "metadata": {
    "id": "PNCDovI5A6PO"
   },
   "outputs": [],
   "source": [
    "def task(min, max, A, B, C):\n",
    "  for i in range(min, max):  \n",
    "    for j in range(n):\n",
    "      for k in range(n):\n",
    "        C[i][j] += A[i][k] * B[k][j]\n",
    "  \n",
    "  ## Optional\n",
    "  print(\"Task\", max, \" assigned to thread: {}\\n\".format(threading.current_thread().name)) \n",
    "  print(\"ID of process running task \", max, \": {}\\n\".format(os.getpid())) \n",
    " \n",
    "  return C"
   ]
  },
  {
   "cell_type": "code",
   "execution_count": 34,
   "metadata": {
    "colab": {
     "base_uri": "https://localhost:8080/"
    },
    "id": "LoKaJCnOCsTv",
    "outputId": "e18a4ba6-930e-4559-c566-d042f01de7bb"
   },
   "outputs": [
    {
     "data": {
      "text/plain": [
       "[[0, 0, 0, 0, 0],\n",
       " [0, 0, 0, 0, 0],\n",
       " [0, 0, 0, 0, 0],\n",
       " [0, 0, 0, 0, 0],\n",
       " [0, 0, 0, 0, 0]]"
      ]
     },
     "execution_count": 34,
     "metadata": {
      "tags": []
     },
     "output_type": "execute_result"
    }
   ],
   "source": [
    "# Defining the output matrix\n",
    "C = [[0 for i in range(n)] for i in range(n)]\n",
    "C\n",
    "# C = task(0, 1, A, B, C)"
   ]
  },
  {
   "cell_type": "code",
   "execution_count": 35,
   "metadata": {
    "id": "b_F6htZKCzsN"
   },
   "outputs": [],
   "source": [
    "# Creating n number of threads\n",
    "threads = [None] * n"
   ]
  },
  {
   "cell_type": "code",
   "execution_count": 36,
   "metadata": {
    "colab": {
     "base_uri": "https://localhost:8080/",
     "height": 35
    },
    "id": "oBTke3NaHdz-",
    "outputId": "c7739138-6611-4174-a95e-27938d32b5d9"
   },
   "outputs": [
    {
     "data": {
      "application/vnd.google.colaboratory.intrinsic+json": {
       "type": "string"
      },
      "text/plain": [
       "'\\nOptional\\n'"
      ]
     },
     "execution_count": 36,
     "metadata": {
      "tags": []
     },
     "output_type": "execute_result"
    }
   ],
   "source": [
    "'''\n",
    "Optional\n",
    "'''\n",
    "# Details on thread\n",
    "# threading.Thread?"
   ]
  },
  {
   "cell_type": "code",
   "execution_count": 37,
   "metadata": {
    "colab": {
     "base_uri": "https://localhost:8080/"
    },
    "id": "9_EsxO8yC3L2",
    "outputId": "23023d6d-b77e-4da5-c9d4-f521ffd8d020"
   },
   "outputs": [
    {
     "name": "stdout",
     "output_type": "stream",
     "text": [
      "Task 1  assigned to thread: Thread-4\n",
      "\n",
      "ID of process running task  1 : 61\n",
      "\n",
      "TaskTask 3  assigned to thread: Thread-6\n",
      "\n",
      "ID of process running task  3 : 61\n",
      "\n",
      " Task2 Task4  assigned to thread: Thread-7\n",
      "\n",
      "ID of process running task  4 : 61\n",
      "\n",
      " 5  assigned to thread: Thread-8\n",
      "\n",
      "ID of process running task  5 : 61\n",
      "\n",
      "  assigned to thread: Thread-5\n",
      "\n",
      "ID of process running task  2 : 61\n",
      "\n"
     ]
    }
   ],
   "source": [
    "# For measuring the time\n",
    "start = time.time()\n",
    "\n",
    "for i in range(n):\n",
    "    threads[i] = threading.Thread(target=task, args=(i, i+1, A, B, C))\n",
    "    # threads[i] = multiprocessing.Process(target=task, args=(i, i+1, A, B, C))\n",
    "    threads[i].start()\n",
    "\n",
    "for i in range(len(threads)):\n",
    "    threads[i].join()\n",
    "\n",
    "end = time.time()"
   ]
  },
  {
   "cell_type": "code",
   "execution_count": 38,
   "metadata": {
    "colab": {
     "base_uri": "https://localhost:8080/"
    },
    "id": "sBAwzInwDW52",
    "outputId": "cba9157e-965f-4391-882e-cf53eaa29459"
   },
   "outputs": [
    {
     "data": {
      "text/plain": [
       "[[96, 110, 84, 162, 91],\n",
       " [89, 143, 59, 162, 71],\n",
       " [78, 47, 101, 90, 77],\n",
       " [114, 137, 107, 136, 82],\n",
       " [94, 88, 91, 152, 97]]"
      ]
     },
     "execution_count": 38,
     "metadata": {
      "tags": []
     },
     "output_type": "execute_result"
    }
   ],
   "source": [
    "C"
   ]
  },
  {
   "cell_type": "code",
   "execution_count": 39,
   "metadata": {
    "colab": {
     "base_uri": "https://localhost:8080/"
    },
    "id": "rrs9TwxkDadU",
    "outputId": "712dce9a-4fad-491e-f150-1127b22d43b1"
   },
   "outputs": [
    {
     "name": "stdout",
     "output_type": "stream",
     "text": [
      "Time: 0.012001752853393555\n"
     ]
    }
   ],
   "source": [
    "print(\"Time:\", end-start)"
   ]
  },
  {
   "cell_type": "markdown",
   "metadata": {
    "id": "NOsm_c63Dzsu"
   },
   "source": [
    "##### 3. Inbuilt Library"
   ]
  },
  {
   "cell_type": "code",
   "execution_count": 40,
   "metadata": {
    "id": "DVWQh8YzDpb9"
   },
   "outputs": [],
   "source": [
    "matA = np.matrix(A)\n",
    "matB = np.matrix(B)\n",
    "\n",
    "# For measuring the time\n",
    "start = time.time()\n",
    "\n",
    "C = np.matmul(matA, matB)\n",
    "\n",
    "end = time.time()"
   ]
  },
  {
   "cell_type": "code",
   "execution_count": 41,
   "metadata": {
    "colab": {
     "base_uri": "https://localhost:8080/"
    },
    "id": "rwt6h_4iEWij",
    "outputId": "99b4624b-aa27-4637-bae3-23fa3aafdc88"
   },
   "outputs": [
    {
     "data": {
      "text/plain": [
       "matrix([[ 96, 110,  84, 162,  91],\n",
       "        [ 89, 143,  59, 162,  71],\n",
       "        [ 78,  47, 101,  90,  77],\n",
       "        [114, 137, 107, 136,  82],\n",
       "        [ 94,  88,  91, 152,  97]])"
      ]
     },
     "execution_count": 41,
     "metadata": {
      "tags": []
     },
     "output_type": "execute_result"
    }
   ],
   "source": [
    "C"
   ]
  },
  {
   "cell_type": "code",
   "execution_count": 42,
   "metadata": {
    "colab": {
     "base_uri": "https://localhost:8080/"
    },
    "id": "haobSTKjEXNV",
    "outputId": "6cd86efa-bbf4-4138-e385-5d38f3bf98c5"
   },
   "outputs": [
    {
     "name": "stdout",
     "output_type": "stream",
     "text": [
      "Time: 0.0006580352783203125\n"
     ]
    }
   ],
   "source": [
    "print(\"Time:\", end-start)"
   ]
  },
  {
   "cell_type": "markdown",
   "metadata": {
    "id": "vvstyQJtHs1t"
   },
   "source": [
    "### Q2"
   ]
  },
  {
   "cell_type": "markdown",
   "metadata": {
    "id": "Iz6JZbT3H4jT"
   },
   "source": [
    "#### Creating the array"
   ]
  },
  {
   "cell_type": "code",
   "execution_count": 112,
   "metadata": {
    "id": "0Kl2tR-zEkpe"
   },
   "outputs": [],
   "source": [
    "# n = length of the array\n",
    "n = 51\n",
    "arr = np.random.randint(min_val,max_val,(n))"
   ]
  },
  {
   "cell_type": "code",
   "execution_count": 113,
   "metadata": {
    "colab": {
     "base_uri": "https://localhost:8080/"
    },
    "id": "-kz1yQVKIjb2",
    "outputId": "ccc2e448-cd97-4907-a1eb-927c9fcee270"
   },
   "outputs": [
    {
     "data": {
      "text/plain": [
       "array([3, 8, 9, 5, 4, 3, 7, 3, 2, 5, 8, 3, 7, 8, 2, 4, 2, 6, 0, 8, 2, 8,\n",
       "       6, 9, 1, 8, 8, 7, 9, 7, 7, 2, 9, 1, 9, 6, 1, 2, 6, 5, 8, 8, 1, 1,\n",
       "       6, 7, 6, 7, 4, 3, 6])"
      ]
     },
     "execution_count": 113,
     "metadata": {
      "tags": []
     },
     "output_type": "execute_result"
    }
   ],
   "source": [
    "arr"
   ]
  },
  {
   "cell_type": "markdown",
   "metadata": {
    "id": "5tqsvCdDIqqf"
   },
   "source": [
    "##### 1. Manual Search"
   ]
  },
  {
   "cell_type": "code",
   "execution_count": 114,
   "metadata": {
    "colab": {
     "base_uri": "https://localhost:8080/"
    },
    "id": "f3otDYWhIkST",
    "outputId": "e3efb079-9463-4737-bb1a-9e8dd4295993"
   },
   "outputs": [
    {
     "name": "stdout",
     "output_type": "stream",
     "text": [
      "Search: 3\n",
      "Index: 0\n"
     ]
    }
   ],
   "source": [
    "start = time.time()\n",
    "\n",
    "# Generating random number to be searched\n",
    "search = np.random.randint(1, 10)\n",
    "\n",
    "for i in range(n):\n",
    "  if(arr[i] == search):\n",
    "    print(\"Search: {}\\nIndex: {}\".format(search, i))\n",
    "    break\n",
    "\n",
    "end = time.time()"
   ]
  },
  {
   "cell_type": "code",
   "execution_count": 115,
   "metadata": {
    "colab": {
     "base_uri": "https://localhost:8080/"
    },
    "id": "Ctb7M4jvJYOt",
    "outputId": "f301072f-74e9-46d9-ea77-b2455369867c"
   },
   "outputs": [
    {
     "name": "stdout",
     "output_type": "stream",
     "text": [
      "Time: 0.000240325927734375\n"
     ]
    }
   ],
   "source": [
    "print(\"Time:\", end-start)"
   ]
  },
  {
   "cell_type": "markdown",
   "metadata": {
    "id": "ztEs_otqjJwW"
   },
   "source": [
    "##### 3. Inbuilt Functions"
   ]
  },
  {
   "cell_type": "code",
   "execution_count": 117,
   "metadata": {
    "colab": {
     "base_uri": "https://localhost:8080/"
    },
    "id": "m3PNeS67i3hI",
    "outputId": "e9677487-fe2a-4175-fb60-236ca8f97434"
   },
   "outputs": [
    {
     "name": "stdout",
     "output_type": "stream",
     "text": [
      "Item 3 found at index [ 0  5  7 11 49]\n",
      "Time taken: 0.0008 seconds(s)\n"
     ]
    }
   ],
   "source": [
    "ints = arr\n",
    "start = time.perf_counter()\n",
    "indexes = np.where(np.array(ints) == search)[0]\n",
    "print(f\"Item {search} found at index {indexes}\")\n",
    "end = time.perf_counter()\n",
    "print(f\"Time taken: {round(end - start, 5)} seconds(s)\")"
   ]
  },
  {
   "cell_type": "markdown",
   "metadata": {
    "id": "yuU_os0rFtyQ"
   },
   "source": [
    "### Q3"
   ]
  },
  {
   "cell_type": "markdown",
   "metadata": {
    "id": "SiF934x1FxAx"
   },
   "source": [
    "#### Creating the array"
   ]
  },
  {
   "cell_type": "code",
   "execution_count": 47,
   "metadata": {
    "id": "tp7OlGOwJZTT"
   },
   "outputs": [],
   "source": [
    "# n = length of the array\n",
    "n = 51\n",
    "arr = np.random.randint(min_val,max_val,(n))"
   ]
  },
  {
   "cell_type": "code",
   "execution_count": 48,
   "metadata": {
    "colab": {
     "base_uri": "https://localhost:8080/"
    },
    "id": "gI422NVOF_w_",
    "outputId": "896fdc45-6a75-4c21-e733-1f4244c9777c"
   },
   "outputs": [
    {
     "data": {
      "text/plain": [
       "array([6, 4, 9, 1, 8, 7, 5, 2, 6, 4, 1, 4, 9, 3, 1, 7, 8, 6, 0, 2, 0, 2,\n",
       "       5, 6, 0, 3, 5, 8, 3, 2, 6, 1, 3, 9, 0, 6, 0, 0, 0, 0, 0, 7, 3, 4,\n",
       "       2, 8, 5, 5, 7, 8, 4])"
      ]
     },
     "execution_count": 48,
     "metadata": {
      "tags": []
     },
     "output_type": "execute_result"
    }
   ],
   "source": [
    "arr"
   ]
  },
  {
   "cell_type": "markdown",
   "metadata": {
    "id": "YyJkyRZGGBdo"
   },
   "source": [
    "##### 1. Manual Addition"
   ]
  },
  {
   "cell_type": "code",
   "execution_count": 49,
   "metadata": {
    "colab": {
     "base_uri": "https://localhost:8080/"
    },
    "id": "4hwjNhJxGBAt",
    "outputId": "5f048e49-e038-4cdf-9df9-317f3fef53cd"
   },
   "outputs": [
    {
     "name": "stdout",
     "output_type": "stream",
     "text": [
      "205\n"
     ]
    }
   ],
   "source": [
    "sum = 0\n",
    "\n",
    "start = time.time()\n",
    "for i in range(n):\n",
    "    sum=sum+arr[i]\n",
    "\n",
    "end = time.time()     \n",
    "print(sum)"
   ]
  },
  {
   "cell_type": "code",
   "execution_count": 50,
   "metadata": {
    "colab": {
     "base_uri": "https://localhost:8080/"
    },
    "id": "ZAyjMooyHfZx",
    "outputId": "2061c012-7964-4921-c7b0-79163c1271be"
   },
   "outputs": [
    {
     "name": "stdout",
     "output_type": "stream",
     "text": [
      "Time: 0.0002200603485107422\n"
     ]
    }
   ],
   "source": [
    "print(\"Time:\", end-start)"
   ]
  },
  {
   "cell_type": "markdown",
   "metadata": {
    "id": "1LDeLS5xIK5m"
   },
   "source": [
    "##### 3. Inbuilt Function"
   ]
  },
  {
   "cell_type": "code",
   "execution_count": 60,
   "metadata": {
    "colab": {
     "base_uri": "https://localhost:8080/"
    },
    "id": "u5vFcsHpHnCL",
    "outputId": "b3c33801-797c-483c-fb05-fa417cefc761"
   },
   "outputs": [
    {
     "name": "stdout",
     "output_type": "stream",
     "text": [
      "205\n"
     ]
    }
   ],
   "source": [
    "start = time.time()\n",
    "\n",
    "Sum = arr.sum()\n",
    "\n",
    "end = time.time() \n",
    "\n",
    "print(Sum)"
   ]
  },
  {
   "cell_type": "code",
   "execution_count": 61,
   "metadata": {
    "colab": {
     "base_uri": "https://localhost:8080/"
    },
    "id": "Z99VPd-6ISwK",
    "outputId": "179b84c5-eef4-4e9c-efa8-4034be5baaee"
   },
   "outputs": [
    {
     "name": "stdout",
     "output_type": "stream",
     "text": [
      "Time: 0.0003330707550048828\n"
     ]
    }
   ],
   "source": [
    "print(\"Time:\", end-start)"
   ]
  },
  {
   "cell_type": "markdown",
   "metadata": {
    "id": "lZU3H4YggpED"
   },
   "source": [
    "### Q4"
   ]
  },
  {
   "cell_type": "markdown",
   "metadata": {
    "id": "3vtNoHChg9cF"
   },
   "source": [
    "##### 1. Manual"
   ]
  },
  {
   "cell_type": "code",
   "execution_count": 100,
   "metadata": {
    "colab": {
     "base_uri": "https://localhost:8080/"
    },
    "id": "wutMCpqxJY7G",
    "outputId": "b9f7b65c-5b2b-4b0c-eadd-7a7cbf5d5b50"
   },
   "outputs": [
    {
     "name": "stdout",
     "output_type": "stream",
     "text": [
      "Enter N (>1): 31\n",
      "Enter the number of threads: 10\n",
      "[1, 2, 3, 5, 7, 9, 11, 13, 15, 17, 19, 21, 23, 25, 27, 29, 31]\n"
     ]
    }
   ],
   "source": [
    "a=[1,2]\n",
    "n = int(input(\"Enter N (>1): \"))\n",
    "num_of_threads = int(input(\"Enter the number of threads: \"))\n",
    "\n",
    "start = time.time()\n",
    "\n",
    "for i in range(2,n+1):\n",
    "    for j in range(2,i):\n",
    "        if(i%j==0):\n",
    "            break\n",
    "        else:\n",
    "            a.append(i)\n",
    "            break\n",
    "\n",
    "end = time.time()\n",
    "\n",
    "print(a)"
   ]
  },
  {
   "cell_type": "code",
   "execution_count": 101,
   "metadata": {
    "colab": {
     "base_uri": "https://localhost:8080/"
    },
    "id": "2p-5QQg1hiyW",
    "outputId": "5432caf7-886b-4555-9030-8842527f69df"
   },
   "outputs": [
    {
     "name": "stdout",
     "output_type": "stream",
     "text": [
      "Time: 0.00013971328735351562\n"
     ]
    }
   ],
   "source": [
    "print(\"Time:\", end-start)"
   ]
  },
  {
   "cell_type": "markdown",
   "metadata": {
    "id": "K4JwacC_g_9A"
   },
   "source": [
    "##### 2. Threading"
   ]
  },
  {
   "cell_type": "code",
   "execution_count": 102,
   "metadata": {
    "colab": {
     "base_uri": "https://localhost:8080/"
    },
    "id": "aZXlScdpg1g7",
    "outputId": "142b548d-4c78-44fb-da42-ded460607b52"
   },
   "outputs": [
    {
     "name": "stdout",
     "output_type": "stream",
     "text": [
      "[1, 2, 3, 5, 7, 9, 11, 13, 15, 17, 19, 21, 23, 25, 27, 29]\n"
     ]
    }
   ],
   "source": [
    "c=[1,2]\n",
    "def prime_num_search(start,end):\n",
    "    \n",
    "    for i in range(start,end):\n",
    "        for j in range(2,i):\n",
    "            if(i%j==0):\n",
    "                break\n",
    "            else:\n",
    "                c.append(i)\n",
    "                break\n",
    "    \n",
    "def Thread_function():\n",
    "    global num_of_threads\n",
    "    thread_handle = []\n",
    "\n",
    "    for j in range(0,num_of_threads):\n",
    "        t = Thread(target = prime_num_search, args=(int((n/num_of_threads) * j),int((n/num_of_threads) * (j+1))))\n",
    "        thread_handle.append(t)\n",
    "        t.start()   \n",
    "        \n",
    "    for j in range(0,num_of_threads):\n",
    "        thread_handle[j].join()\n",
    "            \n",
    "if __name__==\"__main__\":\n",
    "    \n",
    "    \n",
    "    start = time.time()\n",
    "    Thread_function()\n",
    "    end = time.time()\n",
    "    print(c)"
   ]
  },
  {
   "cell_type": "code",
   "execution_count": 103,
   "metadata": {
    "colab": {
     "base_uri": "https://localhost:8080/"
    },
    "id": "D2wYH4BWhEXL",
    "outputId": "372a37a3-c525-4557-c7ce-71431a1d30ec"
   },
   "outputs": [
    {
     "name": "stdout",
     "output_type": "stream",
     "text": [
      "Time: 0.0011920928955078125\n"
     ]
    }
   ],
   "source": [
    "print(\"Time:\", end-start)"
   ]
  }
 ],
 "metadata": {
  "colab": {
   "collapsed_sections": [
    "lM_cIQlU83_Q"
   ],
   "name": "HPC_Lab01.ipynb",
   "provenance": [],
   "toc_visible": true
  },
  "kernelspec": {
   "display_name": "Python 3",
   "language": "python",
   "name": "python3"
  },
  "language_info": {
   "codemirror_mode": {
    "name": "ipython",
    "version": 3
   },
   "file_extension": ".py",
   "mimetype": "text/x-python",
   "name": "python",
   "nbconvert_exporter": "python",
   "pygments_lexer": "ipython3",
   "version": "3.8.5"
  }
 },
 "nbformat": 4,
 "nbformat_minor": 1
}
