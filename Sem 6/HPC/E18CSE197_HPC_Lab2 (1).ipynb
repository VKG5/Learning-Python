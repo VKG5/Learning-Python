{
 "cells": [
  {
   "cell_type": "code",
   "execution_count": 152,
   "metadata": {
    "colab": {
     "base_uri": "https://localhost:8080/"
    },
    "id": "3A3F5-szSeC_",
    "outputId": "83d96b0d-2264-4c8e-a116-58aa66713784"
   },
   "outputs": [
    {
     "name": "stdout",
     "output_type": "stream",
     "text": [
      "PID = 4177 , args = [1, 2, 3, 4]\n",
      "PID = 4178 , args = [5, 6]\n",
      "PID = 4179 , args = [7]\n",
      "0.039289236068725586\n",
      "[(4177, [1, 2, 3, 4]), (4178, [5, 6]), (4179, [7]), (4180, [8])]\n",
      "PID = 4180 , args = [8]\n"
     ]
    }
   ],
   "source": [
    "import multiprocessing\n",
    "import os\n",
    "import matplotlib.pyplot as plt \n",
    "from threading import Thread\n",
    "import threading \n",
    "import math\n",
    "import numpy\n",
    "import numpy as np\n",
    "import time\n",
    "\n",
    "\n",
    "def task(args):\n",
    "  print(\"PID =\", os.getpid(), \", args =\", args)\n",
    "\n",
    "  return os.getpid(), args\n",
    "\n",
    "\n",
    "\n",
    "multiprocessing.cpu_count()\n",
    "\n",
    "\n",
    "\n",
    "pool = multiprocessing.Pool(processes=4)\n",
    "start = time.time()\n",
    "result = pool.map(task, [[1,2,3,4],[5,6],[7],[8]])\n",
    "end = time.time()\n",
    "print(end-start)\n",
    "\n",
    "print(result)\n"
   ]
  },
  {
   "cell_type": "markdown",
   "metadata": {
    "id": "FG7IaUSV9QJ7"
   },
   "source": [
    "# Q1 Prime in a Power Set:"
   ]
  },
  {
   "cell_type": "code",
   "execution_count": 203,
   "metadata": {
    "colab": {
     "base_uri": "https://localhost:8080/"
    },
    "id": "-q7bnhur8g08",
    "outputId": "328571f7-c2af-4b9e-b7b4-71a054eb2627"
   },
   "outputs": [
    {
     "name": "stdout",
     "output_type": "stream",
     "text": [
      "[1, 2, 3, 4]\n"
     ]
    }
   ],
   "source": [
    "arr = [x for x in range(1,5)]\n",
    "print(arr)"
   ]
  },
  {
   "cell_type": "code",
   "execution_count": 204,
   "metadata": {
    "id": "hRVOFph8HuDU"
   },
   "outputs": [],
   "source": [
    "def prime(num):\n",
    "  flag = True\n",
    "  if(num>1):\n",
    "    \n",
    "    # check for factors\n",
    "    for i in range(2,num):\n",
    "        if (num % i) == 0:\n",
    "          flag = False\n",
    "          break\n",
    "    else:\n",
    "        flag = True\n",
    "\n",
    "  else:\n",
    "    flag = False\n",
    "  return flag"
   ]
  },
  {
   "cell_type": "code",
   "execution_count": 205,
   "metadata": {
    "colab": {
     "base_uri": "https://localhost:8080/"
    },
    "id": "cAl2ZSQQEmFP",
    "outputId": "fadc511b-6502-4585-b982-41643732b10c"
   },
   "outputs": [
    {
     "name": "stdout",
     "output_type": "stream",
     "text": [
      "[[2], [1, 2], [3], [2, 3], [1, 4], [1, 2, 4], [3, 4]]\n"
     ]
    }
   ],
   "source": [
    "tim = []\n",
    "def printPowerSet(set,set_size): \n",
    "      \n",
    "    pow_set_size = (int) (math.pow(2, set_size)); \n",
    "    counter = 0; \n",
    "    j = 0; \n",
    "    powerset = []\n",
    "    for counter in range(0, pow_set_size):\n",
    "      ls = [] \n",
    "      for j in range(0, set_size):   \n",
    "        if((counter & (1 << j)) > 0): \n",
    "          ls.append(set[j]) \n",
    "      if(prime(sum(ls))==True):\n",
    "        powerset.append(ls) \n",
    "    return powerset\n",
    "start = time.time()  \n",
    "x = printPowerSet(arr, len(arr)); \n",
    "print(x)\n",
    "end = time.time()\n",
    "tim.append(end-start)"
   ]
  },
  {
   "cell_type": "markdown",
   "metadata": {
    "id": "ur7NHy-6KCH8"
   },
   "source": [
    "## Using Multithreading"
   ]
  },
  {
   "cell_type": "code",
   "execution_count": 206,
   "metadata": {
    "id": "r_AZtUhxLN4u"
   },
   "outputs": [],
   "source": [
    "def prime_thread(arr):\n",
    "  fin_arr = []\n",
    "  for j in arr:\n",
    "    num = sum(j)\n",
    "    flag = True\n",
    "    if(num>1):\n",
    "      \n",
    "      # check for factors\n",
    "      for i in range(2,num):\n",
    "          if (num % i) == 0:\n",
    "            flag = False\n",
    "            break\n",
    "      else:\n",
    "          flag = True\n",
    "\n",
    "    else:\n",
    "      flag = False\n",
    "    if flag==True:\n",
    "      fin_arr.append(j)\n",
    "  return fin_arr"
   ]
  },
  {
   "cell_type": "code",
   "execution_count": 207,
   "metadata": {
    "id": "o8Ft9dUoE510"
   },
   "outputs": [],
   "source": [
    "def printPowerSet(set,set_size):     \n",
    "    pow_set_size = (int) (math.pow(2, set_size)); \n",
    "    counter = 0; \n",
    "    j = 0; \n",
    "    powerset = []\n",
    "    for counter in range(0, pow_set_size):\n",
    "      ls = [] \n",
    "      for j in range(0, set_size):   \n",
    "        if((counter & (1 << j)) > 0): \n",
    "          ls.append(set[j]) \n",
    "      \n",
    "      powerset.append(ls) \n",
    "    return powerset"
   ]
  },
  {
   "cell_type": "code",
   "execution_count": 208,
   "metadata": {
    "id": "4XCt74kG9Rsp"
   },
   "outputs": [],
   "source": [
    "def thread_prime(arr):\n",
    "    processes = 2\n",
    "    size=(int)(len(arr)/processes)\n",
    "    pass_arr=[]\n",
    "    begin=0\n",
    "    for i in range(0,processes):\n",
    "      if(i==processes-1):\n",
    "        pass_arr.append(arr[begin:])\n",
    "      else:\n",
    "        pass_arr.append(arr[begin:begin+size])\n",
    "        begin=begin+size\n",
    "\n",
    "    pool = multiprocessing.Pool(processes=processes)\n",
    "    result = pool.map(prime_thread, pass_arr)\n",
    "    r=[]\n",
    "    for i in result:\n",
    "      r.extend(i)\n",
    "    return r"
   ]
  },
  {
   "cell_type": "code",
   "execution_count": 209,
   "metadata": {
    "id": "11bxZJCnFZdj"
   },
   "outputs": [],
   "source": [
    "start = time.time()\n",
    "power_arr = printPowerSet(arr,len(arr))\n",
    "x=thread_prime(power_arr)\n",
    "end = time.time()\n",
    "tim.append(end-start)"
   ]
  },
  {
   "cell_type": "code",
   "execution_count": 210,
   "metadata": {
    "colab": {
     "base_uri": "https://localhost:8080/"
    },
    "id": "dWxHz_kNM8_C",
    "outputId": "de68ddbd-be0b-4c01-a622-ec7fc1a4b75b"
   },
   "outputs": [
    {
     "name": "stdout",
     "output_type": "stream",
     "text": [
      "[[2], [1, 2], [3], [2, 3], [1, 4], [1, 2, 4], [3, 4]]\n"
     ]
    }
   ],
   "source": [
    "print(x)"
   ]
  },
  {
   "cell_type": "code",
   "execution_count": 212,
   "metadata": {
    "colab": {
     "base_uri": "https://localhost:8080/",
     "height": 265
    },
    "id": "CejhUxvwNf-M",
    "outputId": "e76e5f40-f116-442e-973f-5bd802fdb196"
   },
   "outputs": [
    {
     "data": {
      "image/png": "[encoded data removed]",
      "text/plain": [
       "<Figure size 432x288 with 1 Axes>"
      ]
     },
     "metadata": {
      "needs_background": "light",
      "tags": []
     },
     "output_type": "display_data"
    }
   ],
   "source": [
    "pro = [\"normal\",'Multiprocessing']\n",
    "# creating the bar plot \n",
    "plt.bar(pro, tim) \n",
    "plt.show() "
   ]
  },
  {
   "cell_type": "markdown",
   "metadata": {
    "id": "b3o1JlqCPbG2"
   },
   "source": [
    "# Q2. Word Search in English Dictionary: "
   ]
  },
  {
   "cell_type": "markdown",
   "metadata": {
    "id": "nfNeSXSRPgCS"
   },
   "source": [
    "### For Loop"
   ]
  },
  {
   "cell_type": "code",
   "execution_count": 163,
   "metadata": {
    "colab": {
     "base_uri": "https://localhost:8080/"
    },
    "id": "17wzEGyfPp0t",
    "outputId": "36e6c0af-6315-41d7-f49b-07cf0a130399"
   },
   "outputs": [
    {
     "name": "stdout",
     "output_type": "stream",
     "text": [
      "--2021-01-25 19:23:59--  https://raw.githubusercontent.com/dwyl/english-words/master/words.txt\n",
      "Resolving raw.githubusercontent.com (raw.githubusercontent.com)... 151.101.0.133, 151.101.64.133, 151.101.128.133, ...\n",
      "Connecting to raw.githubusercontent.com (raw.githubusercontent.com)|151.101.0.133|:443... connected.\n",
      "HTTP request sent, awaiting response... 200 OK\n",
      "Length: 4862992 (4.6M) [text/plain]\n",
      "Saving to: ‘words.txt’\n",
      "\n",
      "words.txt           100%[===================>]   4.64M  23.5MB/s    in 0.2s    \n",
      "\n",
      "2021-01-25 19:23:59 (23.5 MB/s) - ‘words.txt’ saved [4862992/4862992]\n",
      "\n"
     ]
    }
   ],
   "source": [
    "!wget https://raw.githubusercontent.com/dwyl/english-words/master/words.txt"
   ]
  },
  {
   "cell_type": "code",
   "execution_count": 164,
   "metadata": {
    "id": "AzEDwwtXRXZm"
   },
   "outputs": [],
   "source": [
    "fp = open('words.txt','r')\n",
    "def pali(word):\n",
    "  flag=0\n",
    "  if(word==word[::-1]):\n",
    "    flag=1\n",
    "  else:\n",
    "    flag=0\n",
    "  return flag\n",
    "\n",
    "arr = []\n",
    "for i in fp:\n",
    "  arr.append(i.strip('\\n'))"
   ]
  },
  {
   "cell_type": "code",
   "execution_count": 165,
   "metadata": {
    "id": "Y4y1vFSvHbmQ"
   },
   "outputs": [],
   "source": [
    "start = time.time()\n",
    "tim = []\n",
    "ret = []\n",
    "for i in arr:\n",
    "  if (pali(i)==1):\n",
    "    ret.append(i)\n",
    "  else:\n",
    "    continue\n",
    "end = time.time()\n",
    "tim.append(end-start)  "
   ]
  },
  {
   "cell_type": "markdown",
   "metadata": {
    "id": "qwxih9YESSiz"
   },
   "source": [
    "With Multiprocessing\n"
   ]
  },
  {
   "cell_type": "code",
   "execution_count": 166,
   "metadata": {
    "id": "NMUJH2ck18bs"
   },
   "outputs": [],
   "source": [
    "import multiprocessing\n",
    "import os\n",
    "import time\n",
    "import numpy\n"
   ]
  },
  {
   "cell_type": "code",
   "execution_count": 167,
   "metadata": {
    "id": "yNovBgVFUCoK"
   },
   "outputs": [],
   "source": [
    "fp = open('words.txt','r')\n",
    "def pali_th(word):\n",
    "  ret = []\n",
    "  for i in word:\n",
    "    if(pali(i)==1):\n",
    "      ret.append(i)\n",
    "  return ret\n",
    "\n",
    "arr = []\n",
    "for i in fp:\n",
    "  arr.append(i.strip('\\n'))"
   ]
  },
  {
   "cell_type": "code",
   "execution_count": 168,
   "metadata": {
    "id": "x7cz1WqbgDfn"
   },
   "outputs": [],
   "source": [
    "def palindrome_parallel(arr):\n",
    "    processes = 10\n",
    "    size=(int)(len(arr)/processes)\n",
    "    pass_arr=[]\n",
    "    begin=0\n",
    "    for i in range(0,processes):\n",
    "      if(i==processes-1):\n",
    "        pass_arr.append(arr[begin:])\n",
    "      else:\n",
    "        pass_arr.append(arr[begin:begin+size])\n",
    "        begin=begin+size\n",
    "\n",
    "    pool = multiprocessing.Pool(processes=processes)\n",
    "    result = pool.map(pali_th, pass_arr)\n",
    "    r=[]\n",
    "    for i in result:\n",
    "      r.extend(i)\n",
    "    return r"
   ]
  },
  {
   "cell_type": "code",
   "execution_count": 169,
   "metadata": {
    "colab": {
     "base_uri": "https://localhost:8080/"
    },
    "id": "Y75CmHSPv-DR",
    "outputId": "2dfc173e-4174-4747-b734-904d913680ce"
   },
   "outputs": [
    {
     "data": {
      "text/plain": [
       "319"
      ]
     },
     "execution_count": 169,
     "metadata": {
      "tags": []
     },
     "output_type": "execute_result"
    }
   ],
   "source": [
    "start = time.time()\n",
    "lis = palindrome_parallel(arr)\n",
    "end = time.time()\n",
    "len(lis)"
   ]
  },
  {
   "cell_type": "code",
   "execution_count": 170,
   "metadata": {
    "id": "m0CX5AWBzmfj"
   },
   "outputs": [],
   "source": [
    "tim.append(end-start)"
   ]
  },
  {
   "cell_type": "code",
   "execution_count": 171,
   "metadata": {
    "colab": {
     "base_uri": "https://localhost:8080/",
     "height": 265
    },
    "id": "nbYl1KLJuO1Q",
    "outputId": "bb6b9ead-ddf2-4122-c01d-d2ef4a2b546d"
   },
   "outputs": [
    {
     "data": {
      "image/png": "[encoded data removed]",
      "text/plain": [
       "<Figure size 432x288 with 1 Axes>"
      ]
     },
     "metadata": {
      "needs_background": "light",
      "tags": []
     },
     "output_type": "display_data"
    }
   ],
   "source": [
    "import matplotlib.pyplot as plt\n",
    "pro = ['Normal', 'Multiprocess']\n",
    "plt.bar(pro,tim)\n",
    "plt.show()"
   ]
  },
  {
   "cell_type": "markdown",
   "metadata": {
    "id": "r5ulnCTGuu5g"
   },
   "source": [
    "# Question 3"
   ]
  },
  {
   "cell_type": "code",
   "execution_count": 172,
   "metadata": {
    "colab": {
     "base_uri": "https://localhost:8080/"
    },
    "id": "c0qEOZPOuuZb",
    "outputId": "79af3d0a-8df6-4b2b-9ee7-7ed902627dcb"
   },
   "outputs": [
    {
     "name": "stdout",
     "output_type": "stream",
     "text": [
      "--2021-01-25 19:24:00--  https://ocdn.eu/images/pulscms/NGY7MDA_/f8d05506e9250de59fa645f0fb7020e4.jpg\n",
      "Resolving ocdn.eu (ocdn.eu)... 213.180.141.132, 213.180.141.128\n",
      "Connecting to ocdn.eu (ocdn.eu)|213.180.141.132|:443... connected.\n",
      "HTTP request sent, awaiting response... 200 OK\n",
      "Length: 2271166 (2.2M) [image/jpeg]\n",
      "Saving to: ‘f8d05506e9250de59fa645f0fb7020e4.jpg.1’\n",
      "\n",
      "f8d05506e9250de59fa 100%[===================>]   2.17M   902KB/s    in 2.5s    \n",
      "\n",
      "2021-01-25 19:24:04 (902 KB/s) - ‘f8d05506e9250de59fa645f0fb7020e4.jpg.1’ saved [2271166/2271166]\n",
      "\n"
     ]
    }
   ],
   "source": [
    "!wget https://ocdn.eu/images/pulscms/NGY7MDA_/f8d05506e9250de59fa645f0fb7020e4.jpg"
   ]
  },
  {
   "cell_type": "code",
   "execution_count": 173,
   "metadata": {
    "id": "Q0BjqBo_uZZO"
   },
   "outputs": [],
   "source": [
    "import cv2\n",
    "import numpy as np\n",
    "import time\n",
    "from google.colab.patches import cv2_imshow\n",
    "img = cv2.imread('/content/donald.jpg')\n",
    "tim= []"
   ]
  },
  {
   "cell_type": "code",
   "execution_count": 174,
   "metadata": {
    "id": "5IAopHFMym23"
   },
   "outputs": [],
   "source": [
    "kernel = (np.random.randint(-1, 1, (10,10,3)))"
   ]
  },
  {
   "cell_type": "code",
   "execution_count": 175,
   "metadata": {
    "id": "YvF2sazKpUmm"
   },
   "outputs": [],
   "source": [
    "import cv2\n",
    "\n",
    "def convolvee(image):\n",
    "    (iH, iW) = image.shape[:2]\n",
    "    (kH, kW) = kernel.shape[:2]\n",
    "\n",
    "    pad = 0\n",
    "    image = cv2.copyMakeBorder(image, pad, pad, pad, pad,\n",
    "        cv2.BORDER_REPLICATE)\n",
    "    output = np.zeros((iH, iW), dtype=\"float32\")\n",
    "    # loop over the input image, \"sliding\" the kernel across\n",
    "    # each (x, y)-coordinate from left-to-right and top to\n",
    "    # bottom\n",
    "    for y in np.arange(pad, iH + pad):\n",
    "        for x in np.arange(pad, iW + pad):\n",
    "\n",
    "            roi = image[y - pad:y + pad + 1, x - pad:x + pad + 1]\n",
    "\n",
    "            k = (roi * kernel).sum()\n",
    "\n",
    "            output[y - pad, x - pad] = k\n",
    "\n",
    "\n",
    "    output = (output * 255).astype(\"uint8\")\n",
    "    # return the output image\n",
    "    return output"
   ]
  },
  {
   "cell_type": "code",
   "execution_count": 176,
   "metadata": {
    "id": "3bJxcmx00tFb"
   },
   "outputs": [],
   "source": [
    "tim = []\n",
    "start = time.time()\n",
    "new_img = convolvee(img)\n",
    "end = time.time()\n",
    "tim.append(end-start)"
   ]
  },
  {
   "cell_type": "code",
   "execution_count": 177,
   "metadata": {
    "colab": {
     "base_uri": "https://localhost:8080/"
    },
    "id": "yQGV2VvT5ZSo",
    "outputId": "25649b06-38fb-40c5-a335-2584c2026d6a"
   },
   "outputs": [
    {
     "data": {
      "text/plain": [
       "[78.60613346099854]"
      ]
     },
     "execution_count": 177,
     "metadata": {
      "tags": []
     },
     "output_type": "execute_result"
    }
   ],
   "source": [
    "tim"
   ]
  },
  {
   "cell_type": "markdown",
   "metadata": {
    "id": "j3Un3FpuxnxL"
   },
   "source": [
    "# Multiprocessing"
   ]
  },
  {
   "cell_type": "code",
   "execution_count": 178,
   "metadata": {
    "id": "Op-MrDaTxnEN"
   },
   "outputs": [],
   "source": [
    "import cv2\n",
    "\n",
    "from google.colab.patches import cv2_imshow\n",
    "img = cv2.imread('/content/donald.jpg')"
   ]
  },
  {
   "cell_type": "code",
   "execution_count": 179,
   "metadata": {
    "id": "reaD8DsuWVqk"
   },
   "outputs": [],
   "source": [
    "def convolve_parallel(arr):\n",
    "    processes = 5\n",
    "    size=(int)(arr.shape[0]/processes)\n",
    "    pass_arr=[]\n",
    "    begin=0\n",
    "    for i in range(0,processes):\n",
    "      if(i==processes-1):\n",
    "        pass_arr.append(arr[begin:])\n",
    "      else:\n",
    "        pass_arr.append(arr[begin:begin+size])\n",
    "        begin=begin+size\n",
    "\n",
    "    pool = multiprocessing.Pool(processes=processes)\n",
    "    result = pool.map(convolvee, pass_arr)\n",
    "    for i in range(1,len(result)):\n",
    "      result[0] = np.concatenate((result[0],result[i]))\n",
    "    return result[0]"
   ]
  },
  {
   "cell_type": "code",
   "execution_count": 180,
   "metadata": {
    "id": "q6Lm1dSMu6fn"
   },
   "outputs": [],
   "source": [
    "start = time.time()\n",
    "new_img = convolve_parallel(img)\n",
    "end = time.time()\n",
    "tim.append(end-start)"
   ]
  },
  {
   "cell_type": "code",
   "execution_count": 182,
   "metadata": {
    "colab": {
     "base_uri": "https://localhost:8080/",
     "height": 265
    },
    "id": "3xKaZhsK88cV",
    "outputId": "05740873-e9ee-4dc6-d3ed-79c5ebb6cd66"
   },
   "outputs": [
    {
     "data": {
      "image/png": "[encoded data removed]",
      "text/plain": [
       "<Figure size 432x288 with 1 Axes>"
      ]
     },
     "metadata": {
      "needs_background": "light",
      "tags": []
     },
     "output_type": "display_data"
    }
   ],
   "source": [
    "import matplotlib.pyplot as plt\n",
    "pro = ['Normal', 'Multiprocess']\n",
    "plt.bar(pro,tim)\n",
    "plt.show()"
   ]
  },
  {
   "cell_type": "code",
   "execution_count": 183,
   "metadata": {
    "colab": {
     "base_uri": "https://localhost:8080/"
    },
    "id": "kcqqU2urA8wW",
    "outputId": "93e42765-27a7-4c38-b3d8-f0cdeaaf9115"
   },
   "outputs": [
    {
     "data": {
      "text/plain": [
       "[78.60613346099854, 76.10121154785156]"
      ]
     },
     "execution_count": 183,
     "metadata": {
      "tags": []
     },
     "output_type": "execute_result"
    }
   ],
   "source": [
    "tim"
   ]
  },
  {
   "cell_type": "code",
   "execution_count": null,
   "metadata": {
    "id": "cPvTlpYnA-kw"
   },
   "outputs": [],
   "source": []
  }
 ],
 "metadata": {
  "colab": {
   "name": "Vasu Gupta E18CSE199 HPC Lab2.ipynb",
   "provenance": []
  },
  "kernelspec": {
   "display_name": "Python 3",
   "language": "python",
   "name": "python3"
  },
  "language_info": {
   "codemirror_mode": {
    "name": "ipython",
    "version": 3
   },
   "file_extension": ".py",
   "mimetype": "text/x-python",
   "name": "python",
   "nbconvert_exporter": "python",
   "pygments_lexer": "ipython3",
   "version": "3.8.5"
  }
 },
 "nbformat": 4,
 "nbformat_minor": 1
}
