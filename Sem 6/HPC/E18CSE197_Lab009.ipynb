{
 "cells": [
  {
   "cell_type": "code",
   "execution_count": 66,
   "metadata": {
    "colab": {
     "base_uri": "https://localhost:8080/"
    },
    "id": "NQk7Ul4WemWu",
    "outputId": "d29ecbad-fff1-46d8-e692-0e8c7bea5a1c"
   },
   "outputs": [
    {
     "name": "stdout",
     "output_type": "stream",
     "text": [
      "[]\n",
      "[]\n",
      "<class 'networkx.classes.reportviews.NodeView'>\n",
      "<class 'networkx.classes.reportviews.EdgeView'>\n"
     ]
    }
   ],
   "source": [
    "import networkx as nx\n",
    "\n",
    "G=nx.Graph()\n",
    "\n",
    "print(G.nodes())\n",
    "print(G.edges())\n",
    "\n",
    "print(type(G.nodes()))\n",
    "print(type(G.edges()))"
   ]
  },
  {
   "cell_type": "code",
   "execution_count": 67,
   "metadata": {
    "id": "ZwG9Dl0Bf44_"
   },
   "outputs": [],
   "source": [
    "import csv"
   ]
  },
  {
   "cell_type": "code",
   "execution_count": 68,
   "metadata": {
    "colab": {
     "base_uri": "https://localhost:8080/"
    },
    "id": "obTRL3zngN-x",
    "outputId": "f252ec45-e439-4f9b-d5ba-53b5430fa396"
   },
   "outputs": [
    {
     "name": "stdout",
     "output_type": "stream",
     "text": [
      "['node_1', 'node_2']\n",
      "5722\n"
     ]
    }
   ],
   "source": [
    "dic = {}\n",
    "with open('/content/lastfm_asia_edges.csv', 'r') as file:\n",
    "    reader = csv.reader(file)\n",
    "    for row in reader:\n",
    "      print(row)\n",
    "      break\n",
    "    for row in reader:\n",
    "      # print(row)\n",
    "      try:\n",
    "        dic[row[0]].append(row[1])\n",
    "      except:\n",
    "        dic[row[0]] = [(row[1])]\n",
    "    print(len(dic))"
   ]
  },
  {
   "cell_type": "code",
   "execution_count": 69,
   "metadata": {
    "colab": {
     "base_uri": "https://localhost:8080/"
    },
    "id": "j-jJUHFygT4R",
    "outputId": "9db9f1d8-d068-4073-a966-b617782cc93c"
   },
   "outputs": [
    {
     "name": "stdout",
     "output_type": "stream",
     "text": [
      "5722\n"
     ]
    }
   ],
   "source": [
    "print(len(dic))"
   ]
  },
  {
   "cell_type": "code",
   "execution_count": 70,
   "metadata": {
    "colab": {
     "base_uri": "https://localhost:8080/"
    },
    "id": "OfrfCnT7gVbc",
    "outputId": "12a374d7-b987-4f7e-c79c-9aac52967840"
   },
   "outputs": [
    {
     "data": {
      "text/plain": [
       "['4257', '2194', '580', '6478', '1222', '5735', '7146', '2204', '126', '2639']"
      ]
     },
     "execution_count": 70,
     "metadata": {
      "tags": []
     },
     "output_type": "execute_result"
    }
   ],
   "source": [
    "dic[\"1\"]"
   ]
  },
  {
   "cell_type": "code",
   "execution_count": 71,
   "metadata": {
    "id": "AIi1A-Uji6Ni"
   },
   "outputs": [],
   "source": [
    "for i in dic :\n",
    "  # print(i)\n",
    "  G.add_node(i)\n",
    "\n",
    "  for j in dic[i]:\n",
    "    edge = (i, j)\n",
    "    G.add_edge(*edge)"
   ]
  },
  {
   "cell_type": "code",
   "execution_count": 72,
   "metadata": {
    "colab": {
     "base_uri": "https://localhost:8080/"
    },
    "id": "KgnxJTNnjOSE",
    "outputId": "214c2380-9955-4f86-cbc1-1bce7d75915f"
   },
   "outputs": [
    {
     "data": {
      "text/plain": [
       "['4257', '2194', '580', '6478', '1222', '5735', '7146', '2204', '126', '2639']"
      ]
     },
     "execution_count": 72,
     "metadata": {
      "tags": []
     },
     "output_type": "execute_result"
    }
   ],
   "source": [
    "dic[\"1\"]"
   ]
  },
  {
   "cell_type": "code",
   "execution_count": 73,
   "metadata": {
    "colab": {
     "base_uri": "https://localhost:8080/"
    },
    "id": "pQ2StTg1jZNj",
    "outputId": "0ffea63c-87e5-48c8-d6f2-a142d3495614"
   },
   "outputs": [
    {
     "name": "stdout",
     "output_type": "stream",
     "text": [
      "Nodes of graph: \n",
      "7624\n",
      "Edges of graph: \n",
      "27806\n"
     ]
    }
   ],
   "source": [
    "print(\"Nodes of graph: \")\n",
    "print(len(G.nodes()))\n",
    "print(\"Edges of graph: \")\n",
    "print(len(G.edges()))"
   ]
  },
  {
   "cell_type": "code",
   "execution_count": 74,
   "metadata": {
    "id": "iGdpSMGGkjUO"
   },
   "outputs": [],
   "source": [
    "a= list(G.nodes)"
   ]
  },
  {
   "cell_type": "code",
   "execution_count": 76,
   "metadata": {
    "colab": {
     "base_uri": "https://localhost:8080/",
     "height": 35
    },
    "id": "q3RDlw60wX5z",
    "outputId": "8d3c439b-4113-417c-fe02-d6d73b1b8737"
   },
   "outputs": [
    {
     "data": {
      "application/vnd.google.colaboratory.intrinsic+json": {
       "type": "string"
      },
      "text/plain": [
       "'999'"
      ]
     },
     "execution_count": 76,
     "metadata": {
      "tags": []
     },
     "output_type": "execute_result"
    }
   ],
   "source": [
    "max(a[:])"
   ]
  },
  {
   "cell_type": "code",
   "execution_count": 77,
   "metadata": {
    "id": "jYm-3w39wyCo"
   },
   "outputs": [],
   "source": []
  },
  {
   "cell_type": "code",
   "execution_count": 94,
   "metadata": {
    "id": "xrIXqcqNli80"
   },
   "outputs": [],
   "source": [
    "import random \n",
    "rnode = a[random.randint(0,len(G.nodes)-1)]"
   ]
  },
  {
   "cell_type": "code",
   "execution_count": 95,
   "metadata": {
    "colab": {
     "base_uri": "https://localhost:8080/",
     "height": 35
    },
    "id": "cZeN1-CkmDvA",
    "outputId": "7cc3c7a2-6bfc-4e75-be19-fb6af9f5fe23"
   },
   "outputs": [
    {
     "data": {
      "application/vnd.google.colaboratory.intrinsic+json": {
       "type": "string"
      },
      "text/plain": [
       "'6823'"
      ]
     },
     "execution_count": 95,
     "metadata": {
      "tags": []
     },
     "output_type": "execute_result"
    }
   ],
   "source": [
    "rnode"
   ]
  },
  {
   "cell_type": "code",
   "execution_count": 96,
   "metadata": {
    "id": "JYZGsHT2mGvh"
   },
   "outputs": [],
   "source": [
    "res = nx.bfs_edges(G, rnode)"
   ]
  },
  {
   "cell_type": "code",
   "execution_count": 97,
   "metadata": {
    "colab": {
     "base_uri": "https://localhost:8080/"
    },
    "id": "4K4n-bfVmYko",
    "outputId": "df9359b7-58e1-47b2-ddfc-f66898eeb836"
   },
   "outputs": [
    {
     "data": {
      "text/plain": [
       "<generator object bfs_edges at 0x7f1b799d03d0>"
      ]
     },
     "execution_count": 97,
     "metadata": {
      "tags": []
     },
     "output_type": "execute_result"
    }
   ],
   "source": [
    "res"
   ]
  },
  {
   "cell_type": "code",
   "execution_count": 98,
   "metadata": {
    "colab": {
     "base_uri": "https://localhost:8080/"
    },
    "id": "ERUxXunpmZJB",
    "outputId": "a411dd9a-78f9-4e48-ce06-f103c0cfba0b"
   },
   "outputs": [
    {
     "name": "stdout",
     "output_type": "stream",
     "text": [
      "Following is Breadth First Traversal\n",
      "7580\n",
      "6823 7296 "
     ]
    }
   ],
   "source": [
    "\n",
    "from collections import defaultdict\n",
    " \n",
    "class Graph:\n",
    "    def __init__(self):\n",
    "        self.graph = defaultdict(list)\n",
    " \n",
    "    def addEdge(self,u,v):\n",
    "        self.graph[u].append(v)\n",
    " \n",
    "    def BFS(self, s):\n",
    "        print(int(max(self.graph)))\n",
    "        visited = [False] * (int(max(self.graph)) + 1)\n",
    "        queue = []\n",
    "        queue.append(s)\n",
    "        visited[s] = True\n",
    " \n",
    "        while queue:\n",
    "            s = queue.pop(0)\n",
    "            print (s, end = \" \")\n",
    "            for i in self.graph[s]:\n",
    "                if visited[i] == False:\n",
    "                    queue.append(i)\n",
    "                    visited[i] = True\n",
    " \n",
    "g = Graph()\n",
    "for i in dic :\n",
    "  for j in dic[i]:\n",
    "    g.addEdge(int(i), int(j))\n",
    "print (\"Following is Breadth First Traversal\")\n",
    "g.BFS(int(rnode)) "
   ]
  },
  {
   "cell_type": "code",
   "execution_count": null,
   "metadata": {
    "id": "4U69BEGnvVgJ"
   },
   "outputs": [],
   "source": []
  }
 ],
 "metadata": {
  "colab": {
   "collapsed_sections": [],
   "name": "Lab-9_HPC",
   "provenance": []
  },
  "kernelspec": {
   "display_name": "Python 3",
   "language": "python",
   "name": "python3"
  },
  "language_info": {
   "codemirror_mode": {
    "name": "ipython",
    "version": 3
   },
   "file_extension": ".py",
   "mimetype": "text/x-python",
   "name": "python",
   "nbconvert_exporter": "python",
   "pygments_lexer": "ipython3",
   "version": "3.8.5"
  }
 },
 "nbformat": 4,
 "nbformat_minor": 1
}
