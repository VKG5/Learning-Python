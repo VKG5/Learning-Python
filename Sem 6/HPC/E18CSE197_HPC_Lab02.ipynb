{
 "cells": [
  {
   "cell_type": "code",
   "execution_count": 1,
   "metadata": {},
   "outputs": [],
   "source": [
    "import numpy as np\n",
    "import os\n",
    "import time\n",
    "import multiprocessing\n",
    "import threading\n",
    "import matplotlib.pyplot as plt"
   ]
  },
  {
   "cell_type": "markdown",
   "metadata": {},
   "source": [
    "### Question 1\n",
    "\n",
    "Generating the array of random numbers"
   ]
  },
  {
   "cell_type": "code",
   "execution_count": 2,
   "metadata": {},
   "outputs": [],
   "source": [
    "# n = number of elements\n",
    "n = 6\n",
    "min = 0\n",
    "max = 1000\n",
    "\n",
    "arr = np.random.randint(min, max, (n))"
   ]
  },
  {
   "cell_type": "code",
   "execution_count": 3,
   "metadata": {},
   "outputs": [
    {
     "data": {
      "text/plain": [
       "array([144, 494, 213, 896, 552, 479])"
      ]
     },
     "execution_count": 3,
     "metadata": {},
     "output_type": "execute_result"
    }
   ],
   "source": [
    "arr"
   ]
  },
  {
   "cell_type": "markdown",
   "metadata": {},
   "source": [
    "#### Making the power set"
   ]
  },
  {
   "cell_type": "code",
   "execution_count": 4,
   "metadata": {},
   "outputs": [],
   "source": [
    "power_set = []\n",
    "start = time.time()\n",
    "\n",
    "x = len(arr)\n",
    "for i in range(1 << x):\n",
    "    power_set.append([arr[j] for j in range(x) if (i & (1 << j))])"
   ]
  },
  {
   "cell_type": "code",
   "execution_count": 5,
   "metadata": {},
   "outputs": [
    {
     "data": {
      "text/plain": [
       "[[],\n",
       " [144],\n",
       " [494],\n",
       " [144, 494],\n",
       " [213],\n",
       " [144, 213],\n",
       " [494, 213],\n",
       " [144, 494, 213],\n",
       " [896],\n",
       " [144, 896],\n",
       " [494, 896],\n",
       " [144, 494, 896],\n",
       " [213, 896],\n",
       " [144, 213, 896],\n",
       " [494, 213, 896],\n",
       " [144, 494, 213, 896],\n",
       " [552],\n",
       " [144, 552],\n",
       " [494, 552],\n",
       " [144, 494, 552],\n",
       " [213, 552],\n",
       " [144, 213, 552],\n",
       " [494, 213, 552],\n",
       " [144, 494, 213, 552],\n",
       " [896, 552],\n",
       " [144, 896, 552],\n",
       " [494, 896, 552],\n",
       " [144, 494, 896, 552],\n",
       " [213, 896, 552],\n",
       " [144, 213, 896, 552],\n",
       " [494, 213, 896, 552],\n",
       " [144, 494, 213, 896, 552],\n",
       " [479],\n",
       " [144, 479],\n",
       " [494, 479],\n",
       " [144, 494, 479],\n",
       " [213, 479],\n",
       " [144, 213, 479],\n",
       " [494, 213, 479],\n",
       " [144, 494, 213, 479],\n",
       " [896, 479],\n",
       " [144, 896, 479],\n",
       " [494, 896, 479],\n",
       " [144, 494, 896, 479],\n",
       " [213, 896, 479],\n",
       " [144, 213, 896, 479],\n",
       " [494, 213, 896, 479],\n",
       " [144, 494, 213, 896, 479],\n",
       " [552, 479],\n",
       " [144, 552, 479],\n",
       " [494, 552, 479],\n",
       " [144, 494, 552, 479],\n",
       " [213, 552, 479],\n",
       " [144, 213, 552, 479],\n",
       " [494, 213, 552, 479],\n",
       " [144, 494, 213, 552, 479],\n",
       " [896, 552, 479],\n",
       " [144, 896, 552, 479],\n",
       " [494, 896, 552, 479],\n",
       " [144, 494, 896, 552, 479],\n",
       " [213, 896, 552, 479],\n",
       " [144, 213, 896, 552, 479],\n",
       " [494, 213, 896, 552, 479],\n",
       " [144, 494, 213, 896, 552, 479]]"
      ]
     },
     "execution_count": 5,
     "metadata": {},
     "output_type": "execute_result"
    }
   ],
   "source": [
    "power_set"
   ]
  },
  {
   "cell_type": "markdown",
   "metadata": {},
   "source": [
    "#### Prime Numbers function"
   ]
  },
  {
   "cell_type": "code",
   "execution_count": 6,
   "metadata": {},
   "outputs": [],
   "source": [
    "def prime(n):\n",
    "    flag = True\n",
    "    for i in range(2,n//2):\n",
    "        if(n%i==0):\n",
    "            flag = False\n",
    "            break\n",
    "    \n",
    "    if(flag):\n",
    "        return n\n",
    "    else:\n",
    "        return 0"
   ]
  },
  {
   "cell_type": "code",
   "execution_count": 7,
   "metadata": {},
   "outputs": [],
   "source": [
    "# Checking the elements that are prime in the power set\n",
    "prime_subsets = []\n",
    "\n",
    "for i in range(len(power_set)):\n",
    "    if(prime(sum(power_set[i])) == 0):\n",
    "        continue\n",
    "        \n",
    "    else:\n",
    "        prime_subsets.append(power_set[i])\n",
    "        \n",
    "end = time.time()"
   ]
  },
  {
   "cell_type": "code",
   "execution_count": 8,
   "metadata": {},
   "outputs": [
    {
     "name": "stdout",
     "output_type": "stream",
     "text": [
      "Time:  0.050863027572631836\n"
     ]
    }
   ],
   "source": [
    "time_serial = end-start\n",
    "print(\"Time: \", time_serial)"
   ]
  },
  {
   "cell_type": "code",
   "execution_count": 9,
   "metadata": {},
   "outputs": [
    {
     "data": {
      "text/plain": [
       "[[213, 896],\n",
       " [144, 494, 213, 896],\n",
       " [494, 213, 552],\n",
       " [479],\n",
       " [144, 494, 479],\n",
       " [552, 479],\n",
       " [144, 494, 552, 479]]"
      ]
     },
     "execution_count": 9,
     "metadata": {},
     "output_type": "execute_result"
    }
   ],
   "source": [
    "prime_subsets"
   ]
  },
  {
   "cell_type": "markdown",
   "metadata": {},
   "source": [
    "#### Multithreading"
   ]
  },
  {
   "cell_type": "code",
   "execution_count": 10,
   "metadata": {},
   "outputs": [
    {
     "data": {
      "text/plain": [
       "12"
      ]
     },
     "execution_count": 10,
     "metadata": {},
     "output_type": "execute_result"
    }
   ],
   "source": [
    "# Checking the number of threads available\n",
    "multiprocessing.cpu_count()"
   ]
  },
  {
   "cell_type": "code",
   "execution_count": 11,
   "metadata": {},
   "outputs": [],
   "source": [
    "prime_subsets = []\n",
    "\n",
    "def task(min, max, arr):\n",
    "    global prime_subsets\n",
    "    print(min, max)\n",
    "    for i in range(min, max+1):\n",
    "        if(prime(sum(power_set[i])) == 0):\n",
    "            continue\n",
    "\n",
    "        else:\n",
    "            prime_subsets.append(power_set[i])\n",
    "            \n",
    "    return prime_subsets"
   ]
  },
  {
   "cell_type": "code",
   "execution_count": 12,
   "metadata": {},
   "outputs": [],
   "source": [
    "num_of_threads = 2\n",
    "thread_handle = []"
   ]
  },
  {
   "cell_type": "code",
   "execution_count": 13,
   "metadata": {},
   "outputs": [
    {
     "name": "stderr",
     "output_type": "stream",
     "text": [
      "Exception in thread Thread-7:\n",
      "Traceback (most recent call last):\n",
      "  File \"F:\\Anaconda\\lib\\threading.py\", line 932, in _bootstrap_inner\n",
      "    self.run()\n",
      "  File \"F:\\Anaconda\\lib\\threading.py\", line 870, in run\n",
      "    self._target(*self._args, **self._kwargs)\n",
      "  File \"<ipython-input-11-1423905602ae>\", line 7, in task\n",
      "IndexError: list index out of range\n"
     ]
    },
    {
     "name": "stdout",
     "output_type": "stream",
     "text": [
      "0 32\n",
      "32 64\n"
     ]
    }
   ],
   "source": [
    "start = time.time()\n",
    "\n",
    "for i in range(0,num_of_threads):\n",
    "    t = threading.Thread(target=task, args=(len(power_set)//num_of_threads * i, len(power_set)//num_of_threads * (i+1), prime_subsets))\n",
    "    thread_handle.append(t)\n",
    "    t.start() \n",
    "                                \n",
    "for i in range(0,num_of_threads):\n",
    "    thread_handle[i].join()    \n",
    "    \n",
    "end = time.time()"
   ]
  },
  {
   "cell_type": "code",
   "execution_count": 14,
   "metadata": {},
   "outputs": [
    {
     "name": "stdout",
     "output_type": "stream",
     "text": [
      "Time:  0.011968374252319336\n"
     ]
    }
   ],
   "source": [
    "time_multithreading = end-start\n",
    "print(\"Time: \", time_multithreading)"
   ]
  },
  {
   "cell_type": "code",
   "execution_count": 15,
   "metadata": {},
   "outputs": [
    {
     "data": {
      "text/plain": [
       "[[213, 896],\n",
       " [144, 494, 213, 896],\n",
       " [494, 213, 552],\n",
       " [479],\n",
       " [479],\n",
       " [144, 494, 479],\n",
       " [552, 479],\n",
       " [144, 494, 552, 479]]"
      ]
     },
     "execution_count": 15,
     "metadata": {},
     "output_type": "execute_result"
    }
   ],
   "source": [
    "prime_subsets"
   ]
  },
  {
   "cell_type": "code",
   "execution_count": 16,
   "metadata": {},
   "outputs": [
    {
     "data": {
      "text/plain": [
       "<BarContainer object of 2 artists>"
      ]
     },
     "execution_count": 16,
     "metadata": {},
     "output_type": "execute_result"
    },
    {
     "data": {
      "image/png": "[encoded data removed]",
      "text/plain": [
       "<Figure size 432x288 with 1 Axes>"
      ]
     },
     "metadata": {
      "needs_background": "light"
     },
     "output_type": "display_data"
    }
   ],
   "source": [
    "plt.bar(['Serial', 'Multithreading'], [time_serial, time_multithreading])"
   ]
  },
  {
   "cell_type": "markdown",
   "metadata": {},
   "source": [
    "#### Multiprocessing"
   ]
  },
  {
   "cell_type": "code",
   "execution_count": 17,
   "metadata": {},
   "outputs": [],
   "source": [
    "def task(arr):\n",
    "    final_arr = []\n",
    "    for i in arr:\n",
    "        if(prime(sum(i))==0):\n",
    "            continue\n",
    "        else:\n",
    "            final_arr.append(i)\n",
    "            \n",
    "    return final_arr"
   ]
  },
  {
   "cell_type": "code",
   "execution_count": 18,
   "metadata": {},
   "outputs": [],
   "source": [
    "pass_arr = []"
   ]
  },
  {
   "cell_type": "code",
   "execution_count": 19,
   "metadata": {},
   "outputs": [],
   "source": [
    "begin = 0\n",
    "ending = len(power_set)//4\n",
    "\n",
    "for i in range(0, num_of_threads):\n",
    "    pass_arr.append(power_set[begin:begin+ending])\n",
    "    begin += ending"
   ]
  },
  {
   "cell_type": "code",
   "execution_count": null,
   "metadata": {},
   "outputs": [],
   "source": [
    "pool = multiprocessing.Pool(processes=4)\n",
    "result = pool.map(task, pass_arr)"
   ]
  },
  {
   "cell_type": "code",
   "execution_count": null,
   "metadata": {},
   "outputs": [],
   "source": []
  }
 ],
 "metadata": {
  "kernelspec": {
   "display_name": "Python 3",
   "language": "python",
   "name": "python3"
  },
  "language_info": {
   "codemirror_mode": {
    "name": "ipython",
    "version": 3
   },
   "file_extension": ".py",
   "mimetype": "text/x-python",
   "name": "python",
   "nbconvert_exporter": "python",
   "pygments_lexer": "ipython3",
   "version": "3.8.5"
  }
 },
 "nbformat": 4,
 "nbformat_minor": 4
}
