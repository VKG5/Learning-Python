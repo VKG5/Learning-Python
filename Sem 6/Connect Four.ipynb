{
 "cells": [
  {
   "cell_type": "markdown",
   "metadata": {},
   "source": [
    "## Connect Four\n",
    "\n",
    "https://stackoverflow.com/questions/47670946/how-do-i-change-the-color-of-a-specific-printed-letter-in-python"
   ]
  },
  {
   "cell_type": "code",
   "execution_count": 36,
   "metadata": {},
   "outputs": [
    {
     "name": "stdout",
     "output_type": "stream",
     "text": [
      "\u001b[31mo\n",
      "\u001b[33mo\n"
     ]
    }
   ],
   "source": [
    "# Modifying text based on color codes\n",
    "print('\\033[31m' + \"o\")\n",
    "print('\\033[33m'+ 'o')"
   ]
  },
  {
   "cell_type": "code",
   "execution_count": 37,
   "metadata": {},
   "outputs": [],
   "source": [
    "m = 6\n",
    "n = 7\n",
    "matrix = [['0', '0', '0', '0', '0', '0', '0'],\n",
    "          ['0', '0', '0', '0', '0', '0', '0'],\n",
    "          ['0', '0', '0', '0', '0', '0', '0'],\n",
    "          ['0', '0', '0', '0', '0', '0', '0'],\n",
    "          ['0', '0', '0', '0', '0', '0', '0'],\n",
    "          ['0', '0', '0', '0', '0', '0', '0']]"
   ]
  },
  {
   "cell_type": "code",
   "execution_count": 38,
   "metadata": {},
   "outputs": [
    {
     "data": {
      "text/plain": [
       "[['0', '0', '0', '0', '0', '0', '0'],\n",
       " ['0', '0', '0', '0', '0', '0', '0'],\n",
       " ['0', '0', '0', '0', '0', '0', '0'],\n",
       " ['0', '0', '0', '0', '0', '0', '0'],\n",
       " ['0', '0', '0', '0', '0', '0', '0'],\n",
       " ['0', '0', '0', '0', '0', '0', '0']]"
      ]
     },
     "execution_count": 38,
     "metadata": {},
     "output_type": "execute_result"
    }
   ],
   "source": [
    "matrix"
   ]
  },
  {
   "cell_type": "code",
   "execution_count": 39,
   "metadata": {},
   "outputs": [],
   "source": [
    "# Defining the display/print function\n",
    "def display(matrix): \n",
    "    for i in range(len(matrix)):\n",
    "        for j in range(len(matrix[0])):\n",
    "            print(matrix[i][j],'|',end=\" \")\n",
    "            \n",
    "        print()\n",
    "        print('- + '*7)"
   ]
  },
  {
   "cell_type": "code",
   "execution_count": 40,
   "metadata": {},
   "outputs": [
    {
     "name": "stdout",
     "output_type": "stream",
     "text": [
      "0 | 0 | 0 | 0 | 0 | 0 | 0 | \n",
      "- + - + - + - + - + - + - + \n",
      "0 | 0 | 0 | 0 | 0 | 0 | 0 | \n",
      "- + - + - + - + - + - + - + \n",
      "0 | 0 | 0 | 0 | 0 | 0 | 0 | \n",
      "- + - + - + - + - + - + - + \n",
      "0 | 0 | 0 | 0 | 0 | 0 | 0 | \n",
      "- + - + - + - + - + - + - + \n",
      "0 | 0 | 0 | 0 | 0 | 0 | 0 | \n",
      "- + - + - + - + - + - + - + \n",
      "0 | 0 | 0 | 0 | 0 | 0 | 0 | \n",
      "- + - + - + - + - + - + - + \n"
     ]
    }
   ],
   "source": [
    "# Checking the function working\n",
    "display(matrix)"
   ]
  },
  {
   "cell_type": "code",
   "execution_count": 41,
   "metadata": {},
   "outputs": [],
   "source": [
    "# To input the values\n",
    "# Start filling from the bottom\n",
    "rows = [5]*7"
   ]
  },
  {
   "cell_type": "code",
   "execution_count": 42,
   "metadata": {},
   "outputs": [
    {
     "data": {
      "text/plain": [
       "[5, 5, 5, 5, 5, 5, 5]"
      ]
     },
     "execution_count": 42,
     "metadata": {},
     "output_type": "execute_result"
    }
   ],
   "source": [
    "rows"
   ]
  },
  {
   "cell_type": "code",
   "execution_count": 43,
   "metadata": {
    "scrolled": true
   },
   "outputs": [],
   "source": [
    "# Importing libraries\n",
    "import random\n",
    "\n",
    "# Loop for filling values\n",
    "# print(\"Enter the Color(R/Y), Column(1-7): \")\n",
    "for j in range(n*m):\n",
    "    ## Manual Input\n",
    "    # inp = input()\n",
    "    # l = inp.split(\" \")\n",
    "    \n",
    "    # color = l[0]\n",
    "    # column = int(l[1])\n",
    "    \n",
    "    ## Hard Coded\n",
    "    color = random.choice(['r','y'])\n",
    "    column = random.choice([1,2,3,4,5,6,7])\n",
    "    \n",
    "    # print()\n",
    "    # print(color, column, rows[column-1]+1)\n",
    "    \n",
    "    # Red color\n",
    "    if(color=='r' or color=='R'):\n",
    "        matrix[rows[column-1]][column-1] = '\\033[31mo'\n",
    "        \n",
    "    # Yellow color\n",
    "    else:\n",
    "        matrix[rows[column-1]][column-1] = '\\033[33mo'\n",
    "    \n",
    "    rows[column-1] -= 1\n",
    "    # print(matrix)"
   ]
  },
  {
   "cell_type": "code",
   "execution_count": 44,
   "metadata": {},
   "outputs": [
    {
     "name": "stdout",
     "output_type": "stream",
     "text": [
      "\u001b[31mo | 0 | \u001b[31mo | \u001b[31mo | \u001b[33mo | 0 | 0 | \n",
      "- + - + - + - + - + - + - + \n",
      "\u001b[33mo | 0 | \u001b[31mo | \u001b[31mo | \u001b[33mo | 0 | 0 | \n",
      "- + - + - + - + - + - + - + \n",
      "\u001b[33mo | 0 | \u001b[31mo | \u001b[33mo | \u001b[33mo | 0 | \u001b[33mo | \n",
      "- + - + - + - + - + - + - + \n",
      "\u001b[33mo | 0 | \u001b[31mo | \u001b[33mo | \u001b[33mo | \u001b[31mo | \u001b[33mo | \n",
      "- + - + - + - + - + - + - + \n",
      "\u001b[31mo | 0 | \u001b[31mo | \u001b[31mo | \u001b[33mo | \u001b[31mo | \u001b[33mo | \n",
      "- + - + - + - + - + - + - + \n",
      "\u001b[33mo | \u001b[33mo | \u001b[33mo | \u001b[33mo | \u001b[31mo | \u001b[33mo | \u001b[33mo | \n",
      "- + - + - + - + - + - + - + \n"
     ]
    }
   ],
   "source": [
    "display(matrix)"
   ]
  },
  {
   "cell_type": "code",
   "execution_count": 10,
   "metadata": {},
   "outputs": [],
   "source": [
    "def SDC():\n",
    "    global matrix\n",
    "    joueur_actif = 1\n",
    "    print(\"0/1/2/3/4/5/6\")\n",
    "    print(\"c'est le tour de\", joueur_actif,\"de jouer\")\n",
    "    if joueur_actif==1:\n",
    "        coup =input(\"Choisir une colonne entre 0 et 6\")\n",
    "        while coup == str:\n",
    "            coup=input(\"choisir une colonne entre 0 et 6:\")\n",
    "        while coup == int:\n",
    "            if coup in range(6):\n",
    "                coup=input(\"Choisir une colonne entre 0 et 6!!\")\n",
    "        matrice[coup//6][coup%7]=1\n",
    "    for i in range (6,0,-1):\n",
    "        if matrix[i][coup]==0:matrix[i][coup]==joueur_actif"
   ]
  },
  {
   "cell_type": "code",
   "execution_count": 11,
   "metadata": {},
   "outputs": [
    {
     "name": "stdout",
     "output_type": "stream",
     "text": [
      "0/1/2/3/4/5/6\n",
      "c'est le tour de 1 de jouer\n",
      "Choisir une colonne entre 0 et 66\n"
     ]
    },
    {
     "ename": "NameError",
     "evalue": "name 'matrice' is not defined",
     "output_type": "error",
     "traceback": [
      "\u001b[1;31m---------------------------------------------------------------------------\u001b[0m",
      "\u001b[1;31mNameError\u001b[0m                                 Traceback (most recent call last)",
      "\u001b[1;32m<ipython-input-11-1ccfe615b163>\u001b[0m in \u001b[0;36m<module>\u001b[1;34m\u001b[0m\n\u001b[1;32m----> 1\u001b[1;33m \u001b[0mSDC\u001b[0m\u001b[1;33m(\u001b[0m\u001b[1;33m)\u001b[0m\u001b[1;33m\u001b[0m\u001b[1;33m\u001b[0m\u001b[0m\n\u001b[0m",
      "\u001b[1;32m<ipython-input-10-3bc71d9210cb>\u001b[0m in \u001b[0;36mSDC\u001b[1;34m()\u001b[0m\n\u001b[0;32m     11\u001b[0m             \u001b[1;32mif\u001b[0m \u001b[0mcoup\u001b[0m \u001b[1;32min\u001b[0m \u001b[0mrange\u001b[0m\u001b[1;33m(\u001b[0m\u001b[1;36m6\u001b[0m\u001b[1;33m)\u001b[0m\u001b[1;33m:\u001b[0m\u001b[1;33m\u001b[0m\u001b[1;33m\u001b[0m\u001b[0m\n\u001b[0;32m     12\u001b[0m                 \u001b[0mcoup\u001b[0m\u001b[1;33m=\u001b[0m\u001b[0minput\u001b[0m\u001b[1;33m(\u001b[0m\u001b[1;34m\"Choisir une colonne entre 0 et 6!!\"\u001b[0m\u001b[1;33m)\u001b[0m\u001b[1;33m\u001b[0m\u001b[1;33m\u001b[0m\u001b[0m\n\u001b[1;32m---> 13\u001b[1;33m         \u001b[0mmatrice\u001b[0m\u001b[1;33m[\u001b[0m\u001b[0mcoup\u001b[0m\u001b[1;33m//\u001b[0m\u001b[1;36m6\u001b[0m\u001b[1;33m]\u001b[0m\u001b[1;33m[\u001b[0m\u001b[0mcoup\u001b[0m\u001b[1;33m%\u001b[0m\u001b[1;36m7\u001b[0m\u001b[1;33m]\u001b[0m\u001b[1;33m=\u001b[0m\u001b[1;36m1\u001b[0m\u001b[1;33m\u001b[0m\u001b[1;33m\u001b[0m\u001b[0m\n\u001b[0m\u001b[0;32m     14\u001b[0m     \u001b[1;32mfor\u001b[0m \u001b[0mi\u001b[0m \u001b[1;32min\u001b[0m \u001b[0mrange\u001b[0m \u001b[1;33m(\u001b[0m\u001b[1;36m6\u001b[0m\u001b[1;33m,\u001b[0m\u001b[1;36m0\u001b[0m\u001b[1;33m,\u001b[0m\u001b[1;33m-\u001b[0m\u001b[1;36m1\u001b[0m\u001b[1;33m)\u001b[0m\u001b[1;33m:\u001b[0m\u001b[1;33m\u001b[0m\u001b[1;33m\u001b[0m\u001b[0m\n\u001b[0;32m     15\u001b[0m         \u001b[1;32mif\u001b[0m \u001b[0mmatrix\u001b[0m\u001b[1;33m[\u001b[0m\u001b[0mi\u001b[0m\u001b[1;33m]\u001b[0m\u001b[1;33m[\u001b[0m\u001b[0mcoup\u001b[0m\u001b[1;33m]\u001b[0m\u001b[1;33m==\u001b[0m\u001b[1;36m0\u001b[0m\u001b[1;33m:\u001b[0m\u001b[0mmatrix\u001b[0m\u001b[1;33m[\u001b[0m\u001b[0mi\u001b[0m\u001b[1;33m]\u001b[0m\u001b[1;33m[\u001b[0m\u001b[0mcoup\u001b[0m\u001b[1;33m]\u001b[0m\u001b[1;33m==\u001b[0m\u001b[0mjoueur_actif\u001b[0m\u001b[1;33m\u001b[0m\u001b[1;33m\u001b[0m\u001b[0m\n",
      "\u001b[1;31mNameError\u001b[0m: name 'matrice' is not defined"
     ]
    }
   ],
   "source": [
    "SDC()"
   ]
  },
  {
   "cell_type": "code",
   "execution_count": 13,
   "metadata": {},
   "outputs": [],
   "source": [
    "def sum_(a,b):\n",
    "    return a+b"
   ]
  },
  {
   "cell_type": "code",
   "execution_count": 14,
   "metadata": {},
   "outputs": [
    {
     "name": "stdout",
     "output_type": "stream",
     "text": [
      "30\n"
     ]
    }
   ],
   "source": [
    "a = 10\n",
    "b = 20\n",
    "\n",
    "print(sum_(a,b))"
   ]
  },
  {
   "cell_type": "code",
   "execution_count": 2,
   "metadata": {},
   "outputs": [],
   "source": [
    "'''\n",
    "a1 is the 1st term in the sequence.\n",
    "\n",
    "b1 is the 1st term in the sequence of 1st differences.\n",
    "\n",
    "c1 is the 1st term in the sequence of 2nd differences.\n",
    "\n",
    "d is the any term in the sequence of 3rd differences.\n",
    "'''\n",
    "\n",
    "a1 = 3\n",
    "b1 = 6\n",
    "c1 = 5\n",
    "d = 2\n",
    "\n",
    "# nth term\n",
    "n = 7\n",
    "\n",
    "e = a1 + (n - 1)*b1 +c1/2*(n**2 - 3*n + 2) + d/6*(n**3 - 6*(n**2) + 11*n - 6)"
   ]
  },
  {
   "cell_type": "code",
   "execution_count": 3,
   "metadata": {},
   "outputs": [
    {
     "data": {
      "text/plain": [
       "154.0"
      ]
     },
     "execution_count": 3,
     "metadata": {},
     "output_type": "execute_result"
    }
   ],
   "source": [
    "e"
   ]
  },
  {
   "cell_type": "code",
   "execution_count": null,
   "metadata": {},
   "outputs": [],
   "source": []
  }
 ],
 "metadata": {
  "kernelspec": {
   "display_name": "Python 3",
   "language": "python",
   "name": "python3"
  },
  "language_info": {
   "codemirror_mode": {
    "name": "ipython",
    "version": 3
   },
   "file_extension": ".py",
   "mimetype": "text/x-python",
   "name": "python",
   "nbconvert_exporter": "python",
   "pygments_lexer": "ipython3",
   "version": "3.8.5"
  }
 },
 "nbformat": 4,
 "nbformat_minor": 4
}
