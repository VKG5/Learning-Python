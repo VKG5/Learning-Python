{
 "cells": [
  {
   "cell_type": "markdown",
   "metadata": {},
   "source": [
    "### Bisection Method"
   ]
  },
  {
   "cell_type": "code",
   "execution_count": 1,
   "metadata": {},
   "outputs": [],
   "source": [
    "# Enter your equation here\n",
    "def equation(x):\n",
    "    return x**3 - x - 4"
   ]
  },
  {
   "cell_type": "code",
   "execution_count": 6,
   "metadata": {},
   "outputs": [],
   "source": [
    "# Define the initial values here\n",
    "a = 1\n",
    "b = 2\n",
    "\n",
    "# Enter upto which decimal place do you want the answer\n",
    "decimal_places = 2\n",
    "\n",
    "# For safety purposes\n",
    "decimal_places+=2"
   ]
  },
  {
   "cell_type": "markdown",
   "metadata": {},
   "source": [
    "IVT States that :\n",
    "$f(a)*f(b)<0$"
   ]
  },
  {
   "cell_type": "code",
   "execution_count": 7,
   "metadata": {},
   "outputs": [
    {
     "name": "stdout",
     "output_type": "stream",
     "text": [
      "f(a) :  -4\n",
      "f(b) :  2\n",
      "True\n"
     ]
    }
   ],
   "source": [
    "# Checking the IVT \n",
    "if(equation(a)*equation(b)<0):\n",
    "    print(\"f(a) : \", equation(a))\n",
    "    print(\"f(b) : \", equation(b))\n",
    "    print(True)\n",
    "    \n",
    "else:\n",
    "    print(False)"
   ]
  },
  {
   "cell_type": "code",
   "execution_count": 8,
   "metadata": {},
   "outputs": [
    {
     "name": "stdout",
     "output_type": "stream",
     "text": [
      "n\tan\tbn\txn+1\tf(xn+1)\n",
      "1\t1\t2\t1.5\t-2.125\n",
      "2\t1.5\t2\t1.75\t-0.3906\n",
      "3\t1.75\t2\t1.875\t0.7168\n",
      "4\t1.75\t1.875\t1.8125\t0.1418\n",
      "5\t1.75\t1.8125\t1.7812\t-0.13\n",
      "6\t1.7812\t1.8125\t1.7969\t0.005\n",
      "7\t1.7812\t1.7969\t1.7891\t-0.0624\n",
      "8\t1.7891\t1.7969\t1.793\t-0.0288\n",
      "9\t1.793\t1.7969\t1.795\t-0.0115\n",
      "10\t1.795\t1.7969\t1.7959\t-0.0037\n",
      "11\t1.7959\t1.7969\t1.7964\t0.0007\n",
      "12\t1.7959\t1.7964\t1.7961\t-0.0019\n",
      "13\t1.7961\t1.7964\t1.7963\t-0.0002\n",
      "14\t1.7963\t1.7964\t1.7963\t-0.0002\n",
      "Finishing the Iterations!!\n"
     ]
    }
   ],
   "source": [
    "'''\n",
    "You can either use the flag to run the loop till it finishes execution or \n",
    "define a limit for the steps\n",
    "'''\n",
    "flag = True\n",
    "n = 1\n",
    "temp = 0\n",
    "\n",
    "# Printing the table\n",
    "print(\"n\\tan\\tbn\\txn+1\\tf(xn+1)\")\n",
    "while(flag):\n",
    "    # Checking the value\n",
    "    c = round( ((a+b)/2), decimal_places)\n",
    "    value = round( equation(c), decimal_places)\n",
    "    \n",
    "    print(\"{}\\t{}\\t{}\\t{}\\t{}\".format(n, a, b, c, value))\n",
    "    \n",
    "    # Updating the value for a or b\n",
    "    if(value>0):\n",
    "        b = c\n",
    "        \n",
    "    else:\n",
    "        a = c\n",
    "        \n",
    "    if(value==temp):\n",
    "        print(\"Finishing the Iterations!!\")\n",
    "        flag=False\n",
    "        \n",
    "    else:\n",
    "        n+=1\n",
    "        temp = value"
   ]
  },
  {
   "cell_type": "markdown",
   "metadata": {},
   "source": [
    "### Secant/Regula-Falsi Method"
   ]
  },
  {
   "cell_type": "code",
   "execution_count": 1,
   "metadata": {},
   "outputs": [],
   "source": [
    "# Enter your equation here\n",
    "def equation(x):\n",
    "    return x**3 - 5*x + 1"
   ]
  },
  {
   "cell_type": "code",
   "execution_count": 84,
   "metadata": {},
   "outputs": [],
   "source": [
    "# Define the initial values here\n",
    "x0 = 0\n",
    "x1 = 1\n",
    "\n",
    "# Enter upto which decimal place do you want the answer\n",
    "decimal_places = 3\n",
    "\n",
    "# For safety purposes\n",
    "decimal_places+=2"
   ]
  },
  {
   "cell_type": "code",
   "execution_count": 85,
   "metadata": {},
   "outputs": [
    {
     "name": "stdout",
     "output_type": "stream",
     "text": [
      "f(x0) :  1\n",
      "f(x1) :  -3\n",
      "True\n"
     ]
    }
   ],
   "source": [
    "# Checking the IVT \n",
    "if(equation(x0)*equation(x1)<0):\n",
    "    print(\"f(x0) : \", equation(x0))\n",
    "    print(\"f(x1) : \", equation(x1))\n",
    "    print(True)\n",
    "    \n",
    "else:\n",
    "    print(False)"
   ]
  },
  {
   "cell_type": "markdown",
   "metadata": {},
   "source": [
    "Iterative Method for Secant :\n",
    "\n",
    "$f(x_{k+1}) = x_{k} - f(x_{k}) * [(x_{k} - x_{k-1}) / ((f(x_{k}) - f(x_{k-1}))]$"
   ]
  },
  {
   "cell_type": "markdown",
   "metadata": {},
   "source": [
    "1. Secant Method"
   ]
  },
  {
   "cell_type": "code",
   "execution_count": 86,
   "metadata": {},
   "outputs": [
    {
     "name": "stdout",
     "output_type": "stream",
     "text": [
      "n or k\t\txk\t\txk-1\t\txk+1\t\tf(xk+1)\n",
      "1\t\t1\t\t0\t\t0.25\t\t-0.23438\n",
      "2\t\t0.25\t\t1\t\t0.18644\t\t0.07428\n",
      "3\t\t0.18644\t\t0.25\t\t0.20174\t\t-0.00049\n",
      "4\t\t0.20174\t\t0.18644\t\t0.20164\t\t-0.0\n"
     ]
    }
   ],
   "source": [
    "'''\n",
    "You can either use the flag to run the loop till it finishes execution or \n",
    "define a limit for the steps\n",
    "'''\n",
    "steps = 4\n",
    "\n",
    "# Just to make one step extra\n",
    "steps+=1\n",
    "\n",
    "count = 0\n",
    "n = 1\n",
    "\n",
    "# Printing the table\n",
    "print(\"n or k\\t\\txk\\t\\txk-1\\t\\txk+1\\t\\tf(xk+1)\")\n",
    "while(count<steps):\n",
    "    # Checking the value\n",
    "    x2 = round( x1 - ( equation(x1) * ( (x1-x0) / (equation(x1)-equation(x0)) ) ), decimal_places )\n",
    "    value = round( equation(x2), decimal_places )\n",
    "    \n",
    "    print(\"{}\\t\\t{}\\t\\t{}\\t\\t{}\\t\\t{}\".format(n, x1, x0, x2, value))\n",
    "    \n",
    "    # Updating the value for a or b\n",
    "    x0 = x1\n",
    "    x1 = x2\n",
    "        \n",
    "    n+=1\n",
    "    count+=1\n",
    "    temp = value"
   ]
  },
  {
   "cell_type": "markdown",
   "metadata": {},
   "source": [
    "2. Regula-Falsi Method"
   ]
  },
  {
   "cell_type": "code",
   "execution_count": 7,
   "metadata": {},
   "outputs": [],
   "source": [
    "# Enter your equation here\n",
    "def equation(x):\n",
    "    return x**3 - 5*x + 1\n",
    "\n",
    "# For checking the Regula-Falsi condition\n",
    "def checkIVT(a, b):\n",
    "    return equation(x0)*equation(x1)<0"
   ]
  },
  {
   "cell_type": "code",
   "execution_count": 8,
   "metadata": {},
   "outputs": [],
   "source": [
    "# Define the initial values here\n",
    "x0 = 0\n",
    "x1 = 1\n",
    "\n",
    "# Enter upto which decimal place do you want the answer\n",
    "decimal_places = 3\n",
    "\n",
    "# For safety purposes\n",
    "decimal_places+=2"
   ]
  },
  {
   "cell_type": "markdown",
   "metadata": {},
   "source": [
    "IVT States that :\n",
    "$f(a)*f(b)<0$\n",
    "\n",
    "We'll require this statement only for **Regula-Falsi**"
   ]
  },
  {
   "cell_type": "code",
   "execution_count": 9,
   "metadata": {},
   "outputs": [
    {
     "name": "stdout",
     "output_type": "stream",
     "text": [
      "f(x0) :  1\n",
      "f(x1) :  -3\n",
      "True\n"
     ]
    }
   ],
   "source": [
    "'''\n",
    "**If this cell returns false, Regula Falsi shouldn't work**\n",
    "'''\n",
    "# Checking the IVT \n",
    "if(equation(x0)*equation(x1)<0):\n",
    "    print(\"f(x0) : \", equation(x0))\n",
    "    print(\"f(x1) : \", equation(x1))\n",
    "    print(True)\n",
    "    \n",
    "else:\n",
    "    print(False)"
   ]
  },
  {
   "cell_type": "markdown",
   "metadata": {},
   "source": [
    "Iterative Method for Regula-Falsi :\n",
    "\n",
    "$f(x_{k+1}) = x_{l} - f(x_{l}) * [(x_{k} - x_{l}) / ((f(x_{k}) - f(x_{l}))]$\n",
    "\n",
    "where xl = x0 (Lower Bound)\n",
    "\n",
    "We check 2 conditions for this method:\n",
    "$f(x_{k+1})*f(x_{l})<0$\n",
    "1. TRUE - Replace $x_{k}$ <-> $x_{k+1}$\n",
    "2. FALSE - Replace $x_{l}$ <-> $x_{k+1}$"
   ]
  },
  {
   "cell_type": "code",
   "execution_count": 10,
   "metadata": {},
   "outputs": [
    {
     "name": "stdout",
     "output_type": "stream",
     "text": [
      "n or k\t\txk\t\txk-1\t\txk+1\t\tf(xk+1)\t\tValidity\n",
      "1\t\t1\t\t0\t\t0.25\t\t-0.23438\t\tTrue\n",
      "2\t\t0.25\t\t0\t\t0.20253\t\t-0.00434\t\tTrue\n",
      "3\t\t0.20253\t\t0\t\t0.20165\t\t-5e-05\t\tTrue\n",
      "4\t\t0.20165\t\t0\t\t0.20164\t\t-0.0\t\tTrue\n",
      "5\t\t0.20164\t\t0\t\t0.20164\t\t-0.0\t\tTrue\n"
     ]
    }
   ],
   "source": [
    "'''\n",
    "You can either use the flag to run the loop till it finishes execution or \n",
    "define a limit for the steps\n",
    "'''\n",
    "steps = 4\n",
    "\n",
    "# Just to make one step extra\n",
    "steps+=1\n",
    "\n",
    "count = 0\n",
    "n = 1\n",
    "\n",
    "# Printing the table\n",
    "print(\"n or k\\t\\txk\\t\\txk-1\\t\\txk+1\\t\\tf(xk+1)\\t\\tValidity\")\n",
    "while(count<steps):\n",
    "    # Checking the value\n",
    "    x2 = round( x0 - ( equation(x0) * ( (x1-x0) / (equation(x1)-equation(x0)) ) ), decimal_places )\n",
    "    value = round( equation(x2), decimal_places )\n",
    "    \n",
    "    # Checking the validity of regula falsi\n",
    "    status = checkIVT(x2, x0)\n",
    "    print(\"{}\\t\\t{}\\t\\t{}\\t\\t{}\\t\\t{}\\t\\t{}\".format(n, x1, x0, x2, value, status))\n",
    "    \n",
    "    # Updating the value for x1 or x0 with xk+1\n",
    "    # For Regula-Falsi x0 is retained\n",
    "    if(status==True):\n",
    "        x1 = x2\n",
    "        \n",
    "    else:\n",
    "        x0 = x2\n",
    "         \n",
    "    n+=1\n",
    "    count+=1    "
   ]
  },
  {
   "cell_type": "markdown",
   "metadata": {},
   "source": [
    "## Newton Raphson Method"
   ]
  },
  {
   "cell_type": "markdown",
   "metadata": {},
   "source": [
    "This is the formula that'll be used : \n",
    "\n",
    "$ x_{n+1} = x_{n} - f(x_{n})/f'(x_{n})$"
   ]
  },
  {
   "cell_type": "code",
   "execution_count": 15,
   "metadata": {},
   "outputs": [],
   "source": [
    "# Enter your equation after solving here\n",
    "def formula(x):\n",
    "    return (2*(x**3) + 1)/(3*(x**2) + 1)\n",
    "\n",
    "def equation(x):\n",
    "    return x**3 + x - 1\n",
    "\n",
    "# For checking the Regula-Falsi condition\n",
    "def checkIVT(a, b):\n",
    "    return equation(x0)*equation(x1)<0"
   ]
  },
  {
   "cell_type": "code",
   "execution_count": 16,
   "metadata": {},
   "outputs": [],
   "source": [
    "# Define the initial values here\n",
    "x0 = 0\n",
    "x1 = 1\n",
    "\n",
    "# Enter upto which decimal place do you want the answer\n",
    "decimal_places = 3\n",
    "\n",
    "# For safety purposes\n",
    "decimal_places+=2"
   ]
  },
  {
   "cell_type": "code",
   "execution_count": 17,
   "metadata": {},
   "outputs": [
    {
     "name": "stdout",
     "output_type": "stream",
     "text": [
      "f(x0) :  -1\n",
      "f(x1) :  1\n",
      "True\n"
     ]
    }
   ],
   "source": [
    "'''\n",
    "**If this cell returns false, Regula Falsi shouldn't work**\n",
    "'''\n",
    "# Checking the IVT \n",
    "if(equation(x0)*equation(x1)<0):\n",
    "    print(\"f(x0) : \", equation(x0))\n",
    "    print(\"f(x1) : \", equation(x1))\n",
    "    print(True)\n",
    "    \n",
    "else:\n",
    "    print(False)"
   ]
  },
  {
   "cell_type": "code",
   "execution_count": 19,
   "metadata": {},
   "outputs": [
    {
     "name": "stdout",
     "output_type": "stream",
     "text": [
      "n or k\t\txk\t\txk+1\t\tf(xk+1)\n",
      "0\t\t0\t\t1.0\t\t1.0\n",
      "1\t\t1.0\t\t0.75\t\t0.17188\n",
      "2\t\t0.75\t\t0.68605\t\t0.00895\n",
      "3\t\t0.68605\t\t0.68234\t\t3e-05\n",
      "4\t\t0.68234\t\t0.68233\t\t1e-05\n"
     ]
    }
   ],
   "source": [
    "'''\n",
    "You can either use the flag to run the loop till it finishes execution or \n",
    "define a limit for the steps\n",
    "'''\n",
    "steps = 4\n",
    "\n",
    "# Just to make one step extra\n",
    "steps+=1\n",
    "\n",
    "count = 0\n",
    "n = 0\n",
    "\n",
    "# Printing the table\n",
    "print(\"n or k\\t\\txk\\t\\txk+1\\t\\tf(xk+1)\")\n",
    "while(count<steps):\n",
    "    # Checking the value\n",
    "    x1 = round( formula(x0), decimal_places )\n",
    "    value = round( equation(x1), decimal_places )\n",
    "    \n",
    "    print(\"{}\\t\\t{}\\t\\t{}\\t\\t{}\".format(n, x0, x1, value))\n",
    "    \n",
    "    # Breaking condition\n",
    "    if(x1-x0==0):\n",
    "        print(\"Optimal limit reached!!\")\n",
    "        break\n",
    "    \n",
    "    # Updating the value for x0 with x1\n",
    "    x0 = x1\n",
    "    \n",
    "    n+=1\n",
    "    count+=1    "
   ]
  },
  {
   "cell_type": "markdown",
   "metadata": {},
   "source": [
    "#### NR with unkown variable a"
   ]
  },
  {
   "cell_type": "code",
   "execution_count": 20,
   "metadata": {},
   "outputs": [],
   "source": [
    "# Enter your equation after solving here\n",
    "def formula(x, a):\n",
    "    return 0.5 * (x + a/x)\n",
    "\n",
    "def equation(x, a):\n",
    "    return x**2 - a\n",
    "\n",
    "# For checking the Regula-Falsi condition\n",
    "def checkIVT(a, b):\n",
    "    return equation(x0)*equation(x1)<0"
   ]
  },
  {
   "cell_type": "code",
   "execution_count": 21,
   "metadata": {},
   "outputs": [],
   "source": [
    "# Define the initial values here\n",
    "x0 = 1\n",
    "x1 = 2\n",
    "\n",
    "# The number whose sqrt is to be found\n",
    "a = 2\n",
    "\n",
    "# Enter upto which decimal place do you want the answer\n",
    "decimal_places = 6\n",
    "\n",
    "# For safety purposes\n",
    "decimal_places+=2"
   ]
  },
  {
   "cell_type": "code",
   "execution_count": 22,
   "metadata": {},
   "outputs": [
    {
     "name": "stdout",
     "output_type": "stream",
     "text": [
      "f(x0) :  -1\n",
      "f(x1) :  2\n",
      "True\n"
     ]
    }
   ],
   "source": [
    "'''\n",
    "**If this cell returns false, Regula Falsi shouldn't work**\n",
    "'''\n",
    "# Checking the IVT \n",
    "if(equation(x0, a)*equation(x1, a)<0):\n",
    "    print(\"f(x0) : \", equation(x0, a))\n",
    "    print(\"f(x1) : \", equation(x1, a))\n",
    "    print(True)\n",
    "    \n",
    "else:\n",
    "    print(False)"
   ]
  },
  {
   "cell_type": "code",
   "execution_count": 23,
   "metadata": {},
   "outputs": [
    {
     "name": "stdout",
     "output_type": "stream",
     "text": [
      "n or k\t\txk\t\t\txk+1\t\t\tf(xk+1)\n",
      "0\t\t1\t\t\t1.5\t\t\t0.25\n",
      "1\t\t1.5\t\t\t1.41666667\t\t\t0.00694445\n",
      "2\t\t1.41666667\t\t\t1.41421569\t\t\t6.02e-06\n",
      "3\t\t1.41421569\t\t\t1.41421356\t\t\t-1e-08\n",
      "4\t\t1.41421356\t\t\t1.41421356\t\t\t-1e-08\n",
      "Optimal limit reached!!\n"
     ]
    }
   ],
   "source": [
    "'''\n",
    "You can either use the flag to run the loop till it finishes execution or \n",
    "define a limit for the steps\n",
    "'''\n",
    "steps = 4\n",
    "\n",
    "# Just to make one step extra\n",
    "steps+=1\n",
    "\n",
    "count = 0\n",
    "n = 0\n",
    "\n",
    "# Printing the table\n",
    "print(\"n or k\\t\\txk\\t\\t\\txk+1\\t\\t\\tf(xk+1)\")\n",
    "while(count<steps):\n",
    "    # Checking the value\n",
    "    x1 = round( formula(x0, a), decimal_places )\n",
    "    value = round( equation(x1, a), decimal_places )\n",
    "    \n",
    "    print(\"{}\\t\\t{}\\t\\t\\t{}\\t\\t\\t{}\".format(n, x0, x1, value))\n",
    "    \n",
    "    # Breaking condition\n",
    "    if(x1-x0==0):\n",
    "        print(\"Optimal limit reached!!\")\n",
    "        break\n",
    "    \n",
    "    # Updating the value for x0 with x1\n",
    "    x0 = x1\n",
    "    \n",
    "    n+=1\n",
    "    count+=1    "
   ]
  },
  {
   "cell_type": "markdown",
   "metadata": {},
   "source": [
    "### Fixed Point Method/Iterative Method"
   ]
  },
  {
   "cell_type": "code",
   "execution_count": 13,
   "metadata": {},
   "outputs": [],
   "source": [
    "# Enter your equation here\n",
    "def equation(x):\n",
    "    return 1/20 * ( 5*(x**3) + 3 )"
   ]
  },
  {
   "cell_type": "code",
   "execution_count": 14,
   "metadata": {},
   "outputs": [],
   "source": [
    "# Define the initial values here\n",
    "x0 = 0.5\n",
    "\n",
    "# Enter upto which decimal place do you want the answer\n",
    "decimal_places = 4\n",
    "\n",
    "# For safety purposes\n",
    "decimal_places += 2"
   ]
  },
  {
   "cell_type": "code",
   "execution_count": 15,
   "metadata": {},
   "outputs": [
    {
     "name": "stdout",
     "output_type": "stream",
     "text": [
      "n\txn\txn+1\n",
      "0\t0.5\t0.18125\n",
      "1\t0.18125\t0.151489\n",
      "2\t0.151489\t0.150869\n",
      "3\t0.150869\t0.150858\n",
      "4\t0.150858\t0.150858\n",
      "Terminating!!!\n"
     ]
    }
   ],
   "source": [
    "'''\n",
    "You can either use the flag to run the loop till it finishes execution or \n",
    "define a limit for the steps\n",
    "'''\n",
    "flag = True\n",
    "n = 0\n",
    "\n",
    "# Printing the table\n",
    "print(\"n\\txn\\txn+1\")\n",
    "while(flag):\n",
    "    x1 = round( equation(x0), decimal_places)\n",
    "    \n",
    "    print(\"{}\\t{}\\t{}\".format(n, x0, x1))\n",
    "    \n",
    "    if(x0==x1):\n",
    "        print(\"Terminating!!!\")\n",
    "        break\n",
    "        \n",
    "    else:\n",
    "        n+=1\n",
    "        x0 = x1\n",
    "        steps += 1"
   ]
  },
  {
   "cell_type": "markdown",
   "metadata": {},
   "source": []
  }
 ],
 "metadata": {
  "kernelspec": {
   "display_name": "Python 3",
   "language": "python",
   "name": "python3"
  },
  "language_info": {
   "codemirror_mode": {
    "name": "ipython",
    "version": 3
   },
   "file_extension": ".py",
   "mimetype": "text/x-python",
   "name": "python",
   "nbconvert_exporter": "python",
   "pygments_lexer": "ipython3",
   "version": "3.8.5"
  }
 },
 "nbformat": 4,
 "nbformat_minor": 4
}
