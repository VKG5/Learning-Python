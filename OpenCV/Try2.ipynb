{
 "cells": [
  {
   "cell_type": "code",
   "execution_count": 6,
   "metadata": {},
   "outputs": [],
   "source": [
    "import cv2\n",
    "import numpy as np\n",
    "\n",
    "capture  = cv2.VideoCapture(0)\n",
    "\n",
    "# Define the codec and create VideoWriter object \n",
    "out = cv2.VideoWriter('output.avi', cv2.VideoWriter_fourcc(*\"MJPG\"),30, (640, 480))\n"
   ]
  },
  {
   "cell_type": "code",
   "execution_count": 7,
   "metadata": {
    "scrolled": true
   },
   "outputs": [
    {
     "name": "stdout",
     "output_type": "stream",
     "text": [
      "\n",
      "Start\n",
      "Done\n"
     ]
    }
   ],
   "source": [
    "print(\"\\nStart\")\n",
    "\n",
    "while(True):\n",
    "    \n",
    "    ret, img = capture.read()\n",
    "    gray = cv2.cvtColor(img, cv2.COLOR_BGR2GRAY) \n",
    "    gray = cv2.flip(gray, 1)\n",
    "    \n",
    "    cv2.imshow(\"Output\", gray)\n",
    "    \n",
    "    out.write(gray)\n",
    "    \n",
    "    if cv2.waitKey(1)==27:\n",
    "         break\n",
    "\n",
    "capture.release()\n",
    "cv2.destroyAllWindows()\n",
    "\n",
    "print(\"Done\")"
   ]
  },
  {
   "cell_type": "code",
   "execution_count": 5,
   "metadata": {},
   "outputs": [],
   "source": [
    "# For generating random static in a video\n",
    "writer = cv2.VideoWriter(\"output.avi\", cv2.VideoWriter_fourcc(*\"MJPG\"),30,(640,480))\n",
    "\n",
    "for frame in range(100):\n",
    "    writer.write(np.random.randint(0, 255, (480,640,3)).astype('uint8'))\n",
    "\n",
    "writer.release()"
   ]
  },
  {
   "cell_type": "code",
   "execution_count": null,
   "metadata": {},
   "outputs": [],
   "source": []
  }
 ],
 "metadata": {
  "kernelspec": {
   "display_name": "Python 3",
   "language": "python",
   "name": "python3"
  },
  "language_info": {
   "codemirror_mode": {
    "name": "ipython",
    "version": 3
   },
   "file_extension": ".py",
   "mimetype": "text/x-python",
   "name": "python",
   "nbconvert_exporter": "python",
   "pygments_lexer": "ipython3",
   "version": "3.7.3"
  }
 },
 "nbformat": 4,
 "nbformat_minor": 2
}
