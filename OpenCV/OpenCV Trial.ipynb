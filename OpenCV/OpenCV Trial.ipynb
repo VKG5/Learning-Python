{
 "cells": [
  {
   "cell_type": "code",
   "execution_count": 3,
   "metadata": {},
   "outputs": [],
   "source": [
    "import requests\n",
    "import cv2\n",
    "import numpy as np\n",
    "\n",
    "# Method 1\n",
    "url = \"http://10.12.139.207:8080/shot.jpg\"\n",
    "\n",
    "# Method 2\n",
    "# capture = cv2.VideoCapture(\"http://10.12.139.207:8080\")\n",
    "\n",
    "# Camera\n",
    "# capture = cv2.VideoCapture(0)\n",
    "\n",
    "# Define the codec and create VideoWriter object \n",
    "fourcc = cv2.VideoWriter_fourcc(*'XVID') \n",
    "out = cv2.VideoWriter('output.avi', fourcc, 20.0, (640, 480)) \n",
    "    "
   ]
  },
  {
   "cell_type": "markdown",
   "metadata": {},
   "source": [
    "### cv2.VideoWriter( filename, fourcc, fps, frameSize )\n",
    "\n",
    "The parameters are :\n",
    "\n",
    "filename: Specifies the name of the output video file.\n",
    "fourcc: (for recording) Defining the codec\n",
    "fps: Defined frame rate of the output video stream\n",
    "frameSize: Size of the video frames\n",
    "\n",
    "#### The codecs for Windows is DIVX and for OSX is avc1, h263. FourCC code is passed as cv2.VideoWriter_fourcc(*’MJPG’) for MJPG and cv2.VideoWriter_fourcc(*’XVID’) for DIVX."
   ]
  },
  {
   "cell_type": "code",
   "execution_count": 4,
   "metadata": {},
   "outputs": [],
   "source": [
    "while(True):\n",
    "    # Method 1\n",
    "    img_resp = requests.get(url)\n",
    "    img_arr = np.array(bytearray(img_resp.content), dtype=np.uint8)\n",
    "    img = cv2.imdecode(img_arr, -1)\n",
    "    \n",
    "    # Method 2\n",
    "    # reads frames from a camera  \n",
    "    # ret checks return at each frame \n",
    "    # ret, img = capture.read() \n",
    "    \n",
    "    # Camera\n",
    "    # reads frames from a camera  \n",
    "    # ret checks return at each frame \n",
    "    # ret, img = capture.read() \n",
    "    \n",
    "    # Converts to HSV color space, OCV reads colors as BGR \n",
    "    # frame is converted to hsv \n",
    "    # BGR2HSV\n",
    "    # For greyscale - BGR2GRAY\n",
    "    gray = cv2.cvtColor(img, cv2.COLOR_BGR2GRAY) \n",
    "    \n",
    "    gray = cv2.resize(gray, (640,480))\n",
    "    # output the frame \n",
    "    out.write(gray)  \n",
    "    \n",
    "    # cv2.imshow(\"AndroidCam\",img)\n",
    "   \n",
    "    # The window showing the operated video stream  \n",
    "    cv2.imshow(\"Output\", gray)\n",
    "\n",
    "    # Until you press \"Esc\"\n",
    "    if(cv2.waitKey(1) == 27):\n",
    "        break\n",
    "\n",
    "capture.release()\n",
    "\n",
    "out.release()\n",
    "\n",
    "cv2.destroyAllWindows()"
   ]
  },
  {
   "cell_type": "code",
   "execution_count": null,
   "metadata": {},
   "outputs": [],
   "source": []
  }
 ],
 "metadata": {
  "kernelspec": {
   "display_name": "Python 3",
   "language": "python",
   "name": "python3"
  },
  "language_info": {
   "codemirror_mode": {
    "name": "ipython",
    "version": 3
   },
   "file_extension": ".py",
   "mimetype": "text/x-python",
   "name": "python",
   "nbconvert_exporter": "python",
   "pygments_lexer": "ipython3",
   "version": "3.7.3"
  }
 },
 "nbformat": 4,
 "nbformat_minor": 2
}
