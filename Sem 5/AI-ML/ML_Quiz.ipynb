{
 "cells": [
  {
   "cell_type": "markdown",
   "metadata": {},
   "source": [
    "# Classification Metrics"
   ]
  },
  {
   "cell_type": "code",
   "execution_count": 8,
   "metadata": {},
   "outputs": [],
   "source": [
    "from math import log2\n",
    "import sys\n",
    "import numpy as np\n",
    "from sklearn import metrics\n",
    "import matplotlib.pyplot as plt\n",
    "from math import log\n",
    "import math"
   ]
  },
  {
   "cell_type": "code",
   "execution_count": null,
   "metadata": {
    "ExecuteTime": {
     "end_time": "2020-10-11T13:46:59.755865Z",
     "start_time": "2020-10-11T13:46:56.589057Z"
    }
   },
   "outputs": [],
   "source": [
    "tp=int(input(\"Enter True Positives: \"))\n",
    "fp=int(input(\"Enter False Positives: \"))\n",
    "tn=int(input(\"Enter True Negatives: \"))\n",
    "fn=int(input(\"Enter False Negatives: \"))\n",
    "print()\n",
    "prec=tp/(tp+fp)\n",
    "recall=tp/(tp+fn)\n",
    "print(\"Precision: \",prec)\n",
    "print(\"Recall: \",recall)\n",
    "ch=int(input(\"1 if you want F Beta Score and 0 to exit: \"))\n",
    "if(ch==1):\n",
    "    beta=int(input(\"Enter beta: \"))\n",
    "    print(\"F\"+str(beta)+\" score: \",(1+beta**2)*(prec*recall)/(((beta**2*prec)+recall)))\n",
    "else:\n",
    "    pass"
   ]
  },
  {
   "cell_type": "markdown",
   "metadata": {},
   "source": [
    "# Gini"
   ]
  },
  {
   "cell_type": "code",
   "execution_count": 2,
   "metadata": {
    "ExecuteTime": {
     "end_time": "2020-10-11T13:56:01.996063Z",
     "start_time": "2020-10-11T13:55:37.002333Z"
    }
   },
   "outputs": [
    {
     "name": "stdout",
     "output_type": "stream",
     "text": [
      "Class 1\n",
      "Enter probability of yes : 4\n",
      "Enter probability of no : 3\n",
      "0.48979591836734704\n",
      "\n",
      "\n",
      "Class 2\n",
      "Enter probability of yes : 3\n",
      "Enter probability of no : 0\n",
      "0.0\n",
      "\n",
      "\n",
      "[4, 3]\n",
      "[3, 0]\n",
      "[0.48979591836734704, 0.0]\n"
     ]
    }
   ],
   "source": [
    "noleafs = 2\n",
    "ginis=[]\n",
    "probyess=[]\n",
    "probnos=[]\n",
    "for i in range(noleafs):\n",
    "    print(\"Class \"+str(i+1))\n",
    "    probyes=int(input(\"Enter probability of yes : \"))\n",
    "    probno=int(input(\"Enter probability of no : \"))\n",
    "    gini=1-(probyes/(probyes+probno))**2-(probno/(probyes+probno))**2\n",
    "    print(gini)\n",
    "    print()\n",
    "    ginis.append(gini)\n",
    "    probyess.append(probyes)\n",
    "    probnos.append(probno)\n",
    "    print()\n",
    "\n",
    "print(probyess)\n",
    "print(probnos)\n",
    "print(ginis)"
   ]
  },
  {
   "cell_type": "code",
   "execution_count": 3,
   "metadata": {},
   "outputs": [
    {
     "name": "stdout",
     "output_type": "stream",
     "text": [
      "10\n",
      "7/10 * 0.48979591836734704\n",
      "3/10 * 0.0\n",
      "Weighted Average :  0.3428571428571429\n"
     ]
    }
   ],
   "source": [
    "# Weighted Average\n",
    "total = sum(probyess)+sum(probnos)\n",
    "print(total)\n",
    "\n",
    "wt_avg = 0\n",
    "for i in range(noleafs):\n",
    "    print(f\"{probyess[i]+probnos[i]}/{total} * {ginis[i]}\")\n",
    "    wt_avg+=(((probyess[i]+probnos[i])/total)*ginis[i])\n",
    "    # print(wt_avg)\n",
    "    \n",
    "print(\"Weighted Average : \", wt_avg)"
   ]
  },
  {
   "cell_type": "markdown",
   "metadata": {},
   "source": [
    "# Entropy and Information Gain"
   ]
  },
  {
   "cell_type": "code",
   "execution_count": 9,
   "metadata": {},
   "outputs": [
    {
     "name": "stdout",
     "output_type": "stream",
     "text": [
      "Enter the number of impurities in population sample : 5\n",
      "Enter the number of purities in population sample : 4\n",
      "Parent Entropy :  0.9910760598382222\n"
     ]
    }
   ],
   "source": [
    "# Parent Entropy\n",
    "childimp=int(input(\"Enter the number of impurities in population sample : \"))\n",
    "childpur=int(input(\"Enter the number of purities in population sample : \"))\n",
    "\n",
    "total=childimp+childpur\n",
    "\n",
    "childent=-(childimp/(childpur+childimp))*log2(childimp/(childpur+childimp))-(childpur/(childpur+childimp))*log2(childpur/(childpur+childimp))\n",
    "\n",
    "print(\"Parent Entropy : \",childent)"
   ]
  },
  {
   "cell_type": "code",
   "execution_count": 10,
   "metadata": {
    "ExecuteTime": {
     "end_time": "2020-10-11T14:13:59.684922Z",
     "start_time": "2020-10-11T14:13:43.831762Z"
    }
   },
   "outputs": [
    {
     "name": "stdout",
     "output_type": "stream",
     "text": [
      "Enter parent entropy : 0.9910760598382222\n",
      "Child 1\n",
      "Enter the number of impurities in population sample : 3\n",
      "Enter the number of purities in population sample : 3\n",
      "Child entropy :  1.0\n",
      "\n",
      "Child 2\n",
      "Enter the number of impurities in population sample : 3\n",
      "Enter the number of purities in population sample : 0\n",
      "Child entropy :  0.0\n",
      "\n"
     ]
    }
   ],
   "source": [
    "parentent=float(input(\"Enter parent entropy : \"))\n",
    "\n",
    "childimps,childpurs,totals,childents=[],[],[],[]\n",
    "\n",
    "for i in range(2):\n",
    "    print(\"Child \"+str(i+1))    \n",
    "    \n",
    "    childimp=int(input(\"Enter the number of impurities in population sample : \"))\n",
    "    childpur=int(input(\"Enter the number of purities in population sample : \"))\n",
    "    \n",
    "    total=childimp+childpur\n",
    "    \n",
    "    # Main function\n",
    "    # Impurity\n",
    "    if(childimp == 0):\n",
    "        c_imp = 0\n",
    "    else:\n",
    "        c_imp = -(childimp/(childpur+childimp))*log2(childimp/(childpur+childimp))\n",
    "        \n",
    "    # Purity\n",
    "    if(childpur == 0):\n",
    "        c_pur = 0\n",
    "    else:\n",
    "        c_pur = -(childpur/(childpur+childimp))*log2(childpur/(childpur+childimp))\n",
    "\n",
    "    childent = c_imp + c_pur\n",
    "    \n",
    "    childents.append(childent)\n",
    "    childpurs.append(childpur)\n",
    "    childimps.append(childimp)\n",
    "    totals.append(total)\n",
    "    \n",
    "    print(\"Child entropy : \",childent)\n",
    "    print()"
   ]
  },
  {
   "cell_type": "code",
   "execution_count": 11,
   "metadata": {},
   "outputs": [
    {
     "name": "stdout",
     "output_type": "stream",
     "text": [
      "[6, 3]\n",
      "[1.0, 0.0]\n",
      "[3, 0]\n",
      "[3, 3]\n",
      "0.9910760598382222\n"
     ]
    }
   ],
   "source": [
    "# Checking the values\n",
    "print(totals)\n",
    "print(childents)\n",
    "print(childpurs)\n",
    "print(childimps)\n",
    "print(parentent)"
   ]
  },
  {
   "cell_type": "code",
   "execution_count": 12,
   "metadata": {},
   "outputs": [
    {
     "name": "stdout",
     "output_type": "stream",
     "text": [
      "9\n",
      "6/9 * 1.0\n",
      "3/9 * 0.0\n",
      "Weighted Average :  0.6666666666666666\n",
      "Information Gain :  0.3244093931715556\n"
     ]
    }
   ],
   "source": [
    "total = sum(childpurs)+sum(childimps)\n",
    "print(total)\n",
    "\n",
    "wt_avg = 0\n",
    "for i in range(2):\n",
    "    print(f\"{childpurs[i]+childimps[i]}/{total} * {childents[i]}\")\n",
    "    wt_avg+=(((childpurs[i]+childimps[i])/total)*childents[i])\n",
    "    # print(wt_avg)\n",
    "    \n",
    "print(\"Weighted Average : \",wt_avg)\n",
    "print(\"Information Gain : \",parentent-wt_avg)"
   ]
  },
  {
   "cell_type": "code",
   "execution_count": null,
   "metadata": {},
   "outputs": [],
   "source": [
    "## Log Loss"
   ]
  },
  {
   "cell_type": "code",
   "execution_count": null,
   "metadata": {},
   "outputs": [],
   "source": [
    "'''\n",
    "Optional to run\n",
    "'''\n",
    "# To classify the values based on threshold\n",
    "'''\n",
    "def predict(X, threshold=0.5):\n",
    "    binary_predictions = np.array(list(map(lambda x: 1 if x>threshold else 0, X)))\n",
    "    return binary_predictions\n",
    "'''"
   ]
  },
  {
   "cell_type": "code",
   "execution_count": null,
   "metadata": {},
   "outputs": [],
   "source": [
    "def log_loss(predicted, target):\n",
    "    if len(predicted) != len(target):\n",
    "        print('lengths not equal!')\n",
    "        return\n",
    "    \n",
    "    target = [float(x) for x in target]   # make sure all float values\n",
    "    predicted = [min([max([x,1e-15]),1-1e-15]) for x in predicted]  # within (0,1) interval\n",
    "    \n",
    "    return -(1.0/len(target))*sum([target[i]*log(predicted[i]) + (1.0-target[i])*log(1.0-predicted[i]) for i in range(len(target))])"
   ]
  },
  {
   "cell_type": "markdown",
   "metadata": {},
   "source": [
    "**Log Loss**"
   ]
  },
  {
   "cell_type": "code",
   "execution_count": null,
   "metadata": {},
   "outputs": [],
   "source": [
    "# To get the values\n",
    "y_pred = np.array([0.49, 0.52, 0.51, 0.53, 0.54, 0.45, 0.49])\n",
    "y_true = np.array([1, 1, 1, 1, 1, 0, 0])\n",
    "\n",
    "print(log_loss(y_pred,y_true))"
   ]
  },
  {
   "cell_type": "markdown",
   "metadata": {},
   "source": [
    "**TP, NP, FN, FP**"
   ]
  },
  {
   "cell_type": "code",
   "execution_count": null,
   "metadata": {},
   "outputs": [],
   "source": [
    "'''\n",
    "Optional to run\n",
    "'''\n",
    "def calc_metrics(y_pred, y_true):\n",
    "    tp = 0\n",
    "    tn = 0\n",
    "    fn = 0\n",
    "    fp = 0\n",
    "    \n",
    "    for i in range(len(y_pred)):\n",
    "        if(y_pred[i]==1 and y_true[i]==1):\n",
    "            tp+=1\n",
    "        elif(y_pred[i]==1 and y_true[i]==0):\n",
    "            fp+=1\n",
    "        elif(y_pred[i]==0 and y_true[i]==0):\n",
    "            tn+=1\n",
    "        else:\n",
    "            fn+=1\n",
    "            \n",
    "    return tp, tn, fn, fp"
   ]
  },
  {
   "cell_type": "code",
   "execution_count": null,
   "metadata": {},
   "outputs": [],
   "source": [
    "tp, tn, fn, fp = calc_metrics(predict(y_pred), y_true)\n",
    "print(tp, tn, fn, fp)"
   ]
  },
  {
   "cell_type": "code",
   "execution_count": null,
   "metadata": {},
   "outputs": [],
   "source": [
    "# Confusion Matrix\n",
    "'''\n",
    "In the form:\n",
    "\n",
    "[ TN FP\n",
    "  FN TP ]\n",
    "'''\n",
    "print(metrics.confusion_matrix(y_true, predict(y_pred)))"
   ]
  },
  {
   "cell_type": "markdown",
   "metadata": {},
   "source": [
    "## FPR, TPR, ROC-AUC Curve"
   ]
  },
  {
   "cell_type": "code",
   "execution_count": null,
   "metadata": {},
   "outputs": [],
   "source": [
    "# Model 1\n",
    "score = np.array([0.49, 0.52, 0.51, 0.53, 0.54, 0.45, 0.49])\n",
    "y_true = np.array([1, 1, 1, 1, 1, 0, 0])\n",
    "\n",
    "fpr1, tpr1, thresholds1 = metrics.roc_curve(y_true, score)\n",
    "print(fpr1)\n",
    "print(tpr1)\n",
    "print(thresholds1)"
   ]
  },
  {
   "cell_type": "code",
   "execution_count": null,
   "metadata": {},
   "outputs": [],
   "source": [
    "# Model 2\n",
    "score = np.array([0.8, 0.9, 0.4, 0.95, 0.89, 0.54, 0.1])\n",
    "y_true = np.array([1, 1, 1, 1, 1, 0, 0])\n",
    "\n",
    "fpr, tpr, thresholds = metrics.roc_curve(y_true, score)\n",
    "print(fpr)\n",
    "print(tpr)\n",
    "print(thresholds)"
   ]
  },
  {
   "cell_type": "code",
   "execution_count": null,
   "metadata": {},
   "outputs": [],
   "source": [
    "# Plot 1\n",
    "plt.plot(fpr1, tpr1, 'r')\n",
    "\n",
    "# Plot 2\n",
    "plt.plot(fpr, tpr, 'b')\n",
    "\n",
    "plt.show()"
   ]
  },
  {
   "cell_type": "code",
   "execution_count": 9,
   "metadata": {},
   "outputs": [
    {
     "name": "stdout",
     "output_type": "stream",
     "text": [
      "RMS : 2.8284271247461903\n"
     ]
    }
   ],
   "source": [
    "y_true = np.array([1,2,3,4,5])\n",
    "y_pred = np.array([5,4,3,2,1])\n",
    "\n",
    "mse = metrics.mean_squared_error(y_true, y_pred)\n",
    "print(f\"RMS : {math.sqrt(mse)}\")"
   ]
  },
  {
   "cell_type": "code",
   "execution_count": null,
   "metadata": {},
   "outputs": [],
   "source": []
  }
 ],
 "metadata": {
  "kernelspec": {
   "display_name": "Python 3",
   "language": "python",
   "name": "python3"
  },
  "language_info": {
   "codemirror_mode": {
    "name": "ipython",
    "version": 3
   },
   "file_extension": ".py",
   "mimetype": "text/x-python",
   "name": "python",
   "nbconvert_exporter": "python",
   "pygments_lexer": "ipython3",
   "version": "3.7.4"
  },
  "varInspector": {
   "cols": {
    "lenName": 16,
    "lenType": 16,
    "lenVar": 40
   },
   "kernels_config": {
    "python": {
     "delete_cmd_postfix": "",
     "delete_cmd_prefix": "del ",
     "library": "var_list.py",
     "varRefreshCmd": "print(var_dic_list())"
    },
    "r": {
     "delete_cmd_postfix": ") ",
     "delete_cmd_prefix": "rm(",
     "library": "var_list.r",
     "varRefreshCmd": "cat(var_dic_list()) "
    }
   },
   "types_to_exclude": [
    "module",
    "function",
    "builtin_function_or_method",
    "instance",
    "_Feature"
   ],
   "window_display": false
  }
 },
 "nbformat": 4,
 "nbformat_minor": 4
}
