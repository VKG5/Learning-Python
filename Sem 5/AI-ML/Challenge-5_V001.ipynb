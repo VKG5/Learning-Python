{
 "cells": [
  {
   "cell_type": "markdown",
   "metadata": {},
   "source": [
    "# Classification metrics\n",
    "\n",
    "Choosing right evaluation metrics for the problem is one of the most important aspect of machine learning. Choice of metrics allows us to compare performance of different models and helps in model selection.\n",
    "\n",
    "In this task, we will explore following metrics:\n",
    "\n",
    "- confusion matrix\n",
    "- accuracy\n",
    "- precision\n",
    "- recall\n",
    "- f1 score"
   ]
  },
  {
   "cell_type": "markdown",
   "metadata": {},
   "source": [
    "## Importing Data"
   ]
  },
  {
   "cell_type": "code",
   "execution_count": 1,
   "metadata": {},
   "outputs": [],
   "source": [
    "import pandas as pd\n",
    "import numpy as np\n",
    "import matplotlib.pyplot as plt\n",
    "import seaborn as sns\n",
    "from sklearn.linear_model import LogisticRegression\n",
    "from sklearn.tree import DecisionTreeClassifier\n",
    "\n",
    "# Uncomment below 2 lines to ignore warnings\n",
    "# import warnings\n",
    "# warnings.filterwarnings('ignore')"
   ]
  },
  {
   "cell_type": "code",
   "execution_count": 2,
   "metadata": {},
   "outputs": [],
   "source": [
    "# Load the train and test data\n",
    "train = pd.read_csv('Data/ozone_levels_train.csv')\n",
    "test  = pd.read_csv('Data/ozone_levels_test.csv')"
   ]
  },
  {
   "cell_type": "code",
   "execution_count": 3,
   "metadata": {},
   "outputs": [
    {
     "data": {
      "text/html": [
       "<div>\n",
       "<style scoped>\n",
       "    .dataframe tbody tr th:only-of-type {\n",
       "        vertical-align: middle;\n",
       "    }\n",
       "\n",
       "    .dataframe tbody tr th {\n",
       "        vertical-align: top;\n",
       "    }\n",
       "\n",
       "    .dataframe thead th {\n",
       "        text-align: right;\n",
       "    }\n",
       "</style>\n",
       "<table border=\"1\" class=\"dataframe\">\n",
       "  <thead>\n",
       "    <tr style=\"text-align: right;\">\n",
       "      <th></th>\n",
       "      <th>F_0</th>\n",
       "      <th>F_1</th>\n",
       "      <th>F_2</th>\n",
       "      <th>F_3</th>\n",
       "      <th>F_4</th>\n",
       "      <th>F_5</th>\n",
       "      <th>F_6</th>\n",
       "      <th>F_7</th>\n",
       "      <th>F_8</th>\n",
       "      <th>F_9</th>\n",
       "      <th>...</th>\n",
       "      <th>F_63</th>\n",
       "      <th>F_64</th>\n",
       "      <th>F_65</th>\n",
       "      <th>F_66</th>\n",
       "      <th>F_67</th>\n",
       "      <th>F_68</th>\n",
       "      <th>F_69</th>\n",
       "      <th>F_70</th>\n",
       "      <th>F_71</th>\n",
       "      <th>class</th>\n",
       "    </tr>\n",
       "  </thead>\n",
       "  <tbody>\n",
       "    <tr>\n",
       "      <td>0</td>\n",
       "      <td>2.5</td>\n",
       "      <td>3.5</td>\n",
       "      <td>4.4</td>\n",
       "      <td>4.6</td>\n",
       "      <td>4.4</td>\n",
       "      <td>3.5</td>\n",
       "      <td>4.2</td>\n",
       "      <td>4.5</td>\n",
       "      <td>4.2</td>\n",
       "      <td>4.6</td>\n",
       "      <td>...</td>\n",
       "      <td>0.07000</td>\n",
       "      <td>26.290000</td>\n",
       "      <td>-2.370000</td>\n",
       "      <td>5705.000000</td>\n",
       "      <td>-19.400000</td>\n",
       "      <td>23.400000</td>\n",
       "      <td>10315.000000</td>\n",
       "      <td>-0.130416</td>\n",
       "      <td>0.00</td>\n",
       "      <td>0.0</td>\n",
       "    </tr>\n",
       "    <tr>\n",
       "      <td>1</td>\n",
       "      <td>1.2</td>\n",
       "      <td>0.7</td>\n",
       "      <td>0.3</td>\n",
       "      <td>0.1</td>\n",
       "      <td>0.3</td>\n",
       "      <td>0.4</td>\n",
       "      <td>0.6</td>\n",
       "      <td>1.1</td>\n",
       "      <td>1.9</td>\n",
       "      <td>2.4</td>\n",
       "      <td>...</td>\n",
       "      <td>0.24000</td>\n",
       "      <td>15.800000</td>\n",
       "      <td>2.100000</td>\n",
       "      <td>5710.000000</td>\n",
       "      <td>-17.500000</td>\n",
       "      <td>19.000000</td>\n",
       "      <td>10210.000000</td>\n",
       "      <td>15.000000</td>\n",
       "      <td>0.00</td>\n",
       "      <td>0.0</td>\n",
       "    </tr>\n",
       "    <tr>\n",
       "      <td>2</td>\n",
       "      <td>0.1</td>\n",
       "      <td>0.4</td>\n",
       "      <td>0.6</td>\n",
       "      <td>0.4</td>\n",
       "      <td>1.0</td>\n",
       "      <td>1.7</td>\n",
       "      <td>0.7</td>\n",
       "      <td>1.3</td>\n",
       "      <td>2.3</td>\n",
       "      <td>2.4</td>\n",
       "      <td>...</td>\n",
       "      <td>0.12000</td>\n",
       "      <td>31.640000</td>\n",
       "      <td>-5.240000</td>\n",
       "      <td>5745.000000</td>\n",
       "      <td>-16.900000</td>\n",
       "      <td>25.900000</td>\n",
       "      <td>10175.000000</td>\n",
       "      <td>85.000000</td>\n",
       "      <td>0.00</td>\n",
       "      <td>0.0</td>\n",
       "    </tr>\n",
       "    <tr>\n",
       "      <td>3</td>\n",
       "      <td>0.6</td>\n",
       "      <td>0.9</td>\n",
       "      <td>1.0</td>\n",
       "      <td>0.6</td>\n",
       "      <td>0.7</td>\n",
       "      <td>0.7</td>\n",
       "      <td>0.8</td>\n",
       "      <td>1.4</td>\n",
       "      <td>2.6</td>\n",
       "      <td>2.6</td>\n",
       "      <td>...</td>\n",
       "      <td>0.19000</td>\n",
       "      <td>1.220000</td>\n",
       "      <td>-0.280000</td>\n",
       "      <td>5835.000000</td>\n",
       "      <td>-9.550000</td>\n",
       "      <td>42.150000</td>\n",
       "      <td>10215.000000</td>\n",
       "      <td>5.000000</td>\n",
       "      <td>0.00</td>\n",
       "      <td>0.0</td>\n",
       "    </tr>\n",
       "    <tr>\n",
       "      <td>4</td>\n",
       "      <td>0.1</td>\n",
       "      <td>0.4</td>\n",
       "      <td>0.3</td>\n",
       "      <td>0.1</td>\n",
       "      <td>0.1</td>\n",
       "      <td>0.0</td>\n",
       "      <td>0.9</td>\n",
       "      <td>1.9</td>\n",
       "      <td>2.0</td>\n",
       "      <td>2.0</td>\n",
       "      <td>...</td>\n",
       "      <td>0.87000</td>\n",
       "      <td>1.650000</td>\n",
       "      <td>1.510000</td>\n",
       "      <td>5835.000000</td>\n",
       "      <td>32.950000</td>\n",
       "      <td>47.300000</td>\n",
       "      <td>10170.000000</td>\n",
       "      <td>15.000000</td>\n",
       "      <td>0.97</td>\n",
       "      <td>0.0</td>\n",
       "    </tr>\n",
       "    <tr>\n",
       "      <td>...</td>\n",
       "      <td>...</td>\n",
       "      <td>...</td>\n",
       "      <td>...</td>\n",
       "      <td>...</td>\n",
       "      <td>...</td>\n",
       "      <td>...</td>\n",
       "      <td>...</td>\n",
       "      <td>...</td>\n",
       "      <td>...</td>\n",
       "      <td>...</td>\n",
       "      <td>...</td>\n",
       "      <td>...</td>\n",
       "      <td>...</td>\n",
       "      <td>...</td>\n",
       "      <td>...</td>\n",
       "      <td>...</td>\n",
       "      <td>...</td>\n",
       "      <td>...</td>\n",
       "      <td>...</td>\n",
       "      <td>...</td>\n",
       "      <td>...</td>\n",
       "    </tr>\n",
       "    <tr>\n",
       "      <td>1770</td>\n",
       "      <td>1.3</td>\n",
       "      <td>1.1</td>\n",
       "      <td>0.8</td>\n",
       "      <td>0.4</td>\n",
       "      <td>0.7</td>\n",
       "      <td>0.4</td>\n",
       "      <td>0.3</td>\n",
       "      <td>1.3</td>\n",
       "      <td>2.0</td>\n",
       "      <td>1.9</td>\n",
       "      <td>...</td>\n",
       "      <td>0.10000</td>\n",
       "      <td>9.867313</td>\n",
       "      <td>0.831892</td>\n",
       "      <td>5875.000000</td>\n",
       "      <td>20.700000</td>\n",
       "      <td>40.300000</td>\n",
       "      <td>10155.000000</td>\n",
       "      <td>-0.130416</td>\n",
       "      <td>2.97</td>\n",
       "      <td>0.0</td>\n",
       "    </tr>\n",
       "    <tr>\n",
       "      <td>1771</td>\n",
       "      <td>0.8</td>\n",
       "      <td>1.3</td>\n",
       "      <td>1.4</td>\n",
       "      <td>0.9</td>\n",
       "      <td>1.0</td>\n",
       "      <td>0.3</td>\n",
       "      <td>0.4</td>\n",
       "      <td>1.3</td>\n",
       "      <td>1.6</td>\n",
       "      <td>2.7</td>\n",
       "      <td>...</td>\n",
       "      <td>0.10000</td>\n",
       "      <td>0.530000</td>\n",
       "      <td>-1.680000</td>\n",
       "      <td>5900.000000</td>\n",
       "      <td>18.300000</td>\n",
       "      <td>34.900000</td>\n",
       "      <td>10150.000000</td>\n",
       "      <td>20.000000</td>\n",
       "      <td>0.00</td>\n",
       "      <td>0.0</td>\n",
       "    </tr>\n",
       "    <tr>\n",
       "      <td>1772</td>\n",
       "      <td>2.0</td>\n",
       "      <td>1.4</td>\n",
       "      <td>1.9</td>\n",
       "      <td>1.6</td>\n",
       "      <td>1.2</td>\n",
       "      <td>1.4</td>\n",
       "      <td>1.7</td>\n",
       "      <td>3.0</td>\n",
       "      <td>3.8</td>\n",
       "      <td>4.7</td>\n",
       "      <td>...</td>\n",
       "      <td>0.30467</td>\n",
       "      <td>9.867313</td>\n",
       "      <td>0.831892</td>\n",
       "      <td>5818.898515</td>\n",
       "      <td>10.510812</td>\n",
       "      <td>37.388366</td>\n",
       "      <td>10164.180664</td>\n",
       "      <td>-0.130416</td>\n",
       "      <td>0.00</td>\n",
       "      <td>0.0</td>\n",
       "    </tr>\n",
       "    <tr>\n",
       "      <td>1773</td>\n",
       "      <td>3.0</td>\n",
       "      <td>1.9</td>\n",
       "      <td>1.3</td>\n",
       "      <td>1.7</td>\n",
       "      <td>1.7</td>\n",
       "      <td>1.1</td>\n",
       "      <td>1.4</td>\n",
       "      <td>0.8</td>\n",
       "      <td>1.6</td>\n",
       "      <td>2.6</td>\n",
       "      <td>...</td>\n",
       "      <td>0.04000</td>\n",
       "      <td>17.200000</td>\n",
       "      <td>-3.710000</td>\n",
       "      <td>5795.000000</td>\n",
       "      <td>2.200000</td>\n",
       "      <td>36.500000</td>\n",
       "      <td>10170.000000</td>\n",
       "      <td>-40.000000</td>\n",
       "      <td>0.00</td>\n",
       "      <td>0.0</td>\n",
       "    </tr>\n",
       "    <tr>\n",
       "      <td>1774</td>\n",
       "      <td>1.7</td>\n",
       "      <td>1.8</td>\n",
       "      <td>0.7</td>\n",
       "      <td>0.2</td>\n",
       "      <td>1.0</td>\n",
       "      <td>1.9</td>\n",
       "      <td>2.8</td>\n",
       "      <td>3.2</td>\n",
       "      <td>3.3</td>\n",
       "      <td>4.2</td>\n",
       "      <td>...</td>\n",
       "      <td>0.09000</td>\n",
       "      <td>9.867313</td>\n",
       "      <td>0.831892</td>\n",
       "      <td>5740.000000</td>\n",
       "      <td>23.550000</td>\n",
       "      <td>48.550000</td>\n",
       "      <td>10035.000000</td>\n",
       "      <td>-60.000000</td>\n",
       "      <td>0.00</td>\n",
       "      <td>0.0</td>\n",
       "    </tr>\n",
       "  </tbody>\n",
       "</table>\n",
       "<p>1775 rows × 73 columns</p>\n",
       "</div>"
      ],
      "text/plain": [
       "      F_0  F_1  F_2  F_3  F_4  F_5  F_6  F_7  F_8  F_9  ...     F_63  \\\n",
       "0     2.5  3.5  4.4  4.6  4.4  3.5  4.2  4.5  4.2  4.6  ...  0.07000   \n",
       "1     1.2  0.7  0.3  0.1  0.3  0.4  0.6  1.1  1.9  2.4  ...  0.24000   \n",
       "2     0.1  0.4  0.6  0.4  1.0  1.7  0.7  1.3  2.3  2.4  ...  0.12000   \n",
       "3     0.6  0.9  1.0  0.6  0.7  0.7  0.8  1.4  2.6  2.6  ...  0.19000   \n",
       "4     0.1  0.4  0.3  0.1  0.1  0.0  0.9  1.9  2.0  2.0  ...  0.87000   \n",
       "...   ...  ...  ...  ...  ...  ...  ...  ...  ...  ...  ...      ...   \n",
       "1770  1.3  1.1  0.8  0.4  0.7  0.4  0.3  1.3  2.0  1.9  ...  0.10000   \n",
       "1771  0.8  1.3  1.4  0.9  1.0  0.3  0.4  1.3  1.6  2.7  ...  0.10000   \n",
       "1772  2.0  1.4  1.9  1.6  1.2  1.4  1.7  3.0  3.8  4.7  ...  0.30467   \n",
       "1773  3.0  1.9  1.3  1.7  1.7  1.1  1.4  0.8  1.6  2.6  ...  0.04000   \n",
       "1774  1.7  1.8  0.7  0.2  1.0  1.9  2.8  3.2  3.3  4.2  ...  0.09000   \n",
       "\n",
       "           F_64      F_65         F_66       F_67       F_68          F_69  \\\n",
       "0     26.290000 -2.370000  5705.000000 -19.400000  23.400000  10315.000000   \n",
       "1     15.800000  2.100000  5710.000000 -17.500000  19.000000  10210.000000   \n",
       "2     31.640000 -5.240000  5745.000000 -16.900000  25.900000  10175.000000   \n",
       "3      1.220000 -0.280000  5835.000000  -9.550000  42.150000  10215.000000   \n",
       "4      1.650000  1.510000  5835.000000  32.950000  47.300000  10170.000000   \n",
       "...         ...       ...          ...        ...        ...           ...   \n",
       "1770   9.867313  0.831892  5875.000000  20.700000  40.300000  10155.000000   \n",
       "1771   0.530000 -1.680000  5900.000000  18.300000  34.900000  10150.000000   \n",
       "1772   9.867313  0.831892  5818.898515  10.510812  37.388366  10164.180664   \n",
       "1773  17.200000 -3.710000  5795.000000   2.200000  36.500000  10170.000000   \n",
       "1774   9.867313  0.831892  5740.000000  23.550000  48.550000  10035.000000   \n",
       "\n",
       "           F_70  F_71  class  \n",
       "0     -0.130416  0.00    0.0  \n",
       "1     15.000000  0.00    0.0  \n",
       "2     85.000000  0.00    0.0  \n",
       "3      5.000000  0.00    0.0  \n",
       "4     15.000000  0.97    0.0  \n",
       "...         ...   ...    ...  \n",
       "1770  -0.130416  2.97    0.0  \n",
       "1771  20.000000  0.00    0.0  \n",
       "1772  -0.130416  0.00    0.0  \n",
       "1773 -40.000000  0.00    0.0  \n",
       "1774 -60.000000  0.00    0.0  \n",
       "\n",
       "[1775 rows x 73 columns]"
      ]
     },
     "execution_count": 3,
     "metadata": {},
     "output_type": "execute_result"
    }
   ],
   "source": [
    "train"
   ]
  },
  {
   "cell_type": "code",
   "execution_count": 4,
   "metadata": {},
   "outputs": [
    {
     "data": {
      "text/html": [
       "<div>\n",
       "<style scoped>\n",
       "    .dataframe tbody tr th:only-of-type {\n",
       "        vertical-align: middle;\n",
       "    }\n",
       "\n",
       "    .dataframe tbody tr th {\n",
       "        vertical-align: top;\n",
       "    }\n",
       "\n",
       "    .dataframe thead th {\n",
       "        text-align: right;\n",
       "    }\n",
       "</style>\n",
       "<table border=\"1\" class=\"dataframe\">\n",
       "  <thead>\n",
       "    <tr style=\"text-align: right;\">\n",
       "      <th></th>\n",
       "      <th>F_0</th>\n",
       "      <th>F_1</th>\n",
       "      <th>F_2</th>\n",
       "      <th>F_3</th>\n",
       "      <th>F_4</th>\n",
       "      <th>F_5</th>\n",
       "      <th>F_6</th>\n",
       "      <th>F_7</th>\n",
       "      <th>F_8</th>\n",
       "      <th>F_9</th>\n",
       "      <th>...</th>\n",
       "      <th>F_63</th>\n",
       "      <th>F_64</th>\n",
       "      <th>F_65</th>\n",
       "      <th>F_66</th>\n",
       "      <th>F_67</th>\n",
       "      <th>F_68</th>\n",
       "      <th>F_69</th>\n",
       "      <th>F_70</th>\n",
       "      <th>F_71</th>\n",
       "      <th>class</th>\n",
       "    </tr>\n",
       "  </thead>\n",
       "  <tbody>\n",
       "    <tr>\n",
       "      <td>0</td>\n",
       "      <td>4.0</td>\n",
       "      <td>3.7</td>\n",
       "      <td>2.9</td>\n",
       "      <td>3.6</td>\n",
       "      <td>2.4</td>\n",
       "      <td>2.9</td>\n",
       "      <td>2.0</td>\n",
       "      <td>2.0</td>\n",
       "      <td>3.2</td>\n",
       "      <td>3.8</td>\n",
       "      <td>...</td>\n",
       "      <td>0.47</td>\n",
       "      <td>27.66</td>\n",
       "      <td>11.94</td>\n",
       "      <td>5605.0</td>\n",
       "      <td>10.70</td>\n",
       "      <td>31.95</td>\n",
       "      <td>10240.0</td>\n",
       "      <td>10.0</td>\n",
       "      <td>0.0</td>\n",
       "      <td>0.0</td>\n",
       "    </tr>\n",
       "    <tr>\n",
       "      <td>1</td>\n",
       "      <td>2.2</td>\n",
       "      <td>2.9</td>\n",
       "      <td>3.4</td>\n",
       "      <td>4.2</td>\n",
       "      <td>4.7</td>\n",
       "      <td>4.7</td>\n",
       "      <td>5.3</td>\n",
       "      <td>4.9</td>\n",
       "      <td>5.2</td>\n",
       "      <td>6.0</td>\n",
       "      <td>...</td>\n",
       "      <td>0.20</td>\n",
       "      <td>19.22</td>\n",
       "      <td>18.21</td>\n",
       "      <td>5515.0</td>\n",
       "      <td>-10.10</td>\n",
       "      <td>42.00</td>\n",
       "      <td>10065.0</td>\n",
       "      <td>25.0</td>\n",
       "      <td>0.0</td>\n",
       "      <td>0.0</td>\n",
       "    </tr>\n",
       "    <tr>\n",
       "      <td>2</td>\n",
       "      <td>2.7</td>\n",
       "      <td>2.2</td>\n",
       "      <td>2.3</td>\n",
       "      <td>2.5</td>\n",
       "      <td>2.6</td>\n",
       "      <td>2.9</td>\n",
       "      <td>3.2</td>\n",
       "      <td>2.9</td>\n",
       "      <td>3.6</td>\n",
       "      <td>4.2</td>\n",
       "      <td>...</td>\n",
       "      <td>0.10</td>\n",
       "      <td>14.22</td>\n",
       "      <td>-2.98</td>\n",
       "      <td>5690.0</td>\n",
       "      <td>0.70</td>\n",
       "      <td>32.70</td>\n",
       "      <td>10105.0</td>\n",
       "      <td>-55.0</td>\n",
       "      <td>0.0</td>\n",
       "      <td>0.0</td>\n",
       "    </tr>\n",
       "    <tr>\n",
       "      <td>3</td>\n",
       "      <td>1.5</td>\n",
       "      <td>1.3</td>\n",
       "      <td>1.8</td>\n",
       "      <td>1.4</td>\n",
       "      <td>1.2</td>\n",
       "      <td>1.7</td>\n",
       "      <td>1.6</td>\n",
       "      <td>1.4</td>\n",
       "      <td>1.6</td>\n",
       "      <td>3.0</td>\n",
       "      <td>...</td>\n",
       "      <td>0.54</td>\n",
       "      <td>13.07</td>\n",
       "      <td>9.15</td>\n",
       "      <td>5820.0</td>\n",
       "      <td>1.95</td>\n",
       "      <td>39.35</td>\n",
       "      <td>10220.0</td>\n",
       "      <td>-25.0</td>\n",
       "      <td>0.0</td>\n",
       "      <td>0.0</td>\n",
       "    </tr>\n",
       "    <tr>\n",
       "      <td>4</td>\n",
       "      <td>2.6</td>\n",
       "      <td>2.7</td>\n",
       "      <td>2.2</td>\n",
       "      <td>1.4</td>\n",
       "      <td>1.6</td>\n",
       "      <td>1.9</td>\n",
       "      <td>2.6</td>\n",
       "      <td>3.5</td>\n",
       "      <td>4.2</td>\n",
       "      <td>4.5</td>\n",
       "      <td>...</td>\n",
       "      <td>0.26</td>\n",
       "      <td>-1.52</td>\n",
       "      <td>-4.53</td>\n",
       "      <td>5910.0</td>\n",
       "      <td>27.70</td>\n",
       "      <td>43.70</td>\n",
       "      <td>10110.0</td>\n",
       "      <td>-30.0</td>\n",
       "      <td>0.0</td>\n",
       "      <td>0.0</td>\n",
       "    </tr>\n",
       "  </tbody>\n",
       "</table>\n",
       "<p>5 rows × 73 columns</p>\n",
       "</div>"
      ],
      "text/plain": [
       "   F_0  F_1  F_2  F_3  F_4  F_5  F_6  F_7  F_8  F_9  ...  F_63   F_64   F_65  \\\n",
       "0  4.0  3.7  2.9  3.6  2.4  2.9  2.0  2.0  3.2  3.8  ...  0.47  27.66  11.94   \n",
       "1  2.2  2.9  3.4  4.2  4.7  4.7  5.3  4.9  5.2  6.0  ...  0.20  19.22  18.21   \n",
       "2  2.7  2.2  2.3  2.5  2.6  2.9  3.2  2.9  3.6  4.2  ...  0.10  14.22  -2.98   \n",
       "3  1.5  1.3  1.8  1.4  1.2  1.7  1.6  1.4  1.6  3.0  ...  0.54  13.07   9.15   \n",
       "4  2.6  2.7  2.2  1.4  1.6  1.9  2.6  3.5  4.2  4.5  ...  0.26  -1.52  -4.53   \n",
       "\n",
       "     F_66   F_67   F_68     F_69  F_70  F_71  class  \n",
       "0  5605.0  10.70  31.95  10240.0  10.0   0.0    0.0  \n",
       "1  5515.0 -10.10  42.00  10065.0  25.0   0.0    0.0  \n",
       "2  5690.0   0.70  32.70  10105.0 -55.0   0.0    0.0  \n",
       "3  5820.0   1.95  39.35  10220.0 -25.0   0.0    0.0  \n",
       "4  5910.0  27.70  43.70  10110.0 -30.0   0.0    0.0  \n",
       "\n",
       "[5 rows x 73 columns]"
      ]
     },
     "execution_count": 4,
     "metadata": {},
     "output_type": "execute_result"
    }
   ],
   "source": [
    "test.head()"
   ]
  },
  {
   "cell_type": "markdown",
   "metadata": {},
   "source": [
    "### X and Y"
   ]
  },
  {
   "cell_type": "code",
   "execution_count": 5,
   "metadata": {},
   "outputs": [],
   "source": [
    "# Define X and y\n",
    "X_train = np.array(train.iloc[:, :72])\n",
    "X_test  = np.array(test.iloc[:, :72])\n",
    "y_train = np.array(train.iloc[:, 72:])\n",
    "y_test  = np.array(test.iloc[:, 72:])"
   ]
  },
  {
   "cell_type": "code",
   "execution_count": 6,
   "metadata": {},
   "outputs": [
    {
     "name": "stdout",
     "output_type": "stream",
     "text": [
      "X_train: (1775, 72) , y_train: (1775, 1)\n",
      "X_test: (761, 72) , y_test: (761, 1)\n"
     ]
    }
   ],
   "source": [
    "# To check if the data is correctly segregated\n",
    "X_train_shape = X_train.shape\n",
    "y_train_shape = y_train.shape\n",
    "X_test_shape  = X_test.shape\n",
    "y_test_shape  = y_test.shape\n",
    "\n",
    "print(f\"X_train: {X_train_shape} , y_train: {y_train_shape}\")\n",
    "print(f\"X_test: {X_test_shape} , y_test: {y_test_shape}\")"
   ]
  },
  {
   "cell_type": "markdown",
   "metadata": {},
   "source": [
    "### Models"
   ]
  },
  {
   "cell_type": "code",
   "execution_count": 7,
   "metadata": {},
   "outputs": [],
   "source": [
    "# Initialize the models\n",
    "# Classifier 1 - Logistic regression\n",
    "clf1 = LogisticRegression()\n",
    "# Classifier 2 - Decision tree\n",
    "clf2 = DecisionTreeClassifier(random_state=0)"
   ]
  },
  {
   "cell_type": "code",
   "execution_count": 8,
   "metadata": {},
   "outputs": [
    {
     "name": "stderr",
     "output_type": "stream",
     "text": [
      "C:\\Users\\varun\\Anaconda3\\lib\\site-packages\\sklearn\\linear_model\\logistic.py:432: FutureWarning: Default solver will be changed to 'lbfgs' in 0.22. Specify a solver to silence this warning.\n",
      "  FutureWarning)\n",
      "C:\\Users\\varun\\Anaconda3\\lib\\site-packages\\sklearn\\utils\\validation.py:724: DataConversionWarning: A column-vector y was passed when a 1d array was expected. Please change the shape of y to (n_samples, ), for example using ravel().\n",
      "  y = column_or_1d(y, warn=True)\n"
     ]
    },
    {
     "data": {
      "text/plain": [
       "DecisionTreeClassifier(class_weight=None, criterion='gini', max_depth=None,\n",
       "                       max_features=None, max_leaf_nodes=None,\n",
       "                       min_impurity_decrease=0.0, min_impurity_split=None,\n",
       "                       min_samples_leaf=1, min_samples_split=2,\n",
       "                       min_weight_fraction_leaf=0.0, presort=False,\n",
       "                       random_state=0, splitter='best')"
      ]
     },
     "execution_count": 8,
     "metadata": {},
     "output_type": "execute_result"
    }
   ],
   "source": [
    "clf1.fit(X_train, y_train)\n",
    "clf2.fit(X_train, y_train)"
   ]
  },
  {
   "cell_type": "code",
   "execution_count": 9,
   "metadata": {},
   "outputs": [],
   "source": [
    "# Predict on testing data\n",
    "y_pred_lr = clf1.predict(X_test).reshape((-1,1))\n",
    "y_pred_dt = clf2.predict(X_test).reshape((-1,1))"
   ]
  },
  {
   "cell_type": "code",
   "execution_count": 10,
   "metadata": {},
   "outputs": [
    {
     "data": {
      "text/plain": [
       "(761, 1)"
      ]
     },
     "execution_count": 10,
     "metadata": {},
     "output_type": "execute_result"
    }
   ],
   "source": [
    "y_pred_lr.shape"
   ]
  },
  {
   "cell_type": "code",
   "execution_count": 11,
   "metadata": {},
   "outputs": [
    {
     "data": {
      "text/plain": [
       "(761, 1)"
      ]
     },
     "execution_count": 11,
     "metadata": {},
     "output_type": "execute_result"
    }
   ],
   "source": [
    "y_test.shape"
   ]
  },
  {
   "cell_type": "markdown",
   "metadata": {},
   "source": [
    "### Primary building blocks of classification metrics\n",
    "\n",
    "A **TRUE POSITIVE (TP)** is an outcome where the model correctly predicts the positive class.\n",
    "\n",
    "A **TRUE NEGATIVE (TN)** is an outcome where the model correctly predicts the negative class.\n",
    "\n",
    "A **FALSE POSITIVE (FP)** is an outcome where the model incorrectly predicts the positive class.\n",
    "\n",
    "a **FALSE NEGATIVE (FN)** is an outcome where the model incorrectly predicts the negative class."
   ]
  },
  {
   "cell_type": "code",
   "execution_count": 12,
   "metadata": {},
   "outputs": [],
   "source": [
    "def perf_measure(y_actual, y_hat):\n",
    "    TP = 0\n",
    "    FP = 0\n",
    "    TN = 0\n",
    "    FN = 0\n",
    "\n",
    "    for i in range(len(y_hat)): \n",
    "        if y_actual[i]==y_hat[i]==1:\n",
    "            TP += 1\n",
    "        if y_hat[i]==1 and y_actual[i]!=y_hat[i]:\n",
    "            FP += 1\n",
    "        if y_actual[i]==y_hat[i]==0:\n",
    "            TN += 1\n",
    "        if y_hat[i]==0 and y_actual[i]!=y_hat[i]:\n",
    "            FN += 1\n",
    "\n",
    "    return TP, TN, FP, FN"
   ]
  },
  {
   "cell_type": "code",
   "execution_count": 13,
   "metadata": {},
   "outputs": [
    {
     "name": "stdout",
     "output_type": "stream",
     "text": [
      "1 732 8 20\n"
     ]
    }
   ],
   "source": [
    "# Compute primary metrics for logisitc regression\n",
    "lr_true_positive, lr_true_negative, lr_false_positive, lr_false_negative = perf_measure(y_test, y_pred_lr)\n",
    "print(lr_true_positive, lr_true_negative, lr_false_positive, lr_false_negative)"
   ]
  },
  {
   "cell_type": "code",
   "execution_count": 14,
   "metadata": {},
   "outputs": [
    {
     "name": "stdout",
     "output_type": "stream",
     "text": [
      "3 707 33 18\n"
     ]
    }
   ],
   "source": [
    "# Compute primary metrics for decision tree\n",
    "dt_true_positive, dt_true_negative, dt_false_positive, dt_false_negative = perf_measure(y_test, y_pred_dt)\n",
    "print(dt_true_positive, dt_true_negative, dt_false_positive, dt_false_negative)"
   ]
  },
  {
   "attachments": {
    "image.png": {
     "image/png": "[encoded data removed]"
    }
   },
   "cell_type": "markdown",
   "metadata": {},
   "source": [
    "## Confusion matrix\n",
    "A confusion matrix is visualization technique to summarize the basic performance of a classification algorithm.\n",
    "\n",
    "Confusion matrix\n",
    "\n",
    "![image.png](attachment:image.png)"
   ]
  },
  {
   "cell_type": "code",
   "execution_count": 15,
   "metadata": {},
   "outputs": [
    {
     "data": {
      "image/png": "[encoded data removed]",
      "text/plain": [
       "<Figure size 1800x576 with 4 Axes>"
      ]
     },
     "metadata": {
      "needs_background": "light"
     },
     "output_type": "display_data"
    }
   ],
   "source": [
    "# Plot confusion matrix, DO NOT EDIT THE CELL\n",
    "fig, axes = plt.subplots(nrows=1, ncols=2, figsize=(25,8))\n",
    "\n",
    "plt.title(\"Confusion matrix for logistic regression\")\n",
    "sns.heatmap(np.array([[lr_true_negative, lr_false_positive],[lr_false_negative, lr_true_positive]]), annot=True, cmap=plt.cm.Oranges, fmt='g', ax=axes[0])\n",
    "plt.title(\"Confusion matrix for decision tree\")\n",
    "sns.heatmap(np.array([[dt_true_negative, dt_false_positive],[dt_false_negative, dt_true_positive]]), annot=True, cmap=plt.cm.Oranges, fmt='g', ax=axes[1])\n",
    "\n",
    "plt.show()"
   ]
  },
  {
   "cell_type": "markdown",
   "metadata": {},
   "source": [
    "\n",
    "**Accuracy**\n",
    "\n",
    "Classification accuracy is simply the rate of correct classifications\n",
    "\n",
    "$$Accuracy = \\frac{Number \\, of \\, correct \\, predictions}{Total \\, number \\, of \\, predictions}$$\n",
    "\n",
    "$$Accuracy = \\frac{TP + TN}{TP + TN + FP + FN}$$"
   ]
  },
  {
   "cell_type": "code",
   "execution_count": 16,
   "metadata": {},
   "outputs": [],
   "source": [
    "# Classification accuracy for logistic regression\n",
    "lr_accuracy = (lr_true_positive + lr_true_negative)/(lr_true_positive + lr_true_negative + lr_false_positive + lr_false_negative)\n",
    "\n",
    "# Classification accuracy for decision tree\n",
    "dt_accuracy = (dt_true_positive + dt_true_negative)/(dt_true_positive + dt_true_negative + dt_false_positive + dt_false_negative)"
   ]
  },
  {
   "cell_type": "code",
   "execution_count": 17,
   "metadata": {},
   "outputs": [
    {
     "name": "stdout",
     "output_type": "stream",
     "text": [
      "Classificaton accuracy: LR =  0.9632063074901446\n",
      "Classificaton accuracy: DT =  0.9329829172141918\n"
     ]
    }
   ],
   "source": [
    "print(\"Classificaton accuracy: LR = \" , lr_accuracy)\n",
    "print(\"Classificaton accuracy: DT = \" , dt_accuracy)"
   ]
  },
  {
   "cell_type": "markdown",
   "metadata": {},
   "source": [
    "**Precision**\n",
    "\n",
    "What proportion of positive identifications was actually correct\n",
    "$$Precision = \\frac{TP}{TP+FP}$$"
   ]
  },
  {
   "cell_type": "code",
   "execution_count": 18,
   "metadata": {},
   "outputs": [],
   "source": [
    "# Precision for logistic regression\n",
    "try:\n",
    "    lr_precision = lr_true_positive/(lr_true_positive + lr_false_positive)\n",
    "except:\n",
    "    lr_precision = 0\n",
    "    print(\"If you see this message, it means that the\\ndenominator of precision for logistic regression turned out to be 0 \")\n",
    "\n",
    "\n",
    "# Precision for decision tree\n",
    "try:\n",
    "    dt_precision = dt_true_positive/(dt_true_positive + dt_false_positive)\n",
    "except:\n",
    "    dt_precision = 0\n",
    "    print(\"If you see this message, it means that the\\ndenominator of precision for decision tree turned out to be 0 \")"
   ]
  },
  {
   "cell_type": "code",
   "execution_count": 19,
   "metadata": {},
   "outputs": [
    {
     "name": "stdout",
     "output_type": "stream",
     "text": [
      "Precision: LR =  0.1111111111111111\n",
      "Precision: DT =  0.08333333333333333\n"
     ]
    }
   ],
   "source": [
    "print(\"Precision: LR = \" , lr_precision)\n",
    "print(\"Precision: DT = \" , dt_precision)"
   ]
  },
  {
   "cell_type": "markdown",
   "metadata": {},
   "source": [
    "**Recall**\n",
    "\n",
    "What proportion of actual positives was identified correctly\n",
    "$$Recall = \\frac{TP}{TP+FN}$$"
   ]
  },
  {
   "cell_type": "code",
   "execution_count": 20,
   "metadata": {},
   "outputs": [],
   "source": [
    "# Recall for logistic regression\n",
    "try:\n",
    "    lr_recall = lr_true_positive/(lr_true_positive + lr_false_negative)\n",
    "except:\n",
    "    lr_recall = 0\n",
    "    print(\"If you see this message, it means that the\\ndenominator of recall for logistic regression turned out to be 0 \")\n",
    "\n",
    "    \n",
    "# Recall for decision tree\n",
    "try:\n",
    "    dt_recall = dt_true_positive/(dt_true_positive + dt_false_negative)\n",
    "except:\n",
    "    dt_recall = 0\n",
    "    print(\"If you see this message, it means that the\\ndenominator of recall for decision tree turned out to be 0 \")"
   ]
  },
  {
   "cell_type": "code",
   "execution_count": 21,
   "metadata": {},
   "outputs": [
    {
     "name": "stdout",
     "output_type": "stream",
     "text": [
      "Recall: LR =  0.047619047619047616\n",
      "Recall: DT =  0.14285714285714285\n"
     ]
    }
   ],
   "source": [
    "print(\"Recall: LR = \" , lr_recall)\n",
    "print(\"Recall: DT = \" , dt_recall)"
   ]
  },
  {
   "cell_type": "markdown",
   "metadata": {},
   "source": [
    "**F1 score**\n",
    "\n",
    "The F1 score can be interpreted as a weighted average of the precision and recall, where an F1 score reaches its best value at 1 and worst score at 0. The relative contribution of precision and recall to the F1 score are equal.\n",
    "$$ F1 \\, score = \\frac{2* Precision * Recall}{Precision + Recall}$$"
   ]
  },
  {
   "cell_type": "code",
   "execution_count": 22,
   "metadata": {},
   "outputs": [],
   "source": [
    "# F1 score for logistic regression\n",
    "lr_f1_score = 2 * lr_precision * lr_recall / (lr_precision + lr_recall)\n",
    "\n",
    "# F1 score for decision tree\n",
    "dt_f1_score = 2 * dt_precision * dt_recall / (dt_precision + dt_recall)"
   ]
  },
  {
   "cell_type": "code",
   "execution_count": 23,
   "metadata": {},
   "outputs": [
    {
     "name": "stdout",
     "output_type": "stream",
     "text": [
      "F1 score: LR =  0.06666666666666667\n",
      "F1 score: DT =  0.10526315789473685\n"
     ]
    }
   ],
   "source": [
    "print(\"F1 score: LR = \" , lr_f1_score)\n",
    "print(\"F1 score: DT = \" , dt_f1_score)"
   ]
  },
  {
   "cell_type": "markdown",
   "metadata": {},
   "source": [
    "**Area Under ROC Curve**\n",
    "\n",
    "A ROC Curve is a plot of the true positive rate and the false positive rate for a given set of probability predictions at different thresholds used to map the probabilities to class labels. The area under the curve is then the approximate integral under the ROC Curve."
   ]
  },
  {
   "cell_type": "markdown",
   "metadata": {},
   "source": [
    "Metrices:\n",
    "\n",
    "**Sensitivity, hit rate, recall, or true positive rate:**\n",
    "$$TPR = TP/(TP+FN)$$\n",
    "\n",
    "**Specificity or true negative rate:**\n",
    "$$TNR = TN/(TN+FP)$$\n",
    "\n",
    "**Precision or positive predictive value:**\n",
    "$$PPV = TP/(TP+FP)$$\n",
    "\n",
    "**Negative predictive value:**\n",
    "$$NPV = TN/(TN+FN)$$\n",
    "\n",
    "**Fall out or false positive rate:**\n",
    "$$FPR = FP/(FP+TN)$$\n",
    "\n",
    "**False negative rate:**\n",
    "$$FNR = FN/(TP+FN)$$\n",
    "\n",
    "**False discovery rate:**\n",
    "$$FDR = FP/(TP+FP)$$"
   ]
  },
  {
   "cell_type": "code",
   "execution_count": 24,
   "metadata": {},
   "outputs": [],
   "source": [
    "# False positive rate for logisitic regression\n",
    "lr_false_positive_rate = lr_false_positive/(lr_false_positive + lr_true_negative)\n",
    "# True positive rate for logisitic regression\n",
    "lr_true_positive_rate = lr_recall\n",
    "\n",
    "# False positive rate for decision trees\n",
    "dt_false_positive_rate = dt_false_positive/(dt_false_positive + dt_true_negative)\n",
    "# True positive rate for decision trees\n",
    "dt_true_positive_rate = dt_recall"
   ]
  },
  {
   "cell_type": "code",
   "execution_count": 26,
   "metadata": {},
   "outputs": [
    {
     "data": {
      "image/png": "[encoded data removed]",
      "text/plain": [
       "<Figure size 360x360 with 1 Axes>"
      ]
     },
     "metadata": {
      "needs_background": "light"
     },
     "output_type": "display_data"
    }
   ],
   "source": [
    "fog = plt.figure(figsize=(5, 5))\n",
    "plt.plot(dt_false_positive_rate, dt_true_positive_rate, linestyle='--', label='Decision Tree')\n",
    "plt.plot(lr_false_positive_rate, lr_true_positive_rate, marker='.', label='Logistic')\n",
    "plt.show()"
   ]
  },
  {
   "cell_type": "markdown",
   "metadata": {},
   "source": [
    "## Checking the graph"
   ]
  },
  {
   "cell_type": "code",
   "execution_count": 30,
   "metadata": {},
   "outputs": [],
   "source": [
    "from sklearn.metrics import roc_curve\n",
    "\n",
    "random_probs = [0 for i in range(len(y_test))]\n",
    "p_fpr, p_tpr, _ = roc_curve(y_test, random_probs, pos_label=1)"
   ]
  },
  {
   "cell_type": "code",
   "execution_count": 31,
   "metadata": {},
   "outputs": [
    {
     "data": {
      "image/png": "[encoded data removed]",
      "text/plain": [
       "<Figure size 576x396 with 1 Axes>"
      ]
     },
     "metadata": {},
     "output_type": "display_data"
    }
   ],
   "source": [
    "plt.style.use('seaborn')\n",
    "plt.plot(lr_false_positive_rate, lr_true_positive_rate, linestyle='--',color='orange', label='Logistic Regression')\n",
    "plt.plot(dt_false_positive_rate, dt_true_positive_rate, linestyle='-',color='green', label='Decision Tree')\n",
    "plt.plot(p_fpr, p_tpr, linestyle='-.', color='blue')\n",
    "plt.title('ROC curve')\n",
    "plt.xlabel('False Positive Rate')\n",
    "plt.ylabel('True Positive rate')\n",
    "plt.legend(loc='best')\n",
    "plt.show();"
   ]
  },
  {
   "cell_type": "code",
   "execution_count": null,
   "metadata": {},
   "outputs": [],
   "source": []
  }
 ],
 "metadata": {
  "kernelspec": {
   "display_name": "Python 3",
   "language": "python",
   "name": "python3"
  },
  "language_info": {
   "codemirror_mode": {
    "name": "ipython",
    "version": 3
   },
   "file_extension": ".py",
   "mimetype": "text/x-python",
   "name": "python",
   "nbconvert_exporter": "python",
   "pygments_lexer": "ipython3",
   "version": "3.7.4"
  }
 },
 "nbformat": 4,
 "nbformat_minor": 2
}
