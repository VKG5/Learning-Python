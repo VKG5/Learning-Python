{
 "cells": [
  {
   "cell_type": "markdown",
   "metadata": {
    "id": "m5A6n7jvYxPC"
   },
   "source": [
    "# Vehicle silhouettes\n",
    "\n",
    "## Objective\n",
    "To classify a given silhouette as one of four types of vehicle, using a set of features extracted from the silhouette. The \tvehicle may be viewed from one of many different angles.   \n",
    "\n",
    "##Useful links:\n",
    "https://machinelearningmastery.com/implement-random-forest-scratch-python/\n",
    "\n",
    "https://towardsdatascience.com/random-forests-and-decision-trees-from-scratch-in-python-3e4fa5ae4249\n",
    "\n",
    "https://www.analyticsvidhya.com/blog/2018/12/building-a-random-forest-from-scratch-understanding-real-world-data-products-ml-for-programmers-part-3/"
   ]
  },
  {
   "cell_type": "markdown",
   "metadata": {
    "id": "W-FoSpD3QDP4"
   },
   "source": [
    "# Part 1: Random Forest from scratch\n",
    "\n",
    "Random forests are an ensemble learning method for classification and regression that operate by constructing multiple decision trees at training time and outputting the class that is the mode of the classes (classification) or mean prediction (regression) of the individual trees."
   ]
  },
  {
   "cell_type": "code",
   "execution_count": 3,
   "metadata": {
    "id": "4q0F2HVFPl0R"
   },
   "outputs": [],
   "source": [
    "# Load the libraries\n",
    "import seaborn as sns\n",
    "import pandas as pd\n",
    "import numpy as np\n",
    "import matplotlib.pyplot as plt\n",
    "import scipy.stats\n",
    "from sklearn import preprocessing\n",
    "from sklearn.feature_selection import SelectKBest\n",
    "from scipy.stats import chi2 \n",
    "from sklearn.feature_selection import f_classif\n",
    "from sklearn.model_selection import train_test_split\n",
    "from sklearn.feature_selection import RFE\n",
    "from sklearn.linear_model import LogisticRegression\n",
    "from sklearn.linear_model import LogisticRegression,SGDClassifier, RidgeClassifier\n",
    "from sklearn.tree import DecisionTreeClassifier\n",
    "from sklearn.feature_selection import RFE\n",
    "from sklearn.feature_selection import RFECV\n",
    "from sklearn.feature_selection import SelectKBest, chi2\n",
    "from sklearn.metrics import accuracy_score, f1_score\n",
    "from sklearn.metrics import f1_score,confusion_matrix\n",
    "from sklearn.model_selection import train_test_split\n",
    "from sklearn.linear_model import LogisticRegression"
   ]
  },
  {
   "cell_type": "markdown",
   "metadata": {},
   "source": [
    "## Importing Data"
   ]
  },
  {
   "cell_type": "code",
   "execution_count": 4,
   "metadata": {},
   "outputs": [],
   "source": [
    "# Load the dataset \n",
    "data = pd.read_csv('Data/vehicle.csv')"
   ]
  },
  {
   "cell_type": "code",
   "execution_count": 5,
   "metadata": {},
   "outputs": [
    {
     "data": {
      "text/html": [
       "<div>\n",
       "<style scoped>\n",
       "    .dataframe tbody tr th:only-of-type {\n",
       "        vertical-align: middle;\n",
       "    }\n",
       "\n",
       "    .dataframe tbody tr th {\n",
       "        vertical-align: top;\n",
       "    }\n",
       "\n",
       "    .dataframe thead th {\n",
       "        text-align: right;\n",
       "    }\n",
       "</style>\n",
       "<table border=\"1\" class=\"dataframe\">\n",
       "  <thead>\n",
       "    <tr style=\"text-align: right;\">\n",
       "      <th></th>\n",
       "      <th>compactness</th>\n",
       "      <th>circularity</th>\n",
       "      <th>distance_circularity</th>\n",
       "      <th>radius_ratio</th>\n",
       "      <th>pr.axis_aspect_ratio</th>\n",
       "      <th>max.length_aspect_ratio</th>\n",
       "      <th>scatter_ratio</th>\n",
       "      <th>elongatedness</th>\n",
       "      <th>pr.axis_rectangularity</th>\n",
       "      <th>max.length_rectangularity</th>\n",
       "      <th>scaled_variance</th>\n",
       "      <th>scaled_variance.1</th>\n",
       "      <th>scaled_radius_of_gyration</th>\n",
       "      <th>scaled_radius_of_gyration.1</th>\n",
       "      <th>skewness_about</th>\n",
       "      <th>skewness_about.1</th>\n",
       "      <th>skewness_about.2</th>\n",
       "      <th>hollows_ratio</th>\n",
       "      <th>class</th>\n",
       "    </tr>\n",
       "  </thead>\n",
       "  <tbody>\n",
       "    <tr>\n",
       "      <td>0</td>\n",
       "      <td>95</td>\n",
       "      <td>48.0</td>\n",
       "      <td>83.0</td>\n",
       "      <td>178.0</td>\n",
       "      <td>72.0</td>\n",
       "      <td>10</td>\n",
       "      <td>162.0</td>\n",
       "      <td>42.0</td>\n",
       "      <td>20.0</td>\n",
       "      <td>159</td>\n",
       "      <td>176.0</td>\n",
       "      <td>379.0</td>\n",
       "      <td>184.0</td>\n",
       "      <td>70.0</td>\n",
       "      <td>6.0</td>\n",
       "      <td>16.0</td>\n",
       "      <td>187.0</td>\n",
       "      <td>197</td>\n",
       "      <td>van</td>\n",
       "    </tr>\n",
       "    <tr>\n",
       "      <td>1</td>\n",
       "      <td>91</td>\n",
       "      <td>41.0</td>\n",
       "      <td>84.0</td>\n",
       "      <td>141.0</td>\n",
       "      <td>57.0</td>\n",
       "      <td>9</td>\n",
       "      <td>149.0</td>\n",
       "      <td>45.0</td>\n",
       "      <td>19.0</td>\n",
       "      <td>143</td>\n",
       "      <td>170.0</td>\n",
       "      <td>330.0</td>\n",
       "      <td>158.0</td>\n",
       "      <td>72.0</td>\n",
       "      <td>9.0</td>\n",
       "      <td>14.0</td>\n",
       "      <td>189.0</td>\n",
       "      <td>199</td>\n",
       "      <td>van</td>\n",
       "    </tr>\n",
       "    <tr>\n",
       "      <td>2</td>\n",
       "      <td>104</td>\n",
       "      <td>50.0</td>\n",
       "      <td>106.0</td>\n",
       "      <td>209.0</td>\n",
       "      <td>66.0</td>\n",
       "      <td>10</td>\n",
       "      <td>207.0</td>\n",
       "      <td>32.0</td>\n",
       "      <td>23.0</td>\n",
       "      <td>158</td>\n",
       "      <td>223.0</td>\n",
       "      <td>635.0</td>\n",
       "      <td>220.0</td>\n",
       "      <td>73.0</td>\n",
       "      <td>14.0</td>\n",
       "      <td>9.0</td>\n",
       "      <td>188.0</td>\n",
       "      <td>196</td>\n",
       "      <td>car</td>\n",
       "    </tr>\n",
       "    <tr>\n",
       "      <td>3</td>\n",
       "      <td>93</td>\n",
       "      <td>41.0</td>\n",
       "      <td>82.0</td>\n",
       "      <td>159.0</td>\n",
       "      <td>63.0</td>\n",
       "      <td>9</td>\n",
       "      <td>144.0</td>\n",
       "      <td>46.0</td>\n",
       "      <td>19.0</td>\n",
       "      <td>143</td>\n",
       "      <td>160.0</td>\n",
       "      <td>309.0</td>\n",
       "      <td>127.0</td>\n",
       "      <td>63.0</td>\n",
       "      <td>6.0</td>\n",
       "      <td>10.0</td>\n",
       "      <td>199.0</td>\n",
       "      <td>207</td>\n",
       "      <td>van</td>\n",
       "    </tr>\n",
       "    <tr>\n",
       "      <td>4</td>\n",
       "      <td>85</td>\n",
       "      <td>44.0</td>\n",
       "      <td>70.0</td>\n",
       "      <td>205.0</td>\n",
       "      <td>103.0</td>\n",
       "      <td>52</td>\n",
       "      <td>149.0</td>\n",
       "      <td>45.0</td>\n",
       "      <td>19.0</td>\n",
       "      <td>144</td>\n",
       "      <td>241.0</td>\n",
       "      <td>325.0</td>\n",
       "      <td>188.0</td>\n",
       "      <td>127.0</td>\n",
       "      <td>9.0</td>\n",
       "      <td>11.0</td>\n",
       "      <td>180.0</td>\n",
       "      <td>183</td>\n",
       "      <td>bus</td>\n",
       "    </tr>\n",
       "    <tr>\n",
       "      <td>...</td>\n",
       "      <td>...</td>\n",
       "      <td>...</td>\n",
       "      <td>...</td>\n",
       "      <td>...</td>\n",
       "      <td>...</td>\n",
       "      <td>...</td>\n",
       "      <td>...</td>\n",
       "      <td>...</td>\n",
       "      <td>...</td>\n",
       "      <td>...</td>\n",
       "      <td>...</td>\n",
       "      <td>...</td>\n",
       "      <td>...</td>\n",
       "      <td>...</td>\n",
       "      <td>...</td>\n",
       "      <td>...</td>\n",
       "      <td>...</td>\n",
       "      <td>...</td>\n",
       "      <td>...</td>\n",
       "    </tr>\n",
       "    <tr>\n",
       "      <td>841</td>\n",
       "      <td>93</td>\n",
       "      <td>39.0</td>\n",
       "      <td>87.0</td>\n",
       "      <td>183.0</td>\n",
       "      <td>64.0</td>\n",
       "      <td>8</td>\n",
       "      <td>169.0</td>\n",
       "      <td>40.0</td>\n",
       "      <td>20.0</td>\n",
       "      <td>134</td>\n",
       "      <td>200.0</td>\n",
       "      <td>422.0</td>\n",
       "      <td>149.0</td>\n",
       "      <td>72.0</td>\n",
       "      <td>7.0</td>\n",
       "      <td>25.0</td>\n",
       "      <td>188.0</td>\n",
       "      <td>195</td>\n",
       "      <td>car</td>\n",
       "    </tr>\n",
       "    <tr>\n",
       "      <td>842</td>\n",
       "      <td>89</td>\n",
       "      <td>46.0</td>\n",
       "      <td>84.0</td>\n",
       "      <td>163.0</td>\n",
       "      <td>66.0</td>\n",
       "      <td>11</td>\n",
       "      <td>159.0</td>\n",
       "      <td>43.0</td>\n",
       "      <td>20.0</td>\n",
       "      <td>159</td>\n",
       "      <td>173.0</td>\n",
       "      <td>368.0</td>\n",
       "      <td>176.0</td>\n",
       "      <td>72.0</td>\n",
       "      <td>1.0</td>\n",
       "      <td>20.0</td>\n",
       "      <td>186.0</td>\n",
       "      <td>197</td>\n",
       "      <td>van</td>\n",
       "    </tr>\n",
       "    <tr>\n",
       "      <td>843</td>\n",
       "      <td>106</td>\n",
       "      <td>54.0</td>\n",
       "      <td>101.0</td>\n",
       "      <td>222.0</td>\n",
       "      <td>67.0</td>\n",
       "      <td>12</td>\n",
       "      <td>222.0</td>\n",
       "      <td>30.0</td>\n",
       "      <td>25.0</td>\n",
       "      <td>173</td>\n",
       "      <td>228.0</td>\n",
       "      <td>721.0</td>\n",
       "      <td>200.0</td>\n",
       "      <td>70.0</td>\n",
       "      <td>3.0</td>\n",
       "      <td>4.0</td>\n",
       "      <td>187.0</td>\n",
       "      <td>201</td>\n",
       "      <td>car</td>\n",
       "    </tr>\n",
       "    <tr>\n",
       "      <td>844</td>\n",
       "      <td>86</td>\n",
       "      <td>36.0</td>\n",
       "      <td>78.0</td>\n",
       "      <td>146.0</td>\n",
       "      <td>58.0</td>\n",
       "      <td>7</td>\n",
       "      <td>135.0</td>\n",
       "      <td>50.0</td>\n",
       "      <td>18.0</td>\n",
       "      <td>124</td>\n",
       "      <td>155.0</td>\n",
       "      <td>270.0</td>\n",
       "      <td>148.0</td>\n",
       "      <td>66.0</td>\n",
       "      <td>0.0</td>\n",
       "      <td>25.0</td>\n",
       "      <td>190.0</td>\n",
       "      <td>195</td>\n",
       "      <td>car</td>\n",
       "    </tr>\n",
       "    <tr>\n",
       "      <td>845</td>\n",
       "      <td>85</td>\n",
       "      <td>36.0</td>\n",
       "      <td>66.0</td>\n",
       "      <td>123.0</td>\n",
       "      <td>55.0</td>\n",
       "      <td>5</td>\n",
       "      <td>120.0</td>\n",
       "      <td>56.0</td>\n",
       "      <td>17.0</td>\n",
       "      <td>128</td>\n",
       "      <td>140.0</td>\n",
       "      <td>212.0</td>\n",
       "      <td>131.0</td>\n",
       "      <td>73.0</td>\n",
       "      <td>1.0</td>\n",
       "      <td>18.0</td>\n",
       "      <td>186.0</td>\n",
       "      <td>190</td>\n",
       "      <td>van</td>\n",
       "    </tr>\n",
       "  </tbody>\n",
       "</table>\n",
       "<p>846 rows × 19 columns</p>\n",
       "</div>"
      ],
      "text/plain": [
       "     compactness  circularity  distance_circularity  radius_ratio  \\\n",
       "0             95         48.0                  83.0         178.0   \n",
       "1             91         41.0                  84.0         141.0   \n",
       "2            104         50.0                 106.0         209.0   \n",
       "3             93         41.0                  82.0         159.0   \n",
       "4             85         44.0                  70.0         205.0   \n",
       "..           ...          ...                   ...           ...   \n",
       "841           93         39.0                  87.0         183.0   \n",
       "842           89         46.0                  84.0         163.0   \n",
       "843          106         54.0                 101.0         222.0   \n",
       "844           86         36.0                  78.0         146.0   \n",
       "845           85         36.0                  66.0         123.0   \n",
       "\n",
       "     pr.axis_aspect_ratio  max.length_aspect_ratio  scatter_ratio  \\\n",
       "0                    72.0                       10          162.0   \n",
       "1                    57.0                        9          149.0   \n",
       "2                    66.0                       10          207.0   \n",
       "3                    63.0                        9          144.0   \n",
       "4                   103.0                       52          149.0   \n",
       "..                    ...                      ...            ...   \n",
       "841                  64.0                        8          169.0   \n",
       "842                  66.0                       11          159.0   \n",
       "843                  67.0                       12          222.0   \n",
       "844                  58.0                        7          135.0   \n",
       "845                  55.0                        5          120.0   \n",
       "\n",
       "     elongatedness  pr.axis_rectangularity  max.length_rectangularity  \\\n",
       "0             42.0                    20.0                        159   \n",
       "1             45.0                    19.0                        143   \n",
       "2             32.0                    23.0                        158   \n",
       "3             46.0                    19.0                        143   \n",
       "4             45.0                    19.0                        144   \n",
       "..             ...                     ...                        ...   \n",
       "841           40.0                    20.0                        134   \n",
       "842           43.0                    20.0                        159   \n",
       "843           30.0                    25.0                        173   \n",
       "844           50.0                    18.0                        124   \n",
       "845           56.0                    17.0                        128   \n",
       "\n",
       "     scaled_variance  scaled_variance.1  scaled_radius_of_gyration  \\\n",
       "0              176.0              379.0                      184.0   \n",
       "1              170.0              330.0                      158.0   \n",
       "2              223.0              635.0                      220.0   \n",
       "3              160.0              309.0                      127.0   \n",
       "4              241.0              325.0                      188.0   \n",
       "..               ...                ...                        ...   \n",
       "841            200.0              422.0                      149.0   \n",
       "842            173.0              368.0                      176.0   \n",
       "843            228.0              721.0                      200.0   \n",
       "844            155.0              270.0                      148.0   \n",
       "845            140.0              212.0                      131.0   \n",
       "\n",
       "     scaled_radius_of_gyration.1  skewness_about  skewness_about.1  \\\n",
       "0                           70.0             6.0              16.0   \n",
       "1                           72.0             9.0              14.0   \n",
       "2                           73.0            14.0               9.0   \n",
       "3                           63.0             6.0              10.0   \n",
       "4                          127.0             9.0              11.0   \n",
       "..                           ...             ...               ...   \n",
       "841                         72.0             7.0              25.0   \n",
       "842                         72.0             1.0              20.0   \n",
       "843                         70.0             3.0               4.0   \n",
       "844                         66.0             0.0              25.0   \n",
       "845                         73.0             1.0              18.0   \n",
       "\n",
       "     skewness_about.2  hollows_ratio class  \n",
       "0               187.0            197   van  \n",
       "1               189.0            199   van  \n",
       "2               188.0            196   car  \n",
       "3               199.0            207   van  \n",
       "4               180.0            183   bus  \n",
       "..                ...            ...   ...  \n",
       "841             188.0            195   car  \n",
       "842             186.0            197   van  \n",
       "843             187.0            201   car  \n",
       "844             190.0            195   car  \n",
       "845             186.0            190   van  \n",
       "\n",
       "[846 rows x 19 columns]"
      ]
     },
     "execution_count": 5,
     "metadata": {},
     "output_type": "execute_result"
    }
   ],
   "source": [
    "data"
   ]
  },
  {
   "cell_type": "markdown",
   "metadata": {},
   "source": [
    "**Preprocessing**"
   ]
  },
  {
   "cell_type": "code",
   "execution_count": 6,
   "metadata": {},
   "outputs": [
    {
     "name": "stdout",
     "output_type": "stream",
     "text": [
      "compactness : <class 'numpy.int64'>\n",
      "circularity : <class 'numpy.float64'>\n",
      "distance_circularity : <class 'numpy.float64'>\n",
      "radius_ratio : <class 'numpy.float64'>\n",
      "pr.axis_aspect_ratio : <class 'numpy.float64'>\n",
      "max.length_aspect_ratio : <class 'numpy.int64'>\n",
      "scatter_ratio : <class 'numpy.float64'>\n",
      "elongatedness : <class 'numpy.float64'>\n",
      "pr.axis_rectangularity : <class 'numpy.float64'>\n",
      "max.length_rectangularity : <class 'numpy.int64'>\n",
      "scaled_variance : <class 'numpy.float64'>\n",
      "scaled_variance.1 : <class 'numpy.float64'>\n",
      "scaled_radius_of_gyration : <class 'numpy.float64'>\n",
      "scaled_radius_of_gyration.1 : <class 'numpy.float64'>\n",
      "skewness_about : <class 'numpy.float64'>\n",
      "skewness_about.1 : <class 'numpy.float64'>\n",
      "skewness_about.2 : <class 'numpy.float64'>\n",
      "hollows_ratio : <class 'numpy.int64'>\n",
      "class : <class 'str'>\n"
     ]
    }
   ],
   "source": [
    "# Checking the data types of each column\n",
    "for i in data:\n",
    "    print(i, \":\", type(data[i][0]))"
   ]
  },
  {
   "cell_type": "code",
   "execution_count": 7,
   "metadata": {
    "colab": {
     "base_uri": "https://localhost:8080/",
     "height": 351
    },
    "id": "sNB2ylmQXBcz",
    "outputId": "d702a799-0c50-4fd4-cc05-8a29d47cd023"
   },
   "outputs": [
    {
     "data": {
      "text/plain": [
       "compactness                    0\n",
       "circularity                    5\n",
       "distance_circularity           4\n",
       "radius_ratio                   6\n",
       "pr.axis_aspect_ratio           2\n",
       "max.length_aspect_ratio        0\n",
       "scatter_ratio                  1\n",
       "elongatedness                  1\n",
       "pr.axis_rectangularity         3\n",
       "max.length_rectangularity      0\n",
       "scaled_variance                3\n",
       "scaled_variance.1              2\n",
       "scaled_radius_of_gyration      2\n",
       "scaled_radius_of_gyration.1    4\n",
       "skewness_about                 6\n",
       "skewness_about.1               1\n",
       "skewness_about.2               1\n",
       "hollows_ratio                  0\n",
       "class                          0\n",
       "dtype: int64"
      ]
     },
     "execution_count": 7,
     "metadata": {},
     "output_type": "execute_result"
    }
   ],
   "source": [
    "# Check for null values\n",
    "data.isnull().sum()"
   ]
  },
  {
   "cell_type": "code",
   "execution_count": 8,
   "metadata": {
    "id": "fZpHMhBy2Lys"
   },
   "outputs": [],
   "source": [
    "# Filling the null values if any\n",
    "data = data.fillna(0)"
   ]
  },
  {
   "cell_type": "code",
   "execution_count": 9,
   "metadata": {},
   "outputs": [
    {
     "data": {
      "text/plain": [
       "compactness                    0\n",
       "circularity                    0\n",
       "distance_circularity           0\n",
       "radius_ratio                   0\n",
       "pr.axis_aspect_ratio           0\n",
       "max.length_aspect_ratio        0\n",
       "scatter_ratio                  0\n",
       "elongatedness                  0\n",
       "pr.axis_rectangularity         0\n",
       "max.length_rectangularity      0\n",
       "scaled_variance                0\n",
       "scaled_variance.1              0\n",
       "scaled_radius_of_gyration      0\n",
       "scaled_radius_of_gyration.1    0\n",
       "skewness_about                 0\n",
       "skewness_about.1               0\n",
       "skewness_about.2               0\n",
       "hollows_ratio                  0\n",
       "class                          0\n",
       "dtype: int64"
      ]
     },
     "execution_count": 9,
     "metadata": {},
     "output_type": "execute_result"
    }
   ],
   "source": [
    "# Check for null values\n",
    "data.isnull().sum()"
   ]
  },
  {
   "cell_type": "code",
   "execution_count": 10,
   "metadata": {},
   "outputs": [
    {
     "name": "stdout",
     "output_type": "stream",
     "text": [
      "compactness : 44\n",
      "circularity : 28\n",
      "distance_circularity : 64\n",
      "radius_ratio : 135\n",
      "pr.axis_aspect_ratio : 38\n",
      "max.length_aspect_ratio : 21\n",
      "scatter_ratio : 132\n",
      "elongatedness : 36\n",
      "pr.axis_rectangularity : 14\n",
      "max.length_rectangularity : 66\n",
      "scaled_variance : 129\n",
      "scaled_variance.1 : 423\n",
      "scaled_radius_of_gyration : 144\n",
      "scaled_radius_of_gyration.1 : 40\n",
      "skewness_about : 23\n",
      "skewness_about.1 : 41\n",
      "skewness_about.2 : 31\n",
      "hollows_ratio : 31\n",
      "class : 3\n"
     ]
    }
   ],
   "source": [
    "#Printing the unique values\n",
    "\n",
    "for i in data.columns:\n",
    "    print(i, \":\", len(data[i].unique()))"
   ]
  },
  {
   "cell_type": "markdown",
   "metadata": {},
   "source": [
    "### Preprocessing"
   ]
  },
  {
   "cell_type": "markdown",
   "metadata": {
    "id": "wIn4oUryaaG7"
   },
   "source": [
    "**Label Encoding**"
   ]
  },
  {
   "cell_type": "code",
   "execution_count": 11,
   "metadata": {
    "id": "U4_0A49xXBut"
   },
   "outputs": [],
   "source": [
    "from sklearn.preprocessing import LabelEncoder\n",
    "le = LabelEncoder()\n",
    "cols = ['class']\n",
    "data[cols[0:]] = data[cols[0:]].apply(lambda col: le.fit_transform(col))"
   ]
  },
  {
   "cell_type": "markdown",
   "metadata": {
    "id": "ukwE3clEdLZj"
   },
   "source": [
    "**Normalizing**"
   ]
  },
  {
   "cell_type": "code",
   "execution_count": 12,
   "metadata": {
    "id": "Dm9fQR4LdJxo"
   },
   "outputs": [],
   "source": [
    "from sklearn.preprocessing import MinMaxScaler\n",
    "columns = data.columns\n",
    "mms = MinMaxScaler()\n",
    "data[columns[:-1]] = mms.fit_transform(data[columns[:-1]])"
   ]
  },
  {
   "cell_type": "code",
   "execution_count": 13,
   "metadata": {
    "colab": {
     "base_uri": "https://localhost:8080/",
     "height": 351
    },
    "id": "38LiXd7dz-F8",
    "outputId": "11baf632-dd58-4f46-a392-edd80247ce88"
   },
   "outputs": [
    {
     "data": {
      "text/plain": [
       "compactness                    0\n",
       "circularity                    0\n",
       "distance_circularity           0\n",
       "radius_ratio                   0\n",
       "pr.axis_aspect_ratio           0\n",
       "max.length_aspect_ratio        0\n",
       "scatter_ratio                  0\n",
       "elongatedness                  0\n",
       "pr.axis_rectangularity         0\n",
       "max.length_rectangularity      0\n",
       "scaled_variance                0\n",
       "scaled_variance.1              0\n",
       "scaled_radius_of_gyration      0\n",
       "scaled_radius_of_gyration.1    0\n",
       "skewness_about                 0\n",
       "skewness_about.1               0\n",
       "skewness_about.2               0\n",
       "hollows_ratio                  0\n",
       "class                          0\n",
       "dtype: int64"
      ]
     },
     "execution_count": 13,
     "metadata": {},
     "output_type": "execute_result"
    }
   ],
   "source": [
    "#checking if still there is a missing value\n",
    "data.isnull().sum()"
   ]
  },
  {
   "cell_type": "code",
   "execution_count": 14,
   "metadata": {
    "colab": {
     "base_uri": "https://localhost:8080/",
     "height": 216
    },
    "id": "wxAo709sFRTv",
    "outputId": "65f18105-0ec5-4ecc-a26a-3699622200ec"
   },
   "outputs": [
    {
     "data": {
      "text/html": [
       "<div>\n",
       "<style scoped>\n",
       "    .dataframe tbody tr th:only-of-type {\n",
       "        vertical-align: middle;\n",
       "    }\n",
       "\n",
       "    .dataframe tbody tr th {\n",
       "        vertical-align: top;\n",
       "    }\n",
       "\n",
       "    .dataframe thead th {\n",
       "        text-align: right;\n",
       "    }\n",
       "</style>\n",
       "<table border=\"1\" class=\"dataframe\">\n",
       "  <thead>\n",
       "    <tr style=\"text-align: right;\">\n",
       "      <th></th>\n",
       "      <th>compactness</th>\n",
       "      <th>circularity</th>\n",
       "      <th>distance_circularity</th>\n",
       "      <th>radius_ratio</th>\n",
       "      <th>pr.axis_aspect_ratio</th>\n",
       "      <th>max.length_aspect_ratio</th>\n",
       "      <th>scatter_ratio</th>\n",
       "      <th>elongatedness</th>\n",
       "      <th>pr.axis_rectangularity</th>\n",
       "      <th>max.length_rectangularity</th>\n",
       "      <th>scaled_variance</th>\n",
       "      <th>scaled_variance.1</th>\n",
       "      <th>scaled_radius_of_gyration</th>\n",
       "      <th>scaled_radius_of_gyration.1</th>\n",
       "      <th>skewness_about</th>\n",
       "      <th>skewness_about.1</th>\n",
       "      <th>skewness_about.2</th>\n",
       "      <th>hollows_ratio</th>\n",
       "      <th>class</th>\n",
       "    </tr>\n",
       "  </thead>\n",
       "  <tbody>\n",
       "    <tr>\n",
       "      <td>0</td>\n",
       "      <td>0.478261</td>\n",
       "      <td>0.813559</td>\n",
       "      <td>0.741071</td>\n",
       "      <td>0.534535</td>\n",
       "      <td>0.521739</td>\n",
       "      <td>0.150943</td>\n",
       "      <td>0.611321</td>\n",
       "      <td>0.688525</td>\n",
       "      <td>0.689655</td>\n",
       "      <td>0.585714</td>\n",
       "      <td>0.550000</td>\n",
       "      <td>0.372299</td>\n",
       "      <td>0.686567</td>\n",
       "      <td>0.518519</td>\n",
       "      <td>0.272727</td>\n",
       "      <td>0.390244</td>\n",
       "      <td>0.907767</td>\n",
       "      <td>0.533333</td>\n",
       "      <td>2</td>\n",
       "    </tr>\n",
       "    <tr>\n",
       "      <td>1</td>\n",
       "      <td>0.391304</td>\n",
       "      <td>0.694915</td>\n",
       "      <td>0.750000</td>\n",
       "      <td>0.423423</td>\n",
       "      <td>0.413043</td>\n",
       "      <td>0.132075</td>\n",
       "      <td>0.562264</td>\n",
       "      <td>0.737705</td>\n",
       "      <td>0.655172</td>\n",
       "      <td>0.357143</td>\n",
       "      <td>0.531250</td>\n",
       "      <td>0.324165</td>\n",
       "      <td>0.589552</td>\n",
       "      <td>0.533333</td>\n",
       "      <td>0.409091</td>\n",
       "      <td>0.341463</td>\n",
       "      <td>0.917476</td>\n",
       "      <td>0.600000</td>\n",
       "      <td>2</td>\n",
       "    </tr>\n",
       "    <tr>\n",
       "      <td>2</td>\n",
       "      <td>0.673913</td>\n",
       "      <td>0.847458</td>\n",
       "      <td>0.946429</td>\n",
       "      <td>0.627628</td>\n",
       "      <td>0.478261</td>\n",
       "      <td>0.150943</td>\n",
       "      <td>0.781132</td>\n",
       "      <td>0.524590</td>\n",
       "      <td>0.793103</td>\n",
       "      <td>0.571429</td>\n",
       "      <td>0.696875</td>\n",
       "      <td>0.623772</td>\n",
       "      <td>0.820896</td>\n",
       "      <td>0.540741</td>\n",
       "      <td>0.636364</td>\n",
       "      <td>0.219512</td>\n",
       "      <td>0.912621</td>\n",
       "      <td>0.500000</td>\n",
       "      <td>1</td>\n",
       "    </tr>\n",
       "    <tr>\n",
       "      <td>3</td>\n",
       "      <td>0.434783</td>\n",
       "      <td>0.694915</td>\n",
       "      <td>0.732143</td>\n",
       "      <td>0.477477</td>\n",
       "      <td>0.456522</td>\n",
       "      <td>0.132075</td>\n",
       "      <td>0.543396</td>\n",
       "      <td>0.754098</td>\n",
       "      <td>0.655172</td>\n",
       "      <td>0.357143</td>\n",
       "      <td>0.500000</td>\n",
       "      <td>0.303536</td>\n",
       "      <td>0.473881</td>\n",
       "      <td>0.466667</td>\n",
       "      <td>0.272727</td>\n",
       "      <td>0.243902</td>\n",
       "      <td>0.966019</td>\n",
       "      <td>0.866667</td>\n",
       "      <td>2</td>\n",
       "    </tr>\n",
       "    <tr>\n",
       "      <td>4</td>\n",
       "      <td>0.260870</td>\n",
       "      <td>0.745763</td>\n",
       "      <td>0.625000</td>\n",
       "      <td>0.615616</td>\n",
       "      <td>0.746377</td>\n",
       "      <td>0.943396</td>\n",
       "      <td>0.562264</td>\n",
       "      <td>0.737705</td>\n",
       "      <td>0.655172</td>\n",
       "      <td>0.371429</td>\n",
       "      <td>0.753125</td>\n",
       "      <td>0.319253</td>\n",
       "      <td>0.701493</td>\n",
       "      <td>0.940741</td>\n",
       "      <td>0.409091</td>\n",
       "      <td>0.268293</td>\n",
       "      <td>0.873786</td>\n",
       "      <td>0.066667</td>\n",
       "      <td>0</td>\n",
       "    </tr>\n",
       "  </tbody>\n",
       "</table>\n",
       "</div>"
      ],
      "text/plain": [
       "   compactness  circularity  distance_circularity  radius_ratio  \\\n",
       "0     0.478261     0.813559              0.741071      0.534535   \n",
       "1     0.391304     0.694915              0.750000      0.423423   \n",
       "2     0.673913     0.847458              0.946429      0.627628   \n",
       "3     0.434783     0.694915              0.732143      0.477477   \n",
       "4     0.260870     0.745763              0.625000      0.615616   \n",
       "\n",
       "   pr.axis_aspect_ratio  max.length_aspect_ratio  scatter_ratio  \\\n",
       "0              0.521739                 0.150943       0.611321   \n",
       "1              0.413043                 0.132075       0.562264   \n",
       "2              0.478261                 0.150943       0.781132   \n",
       "3              0.456522                 0.132075       0.543396   \n",
       "4              0.746377                 0.943396       0.562264   \n",
       "\n",
       "   elongatedness  pr.axis_rectangularity  max.length_rectangularity  \\\n",
       "0       0.688525                0.689655                   0.585714   \n",
       "1       0.737705                0.655172                   0.357143   \n",
       "2       0.524590                0.793103                   0.571429   \n",
       "3       0.754098                0.655172                   0.357143   \n",
       "4       0.737705                0.655172                   0.371429   \n",
       "\n",
       "   scaled_variance  scaled_variance.1  scaled_radius_of_gyration  \\\n",
       "0         0.550000           0.372299                   0.686567   \n",
       "1         0.531250           0.324165                   0.589552   \n",
       "2         0.696875           0.623772                   0.820896   \n",
       "3         0.500000           0.303536                   0.473881   \n",
       "4         0.753125           0.319253                   0.701493   \n",
       "\n",
       "   scaled_radius_of_gyration.1  skewness_about  skewness_about.1  \\\n",
       "0                     0.518519        0.272727          0.390244   \n",
       "1                     0.533333        0.409091          0.341463   \n",
       "2                     0.540741        0.636364          0.219512   \n",
       "3                     0.466667        0.272727          0.243902   \n",
       "4                     0.940741        0.409091          0.268293   \n",
       "\n",
       "   skewness_about.2  hollows_ratio  class  \n",
       "0          0.907767       0.533333      2  \n",
       "1          0.917476       0.600000      2  \n",
       "2          0.912621       0.500000      1  \n",
       "3          0.966019       0.866667      2  \n",
       "4          0.873786       0.066667      0  "
      ]
     },
     "execution_count": 14,
     "metadata": {},
     "output_type": "execute_result"
    }
   ],
   "source": [
    "data.head()"
   ]
  },
  {
   "cell_type": "markdown",
   "metadata": {},
   "source": [
    "### X and Y"
   ]
  },
  {
   "cell_type": "code",
   "execution_count": 15,
   "metadata": {
    "id": "S47gOYRhPqKF"
   },
   "outputs": [],
   "source": [
    "# Filling missing values (if any)\n",
    "\n",
    "X = data.iloc[:,:-1]\n",
    "y = data.iloc[:,-1]"
   ]
  },
  {
   "cell_type": "code",
   "execution_count": 18,
   "metadata": {},
   "outputs": [
    {
     "data": {
      "text/html": [
       "<div>\n",
       "<style scoped>\n",
       "    .dataframe tbody tr th:only-of-type {\n",
       "        vertical-align: middle;\n",
       "    }\n",
       "\n",
       "    .dataframe tbody tr th {\n",
       "        vertical-align: top;\n",
       "    }\n",
       "\n",
       "    .dataframe thead th {\n",
       "        text-align: right;\n",
       "    }\n",
       "</style>\n",
       "<table border=\"1\" class=\"dataframe\">\n",
       "  <thead>\n",
       "    <tr style=\"text-align: right;\">\n",
       "      <th></th>\n",
       "      <th>compactness</th>\n",
       "      <th>circularity</th>\n",
       "      <th>distance_circularity</th>\n",
       "      <th>radius_ratio</th>\n",
       "      <th>pr.axis_aspect_ratio</th>\n",
       "      <th>max.length_aspect_ratio</th>\n",
       "      <th>scatter_ratio</th>\n",
       "      <th>elongatedness</th>\n",
       "      <th>pr.axis_rectangularity</th>\n",
       "      <th>max.length_rectangularity</th>\n",
       "      <th>scaled_variance</th>\n",
       "      <th>scaled_variance.1</th>\n",
       "      <th>scaled_radius_of_gyration</th>\n",
       "      <th>scaled_radius_of_gyration.1</th>\n",
       "      <th>skewness_about</th>\n",
       "      <th>skewness_about.1</th>\n",
       "      <th>skewness_about.2</th>\n",
       "      <th>hollows_ratio</th>\n",
       "    </tr>\n",
       "  </thead>\n",
       "  <tbody>\n",
       "    <tr>\n",
       "      <td>0</td>\n",
       "      <td>0.478261</td>\n",
       "      <td>0.813559</td>\n",
       "      <td>0.741071</td>\n",
       "      <td>0.534535</td>\n",
       "      <td>0.521739</td>\n",
       "      <td>0.150943</td>\n",
       "      <td>0.611321</td>\n",
       "      <td>0.688525</td>\n",
       "      <td>0.689655</td>\n",
       "      <td>0.585714</td>\n",
       "      <td>0.550000</td>\n",
       "      <td>0.372299</td>\n",
       "      <td>0.686567</td>\n",
       "      <td>0.518519</td>\n",
       "      <td>0.272727</td>\n",
       "      <td>0.390244</td>\n",
       "      <td>0.907767</td>\n",
       "      <td>0.533333</td>\n",
       "    </tr>\n",
       "    <tr>\n",
       "      <td>1</td>\n",
       "      <td>0.391304</td>\n",
       "      <td>0.694915</td>\n",
       "      <td>0.750000</td>\n",
       "      <td>0.423423</td>\n",
       "      <td>0.413043</td>\n",
       "      <td>0.132075</td>\n",
       "      <td>0.562264</td>\n",
       "      <td>0.737705</td>\n",
       "      <td>0.655172</td>\n",
       "      <td>0.357143</td>\n",
       "      <td>0.531250</td>\n",
       "      <td>0.324165</td>\n",
       "      <td>0.589552</td>\n",
       "      <td>0.533333</td>\n",
       "      <td>0.409091</td>\n",
       "      <td>0.341463</td>\n",
       "      <td>0.917476</td>\n",
       "      <td>0.600000</td>\n",
       "    </tr>\n",
       "    <tr>\n",
       "      <td>2</td>\n",
       "      <td>0.673913</td>\n",
       "      <td>0.847458</td>\n",
       "      <td>0.946429</td>\n",
       "      <td>0.627628</td>\n",
       "      <td>0.478261</td>\n",
       "      <td>0.150943</td>\n",
       "      <td>0.781132</td>\n",
       "      <td>0.524590</td>\n",
       "      <td>0.793103</td>\n",
       "      <td>0.571429</td>\n",
       "      <td>0.696875</td>\n",
       "      <td>0.623772</td>\n",
       "      <td>0.820896</td>\n",
       "      <td>0.540741</td>\n",
       "      <td>0.636364</td>\n",
       "      <td>0.219512</td>\n",
       "      <td>0.912621</td>\n",
       "      <td>0.500000</td>\n",
       "    </tr>\n",
       "    <tr>\n",
       "      <td>3</td>\n",
       "      <td>0.434783</td>\n",
       "      <td>0.694915</td>\n",
       "      <td>0.732143</td>\n",
       "      <td>0.477477</td>\n",
       "      <td>0.456522</td>\n",
       "      <td>0.132075</td>\n",
       "      <td>0.543396</td>\n",
       "      <td>0.754098</td>\n",
       "      <td>0.655172</td>\n",
       "      <td>0.357143</td>\n",
       "      <td>0.500000</td>\n",
       "      <td>0.303536</td>\n",
       "      <td>0.473881</td>\n",
       "      <td>0.466667</td>\n",
       "      <td>0.272727</td>\n",
       "      <td>0.243902</td>\n",
       "      <td>0.966019</td>\n",
       "      <td>0.866667</td>\n",
       "    </tr>\n",
       "    <tr>\n",
       "      <td>4</td>\n",
       "      <td>0.260870</td>\n",
       "      <td>0.745763</td>\n",
       "      <td>0.625000</td>\n",
       "      <td>0.615616</td>\n",
       "      <td>0.746377</td>\n",
       "      <td>0.943396</td>\n",
       "      <td>0.562264</td>\n",
       "      <td>0.737705</td>\n",
       "      <td>0.655172</td>\n",
       "      <td>0.371429</td>\n",
       "      <td>0.753125</td>\n",
       "      <td>0.319253</td>\n",
       "      <td>0.701493</td>\n",
       "      <td>0.940741</td>\n",
       "      <td>0.409091</td>\n",
       "      <td>0.268293</td>\n",
       "      <td>0.873786</td>\n",
       "      <td>0.066667</td>\n",
       "    </tr>\n",
       "    <tr>\n",
       "      <td>...</td>\n",
       "      <td>...</td>\n",
       "      <td>...</td>\n",
       "      <td>...</td>\n",
       "      <td>...</td>\n",
       "      <td>...</td>\n",
       "      <td>...</td>\n",
       "      <td>...</td>\n",
       "      <td>...</td>\n",
       "      <td>...</td>\n",
       "      <td>...</td>\n",
       "      <td>...</td>\n",
       "      <td>...</td>\n",
       "      <td>...</td>\n",
       "      <td>...</td>\n",
       "      <td>...</td>\n",
       "      <td>...</td>\n",
       "      <td>...</td>\n",
       "      <td>...</td>\n",
       "    </tr>\n",
       "    <tr>\n",
       "      <td>841</td>\n",
       "      <td>0.434783</td>\n",
       "      <td>0.661017</td>\n",
       "      <td>0.776786</td>\n",
       "      <td>0.549550</td>\n",
       "      <td>0.463768</td>\n",
       "      <td>0.113208</td>\n",
       "      <td>0.637736</td>\n",
       "      <td>0.655738</td>\n",
       "      <td>0.689655</td>\n",
       "      <td>0.228571</td>\n",
       "      <td>0.625000</td>\n",
       "      <td>0.414538</td>\n",
       "      <td>0.555970</td>\n",
       "      <td>0.533333</td>\n",
       "      <td>0.318182</td>\n",
       "      <td>0.609756</td>\n",
       "      <td>0.912621</td>\n",
       "      <td>0.466667</td>\n",
       "    </tr>\n",
       "    <tr>\n",
       "      <td>842</td>\n",
       "      <td>0.347826</td>\n",
       "      <td>0.779661</td>\n",
       "      <td>0.750000</td>\n",
       "      <td>0.489489</td>\n",
       "      <td>0.478261</td>\n",
       "      <td>0.169811</td>\n",
       "      <td>0.600000</td>\n",
       "      <td>0.704918</td>\n",
       "      <td>0.689655</td>\n",
       "      <td>0.585714</td>\n",
       "      <td>0.540625</td>\n",
       "      <td>0.361493</td>\n",
       "      <td>0.656716</td>\n",
       "      <td>0.533333</td>\n",
       "      <td>0.045455</td>\n",
       "      <td>0.487805</td>\n",
       "      <td>0.902913</td>\n",
       "      <td>0.533333</td>\n",
       "    </tr>\n",
       "    <tr>\n",
       "      <td>843</td>\n",
       "      <td>0.717391</td>\n",
       "      <td>0.915254</td>\n",
       "      <td>0.901786</td>\n",
       "      <td>0.666667</td>\n",
       "      <td>0.485507</td>\n",
       "      <td>0.188679</td>\n",
       "      <td>0.837736</td>\n",
       "      <td>0.491803</td>\n",
       "      <td>0.862069</td>\n",
       "      <td>0.785714</td>\n",
       "      <td>0.712500</td>\n",
       "      <td>0.708251</td>\n",
       "      <td>0.746269</td>\n",
       "      <td>0.518519</td>\n",
       "      <td>0.136364</td>\n",
       "      <td>0.097561</td>\n",
       "      <td>0.907767</td>\n",
       "      <td>0.666667</td>\n",
       "    </tr>\n",
       "    <tr>\n",
       "      <td>844</td>\n",
       "      <td>0.282609</td>\n",
       "      <td>0.610169</td>\n",
       "      <td>0.696429</td>\n",
       "      <td>0.438438</td>\n",
       "      <td>0.420290</td>\n",
       "      <td>0.094340</td>\n",
       "      <td>0.509434</td>\n",
       "      <td>0.819672</td>\n",
       "      <td>0.620690</td>\n",
       "      <td>0.085714</td>\n",
       "      <td>0.484375</td>\n",
       "      <td>0.265226</td>\n",
       "      <td>0.552239</td>\n",
       "      <td>0.488889</td>\n",
       "      <td>0.000000</td>\n",
       "      <td>0.609756</td>\n",
       "      <td>0.922330</td>\n",
       "      <td>0.466667</td>\n",
       "    </tr>\n",
       "    <tr>\n",
       "      <td>845</td>\n",
       "      <td>0.260870</td>\n",
       "      <td>0.610169</td>\n",
       "      <td>0.589286</td>\n",
       "      <td>0.369369</td>\n",
       "      <td>0.398551</td>\n",
       "      <td>0.056604</td>\n",
       "      <td>0.452830</td>\n",
       "      <td>0.918033</td>\n",
       "      <td>0.586207</td>\n",
       "      <td>0.142857</td>\n",
       "      <td>0.437500</td>\n",
       "      <td>0.208251</td>\n",
       "      <td>0.488806</td>\n",
       "      <td>0.540741</td>\n",
       "      <td>0.045455</td>\n",
       "      <td>0.439024</td>\n",
       "      <td>0.902913</td>\n",
       "      <td>0.300000</td>\n",
       "    </tr>\n",
       "  </tbody>\n",
       "</table>\n",
       "<p>846 rows × 18 columns</p>\n",
       "</div>"
      ],
      "text/plain": [
       "     compactness  circularity  distance_circularity  radius_ratio  \\\n",
       "0       0.478261     0.813559              0.741071      0.534535   \n",
       "1       0.391304     0.694915              0.750000      0.423423   \n",
       "2       0.673913     0.847458              0.946429      0.627628   \n",
       "3       0.434783     0.694915              0.732143      0.477477   \n",
       "4       0.260870     0.745763              0.625000      0.615616   \n",
       "..           ...          ...                   ...           ...   \n",
       "841     0.434783     0.661017              0.776786      0.549550   \n",
       "842     0.347826     0.779661              0.750000      0.489489   \n",
       "843     0.717391     0.915254              0.901786      0.666667   \n",
       "844     0.282609     0.610169              0.696429      0.438438   \n",
       "845     0.260870     0.610169              0.589286      0.369369   \n",
       "\n",
       "     pr.axis_aspect_ratio  max.length_aspect_ratio  scatter_ratio  \\\n",
       "0                0.521739                 0.150943       0.611321   \n",
       "1                0.413043                 0.132075       0.562264   \n",
       "2                0.478261                 0.150943       0.781132   \n",
       "3                0.456522                 0.132075       0.543396   \n",
       "4                0.746377                 0.943396       0.562264   \n",
       "..                    ...                      ...            ...   \n",
       "841              0.463768                 0.113208       0.637736   \n",
       "842              0.478261                 0.169811       0.600000   \n",
       "843              0.485507                 0.188679       0.837736   \n",
       "844              0.420290                 0.094340       0.509434   \n",
       "845              0.398551                 0.056604       0.452830   \n",
       "\n",
       "     elongatedness  pr.axis_rectangularity  max.length_rectangularity  \\\n",
       "0         0.688525                0.689655                   0.585714   \n",
       "1         0.737705                0.655172                   0.357143   \n",
       "2         0.524590                0.793103                   0.571429   \n",
       "3         0.754098                0.655172                   0.357143   \n",
       "4         0.737705                0.655172                   0.371429   \n",
       "..             ...                     ...                        ...   \n",
       "841       0.655738                0.689655                   0.228571   \n",
       "842       0.704918                0.689655                   0.585714   \n",
       "843       0.491803                0.862069                   0.785714   \n",
       "844       0.819672                0.620690                   0.085714   \n",
       "845       0.918033                0.586207                   0.142857   \n",
       "\n",
       "     scaled_variance  scaled_variance.1  scaled_radius_of_gyration  \\\n",
       "0           0.550000           0.372299                   0.686567   \n",
       "1           0.531250           0.324165                   0.589552   \n",
       "2           0.696875           0.623772                   0.820896   \n",
       "3           0.500000           0.303536                   0.473881   \n",
       "4           0.753125           0.319253                   0.701493   \n",
       "..               ...                ...                        ...   \n",
       "841         0.625000           0.414538                   0.555970   \n",
       "842         0.540625           0.361493                   0.656716   \n",
       "843         0.712500           0.708251                   0.746269   \n",
       "844         0.484375           0.265226                   0.552239   \n",
       "845         0.437500           0.208251                   0.488806   \n",
       "\n",
       "     scaled_radius_of_gyration.1  skewness_about  skewness_about.1  \\\n",
       "0                       0.518519        0.272727          0.390244   \n",
       "1                       0.533333        0.409091          0.341463   \n",
       "2                       0.540741        0.636364          0.219512   \n",
       "3                       0.466667        0.272727          0.243902   \n",
       "4                       0.940741        0.409091          0.268293   \n",
       "..                           ...             ...               ...   \n",
       "841                     0.533333        0.318182          0.609756   \n",
       "842                     0.533333        0.045455          0.487805   \n",
       "843                     0.518519        0.136364          0.097561   \n",
       "844                     0.488889        0.000000          0.609756   \n",
       "845                     0.540741        0.045455          0.439024   \n",
       "\n",
       "     skewness_about.2  hollows_ratio  \n",
       "0            0.907767       0.533333  \n",
       "1            0.917476       0.600000  \n",
       "2            0.912621       0.500000  \n",
       "3            0.966019       0.866667  \n",
       "4            0.873786       0.066667  \n",
       "..                ...            ...  \n",
       "841          0.912621       0.466667  \n",
       "842          0.902913       0.533333  \n",
       "843          0.907767       0.666667  \n",
       "844          0.922330       0.466667  \n",
       "845          0.902913       0.300000  \n",
       "\n",
       "[846 rows x 18 columns]"
      ]
     },
     "execution_count": 18,
     "metadata": {},
     "output_type": "execute_result"
    }
   ],
   "source": [
    "# Checking the columns\n",
    "pd.DataFrame(X)"
   ]
  },
  {
   "cell_type": "code",
   "execution_count": 19,
   "metadata": {},
   "outputs": [
    {
     "data": {
      "text/plain": [
       "0      2\n",
       "1      2\n",
       "2      1\n",
       "3      2\n",
       "4      0\n",
       "      ..\n",
       "841    1\n",
       "842    2\n",
       "843    1\n",
       "844    1\n",
       "845    2\n",
       "Name: class, Length: 846, dtype: int32"
      ]
     },
     "execution_count": 19,
     "metadata": {},
     "output_type": "execute_result"
    }
   ],
   "source": [
    "# Checking the columns\n",
    "y"
   ]
  },
  {
   "cell_type": "code",
   "execution_count": 16,
   "metadata": {
    "id": "ywJGz-VZP2R9"
   },
   "outputs": [],
   "source": [
    "# Divide the dataset to training and testing set\n",
    "X_train, X_test, y_train, y_test = train_test_split(X,y , test_size=0.30, random_state=0)"
   ]
  },
  {
   "cell_type": "code",
   "execution_count": 17,
   "metadata": {},
   "outputs": [
    {
     "name": "stdout",
     "output_type": "stream",
     "text": [
      "X_train: (592, 18) , y_train: (592,)\n",
      "X_test: (254, 18) , y_test: (254,)\n"
     ]
    }
   ],
   "source": [
    "# To check if the data is correctly segregated\n",
    "X_train_shape = X_train.shape\n",
    "y_train_shape = y_train.shape\n",
    "X_test_shape  = X_test.shape\n",
    "y_test_shape  = y_test.shape\n",
    "\n",
    "print(f\"X_train: {X_train_shape} , y_train: {y_train_shape}\")\n",
    "print(f\"X_test: {X_test_shape} , y_test: {y_test_shape}\")"
   ]
  },
  {
   "cell_type": "markdown",
   "metadata": {},
   "source": [
    "### Model"
   ]
  },
  {
   "cell_type": "code",
   "execution_count": 20,
   "metadata": {
    "id": "hu9YAA53YxPG"
   },
   "outputs": [],
   "source": [
    "# Randomly choose the features from training set and build decision tree\n",
    "# Randomness in the features will help us to achieve different DTrees every time\n",
    "# You can keep minimum number of random features every time so that trees will have sufficient features\n",
    "# Note: You can use builtin function for DT training using Sklearn\n",
    "import random\n",
    "def random_features(X_train, l):\n",
    "    orig_features = list(X_train.columns)\n",
    "    random_features = random.sample(orig_features,k=l)\n",
    "\n",
    "    return random_features"
   ]
  },
  {
   "cell_type": "code",
   "execution_count": 21,
   "metadata": {
    "colab": {
     "base_uri": "https://localhost:8080/",
     "height": 50
    },
    "id": "22bKlgbZYxPQ",
    "outputId": "795e01e8-643e-4fa6-d50b-2dfeb9d5d109"
   },
   "outputs": [
    {
     "name": "stdout",
     "output_type": "stream",
     "text": [
      "Enter the number of trees: 3\n",
      "Enter the minimum features you want: 5\n"
     ]
    }
   ],
   "source": [
    "# Train N number of decision trees using random feature selection strategy\n",
    "# Number of trees N can be user input\n",
    "n = int(input(\"Enter the number of trees: \"))\n",
    "len = int(input(\"Enter the minimum features you want: \"))\n",
    "trees = []\n",
    "feature = []\n",
    "for i in range(n):\n",
    "    features = random_features(X_train,len+i)\n",
    "    feature.append(features)\n",
    "    clf = DecisionTreeClassifier()\n",
    "    clf.fit(X_train[features].values.astype('float'), y_train.values.astype('float'))\n",
    "    trees.append(clf)"
   ]
  },
  {
   "cell_type": "code",
   "execution_count": 22,
   "metadata": {
    "colab": {
     "base_uri": "https://localhost:8080/",
     "height": 853
    },
    "id": "W4D7SKWQGj_W",
    "outputId": "c16e3f2e-f3b4-4a7e-dee4-2842f30514d4"
   },
   "outputs": [
    {
     "data": {
      "text/plain": [
       "[['skewness_about.1',\n",
       "  'skewness_about.2',\n",
       "  'scaled_variance',\n",
       "  'hollows_ratio',\n",
       "  'distance_circularity'],\n",
       " ['radius_ratio',\n",
       "  'skewness_about.1',\n",
       "  'scaled_radius_of_gyration',\n",
       "  'pr.axis_rectangularity',\n",
       "  'max.length_aspect_ratio',\n",
       "  'hollows_ratio'],\n",
       " ['compactness',\n",
       "  'max.length_aspect_ratio',\n",
       "  'pr.axis_rectangularity',\n",
       "  'skewness_about.1',\n",
       "  'scaled_radius_of_gyration.1',\n",
       "  'scatter_ratio',\n",
       "  'scaled_radius_of_gyration']]"
      ]
     },
     "execution_count": 22,
     "metadata": {},
     "output_type": "execute_result"
    }
   ],
   "source": [
    "# To check the various random feature combos\n",
    "feature"
   ]
  },
  {
   "cell_type": "code",
   "execution_count": 23,
   "metadata": {
    "id": "DXBsseNEYxPX"
   },
   "outputs": [],
   "source": [
    "# Apply different voting mechanisms such as \n",
    "# max voting/average voting/weighted average voting (using accuracy as weightage)\n",
    "# Perform the ensembling for the training set.\n",
    "from sklearn.metrics import precision_recall_fscore_support"
   ]
  },
  {
   "cell_type": "markdown",
   "metadata": {
    "id": "LW1JW940QBGQ"
   },
   "source": [
    "**Average**"
   ]
  },
  {
   "cell_type": "code",
   "execution_count": 24,
   "metadata": {
    "id": "n5mShSWlP-mv"
   },
   "outputs": [],
   "source": [
    "# Apply invidual trees trained on the testingset\n",
    "# Note: You should've saved the feature sets used for training invidual trees,\n",
    "# so that same features can be chosen in testing set\n",
    "\n",
    "# Get predictions on testing set\n",
    "accu = []\n",
    "prec = []\n",
    "rec = []\n",
    "fs = []\n",
    "i=0\n",
    "for clf in trees:\n",
    "    features = feature[i]\n",
    "    i+=1\n",
    "    predictions = clf.predict(X_test[features].values)\n",
    "\n",
    "    y_pred= []\n",
    "    for row_number in range(predictions.shape[0]):\n",
    "      y_pred.append(np.mean(predictions[row_number, ]))\n",
    "    y_pred = np.array(y_pred)\n",
    "    acc = clf.score(X_test[features].values,y_test.values)\n",
    "    # arr = y_pred - y_test.values\n",
    "    # accuracy = np.count_nonzero(arr==0)/(y_pred.shape[0])\n",
    "    accu.append(acc)\n",
    "    precision, recall, fscore, _ = precision_recall_fscore_support(y_test, y_pred,beta=1.0)\n",
    "    prec.append(np.mean(precision))\n",
    "    rec.append(np.mean(recall))\n",
    "    fs.append(np.mean(fscore))"
   ]
  },
  {
   "cell_type": "code",
   "execution_count": 25,
   "metadata": {
    "colab": {
     "base_uri": "https://localhost:8080/",
     "height": 1000
    },
    "id": "6tleEd8GWa1s",
    "outputId": "7c5c139d-8f97-4d65-c360-418dabb30a08"
   },
   "outputs": [
    {
     "data": {
      "image/png": "[encoded data removed]",
      "text/plain": [
       "<Figure size 432x288 with 1 Axes>"
      ]
     },
     "metadata": {
      "needs_background": "light"
     },
     "output_type": "display_data"
    },
    {
     "data": {
      "image/png": "[encoded data removed]",
      "text/plain": [
       "<Figure size 432x288 with 1 Axes>"
      ]
     },
     "metadata": {
      "needs_background": "light"
     },
     "output_type": "display_data"
    },
    {
     "data": {
      "image/png": "[encoded data removed]",
      "text/plain": [
       "<Figure size 432x288 with 1 Axes>"
      ]
     },
     "metadata": {
      "needs_background": "light"
     },
     "output_type": "display_data"
    },
    {
     "data": {
      "image/png": "[encoded data removed]",
      "text/plain": [
       "<Figure size 432x288 with 1 Axes>"
      ]
     },
     "metadata": {
      "needs_background": "light"
     },
     "output_type": "display_data"
    }
   ],
   "source": [
    "# Evaluate the results using accuracy, precision, recall and f-measure\n",
    "import matplotlib.pyplot as plt \n",
    "ntre = []\n",
    "for i in range(n):\n",
    "  ntre.append(i+1)\n",
    "plt.xlabel(\"Trees\") \n",
    "plt.ylabel(\"Training Accuracy\") \n",
    "plt.title(\"Training Acc v/s Trees\") \n",
    "# creating the bar plot \n",
    "plt.bar(ntre, accu) \n",
    "\n",
    "plt.show() \n",
    "\n",
    "plt.bar(ntre, prec ) \n",
    "  \n",
    "plt.xlabel(\"Trees\") \n",
    "plt.ylabel(\"Precision\") \n",
    "plt.title(\"Precision v/s Trees\") \n",
    "plt.show() \n",
    "\n",
    "plt.bar(ntre, rec ) \n",
    "  \n",
    "plt.xlabel(\"Trees\") \n",
    "plt.ylabel(\"Recall\") \n",
    "plt.title(\"Recall v/s Trees\") \n",
    "plt.show() \n",
    "\n",
    "plt.bar(ntre, fs ) \n",
    "  \n",
    "plt.xlabel(\"Trees\") \n",
    "plt.ylabel(\"F-Measure\") \n",
    "plt.title(\"F-Measure v/s Trees\") \n",
    "plt.show() "
   ]
  },
  {
   "cell_type": "markdown",
   "metadata": {
    "id": "amd_M1VrHjmX"
   },
   "source": [
    "### Weighted Averaging"
   ]
  },
  {
   "cell_type": "code",
   "execution_count": 26,
   "metadata": {
    "id": "nFEQjBB3RBpM"
   },
   "outputs": [],
   "source": [
    "accu = []\n",
    "prec = []\n",
    "rec = []\n",
    "fs = []\n",
    "i=0\n",
    "for clf in trees:\n",
    "    features = feature[i]\n",
    "    i+=1\n",
    "    predictions = clf.predict(X_test[features].values)\n",
    "\n",
    "    y_pred= []\n",
    "    weights = clf.score(X_test[features].values,predictions)\n",
    "    \n",
    "    for row_number in range(predictions.shape[0]):\n",
    "        y_pred.append(np.mean(predictions[row_number, ]*weights))\n",
    "        \n",
    "    y_pred = np.array(y_pred)\n",
    "    acc = clf.score(X_test[features].values,y_test.values)\n",
    "    # arr = y_pred - y_test.values\n",
    "    # accuracy = np.count_nonzero(arr==0)/(y_pred.shape[0])\n",
    "    accu.append(acc)\n",
    "    precision, recall, fscore, _ = precision_recall_fscore_support(y_test, y_pred,beta=1.0)\n",
    "    prec.append(np.mean(precision))\n",
    "    rec.append(np.mean(recall))\n",
    "    fs.append(np.mean(fscore))\n",
    "\n"
   ]
  },
  {
   "cell_type": "code",
   "execution_count": 27,
   "metadata": {
    "colab": {
     "base_uri": "https://localhost:8080/"
    },
    "id": "m2qQ84BJRcNP",
    "outputId": "1cf30478-5dc8-47f7-9e73-368a3f027c7b"
   },
   "outputs": [
    {
     "data": {
      "image/png": "[encoded data removed]",
      "text/plain": [
       "<Figure size 432x288 with 1 Axes>"
      ]
     },
     "metadata": {
      "needs_background": "light"
     },
     "output_type": "display_data"
    },
    {
     "data": {
      "image/png": "[encoded data removed]",
      "text/plain": [
       "<Figure size 432x288 with 1 Axes>"
      ]
     },
     "metadata": {
      "needs_background": "light"
     },
     "output_type": "display_data"
    },
    {
     "data": {
      "image/png": "[encoded data removed]",
      "text/plain": [
       "<Figure size 432x288 with 1 Axes>"
      ]
     },
     "metadata": {
      "needs_background": "light"
     },
     "output_type": "display_data"
    },
    {
     "data": {
      "image/png": "[encoded data removed]",
      "text/plain": [
       "<Figure size 432x288 with 1 Axes>"
      ]
     },
     "metadata": {
      "needs_background": "light"
     },
     "output_type": "display_data"
    }
   ],
   "source": [
    "# For weighted Averaging\n",
    "# Evaluate the results using accuracy, precision, recall and f-measure\n",
    "import matplotlib.pyplot as plt \n",
    "ntre = []\n",
    "for i in range(n):\n",
    "  ntre.append(i+1)\n",
    "plt.xlabel(\"Trees\") \n",
    "plt.ylabel(\"Training Accuracy\") \n",
    "plt.title(\"Training Acc v/s Trees\") \n",
    "# creating the bar plot \n",
    "plt.bar(ntre, accu) \n",
    "\n",
    "plt.show() \n",
    "\n",
    "plt.bar(ntre, prec ) \n",
    "  \n",
    "plt.xlabel(\"Trees\") \n",
    "plt.ylabel(\"Precision\") \n",
    "plt.title(\"Precision v/s Trees\") \n",
    "plt.show() \n",
    "\n",
    "plt.bar(ntre, rec ) \n",
    "  \n",
    "plt.xlabel(\"Trees\") \n",
    "plt.ylabel(\"Recall\") \n",
    "plt.title(\"Recall v/s Trees\") \n",
    "plt.show() \n",
    "\n",
    "plt.bar(ntre, fs ) \n",
    "  \n",
    "plt.xlabel(\"Trees\") \n",
    "plt.ylabel(\"F-Measure\") \n",
    "plt.title(\"F-Measure v/s Trees\") \n",
    "plt.show() \n"
   ]
  },
  {
   "cell_type": "markdown",
   "metadata": {
    "id": "QGVYWKUcRnhA"
   },
   "source": [
    "## Part 2: Random Forest using Sklearn"
   ]
  },
  {
   "cell_type": "code",
   "execution_count": 28,
   "metadata": {
    "id": "7vJ02XgwRm-O"
   },
   "outputs": [],
   "source": [
    "# Use the preprocessed dataset here\n",
    "\n",
    "X = data.iloc[:,:-1].values\n",
    "y = data.iloc[:,-1].values\n",
    "# Divide the dataset to training and testing set\n",
    "X_train, X_test, y_train, y_test = train_test_split(X,y , test_size=0.30, random_state=0)"
   ]
  },
  {
   "cell_type": "code",
   "execution_count": 29,
   "metadata": {
    "colab": {
     "base_uri": "https://localhost:8080/",
     "height": 117
    },
    "id": "mHEEc7BrSDG0",
    "outputId": "fce40bb0-924d-4741-f73a-cbddfa058d2b"
   },
   "outputs": [
    {
     "data": {
      "text/plain": [
       "RandomForestClassifier(bootstrap=True, class_weight=None, criterion='gini',\n",
       "                       max_depth=2, max_features='auto', max_leaf_nodes=None,\n",
       "                       min_impurity_decrease=0.0, min_impurity_split=None,\n",
       "                       min_samples_leaf=1, min_samples_split=2,\n",
       "                       min_weight_fraction_leaf=0.0, n_estimators=1000,\n",
       "                       n_jobs=None, oob_score=False, random_state=0, verbose=0,\n",
       "                       warm_start=False)"
      ]
     },
     "execution_count": 29,
     "metadata": {},
     "output_type": "execute_result"
    }
   ],
   "source": [
    "# Train the Random Forest Model using builtin Sklearn Dataset\n",
    "from sklearn.ensemble import RandomForestClassifier\n",
    "from sklearn.datasets import make_classification\n",
    "clf = RandomForestClassifier(1000,max_depth=2, random_state=0)\n",
    "clf.fit(X_train,y_train)"
   ]
  },
  {
   "cell_type": "code",
   "execution_count": 30,
   "metadata": {
    "colab": {
     "base_uri": "https://localhost:8080/"
    },
    "id": "I-YJEeqPSIk1",
    "outputId": "7a32b03b-3391-4562-dda7-25917b9d6ee2"
   },
   "outputs": [
    {
     "name": "stdout",
     "output_type": "stream",
     "text": [
      "0.7834645669291339\n"
     ]
    }
   ],
   "source": [
    "# Test the model with testing set and print the accuracy, precision, recall and f-measure\n",
    "y_pred = clf.predict(X_test)\n",
    "acc = clf.score(X_test,y_test)\n",
    "print(acc)"
   ]
  },
  {
   "cell_type": "code",
   "execution_count": 31,
   "metadata": {
    "colab": {
     "base_uri": "https://localhost:8080/"
    },
    "id": "qlwe8gonSVFd",
    "outputId": "187f1994-39ad-463a-9cb2-da7aea6c15c5"
   },
   "outputs": [
    {
     "data": {
      "text/plain": [
       "RandomForestClassifier(bootstrap=True, class_weight=None, criterion='gini',\n",
       "                       max_depth=5, max_features='auto', max_leaf_nodes=None,\n",
       "                       min_impurity_decrease=0.0, min_impurity_split=None,\n",
       "                       min_samples_leaf=1, min_samples_split=2,\n",
       "                       min_weight_fraction_leaf=0.0, n_estimators=100,\n",
       "                       n_jobs=None, oob_score=False, random_state=0, verbose=0,\n",
       "                       warm_start=False)"
      ]
     },
     "execution_count": 31,
     "metadata": {},
     "output_type": "execute_result"
    }
   ],
   "source": [
    "# Play with parameters such as\n",
    "# number of decision trees\n",
    "# Criterion for splitting\n",
    "# Max depth\n",
    "# Minimum samples per split and leaf\n",
    "clf = RandomForestClassifier(100,max_depth=5, random_state=0)\n",
    "clf.fit(X_train,y_train)"
   ]
  },
  {
   "cell_type": "code",
   "execution_count": 32,
   "metadata": {
    "colab": {
     "base_uri": "https://localhost:8080/"
    },
    "id": "bF-0wzhylqKc",
    "outputId": "9532049b-f78d-4a55-c0c2-44358fc2dc47"
   },
   "outputs": [
    {
     "name": "stdout",
     "output_type": "stream",
     "text": [
      "0.9212598425196851\n"
     ]
    }
   ],
   "source": [
    "y_pred = clf.predict(X_test)\n",
    "acc = clf.score(X_test,y_test)\n",
    "print(acc)"
   ]
  },
  {
   "cell_type": "markdown",
   "metadata": {
    "id": "jsQIBpBSl6wV"
   },
   "source": [
    "### Changed some parameters to improve accuracy"
   ]
  },
  {
   "cell_type": "code",
   "execution_count": 33,
   "metadata": {
    "colab": {
     "base_uri": "https://localhost:8080/",
     "height": 117
    },
    "id": "BlgjMA7olygH",
    "outputId": "2b102136-7cae-45ce-dcb8-28a3bb74fa23"
   },
   "outputs": [
    {
     "data": {
      "text/plain": [
       "RandomForestClassifier(bootstrap=True, class_weight=None, criterion='gini',\n",
       "                       max_depth=5, max_features='auto', max_leaf_nodes=None,\n",
       "                       min_impurity_decrease=0.0, min_impurity_split=None,\n",
       "                       min_samples_leaf=1, min_samples_split=2,\n",
       "                       min_weight_fraction_leaf=0.0, n_estimators=1000,\n",
       "                       n_jobs=None, oob_score=False, random_state=0, verbose=0,\n",
       "                       warm_start=False)"
      ]
     },
     "execution_count": 33,
     "metadata": {},
     "output_type": "execute_result"
    }
   ],
   "source": [
    "clf = RandomForestClassifier(1000,max_depth=5, random_state=0)\n",
    "clf.fit(X_train,y_train)"
   ]
  },
  {
   "cell_type": "code",
   "execution_count": 34,
   "metadata": {
    "colab": {
     "base_uri": "https://localhost:8080/"
    },
    "id": "aXCc5vcPlwb-",
    "outputId": "e88a5cd7-ed3b-49d0-ad6f-f3470f8428b7"
   },
   "outputs": [
    {
     "name": "stdout",
     "output_type": "stream",
     "text": [
      "0.9291338582677166\n"
     ]
    }
   ],
   "source": [
    "y_pred = clf.predict(X_test)\n",
    "acc = clf.score(X_test,y_test)\n",
    "print(acc)"
   ]
  }
 ],
 "metadata": {
  "colab": {
   "collapsed_sections": [],
   "name": "Task_1_RandomForest_from_scratch.ipynb",
   "provenance": [],
   "toc_visible": true
  },
  "kernelspec": {
   "display_name": "Python 3",
   "language": "python",
   "name": "python3"
  },
  "language_info": {
   "codemirror_mode": {
    "name": "ipython",
    "version": 3
   },
   "file_extension": ".py",
   "mimetype": "text/x-python",
   "name": "python",
   "nbconvert_exporter": "python",
   "pygments_lexer": "ipython3",
   "version": "3.7.4"
  }
 },
 "nbformat": 4,
 "nbformat_minor": 1
}
