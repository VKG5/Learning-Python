{
 "cells": [
  {
   "cell_type": "markdown",
   "metadata": {
    "id": "m5A6n7jvYxPC"
   },
   "source": [
    "# Vehicle silhouettes\n",
    "\n",
    "## Objective\n",
    "To classify a given silhouette as one of four types of vehicle, \tusing a set of features extracted from the silhouette. The \tvehicle may be viewed from one of many different angles.   \n",
    "\n",
    "## Description\n",
    "\n",
    "### The features were extracted from the silhouettes by the HIPS\n",
    "(Hierarchical Image Processing System) extension BINATTS, which extracts a combination of scale independent features utilising\tboth classical moments based measures such as scaled variance,\tskewness and kurtosis about the major/minor axes and heuristic\tmeasures such as hollows, circularity, rectangularity and\tcompactness. Four \"Corgie\" model vehicles were used for the experiment: a double decker bus, Cheverolet van, Saab 9000 and an Opel Manta 400.\tThis particular combination of vehicles was chosen with the expectation that the bus, van and either one of the cars would be readily distinguishable, but it would be more difficult to distinguish between the cars.\n",
    "\n",
    "##Useful links:\n",
    "https://machinelearningmastery.com/implement-random-forest-scratch-python/\n",
    "\n",
    "https://towardsdatascience.com/random-forests-and-decision-trees-from-scratch-in-python-3e4fa5ae4249\n",
    "\n",
    "https://www.analyticsvidhya.com/blog/2018/12/building-a-random-forest-from-scratch-understanding-real-world-data-products-ml-for-programmers-part-3/"
   ]
  },
  {
   "cell_type": "markdown",
   "metadata": {
    "id": "W-FoSpD3QDP4"
   },
   "source": [
    "# Part 1: Random Forest from scratch\n",
    "\n",
    "Random forests are an ensemble learning method for classification and regression that operate by constructing multiple decision trees at training time and outputting the class that is the mode of the classes (classification) or mean prediction (regression) of the individual trees."
   ]
  },
  {
   "cell_type": "markdown",
   "metadata": {},
   "source": [
    "## Importing Data"
   ]
  },
  {
   "cell_type": "code",
   "execution_count": 2,
   "metadata": {
    "id": "4q0F2HVFPl0R"
   },
   "outputs": [],
   "source": [
    "# Load the libraries\n",
    "import matplotlib.pyplot as plt\n",
    "import seaborn as sns\n",
    "import numpy as np\n",
    "import pandas as pd\n",
    "from sklearn.datasets import make_classification\n",
    "from scipy.spatial.distance import euclidean as euc\n",
    "# From visualize import generate_moons_df, preprocess, plot_boundaries\n",
    "\n",
    "# Sklearn processing\n",
    "from sklearn.preprocessing import MinMaxScaler\n",
    "from sklearn.model_selection import train_test_split\n",
    "from sklearn.model_selection import KFold\n",
    "from sklearn.model_selection import cross_val_score\n",
    "from sklearn.preprocessing import LabelEncoder\n",
    "from sklearn.model_selection import train_test_split, cross_val_score\n",
    "from sklearn.metrics import mean_squared_error, r2_score\n",
    "from sklearn.preprocessing import StandardScaler\n",
    "\n",
    "from sklearn.metrics import classification_report\n",
    "from sklearn.linear_model import LogisticRegression\n",
    "from sklearn.neighbors import KNeighborsClassifier\n",
    "from collections import Counter\n",
    "np.random.seed(0)"
   ]
  },
  {
   "cell_type": "code",
   "execution_count": 3,
   "metadata": {
    "id": "VACehGfwPoAg"
   },
   "outputs": [],
   "source": [
    "# Load the dataset \n",
    "data = pd.read_csv('Data/vehicle.csv')"
   ]
  },
  {
   "cell_type": "code",
   "execution_count": 4,
   "metadata": {},
   "outputs": [
    {
     "data": {
      "text/html": [
       "<div>\n",
       "<style scoped>\n",
       "    .dataframe tbody tr th:only-of-type {\n",
       "        vertical-align: middle;\n",
       "    }\n",
       "\n",
       "    .dataframe tbody tr th {\n",
       "        vertical-align: top;\n",
       "    }\n",
       "\n",
       "    .dataframe thead th {\n",
       "        text-align: right;\n",
       "    }\n",
       "</style>\n",
       "<table border=\"1\" class=\"dataframe\">\n",
       "  <thead>\n",
       "    <tr style=\"text-align: right;\">\n",
       "      <th></th>\n",
       "      <th>compactness</th>\n",
       "      <th>circularity</th>\n",
       "      <th>distance_circularity</th>\n",
       "      <th>radius_ratio</th>\n",
       "      <th>pr.axis_aspect_ratio</th>\n",
       "      <th>max.length_aspect_ratio</th>\n",
       "      <th>scatter_ratio</th>\n",
       "      <th>elongatedness</th>\n",
       "      <th>pr.axis_rectangularity</th>\n",
       "      <th>max.length_rectangularity</th>\n",
       "      <th>scaled_variance</th>\n",
       "      <th>scaled_variance.1</th>\n",
       "      <th>scaled_radius_of_gyration</th>\n",
       "      <th>scaled_radius_of_gyration.1</th>\n",
       "      <th>skewness_about</th>\n",
       "      <th>skewness_about.1</th>\n",
       "      <th>skewness_about.2</th>\n",
       "      <th>hollows_ratio</th>\n",
       "      <th>class</th>\n",
       "    </tr>\n",
       "  </thead>\n",
       "  <tbody>\n",
       "    <tr>\n",
       "      <td>0</td>\n",
       "      <td>95</td>\n",
       "      <td>48.0</td>\n",
       "      <td>83.0</td>\n",
       "      <td>178.0</td>\n",
       "      <td>72.0</td>\n",
       "      <td>10</td>\n",
       "      <td>162.0</td>\n",
       "      <td>42.0</td>\n",
       "      <td>20.0</td>\n",
       "      <td>159</td>\n",
       "      <td>176.0</td>\n",
       "      <td>379.0</td>\n",
       "      <td>184.0</td>\n",
       "      <td>70.0</td>\n",
       "      <td>6.0</td>\n",
       "      <td>16.0</td>\n",
       "      <td>187.0</td>\n",
       "      <td>197</td>\n",
       "      <td>van</td>\n",
       "    </tr>\n",
       "    <tr>\n",
       "      <td>1</td>\n",
       "      <td>91</td>\n",
       "      <td>41.0</td>\n",
       "      <td>84.0</td>\n",
       "      <td>141.0</td>\n",
       "      <td>57.0</td>\n",
       "      <td>9</td>\n",
       "      <td>149.0</td>\n",
       "      <td>45.0</td>\n",
       "      <td>19.0</td>\n",
       "      <td>143</td>\n",
       "      <td>170.0</td>\n",
       "      <td>330.0</td>\n",
       "      <td>158.0</td>\n",
       "      <td>72.0</td>\n",
       "      <td>9.0</td>\n",
       "      <td>14.0</td>\n",
       "      <td>189.0</td>\n",
       "      <td>199</td>\n",
       "      <td>van</td>\n",
       "    </tr>\n",
       "    <tr>\n",
       "      <td>2</td>\n",
       "      <td>104</td>\n",
       "      <td>50.0</td>\n",
       "      <td>106.0</td>\n",
       "      <td>209.0</td>\n",
       "      <td>66.0</td>\n",
       "      <td>10</td>\n",
       "      <td>207.0</td>\n",
       "      <td>32.0</td>\n",
       "      <td>23.0</td>\n",
       "      <td>158</td>\n",
       "      <td>223.0</td>\n",
       "      <td>635.0</td>\n",
       "      <td>220.0</td>\n",
       "      <td>73.0</td>\n",
       "      <td>14.0</td>\n",
       "      <td>9.0</td>\n",
       "      <td>188.0</td>\n",
       "      <td>196</td>\n",
       "      <td>car</td>\n",
       "    </tr>\n",
       "    <tr>\n",
       "      <td>3</td>\n",
       "      <td>93</td>\n",
       "      <td>41.0</td>\n",
       "      <td>82.0</td>\n",
       "      <td>159.0</td>\n",
       "      <td>63.0</td>\n",
       "      <td>9</td>\n",
       "      <td>144.0</td>\n",
       "      <td>46.0</td>\n",
       "      <td>19.0</td>\n",
       "      <td>143</td>\n",
       "      <td>160.0</td>\n",
       "      <td>309.0</td>\n",
       "      <td>127.0</td>\n",
       "      <td>63.0</td>\n",
       "      <td>6.0</td>\n",
       "      <td>10.0</td>\n",
       "      <td>199.0</td>\n",
       "      <td>207</td>\n",
       "      <td>van</td>\n",
       "    </tr>\n",
       "    <tr>\n",
       "      <td>4</td>\n",
       "      <td>85</td>\n",
       "      <td>44.0</td>\n",
       "      <td>70.0</td>\n",
       "      <td>205.0</td>\n",
       "      <td>103.0</td>\n",
       "      <td>52</td>\n",
       "      <td>149.0</td>\n",
       "      <td>45.0</td>\n",
       "      <td>19.0</td>\n",
       "      <td>144</td>\n",
       "      <td>241.0</td>\n",
       "      <td>325.0</td>\n",
       "      <td>188.0</td>\n",
       "      <td>127.0</td>\n",
       "      <td>9.0</td>\n",
       "      <td>11.0</td>\n",
       "      <td>180.0</td>\n",
       "      <td>183</td>\n",
       "      <td>bus</td>\n",
       "    </tr>\n",
       "    <tr>\n",
       "      <td>...</td>\n",
       "      <td>...</td>\n",
       "      <td>...</td>\n",
       "      <td>...</td>\n",
       "      <td>...</td>\n",
       "      <td>...</td>\n",
       "      <td>...</td>\n",
       "      <td>...</td>\n",
       "      <td>...</td>\n",
       "      <td>...</td>\n",
       "      <td>...</td>\n",
       "      <td>...</td>\n",
       "      <td>...</td>\n",
       "      <td>...</td>\n",
       "      <td>...</td>\n",
       "      <td>...</td>\n",
       "      <td>...</td>\n",
       "      <td>...</td>\n",
       "      <td>...</td>\n",
       "      <td>...</td>\n",
       "    </tr>\n",
       "    <tr>\n",
       "      <td>841</td>\n",
       "      <td>93</td>\n",
       "      <td>39.0</td>\n",
       "      <td>87.0</td>\n",
       "      <td>183.0</td>\n",
       "      <td>64.0</td>\n",
       "      <td>8</td>\n",
       "      <td>169.0</td>\n",
       "      <td>40.0</td>\n",
       "      <td>20.0</td>\n",
       "      <td>134</td>\n",
       "      <td>200.0</td>\n",
       "      <td>422.0</td>\n",
       "      <td>149.0</td>\n",
       "      <td>72.0</td>\n",
       "      <td>7.0</td>\n",
       "      <td>25.0</td>\n",
       "      <td>188.0</td>\n",
       "      <td>195</td>\n",
       "      <td>car</td>\n",
       "    </tr>\n",
       "    <tr>\n",
       "      <td>842</td>\n",
       "      <td>89</td>\n",
       "      <td>46.0</td>\n",
       "      <td>84.0</td>\n",
       "      <td>163.0</td>\n",
       "      <td>66.0</td>\n",
       "      <td>11</td>\n",
       "      <td>159.0</td>\n",
       "      <td>43.0</td>\n",
       "      <td>20.0</td>\n",
       "      <td>159</td>\n",
       "      <td>173.0</td>\n",
       "      <td>368.0</td>\n",
       "      <td>176.0</td>\n",
       "      <td>72.0</td>\n",
       "      <td>1.0</td>\n",
       "      <td>20.0</td>\n",
       "      <td>186.0</td>\n",
       "      <td>197</td>\n",
       "      <td>van</td>\n",
       "    </tr>\n",
       "    <tr>\n",
       "      <td>843</td>\n",
       "      <td>106</td>\n",
       "      <td>54.0</td>\n",
       "      <td>101.0</td>\n",
       "      <td>222.0</td>\n",
       "      <td>67.0</td>\n",
       "      <td>12</td>\n",
       "      <td>222.0</td>\n",
       "      <td>30.0</td>\n",
       "      <td>25.0</td>\n",
       "      <td>173</td>\n",
       "      <td>228.0</td>\n",
       "      <td>721.0</td>\n",
       "      <td>200.0</td>\n",
       "      <td>70.0</td>\n",
       "      <td>3.0</td>\n",
       "      <td>4.0</td>\n",
       "      <td>187.0</td>\n",
       "      <td>201</td>\n",
       "      <td>car</td>\n",
       "    </tr>\n",
       "    <tr>\n",
       "      <td>844</td>\n",
       "      <td>86</td>\n",
       "      <td>36.0</td>\n",
       "      <td>78.0</td>\n",
       "      <td>146.0</td>\n",
       "      <td>58.0</td>\n",
       "      <td>7</td>\n",
       "      <td>135.0</td>\n",
       "      <td>50.0</td>\n",
       "      <td>18.0</td>\n",
       "      <td>124</td>\n",
       "      <td>155.0</td>\n",
       "      <td>270.0</td>\n",
       "      <td>148.0</td>\n",
       "      <td>66.0</td>\n",
       "      <td>0.0</td>\n",
       "      <td>25.0</td>\n",
       "      <td>190.0</td>\n",
       "      <td>195</td>\n",
       "      <td>car</td>\n",
       "    </tr>\n",
       "    <tr>\n",
       "      <td>845</td>\n",
       "      <td>85</td>\n",
       "      <td>36.0</td>\n",
       "      <td>66.0</td>\n",
       "      <td>123.0</td>\n",
       "      <td>55.0</td>\n",
       "      <td>5</td>\n",
       "      <td>120.0</td>\n",
       "      <td>56.0</td>\n",
       "      <td>17.0</td>\n",
       "      <td>128</td>\n",
       "      <td>140.0</td>\n",
       "      <td>212.0</td>\n",
       "      <td>131.0</td>\n",
       "      <td>73.0</td>\n",
       "      <td>1.0</td>\n",
       "      <td>18.0</td>\n",
       "      <td>186.0</td>\n",
       "      <td>190</td>\n",
       "      <td>van</td>\n",
       "    </tr>\n",
       "  </tbody>\n",
       "</table>\n",
       "<p>846 rows × 19 columns</p>\n",
       "</div>"
      ],
      "text/plain": [
       "     compactness  circularity  distance_circularity  radius_ratio  \\\n",
       "0             95         48.0                  83.0         178.0   \n",
       "1             91         41.0                  84.0         141.0   \n",
       "2            104         50.0                 106.0         209.0   \n",
       "3             93         41.0                  82.0         159.0   \n",
       "4             85         44.0                  70.0         205.0   \n",
       "..           ...          ...                   ...           ...   \n",
       "841           93         39.0                  87.0         183.0   \n",
       "842           89         46.0                  84.0         163.0   \n",
       "843          106         54.0                 101.0         222.0   \n",
       "844           86         36.0                  78.0         146.0   \n",
       "845           85         36.0                  66.0         123.0   \n",
       "\n",
       "     pr.axis_aspect_ratio  max.length_aspect_ratio  scatter_ratio  \\\n",
       "0                    72.0                       10          162.0   \n",
       "1                    57.0                        9          149.0   \n",
       "2                    66.0                       10          207.0   \n",
       "3                    63.0                        9          144.0   \n",
       "4                   103.0                       52          149.0   \n",
       "..                    ...                      ...            ...   \n",
       "841                  64.0                        8          169.0   \n",
       "842                  66.0                       11          159.0   \n",
       "843                  67.0                       12          222.0   \n",
       "844                  58.0                        7          135.0   \n",
       "845                  55.0                        5          120.0   \n",
       "\n",
       "     elongatedness  pr.axis_rectangularity  max.length_rectangularity  \\\n",
       "0             42.0                    20.0                        159   \n",
       "1             45.0                    19.0                        143   \n",
       "2             32.0                    23.0                        158   \n",
       "3             46.0                    19.0                        143   \n",
       "4             45.0                    19.0                        144   \n",
       "..             ...                     ...                        ...   \n",
       "841           40.0                    20.0                        134   \n",
       "842           43.0                    20.0                        159   \n",
       "843           30.0                    25.0                        173   \n",
       "844           50.0                    18.0                        124   \n",
       "845           56.0                    17.0                        128   \n",
       "\n",
       "     scaled_variance  scaled_variance.1  scaled_radius_of_gyration  \\\n",
       "0              176.0              379.0                      184.0   \n",
       "1              170.0              330.0                      158.0   \n",
       "2              223.0              635.0                      220.0   \n",
       "3              160.0              309.0                      127.0   \n",
       "4              241.0              325.0                      188.0   \n",
       "..               ...                ...                        ...   \n",
       "841            200.0              422.0                      149.0   \n",
       "842            173.0              368.0                      176.0   \n",
       "843            228.0              721.0                      200.0   \n",
       "844            155.0              270.0                      148.0   \n",
       "845            140.0              212.0                      131.0   \n",
       "\n",
       "     scaled_radius_of_gyration.1  skewness_about  skewness_about.1  \\\n",
       "0                           70.0             6.0              16.0   \n",
       "1                           72.0             9.0              14.0   \n",
       "2                           73.0            14.0               9.0   \n",
       "3                           63.0             6.0              10.0   \n",
       "4                          127.0             9.0              11.0   \n",
       "..                           ...             ...               ...   \n",
       "841                         72.0             7.0              25.0   \n",
       "842                         72.0             1.0              20.0   \n",
       "843                         70.0             3.0               4.0   \n",
       "844                         66.0             0.0              25.0   \n",
       "845                         73.0             1.0              18.0   \n",
       "\n",
       "     skewness_about.2  hollows_ratio class  \n",
       "0               187.0            197   van  \n",
       "1               189.0            199   van  \n",
       "2               188.0            196   car  \n",
       "3               199.0            207   van  \n",
       "4               180.0            183   bus  \n",
       "..                ...            ...   ...  \n",
       "841             188.0            195   car  \n",
       "842             186.0            197   van  \n",
       "843             187.0            201   car  \n",
       "844             190.0            195   car  \n",
       "845             186.0            190   van  \n",
       "\n",
       "[846 rows x 19 columns]"
      ]
     },
     "execution_count": 4,
     "metadata": {},
     "output_type": "execute_result"
    }
   ],
   "source": [
    "data"
   ]
  },
  {
   "cell_type": "markdown",
   "metadata": {},
   "source": [
    "**Preprocessing**"
   ]
  },
  {
   "cell_type": "code",
   "execution_count": 6,
   "metadata": {},
   "outputs": [
    {
     "name": "stdout",
     "output_type": "stream",
     "text": [
      "compactness : <class 'numpy.int64'>\n",
      "circularity : <class 'numpy.float64'>\n",
      "distance_circularity : <class 'numpy.float64'>\n",
      "radius_ratio : <class 'numpy.float64'>\n",
      "pr.axis_aspect_ratio : <class 'numpy.float64'>\n",
      "max.length_aspect_ratio : <class 'numpy.int64'>\n",
      "scatter_ratio : <class 'numpy.float64'>\n",
      "elongatedness : <class 'numpy.float64'>\n",
      "pr.axis_rectangularity : <class 'numpy.float64'>\n",
      "max.length_rectangularity : <class 'numpy.int64'>\n",
      "scaled_variance : <class 'numpy.float64'>\n",
      "scaled_variance.1 : <class 'numpy.float64'>\n",
      "scaled_radius_of_gyration : <class 'numpy.float64'>\n",
      "scaled_radius_of_gyration.1 : <class 'numpy.float64'>\n",
      "skewness_about : <class 'numpy.float64'>\n",
      "skewness_about.1 : <class 'numpy.float64'>\n",
      "skewness_about.2 : <class 'numpy.float64'>\n",
      "hollows_ratio : <class 'numpy.int64'>\n",
      "class : <class 'str'>\n"
     ]
    }
   ],
   "source": [
    "# Checking the data types of each column\n",
    "for i in data:\n",
    "    print(i, \":\", type(data[i][0]))"
   ]
  },
  {
   "cell_type": "code",
   "execution_count": 7,
   "metadata": {},
   "outputs": [
    {
     "data": {
      "text/plain": [
       "compactness                    0\n",
       "circularity                    5\n",
       "distance_circularity           4\n",
       "radius_ratio                   6\n",
       "pr.axis_aspect_ratio           2\n",
       "max.length_aspect_ratio        0\n",
       "scatter_ratio                  1\n",
       "elongatedness                  1\n",
       "pr.axis_rectangularity         3\n",
       "max.length_rectangularity      0\n",
       "scaled_variance                3\n",
       "scaled_variance.1              2\n",
       "scaled_radius_of_gyration      2\n",
       "scaled_radius_of_gyration.1    4\n",
       "skewness_about                 6\n",
       "skewness_about.1               1\n",
       "skewness_about.2               1\n",
       "hollows_ratio                  0\n",
       "class                          0\n",
       "dtype: int64"
      ]
     },
     "execution_count": 7,
     "metadata": {},
     "output_type": "execute_result"
    }
   ],
   "source": [
    "# Check for null values\n",
    "data.isnull().sum()"
   ]
  },
  {
   "cell_type": "code",
   "execution_count": 8,
   "metadata": {},
   "outputs": [
    {
     "name": "stdout",
     "output_type": "stream",
     "text": [
      "compactness : 44\n",
      "circularity : 28\n",
      "distance_circularity : 64\n",
      "radius_ratio : 135\n",
      "pr.axis_aspect_ratio : 38\n",
      "max.length_aspect_ratio : 21\n",
      "scatter_ratio : 132\n",
      "elongatedness : 36\n",
      "pr.axis_rectangularity : 14\n",
      "max.length_rectangularity : 66\n",
      "scaled_variance : 129\n",
      "scaled_variance.1 : 423\n",
      "scaled_radius_of_gyration : 144\n",
      "scaled_radius_of_gyration.1 : 40\n",
      "skewness_about : 24\n",
      "skewness_about.1 : 42\n",
      "skewness_about.2 : 31\n",
      "hollows_ratio : 31\n",
      "class : 3\n"
     ]
    }
   ],
   "source": [
    "#Printing the unique values\n",
    "\n",
    "for i in data.columns:\n",
    "    print(i, \":\", len(data[i].unique()))"
   ]
  },
  {
   "cell_type": "markdown",
   "metadata": {},
   "source": [
    "**Normalizing**"
   ]
  },
  {
   "cell_type": "code",
   "execution_count": null,
   "metadata": {
    "id": "S47gOYRhPqKF"
   },
   "outputs": [],
   "source": [
    "# Preprocessing\n",
    "# Encoding categorical variables (if any)\n",
    "# Feature Scaling\n",
    "# Filling missing values (if any)\n",
    "\n"
   ]
  },
  {
   "cell_type": "code",
   "execution_count": null,
   "metadata": {
    "id": "ywJGz-VZP2R9"
   },
   "outputs": [],
   "source": [
    "# Divide the dataset to training and testing set\n",
    "\n"
   ]
  },
  {
   "cell_type": "code",
   "execution_count": null,
   "metadata": {
    "id": "hu9YAA53YxPG"
   },
   "outputs": [],
   "source": [
    "# Randomly choose the features from training set and build decision tree\n",
    "# Randomness in the features will help us to achieve different DTrees every time\n",
    "# You can keep minimum number of random features every time so that trees will have sufficient features\n",
    "# Note: You can use builtin function for DT training using Sklearn\n",
    "\n",
    "\n"
   ]
  },
  {
   "cell_type": "code",
   "execution_count": null,
   "metadata": {
    "id": "22bKlgbZYxPQ"
   },
   "outputs": [],
   "source": [
    "# Train N number of decision trees using random feature selection strategy\n",
    "# Number of trees N can be user input\n",
    "\n",
    "\n"
   ]
  },
  {
   "cell_type": "code",
   "execution_count": null,
   "metadata": {
    "id": "DXBsseNEYxPX"
   },
   "outputs": [],
   "source": [
    "# Apply different voting mechanisms such as \n",
    "# max voting/average voting/weighted average voting (using accuracy as weightage)\n",
    "# Perform the ensembling for the training set.\n"
   ]
  },
  {
   "cell_type": "code",
   "execution_count": null,
   "metadata": {
    "id": "nFEQjBB3RBpM"
   },
   "outputs": [],
   "source": [
    "# Apply invidual trees trained on the testingset\n",
    "# Note: You should've saved the feature sets used for training invidual trees,\n",
    "# so that same features can be chosen in testing set\n",
    "\n",
    "# Get predictions on testing set"
   ]
  },
  {
   "cell_type": "code",
   "execution_count": null,
   "metadata": {
    "id": "m2qQ84BJRcNP"
   },
   "outputs": [],
   "source": [
    "# Evaluate the results using accuracy, precision, recall and f-measure\n",
    "\n"
   ]
  },
  {
   "cell_type": "code",
   "execution_count": null,
   "metadata": {
    "id": "z_-xfr-CRoDa"
   },
   "outputs": [],
   "source": [
    "# Compare different voting mechanisms and their accuracies\n",
    "\n"
   ]
  },
  {
   "cell_type": "code",
   "execution_count": null,
   "metadata": {
    "id": "V2UXYktmRryu"
   },
   "outputs": [],
   "source": [
    "# Compare the Random forest models with different number of trees N\n",
    "\n"
   ]
  },
  {
   "cell_type": "code",
   "execution_count": null,
   "metadata": {
    "id": "_grD0B0qRwOI"
   },
   "outputs": [],
   "source": [
    "# Compare different values for minimum number of features needed for individual trees\n",
    "\n",
    "\n"
   ]
  },
  {
   "cell_type": "markdown",
   "metadata": {
    "id": "QGVYWKUcRnhA"
   },
   "source": [
    "## Part 2: Random Forest using Sklearn"
   ]
  },
  {
   "cell_type": "code",
   "execution_count": null,
   "metadata": {
    "id": "7vJ02XgwRm-O"
   },
   "outputs": [],
   "source": [
    "# Use the preprocessed dataset here\n",
    "\n"
   ]
  },
  {
   "cell_type": "code",
   "execution_count": null,
   "metadata": {
    "id": "mHEEc7BrSDG0"
   },
   "outputs": [],
   "source": [
    "# Train the Random Forest Model using builtin Sklearn Dataset\n",
    "\n"
   ]
  },
  {
   "cell_type": "code",
   "execution_count": null,
   "metadata": {
    "id": "I-YJEeqPSIk1"
   },
   "outputs": [],
   "source": [
    "# Test the model with testing set and print the accuracy, precision, recall and f-measure\n",
    "\n"
   ]
  },
  {
   "cell_type": "code",
   "execution_count": null,
   "metadata": {
    "id": "qlwe8gonSVFd"
   },
   "outputs": [],
   "source": [
    "# Play with parameters such as\n",
    "# number of decision trees\n",
    "# Criterion for splitting\n",
    "# Max depth\n",
    "# Minimum samples per split and leaf"
   ]
  }
 ],
 "metadata": {
  "colab": {
   "collapsed_sections": [],
   "name": "Task 1 - RandomForest_from_scratch.ipynb",
   "provenance": []
  },
  "kernelspec": {
   "display_name": "Python 3",
   "language": "python",
   "name": "python3"
  },
  "language_info": {
   "codemirror_mode": {
    "name": "ipython",
    "version": 3
   },
   "file_extension": ".py",
   "mimetype": "text/x-python",
   "name": "python",
   "nbconvert_exporter": "python",
   "pygments_lexer": "ipython3",
   "version": "3.7.4"
  }
 },
 "nbformat": 4,
 "nbformat_minor": 1
}
