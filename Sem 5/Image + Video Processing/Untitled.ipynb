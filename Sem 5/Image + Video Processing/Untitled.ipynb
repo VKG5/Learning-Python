{
 "cells": [
  {
   "cell_type": "code",
   "execution_count": 7,
   "metadata": {},
   "outputs": [],
   "source": [
    "a = [30, 55, 6, 8, 30, 6, 9, 51]"
   ]
  },
  {
   "cell_type": "code",
   "execution_count": 12,
   "metadata": {},
   "outputs": [],
   "source": [
    "for i in range(len(a)-1):\n",
    "    a[i] = 1/9 * a[i]\n",
    "    a[i+1] = 1/9 * a[i+1]\n",
    "    a[i-1] = 1/9 * a[i-1]\n",
    "    a[i] = (a[i+1]+a[i]+a[i-1])/3"
   ]
  },
  {
   "cell_type": "code",
   "execution_count": 13,
   "metadata": {},
   "outputs": [
    {
     "data": {
      "text/plain": [
       "[0.22432640688241962,\n",
       " 0.042108233400634625,\n",
       " 0.03872639770866635,\n",
       " 0.03508755156575279,\n",
       " 0.06036711178535445,\n",
       " 0.10185050962738745,\n",
       " 0.3372477616366177,\n",
       " 0.6296296296296295]"
      ]
     },
     "execution_count": 13,
     "metadata": {},
     "output_type": "execute_result"
    }
   ],
   "source": [
    "a"
   ]
  },
  {
   "cell_type": "code",
   "execution_count": null,
   "metadata": {},
   "outputs": [],
   "source": []
  }
 ],
 "metadata": {
  "kernelspec": {
   "display_name": "Python 3",
   "language": "python",
   "name": "python3"
  },
  "language_info": {
   "codemirror_mode": {
    "name": "ipython",
    "version": 3
   },
   "file_extension": ".py",
   "mimetype": "text/x-python",
   "name": "python",
   "nbconvert_exporter": "python",
   "pygments_lexer": "ipython3",
   "version": "3.7.4"
  }
 },
 "nbformat": 4,
 "nbformat_minor": 4
}
