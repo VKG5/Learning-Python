{
 "cells": [
  {
   "cell_type": "markdown",
   "metadata": {},
   "source": [
    "## Histogram Equalization"
   ]
  },
  {
   "cell_type": "code",
   "execution_count": 8,
   "metadata": {},
   "outputs": [],
   "source": [
    "import numpy as np"
   ]
  },
  {
   "cell_type": "code",
   "execution_count": 14,
   "metadata": {},
   "outputs": [
    {
     "name": "stdout",
     "output_type": "stream",
     "text": [
      "[1.0, 3.0, 4.0, 5.0, 5.0, 6.0, 6.0, 7.0]\n"
     ]
    }
   ],
   "source": [
    "# In case Size of image is not given\n",
    "\n",
    "intensity = [0,1,2,3,4,5,6,7]\n",
    "pix = [70,100,40,60,10,70,10,40]\n",
    "\n",
    "s = []\n",
    "size = np.sum(pix)\n",
    "\n",
    "for i in range(len(intensity)):\n",
    "    sum=0\n",
    "    for j in range(i+1):\n",
    "        sum+=pix[j]/(size)\n",
    "    s.append(round(sum*(len(intensity)-1)))\n",
    "\n",
    "print(s)"
   ]
  },
  {
   "cell_type": "code",
   "execution_count": 10,
   "metadata": {},
   "outputs": [
    {
     "name": "stdout",
     "output_type": "stream",
     "text": [
      "[1, 3, 5, 6, 6, 7, 7, 7]\n"
     ]
    }
   ],
   "source": [
    "# If image dimensions are given\n",
    "\n",
    "img_height, img_width = 8, 8\n",
    "\n",
    "intensity = [0,1,2,3,4,5,6,7]\n",
    "pix = [790,1023,850,656,329,245,122,81]\n",
    "\n",
    "s = []\n",
    "size = img_height*img_width\n",
    "\n",
    "for i in range(len(intensity)):\n",
    "    sum=0\n",
    "    for j in range(i+1):\n",
    "        sum+=pix[j]/(size*size)\n",
    "    s.append(round(sum*(len(intensity)-1)))\n",
    "\n",
    "print(s)"
   ]
  },
  {
   "cell_type": "markdown",
   "metadata": {},
   "source": [
    "## RGB to HSI"
   ]
  },
  {
   "cell_type": "code",
   "execution_count": 12,
   "metadata": {},
   "outputs": [
    {
     "name": "stdout",
     "output_type": "stream",
     "text": [
      "Hue is 2.0943951023931957\n",
      "Saturation is 0.9901315789473685\n",
      "Intensity is 101.33333333333333\n"
     ]
    }
   ],
   "source": [
    "r,g,b = (100,104,100)\n",
    "\n",
    "q_val = ( (0.5*((r-g)+(r-b))) / (((r-g)**2+(r-b)*(g-b))**(0.5)) )\n",
    "q = np.arccos(q_val)\n",
    "\n",
    "if(b<=g):\n",
    "    h = q\n",
    "    \n",
    "else:\n",
    "    h = 360 - q\n",
    "    \n",
    "s= 1- (3 / (r+g+b))\n",
    "i = (1/3)*(r+g+b)\n",
    "\n",
    "print('Hue is {}\\nSaturation is {}\\nIntensity is {}'.format(h,s,i))"
   ]
  },
  {
   "cell_type": "code",
   "execution_count": null,
   "metadata": {},
   "outputs": [],
   "source": []
  }
 ],
 "metadata": {
  "kernelspec": {
   "display_name": "Python 3",
   "language": "python",
   "name": "python3"
  },
  "language_info": {
   "codemirror_mode": {
    "name": "ipython",
    "version": 3
   },
   "file_extension": ".py",
   "mimetype": "text/x-python",
   "name": "python",
   "nbconvert_exporter": "python",
   "pygments_lexer": "ipython3",
   "version": "3.7.4"
  }
 },
 "nbformat": 4,
 "nbformat_minor": 2
}
