{
 "cells": [
  {
   "cell_type": "markdown",
   "metadata": {
    "id": "op4rJlKjcKNp"
   },
   "source": [
    "##Importing MNIST dataset\n"
   ]
  },
  {
   "cell_type": "code",
   "execution_count": 19,
   "metadata": {
    "colab": {
     "base_uri": "https://localhost:8080/",
     "height": 302
    },
    "id": "b3cDnw3IaRy4",
    "outputId": "b61391e0-158c-4325-aa5f-d07ad1a158b5"
   },
   "outputs": [
    {
     "name": "stdout",
     "output_type": "stream",
     "text": [
      "Train: X=(60000, 28, 28), y=(60000,)\n",
      "Test: X=(10000, 28, 28), y=(10000,)\n"
     ]
    },
    {
     "data": {
      "image/png": "[encoded data removed]",
      "text/plain": [
       "<Figure size 432x288 with 9 Axes>"
      ]
     },
     "metadata": {
      "needs_background": "light",
      "tags": []
     },
     "output_type": "display_data"
    }
   ],
   "source": [
    "# example of loading the mnist dataset\n",
    "from keras.datasets import mnist\n",
    "from matplotlib import pyplot\n",
    "# load dataset\n",
    "(trainX, trainy), (testX, testy) = mnist.load_data()\n",
    "# summarize loaded dataset\n",
    "print('Train: X=%s, y=%s' % (trainX.shape, trainy.shape))\n",
    "print('Test: X=%s, y=%s' % (testX.shape, testy.shape))\n",
    "# plot first few images\n",
    "for i in range(9):\n",
    "\t# define subplot\n",
    "\tpyplot.subplot(330 + 1 + i)\n",
    "\t# plot raw pixel data\n",
    "\tpyplot.imshow(trainX[i], cmap=pyplot.get_cmap('gray'))\n",
    "# show the figure\n",
    "pyplot.show()"
   ]
  },
  {
   "cell_type": "code",
   "execution_count": 20,
   "metadata": {
    "id": "ZBm8OzzidKCe"
   },
   "outputs": [],
   "source": [
    "# reshape dataset to have a single channel\n",
    "trainX = trainX.reshape((trainX.shape[0], 28, 28, 1))\n",
    "testX = testX.reshape((testX.shape[0], 28, 28, 1))"
   ]
  },
  {
   "cell_type": "markdown",
   "metadata": {
    "id": "gihGGYwrfgGI"
   },
   "source": [
    "## **One Hot Encoding**"
   ]
  },
  {
   "cell_type": "code",
   "execution_count": 21,
   "metadata": {
    "colab": {
     "base_uri": "https://localhost:8080/",
     "height": 50
    },
    "id": "3uZDfSFHd_s1",
    "outputId": "df71cdee-59c9-47a6-d981-05308c91ed3e"
   },
   "outputs": [
    {
     "name": "stdout",
     "output_type": "stream",
     "text": [
      "(60000, 10)\n",
      "(10000, 10)\n"
     ]
    }
   ],
   "source": [
    "import tensorflow as tf\n",
    "from tensorflow import keras\n",
    "from tensorflow.keras import layers\n",
    "from keras.layers import Dense\n",
    "from numpy import mean\n",
    "from numpy import std\n",
    "from matplotlib import pyplot\n",
    "from sklearn.model_selection import KFold\n",
    "from keras.datasets import mnist\n",
    "from keras.utils import to_categorical\n",
    "from keras.models import Sequential\n",
    "from keras.layers import Conv2D\n",
    "from keras.layers import MaxPooling2D\n",
    "from keras.layers import Dense\n",
    "from keras.layers import Flatten\n",
    "from keras.optimizers import SGD\n",
    "trainy = tf.keras.utils.to_categorical(trainy)\n",
    "testy = tf.keras.utils.to_categorical(testy)\n",
    "print(trainy.shape)\n",
    "print(testy.shape)"
   ]
  },
  {
   "cell_type": "code",
   "execution_count": 22,
   "metadata": {
    "colab": {
     "base_uri": "https://localhost:8080/",
     "height": 33
    },
    "id": "ED_7U6CWgHll",
    "outputId": "63d46ea0-a812-42df-96e4-79f29bb6d769"
   },
   "outputs": [
    {
     "data": {
      "text/plain": [
       "255"
      ]
     },
     "execution_count": 22,
     "metadata": {
      "tags": []
     },
     "output_type": "execute_result"
    }
   ],
   "source": [
    "import numpy as np\n",
    "np.max(testX)"
   ]
  },
  {
   "cell_type": "code",
   "execution_count": 23,
   "metadata": {
    "id": "hVoMoq9QgK5y"
   },
   "outputs": [],
   "source": [
    "# load train and test dataset\n",
    "def load_dataset():\n",
    "\t# load dataset\n",
    "\t(trainX, trainY), (testX, testY) = mnist.load_data()\n",
    "\t# reshape dataset to have a single channel\n",
    "\ttrainX = trainX.reshape((trainX.shape[0], 64, 64, 1))\n",
    "\ttestX = testX.reshape((testX.shape[0], 64, 64, 1))\n",
    "\t# one hot encode target values\n",
    "\ttrainY = to_categorical(trainY)\n",
    "\ttestY = to_categorical(testY)\n",
    "\treturn trainX, trainY, testX, testY"
   ]
  },
  {
   "cell_type": "code",
   "execution_count": 24,
   "metadata": {
    "id": "aDWneL1PgVMi"
   },
   "outputs": [],
   "source": [
    "\n",
    "# scale pixels\n",
    "def prep_pixels(train, test):\n",
    "\t# convert from integers to floats\n",
    "\ttrain_norm = train.astype('float32')\n",
    "\ttest_norm = test.astype('float32')\n",
    "\t# normalize to range 0-1\n",
    "\ttrain_norm = train_norm / 255.0\n",
    "\ttest_norm = test_norm / 255.0\n",
    "\t# return normalized images\n",
    "\treturn train_norm, test_norm\n",
    "\n",
    "trainX, testX = prep_pixels(trainX, testX)"
   ]
  },
  {
   "cell_type": "markdown",
   "metadata": {
    "id": "zekT36wwiYB6"
   },
   "source": [
    "##**Exploration 1.**\n",
    "\n",
    "Defining Model"
   ]
  },
  {
   "cell_type": "code",
   "execution_count": null,
   "metadata": {
    "id": "yud_2qdch3ci"
   },
   "outputs": [],
   "source": [
    "# define cnn model with n pixel size \n",
    "def define_model(n):\n",
    "\tmodel = Sequential()\n",
    "\tmodel.add(Conv2D(n, (3, 3), activation='relu',  input_shape=(28, 28, 1)))\n",
    "\tmodel.add(MaxPooling2D((2, 2)))\n",
    "\tmodel.add(Flatten())\n",
    "\tmodel.add(Dense(100, activation='relu'))\n",
    "\tmodel.add(Dense(10, activation='softmax'))\n",
    "\t# compile model\n",
    "\t#opt = SGD(lr=0.01, momentum=0.9)\n",
    "\tmodel.compile(optimizer='adam', loss='categorical_crossentropy', metrics=['accuracy'])\n",
    "\treturn model"
   ]
  },
  {
   "cell_type": "code",
   "execution_count": null,
   "metadata": {
    "id": "QGIgvLyJkzEj"
   },
   "outputs": [],
   "source": [
    "def general(n,x_train,y_train , X_test,y_test):\n",
    "  model = define_model(n)\n",
    "  model.fit(x_train, y_train, epochs=5,verbose = None,batch_size=32)\n",
    "      # sleeping for 1 sec to get 10 sec runtime\n",
    "  time.sleep(1)\n",
    "\n",
    "  # end time\n",
    "  end = time.time()\n",
    "  _, train_acc = model.evaluate(x_train, y_train)\n",
    "  _, test_acc = model.evaluate(X_test,y_test)\n",
    "\n",
    "  total = end-start\n",
    "  return train_acc, test_acc, total"
   ]
  },
  {
   "cell_type": "markdown",
   "metadata": {
    "id": "GM2-P17SkyQ6"
   },
   "source": []
  },
  {
   "cell_type": "code",
   "execution_count": null,
   "metadata": {
    "colab": {
     "base_uri": "https://localhost:8080/",
     "height": 217
    },
    "id": "a_BX4fT7lg4Y",
    "outputId": "32759a9f-9200-491e-f07d-e2ba06105de9"
   },
   "outputs": [
    {
     "name": "stdout",
     "output_type": "stream",
     "text": [
      "1875/1875 [==============================] - 11s 6ms/step - loss: 0.0468 - accuracy: 0.9854\n",
      "313/313 [==============================] - 2s 6ms/step - loss: 0.0732 - accuracy: 0.9772\n",
      "1875/1875 [==============================] - 10s 5ms/step - loss: 0.0352 - accuracy: 0.9891\n",
      "313/313 [==============================] - 2s 6ms/step - loss: 0.0627 - accuracy: 0.9803\n",
      "1875/1875 [==============================] - 14s 8ms/step - loss: 0.0109 - accuracy: 0.9966\n",
      "313/313 [==============================] - 2s 8ms/step - loss: 0.0505 - accuracy: 0.9852\n",
      "1875/1875 [==============================] - 26s 14ms/step - loss: 0.0056 - accuracy: 0.9983\n",
      "313/313 [==============================] - 4s 14ms/step - loss: 0.0383 - accuracy: 0.9868\n",
      "1875/1875 [==============================] - 74s 40ms/step - loss: 0.0074 - accuracy: 0.9976\n",
      "313/313 [==============================] - 12s 38ms/step - loss: 0.0531 - accuracy: 0.9859\n",
      "1875/1875 [==============================] - 271s 145ms/step - loss: 0.0076 - accuracy: 0.9973\n",
      "313/313 [==============================] - 44s 142ms/step - loss: 0.0581 - accuracy: 0.9840\n"
     ]
    }
   ],
   "source": [
    "import time\n",
    "train = []\n",
    "test = []\n",
    "total_time = []\n",
    "label = [3, 4, 32, 128, 512, 2056]\n",
    "for i in label:\n",
    "  train_acc, test_acc, total = general(i,trainX, trainy, testX,testy)\n",
    "  train.append(train_acc)\n",
    "  test.append(test_acc)\n",
    "  total_time.append(total)"
   ]
  },
  {
   "cell_type": "code",
   "execution_count": null,
   "metadata": {
    "colab": {
     "base_uri": "https://localhost:8080/",
     "height": 851
    },
    "id": "sYWICY7Io0ul",
    "outputId": "aecbec52-b8a3-4120-f8f1-beadd7c48921"
   },
   "outputs": [
    {
     "data": {
      "image/png": "[encoded data removed]",
      "text/plain": [
       "<Figure size 432x288 with 1 Axes>"
      ]
     },
     "metadata": {
      "needs_background": "light",
      "tags": []
     },
     "output_type": "display_data"
    },
    {
     "data": {
      "image/png": "[encoded data removed]",
      "text/plain": [
       "<Figure size 432x288 with 1 Axes>"
      ]
     },
     "metadata": {
      "needs_background": "light",
      "tags": []
     },
     "output_type": "display_data"
    },
    {
     "data": {
      "image/png": "[encoded data removed]",
      "text/plain": [
       "<Figure size 432x288 with 1 Axes>"
      ]
     },
     "metadata": {
      "needs_background": "light",
      "tags": []
     },
     "output_type": "display_data"
    }
   ],
   "source": [
    "import matplotlib.pyplot as plt \n",
    "# creating the bar plot \n",
    "plt.bar(label, train, width = 10) \n",
    "\n",
    "plt.xlabel(\"No. of Nodes\") \n",
    "plt.ylabel(\"Training Accuracy\") \n",
    "plt.title(\"Training Acc v/s No. of Nodes\") \n",
    "plt.show() \n",
    "\n",
    "plt.bar(label, test, width = 10 ) \n",
    "  \n",
    "plt.xlabel(\"No. of Nodes\") \n",
    "plt.ylabel(\"Testing Accuracy\") \n",
    "plt.title(\"Testing Acc v/s No. of Nodes\") \n",
    "plt.show() \n",
    "\n",
    "plt.bar(label, total_time, width = 10 ) \n",
    "  \n",
    "plt.xlabel(\"No. of Nodes\") \n",
    "plt.ylabel(\"Running Time\") \n",
    "plt.title(\"Running Time v/s No. of Nodes\") \n",
    "plt.show() "
   ]
  },
  {
   "cell_type": "markdown",
   "metadata": {
    "id": "ZCJRvT8W9Ufm"
   },
   "source": [
    "##2. Number of Layers:"
   ]
  },
  {
   "cell_type": "code",
   "execution_count": 27,
   "metadata": {
    "id": "jC4Yw-kUq624"
   },
   "outputs": [],
   "source": [
    "def model_lay(n,x_train,y_train,X_test,y_test):\n",
    "  model = keras.Sequential()\n",
    "  if(n==1):\n",
    "    model.add(Conv2D(n, (3, 3), activation='relu',  input_shape=(28, 28, 1)))\n",
    "    model.add(MaxPooling2D((2, 2)))\n",
    "    model.add(Flatten())\n",
    "    model.add(Dense(100, activation='relu'))\n",
    "    model.add(Dense(10, activation='softmax'))\n",
    "\n",
    "  elif(n==2):\n",
    "    model.add(Conv2D(n, (3, 3), activation='relu',  input_shape=(28, 28, 1)))\n",
    "    model.add(MaxPooling2D((2, 2)))\n",
    "  \n",
    "    model.add(Conv2D(n, (3, 3), activation='relu'))\n",
    "    model.add(MaxPooling2D((2, 2)))\n",
    "    model.add(Flatten())\n",
    "    model.add(Dense(100, activation='relu'))\n",
    "    model.add(Dense(10, activation='softmax'))\n",
    "\n",
    "  elif(n==3):\n",
    "    model.add(Conv2D(n, (3, 3), activation='relu',  input_shape=(28, 28, 1)))\n",
    "    model.add(MaxPooling2D((2, 2)))\n",
    "\n",
    "    model.add(Conv2D(n, (3, 3), activation='relu'))\n",
    "    model.add(MaxPooling2D((2, 2)))\n",
    "\n",
    "    model.add(Conv2D(n, (3, 3), activation='relu'))\n",
    "    model.add(MaxPooling2D((2, 2)))\n",
    "    model.add(Flatten())\n",
    "\n",
    "    model.add(Dense(100, activation='relu'))\n",
    "    model.add(Dense(10, activation='softmax'))\n",
    "\n",
    "  elif(n==4):\n",
    "    model.add(Conv2D(n, (3, 3), activation='relu',  input_shape=(28, 28, 1)))\n",
    "    model.add(MaxPooling2D((2, 2)))\n",
    "\n",
    "    model.add(Conv2D(n, (3, 3), activation='relu'))\n",
    "    model.add(MaxPooling2D((2, 2)))\n",
    "\n",
    "    model.add(Conv2D(n, (3, 3), activation='relu'))\n",
    "    model.add(MaxPooling2D((2, 2)))\n",
    "\n",
    "    model.add(Conv2D(n, (3, 3), activation='relu'))\n",
    "    model.add(MaxPooling2D((2, 2)))\n",
    "    model.add(Flatten())\n",
    "\n",
    "    model.add(Dense(100, activation='relu'))\n",
    "    model.add(Dense(10, activation='softmax'))\n",
    "  \n",
    "  model.compile(loss='binary_crossentropy', optimizer='adam', metrics=['accuracy'])\n",
    "  start = time.time()\n",
    "  model.fit(x_train, y_train, epochs=5,verbose = None,batch_size=32)\n",
    "      # sleeping for 1 sec to get 10 sec runtime\n",
    "  time.sleep(1)\n",
    "\n",
    "  # end time\n",
    "  end = time.time()\n",
    "  _, train_acc = model.evaluate(x_train, y_train)\n",
    "  _, test_acc = model.evaluate(X_test,y_test)\n",
    "\n",
    "  total = end-start\n",
    "  return train_acc, test_acc, total"
   ]
  },
  {
   "cell_type": "code",
   "execution_count": null,
   "metadata": {
    "colab": {
     "base_uri": "https://localhost:8080/",
     "height": 117
    },
    "id": "3pd12n7nq-fc",
    "outputId": "728c7fea-36a2-4698-dd32-5b546d8218e8"
   },
   "outputs": [
    {
     "name": "stdout",
     "output_type": "stream",
     "text": [
      "1875/1875 [==============================] - 9s 5ms/step - loss: 0.0254 - accuracy: 0.9546\n",
      "313/313 [==============================] - 2s 5ms/step - loss: 0.0283 - accuracy: 0.9493\n",
      "1875/1875 [==============================] - 11s 6ms/step - loss: 0.0161 - accuracy: 0.9717\n",
      "313/313 [==============================] - 2s 6ms/step - loss: 0.0181 - accuracy: 0.9682\n",
      "1875/1875 [==============================] - 11s 6ms/step - loss: 0.1115 - accuracy: 0.7701\n",
      "313/313 [==============================] - 2s 7ms/step - loss: 0.1078 - accuracy: 0.7802\n"
     ]
    }
   ],
   "source": [
    "import time\n",
    "train = []\n",
    "test = []\n",
    "total_time = []\n",
    "label = [1,2,3]\n",
    "for i in label:\n",
    "  train_acc, test_acc, total = model_lay(i,trainX, trainy, testX,testy)\n",
    "  train.append(train_acc)\n",
    "  test.append(test_acc)\n",
    "  total_time.append(total)\n"
   ]
  },
  {
   "cell_type": "code",
   "execution_count": null,
   "metadata": {
    "colab": {
     "base_uri": "https://localhost:8080/",
     "height": 851
    },
    "id": "xlk7S0qTB5wh",
    "outputId": "0ead4598-e4e8-4e66-8756-742ae11861d8"
   },
   "outputs": [
    {
     "data": {
      "image/png": "[encoded data removed]",
      "text/plain": [
       "<Figure size 432x288 with 1 Axes>"
      ]
     },
     "metadata": {
      "needs_background": "light",
      "tags": []
     },
     "output_type": "display_data"
    },
    {
     "data": {
      "image/png": "[encoded data removed]",
      "text/plain": [
       "<Figure size 432x288 with 1 Axes>"
      ]
     },
     "metadata": {
      "needs_background": "light",
      "tags": []
     },
     "output_type": "display_data"
    },
    {
     "data": {
      "image/png": "[encoded data removed]",
      "text/plain": [
       "<Figure size 432x288 with 1 Axes>"
      ]
     },
     "metadata": {
      "needs_background": "light",
      "tags": []
     },
     "output_type": "display_data"
    }
   ],
   "source": [
    "import matplotlib.pyplot as plt \n",
    "# creating the bar plot \n",
    "plt.bar(label, train) \n",
    "\n",
    "plt.xlabel(\"No. of Layers\") \n",
    "plt.ylabel(\"Training Accuracy\") \n",
    "plt.title(\"Training Acc v/s No. of Layers\") \n",
    "plt.show() \n",
    "\n",
    "plt.bar(label, test ) \n",
    "  \n",
    "plt.xlabel(\"No. of Layers\") \n",
    "plt.ylabel(\"Testing Accuracy\") \n",
    "plt.title(\"Testing Acc v/s No. of Layers\") \n",
    "plt.show() \n",
    "\n",
    "plt.bar(label, total_time ) \n",
    "  \n",
    "plt.xlabel(\"No. of Layers\") \n",
    "plt.ylabel(\"Running Time\") \n",
    "plt.title(\"Running Time v/s No. of Layers\") \n",
    "plt.show() "
   ]
  },
  {
   "cell_type": "markdown",
   "metadata": {
    "id": "FHoYwVrrC3zs"
   },
   "source": [
    "##3. Size of Filters:"
   ]
  },
  {
   "cell_type": "code",
   "execution_count": null,
   "metadata": {
    "id": "KgBVFxvzC8OM"
   },
   "outputs": [],
   "source": [
    "def filter(n,x_train,y_train , X_test,y_test):\n",
    "  model = keras.Sequential()\n",
    "  model.add(Conv2D(16, (n, n), activation='relu',  input_shape=(28, 28, 1)))\n",
    "  model.add(MaxPooling2D((2, 2)))\n",
    "\n",
    "  model.add(Conv2D(16, (n, n), activation='relu'))\n",
    "  model.add(MaxPooling2D((2, 2)))\n",
    "  model.add(Flatten())\n",
    "  model.add(Dense(100, activation='relu'))\n",
    "  model.add(Dense(10, activation='softmax'))\n",
    "  \n",
    "  model.compile(optimizer='adam', loss='categorical_crossentropy', metrics=['accuracy'])\n",
    "  start = time.time()\n",
    "  model.fit(x_train, y_train, epochs=5,verbose = None,batch_size=32)\n",
    "      # sleeping for 1 sec to get 10 sec runtime\n",
    "  time.sleep(1)\n",
    "\n",
    "  # end time\n",
    "  end = time.time()\n",
    "  _, train_acc = model.evaluate(x_train, y_train)\n",
    "  _, test_acc = model.evaluate(X_test,y_test)\n",
    "\n",
    "  total = end-start\n",
    "  return train_acc, test_acc, total"
   ]
  },
  {
   "cell_type": "code",
   "execution_count": null,
   "metadata": {
    "colab": {
     "base_uri": "https://localhost:8080/",
     "height": 117
    },
    "id": "ueliNlXgDkND",
    "outputId": "d7f97137-88f5-48af-828e-98ce9d1a696c"
   },
   "outputs": [
    {
     "name": "stdout",
     "output_type": "stream",
     "text": [
      "1875/1875 [==============================] - 12s 6ms/step - loss: 0.0187 - accuracy: 0.9940\n",
      "313/313 [==============================] - 2s 7ms/step - loss: 0.0362 - accuracy: 0.9888\n",
      "1875/1875 [==============================] - 11s 6ms/step - loss: 0.0163 - accuracy: 0.9951\n",
      "313/313 [==============================] - 2s 6ms/step - loss: 0.0318 - accuracy: 0.9900\n",
      "1875/1875 [==============================] - 10s 6ms/step - loss: 0.0293 - accuracy: 0.9906\n",
      "313/313 [==============================] - 2s 6ms/step - loss: 0.0397 - accuracy: 0.9862\n"
     ]
    }
   ],
   "source": [
    "import time\n",
    "train = []\n",
    "test = []\n",
    "total_time = []\n",
    "label = [3,5,7]\n",
    "for i in label:\n",
    "  train_acc, test_acc, total = filter(i,trainX, trainy, testX,testy)\n",
    "  train.append(train_acc)\n",
    "  test.append(test_acc)\n",
    "  total_time.append(total)\n"
   ]
  },
  {
   "cell_type": "code",
   "execution_count": null,
   "metadata": {
    "colab": {
     "base_uri": "https://localhost:8080/",
     "height": 851
    },
    "id": "zXMgskOMD0_F",
    "outputId": "c13c39a6-6cd3-4a45-c15a-04ab075d390d"
   },
   "outputs": [
    {
     "data": {
      "image/png": "[encoded data removed]",
      "text/plain": [
       "<Figure size 432x288 with 1 Axes>"
      ]
     },
     "metadata": {
      "needs_background": "light",
      "tags": []
     },
     "output_type": "display_data"
    },
    {
     "data": {
      "image/png": "[encoded data removed]",
      "text/plain": [
       "<Figure size 432x288 with 1 Axes>"
      ]
     },
     "metadata": {
      "needs_background": "light",
      "tags": []
     },
     "output_type": "display_data"
    },
    {
     "data": {
      "image/png": "[encoded data removed]",
      "text/plain": [
       "<Figure size 432x288 with 1 Axes>"
      ]
     },
     "metadata": {
      "needs_background": "light",
      "tags": []
     },
     "output_type": "display_data"
    }
   ],
   "source": [
    "import matplotlib.pyplot as plt \n",
    "# creating the bar plot \n",
    "plt.bar(label, train) \n",
    "\n",
    "plt.xlabel(\"No. of Filters\") \n",
    "plt.ylabel(\"Training Accuracy\") \n",
    "plt.title(\"Training Acc v/s No. of Layers\") \n",
    "plt.show() \n",
    "\n",
    "plt.bar(label, test ) \n",
    "  \n",
    "plt.xlabel(\"No. of Filters\") \n",
    "plt.ylabel(\"Testing Accuracy\") \n",
    "plt.title(\"Testing Acc v/s No. of Layers\") \n",
    "plt.show() \n",
    "\n",
    "plt.bar(label, total_time ) \n",
    "  \n",
    "plt.xlabel(\"No. of Filters\") \n",
    "plt.ylabel(\"Running Time\") \n",
    "plt.title(\"Running Time v/s No. of Layers\") \n",
    "plt.show() "
   ]
  },
  {
   "cell_type": "markdown",
   "metadata": {
    "id": "lC_prpRGD0Li"
   },
   "source": [
    "##4. Activation function"
   ]
  },
  {
   "cell_type": "code",
   "execution_count": 7,
   "metadata": {
    "id": "iCoOMyGrECrb"
   },
   "outputs": [],
   "source": [
    "def filter(activation,x_train,y_train , X_test,y_test):\n",
    "  model = Sequential()\n",
    "  model.add(Conv2D(16, (3, 3), activation=activation,  input_shape=(28, 28, 1)))\n",
    "  model.add(MaxPooling2D((2, 2)))\n",
    "\n",
    "  model.add(Conv2D(16, (3, 3), activation=activation))\n",
    "  model.add(MaxPooling2D((2, 2)))\n",
    "  model.add(Flatten())\n",
    "  model.add(Dense(100, activation=activation))\n",
    "  model.add(Dense(10, activation='softmax'))\n",
    "  model.compile(optimizer='adam', loss='categorical_crossentropy', metrics=['accuracy'])\n",
    "  start = time.time()\n",
    "  model.fit(x_train, y_train, epochs=10,verbose = None,batch_size=32)\n",
    "  # sleeping for 1 sec to get 10 sec runtime\n",
    "  time.sleep(1)\n",
    "\n",
    "  # end time\n",
    "  end = time.time()\n",
    "  _, train_acc = model.evaluate(x_train, y_train)\n",
    "  _, test_acc = model.evaluate(X_test,y_test)\n",
    "\n",
    "  total = end-start\n",
    "  return train_acc, test_acc, total"
   ]
  },
  {
   "cell_type": "code",
   "execution_count": 8,
   "metadata": {
    "colab": {
     "base_uri": "https://localhost:8080/",
     "height": 117
    },
    "id": "siUtmBE6E8yN",
    "outputId": "0de63ea6-7063-41a1-f096-ddcb79825244"
   },
   "outputs": [
    {
     "name": "stdout",
     "output_type": "stream",
     "text": [
      "1875/1875 [==============================] - 12s 6ms/step - loss: 0.0377 - accuracy: 0.9880\n",
      "313/313 [==============================] - 2s 6ms/step - loss: 0.0479 - accuracy: 0.9840\n",
      "1875/1875 [==============================] - 12s 6ms/step - loss: 0.0042 - accuracy: 0.9991\n",
      "313/313 [==============================] - 2s 7ms/step - loss: 0.0338 - accuracy: 0.9890\n",
      "1875/1875 [==============================] - 12s 6ms/step - loss: 0.0071 - accuracy: 0.9981\n",
      "313/313 [==============================] - 2s 7ms/step - loss: 0.0371 - accuracy: 0.9893\n"
     ]
    }
   ],
   "source": [
    "import time\n",
    "train = []\n",
    "test = []\n",
    "total_time = []\n",
    "label = ['sigmoid','tanh', 'relu']\n",
    "for i in label:\n",
    "  train_acc, test_acc, total = filter(i,trainX, trainy, testX,testy)\n",
    "  train.append(train_acc)\n",
    "  test.append(test_acc)\n",
    "  total_time.append(total)\n"
   ]
  },
  {
   "cell_type": "code",
   "execution_count": 9,
   "metadata": {
    "colab": {
     "base_uri": "https://localhost:8080/",
     "height": 851
    },
    "id": "6yqzd3GbTf-1",
    "outputId": "20db30fc-d05f-4114-ade3-8176a2904807"
   },
   "outputs": [
    {
     "data": {
      "image/png": "[encoded data removed]",
      "text/plain": [
       "<Figure size 432x288 with 1 Axes>"
      ]
     },
     "metadata": {
      "needs_background": "light",
      "tags": []
     },
     "output_type": "display_data"
    },
    {
     "data": {
      "image/png": "[encoded data removed]",
      "text/plain": [
       "<Figure size 432x288 with 1 Axes>"
      ]
     },
     "metadata": {
      "needs_background": "light",
      "tags": []
     },
     "output_type": "display_data"
    },
    {
     "data": {
      "image/png": "[encoded data removed]",
      "text/plain": [
       "<Figure size 432x288 with 1 Axes>"
      ]
     },
     "metadata": {
      "needs_background": "light",
      "tags": []
     },
     "output_type": "display_data"
    }
   ],
   "source": [
    "import matplotlib.pyplot as plt \n",
    "# creating the bar plot \n",
    "plt.bar(label, train) \n",
    "\n",
    "plt.xlabel(\"Activation Function\") \n",
    "plt.ylabel(\"Training Accuracy\") \n",
    "plt.title(\"Training Acc v/s No. of Layers\") \n",
    "plt.show() \n",
    "\n",
    "plt.bar(label, test ) \n",
    "  \n",
    "plt.xlabel(\"Activation Function\") \n",
    "plt.ylabel(\"Testing Accuracy\") \n",
    "plt.title(\"Testing Acc v/s No. of Layers\") \n",
    "plt.show() \n",
    "\n",
    "plt.bar(label, total_time ) \n",
    "  \n",
    "plt.xlabel(\"Activation Function\") \n",
    "plt.ylabel(\"Running Time\") \n",
    "plt.title(\"Running Time v/s No. of Layers\") \n",
    "plt.show() "
   ]
  },
  {
   "cell_type": "markdown",
   "metadata": {
    "id": "QDJvw-mnE8OD"
   },
   "source": [
    "Run the same models for 10 epochs. Any changes?"
   ]
  },
  {
   "cell_type": "markdown",
   "metadata": {
    "id": "laAUlzyH73ST"
   },
   "source": [
    "Accuracy has increased"
   ]
  },
  {
   "cell_type": "code",
   "execution_count": null,
   "metadata": {
    "id": "Grzs_ydI4M_X"
   },
   "outputs": [],
   "source": []
  },
  {
   "cell_type": "markdown",
   "metadata": {
    "id": "jBiBtqrT4myI"
   },
   "source": [
    "###5. Filter Size combinations"
   ]
  },
  {
   "cell_type": "code",
   "execution_count": 13,
   "metadata": {
    "id": "FjWKdqSD4ppv"
   },
   "outputs": [],
   "source": [
    "def filter_size(m,n,x_train,y_train , X_test,y_test):\n",
    "  model = keras.Sequential()\n",
    "  model.add(Conv2D(16, (m, m), activation='relu',  input_shape=(28, 28, 1)))\n",
    "  model.add(MaxPooling2D((2, 2)))\n",
    "\n",
    "  model.add(Conv2D(16, (n, n), activation='relu'))\n",
    "  model.add(MaxPooling2D((2, 2)))\n",
    "  model.add(Flatten())\n",
    "  model.add(Dense(100, activation='relu'))\n",
    "  model.add(Dense(10, activation='softmax'))\n",
    "  \n",
    "  model.compile(optimizer='adam', loss='categorical_crossentropy', metrics=['accuracy'])\n",
    "  start = time.time()\n",
    "  model.fit(x_train, y_train, epochs=5,verbose = None,batch_size=32)\n",
    "      # sleeping for 1 sec to get 10 sec runtime\n",
    "  time.sleep(1)\n",
    "\n",
    "  # end time\n",
    "  end = time.time()\n",
    "  _, train_acc = model.evaluate(x_train, y_train)\n",
    "  _, test_acc = model.evaluate(X_test,y_test)\n",
    "\n",
    "  total = end-start\n",
    "  return train_acc, test_acc, total"
   ]
  },
  {
   "cell_type": "code",
   "execution_count": 14,
   "metadata": {
    "colab": {
     "base_uri": "https://localhost:8080/",
     "height": 84
    },
    "id": "UzBIvLWr5cTx",
    "outputId": "fc3d4154-fe82-4753-940f-abb8a6d345a3"
   },
   "outputs": [
    {
     "name": "stdout",
     "output_type": "stream",
     "text": [
      "1875/1875 [==============================] - 13s 7ms/step - loss: 0.0186 - accuracy: 0.9944\n",
      "313/313 [==============================] - 2s 7ms/step - loss: 0.0325 - accuracy: 0.9903\n",
      "The Training Accuray:  0.9944166541099548\n",
      "The Testing Accuracy:  0.9902999997138977\n"
     ]
    }
   ],
   "source": [
    "import time\n",
    "\n",
    "train_acc, test_acc, total = filter_size(3,5,trainX, trainy, testX,testy)\n",
    "print(\"The Training Accuray: \",train_acc)\n",
    "print(\"The Testing Accuracy: \", test_acc)"
   ]
  },
  {
   "cell_type": "markdown",
   "metadata": {
    "id": "oyDLRoYS_1Fv"
   },
   "source": [
    "##6. Layer-filter combinations\n",
    "Decreasing filters"
   ]
  },
  {
   "cell_type": "code",
   "execution_count": 17,
   "metadata": {
    "id": "J_drkjQi9DIS"
   },
   "outputs": [],
   "source": [
    "def layer_filter(a,b,c,x_train,y_train , X_test,y_test):\n",
    "  model = keras.Sequential()\n",
    "  model.add(Conv2D(a, (3, 3), activation='relu',  input_shape=(28, 28, 1)))\n",
    "  model.add(MaxPooling2D((2, 2)))\n",
    "\n",
    "  model.add(Conv2D(b, (3, 3), activation='relu'))\n",
    "  model.add(MaxPooling2D((2, 2)))\n",
    "  \n",
    "  model.add(Conv2D(c, (3, 3), activation='relu'))\n",
    "  model.add(MaxPooling2D((2, 2)))\n",
    "\n",
    "  model.add(Flatten())\n",
    "\n",
    "  model.add(Dense(100, activation='relu'))\n",
    "  model.add(Dense(10, activation='softmax'))\n",
    "  \n",
    "  model.compile(optimizer='adam', loss='categorical_crossentropy', metrics=['accuracy'])\n",
    "  start = time.time()\n",
    "  model.fit(x_train, y_train, epochs=5,verbose = None,batch_size=32)\n",
    "      # sleeping for 1 sec to get 10 sec runtime\n",
    "  time.sleep(1)\n",
    "\n",
    "  # end time\n",
    "  end = time.time()\n",
    "  _, train_acc = model.evaluate(x_train, y_train)\n",
    "  _, test_acc = model.evaluate(X_test,y_test)\n",
    "\n",
    "  total = end-start\n",
    "  return train_acc, test_acc, total"
   ]
  },
  {
   "cell_type": "code",
   "execution_count": 25,
   "metadata": {
    "colab": {
     "base_uri": "https://localhost:8080/",
     "height": 217
    },
    "id": "yT919qIPB_iB",
    "outputId": "bd1a09e0-89d4-449b-8e47-62a9682811b9"
   },
   "outputs": [
    {
     "name": "stdout",
     "output_type": "stream",
     "text": [
      "For decreasing filter\n",
      "1875/1875 [==============================] - 19s 10ms/step - loss: 0.0386 - accuracy: 0.9878\n",
      "313/313 [==============================] - 3s 10ms/step - loss: 0.0547 - accuracy: 0.9840\n",
      "The Training Accuray:  0.987766683101654\n",
      "The Testing Accuracy:  0.984000027179718\n",
      "\n",
      "\n",
      "For increasing filters\n",
      "1875/1875 [==============================] - 13s 7ms/step - loss: 0.0364 - accuracy: 0.9883\n",
      "313/313 [==============================] - 2s 8ms/step - loss: 0.0539 - accuracy: 0.9832\n",
      "The Training Accuray:  0.9882833361625671\n",
      "The Testing Accuracy:  0.9832000136375427\n"
     ]
    }
   ],
   "source": [
    "import time\n",
    "print(\"For decreasing filter\")\n",
    "train_acc, test_acc, total = layer_filter(64,32,16,trainX, trainy, testX,testy)\n",
    "print(\"The Training Accuray: \",train_acc)\n",
    "print(\"The Testing Accuracy: \", test_acc)\n",
    "print('\\n\\nFor increasing filters')\n",
    "train_acc, test_acc, total = layer_filter(16,32,64,trainX, trainy, testX,testy)\n",
    "print(\"The Training Accuray: \",train_acc)\n",
    "print(\"The Testing Accuracy: \", test_acc)"
   ]
  },
  {
   "cell_type": "markdown",
   "metadata": {
    "id": "jxmFr9jdibCC"
   },
   "source": [
    "##7. Influence of Striding:"
   ]
  },
  {
   "cell_type": "code",
   "execution_count": 34,
   "metadata": {
    "id": "bNlyXELyF4YA"
   },
   "outputs": [],
   "source": [
    "def stride(n,filter,x_train,y_train , X_test,y_test):\n",
    "  model = keras.Sequential()\n",
    "  model.add(Conv2D(32, (filter, filter), strides=(n,n) ,activation='relu',  input_shape=(28, 28, 1)))\n",
    "  model.add(MaxPooling2D((2, 2)))\n",
    "\n",
    "  model.add(Conv2D(32, (filter, filter), strides=(n,n), activation='relu'))\n",
    "  model.add(MaxPooling2D((2, 2)))\n",
    "\n",
    "  model.add(Flatten())\n",
    "\n",
    "  model.add(Dense(100, activation='relu'))\n",
    "  model.add(Dense(10, activation='softmax'))\n",
    "  \n",
    "  model.compile(optimizer='adam', loss='categorical_crossentropy', metrics=['accuracy'])\n",
    "  start = time.time()\n",
    "  model.fit(x_train, y_train, epochs=5,verbose = None,batch_size=32)\n",
    "      # sleeping for 1 sec to get 10 sec runtime\n",
    "  time.sleep(1)\n",
    "\n",
    "  # end time\n",
    "  end = time.time()\n",
    "  _, train_acc = model.evaluate(x_train, y_train)\n",
    "  _, test_acc = model.evaluate(X_test,y_test)\n",
    "\n",
    "  total = end-start\n",
    "  return train_acc, test_acc, total\n"
   ]
  },
  {
   "cell_type": "code",
   "execution_count": 33,
   "metadata": {
    "colab": {
     "base_uri": "https://localhost:8080/",
     "height": 520
    },
    "id": "HXkvRLFfjYjj",
    "outputId": "c7586ff3-d173-46e3-c9ad-2e4da312bc30"
   },
   "outputs": [
    {
     "name": "stdout",
     "output_type": "stream",
     "text": [
      "1875/1875 [==============================] - 11s 6ms/step - loss: 0.0163 - accuracy: 0.9712\n",
      "313/313 [==============================] - 2s 6ms/step - loss: 0.0168 - accuracy: 0.9693\n",
      "1875/1875 [==============================] - 4s 2ms/step - loss: 0.0704 - accuracy: 0.9784\n",
      "313/313 [==============================] - 1s 2ms/step - loss: 0.0853 - accuracy: 0.9741\n"
     ]
    },
    {
     "ename": "ValueError",
     "evalue": "ignored",
     "output_type": "error",
     "traceback": [
      "\u001b[0;31m---------------------------------------------------------------------------\u001b[0m",
      "\u001b[0;31mInvalidArgumentError\u001b[0m                      Traceback (most recent call last)",
      "\u001b[0;32m/usr/local/lib/python3.6/dist-packages/tensorflow/python/framework/ops.py\u001b[0m in \u001b[0;36m_create_c_op\u001b[0;34m(graph, node_def, inputs, control_inputs, op_def)\u001b[0m\n\u001b[1;32m   1811\u001b[0m   \u001b[0;32mtry\u001b[0m\u001b[0;34m:\u001b[0m\u001b[0;34m\u001b[0m\u001b[0;34m\u001b[0m\u001b[0m\n\u001b[0;32m-> 1812\u001b[0;31m     \u001b[0mc_op\u001b[0m \u001b[0;34m=\u001b[0m \u001b[0mpywrap_tf_session\u001b[0m\u001b[0;34m.\u001b[0m\u001b[0mTF_FinishOperation\u001b[0m\u001b[0;34m(\u001b[0m\u001b[0mop_desc\u001b[0m\u001b[0;34m)\u001b[0m\u001b[0;34m\u001b[0m\u001b[0;34m\u001b[0m\u001b[0m\n\u001b[0m\u001b[1;32m   1813\u001b[0m   \u001b[0;32mexcept\u001b[0m \u001b[0merrors\u001b[0m\u001b[0;34m.\u001b[0m\u001b[0mInvalidArgumentError\u001b[0m \u001b[0;32mas\u001b[0m \u001b[0me\u001b[0m\u001b[0;34m:\u001b[0m\u001b[0;34m\u001b[0m\u001b[0;34m\u001b[0m\u001b[0m\n",
      "\u001b[0;31mInvalidArgumentError\u001b[0m: Negative dimension size caused by subtracting 2 from 1 for '{{node max_pooling2d_30/MaxPool}} = MaxPool[T=DT_FLOAT, data_format=\"NHWC\", ksize=[1, 2, 2, 1], padding=\"VALID\", strides=[1, 2, 2, 1]](conv2d_30/Relu)' with input shapes: [?,1,1,32].",
      "\nDuring handling of the above exception, another exception occurred:\n",
      "\u001b[0;31mValueError\u001b[0m                                Traceback (most recent call last)",
      "\u001b[0;32m<ipython-input-33-9c5fd68fb1e1>\u001b[0m in \u001b[0;36m<module>\u001b[0;34m()\u001b[0m\n\u001b[1;32m     10\u001b[0m \u001b[0;32mfor\u001b[0m \u001b[0mi\u001b[0m \u001b[0;32min\u001b[0m \u001b[0mlabel\u001b[0m\u001b[0;34m:\u001b[0m\u001b[0;34m\u001b[0m\u001b[0;34m\u001b[0m\u001b[0m\n\u001b[1;32m     11\u001b[0m \u001b[0;34m\u001b[0m\u001b[0m\n\u001b[0;32m---> 12\u001b[0;31m   \u001b[0mtrain_acc\u001b[0m\u001b[0;34m,\u001b[0m \u001b[0mtest_acc\u001b[0m\u001b[0;34m,\u001b[0m \u001b[0mtotal\u001b[0m \u001b[0;34m=\u001b[0m \u001b[0mstride\u001b[0m\u001b[0;34m(\u001b[0m\u001b[0mi\u001b[0m\u001b[0;34m,\u001b[0m\u001b[0mtrainX\u001b[0m\u001b[0;34m,\u001b[0m \u001b[0mtrainy\u001b[0m\u001b[0;34m,\u001b[0m \u001b[0mtestX\u001b[0m\u001b[0;34m,\u001b[0m\u001b[0mtesty\u001b[0m\u001b[0;34m)\u001b[0m\u001b[0;34m\u001b[0m\u001b[0;34m\u001b[0m\u001b[0m\n\u001b[0m\u001b[1;32m     13\u001b[0m   \u001b[0mtrain\u001b[0m\u001b[0;34m.\u001b[0m\u001b[0mappend\u001b[0m\u001b[0;34m(\u001b[0m\u001b[0mtrain_acc\u001b[0m\u001b[0;34m)\u001b[0m\u001b[0;34m\u001b[0m\u001b[0;34m\u001b[0m\u001b[0m\n\u001b[1;32m     14\u001b[0m   \u001b[0mtest\u001b[0m\u001b[0;34m.\u001b[0m\u001b[0mappend\u001b[0m\u001b[0;34m(\u001b[0m\u001b[0mtest_acc\u001b[0m\u001b[0;34m)\u001b[0m\u001b[0;34m\u001b[0m\u001b[0;34m\u001b[0m\u001b[0m\n",
      "\u001b[0;32m<ipython-input-26-80fcab3a28d9>\u001b[0m in \u001b[0;36mstride\u001b[0;34m(n, x_train, y_train, X_test, y_test)\u001b[0m\n\u001b[1;32m      5\u001b[0m \u001b[0;34m\u001b[0m\u001b[0m\n\u001b[1;32m      6\u001b[0m   \u001b[0mmodel\u001b[0m\u001b[0;34m.\u001b[0m\u001b[0madd\u001b[0m\u001b[0;34m(\u001b[0m\u001b[0mConv2D\u001b[0m\u001b[0;34m(\u001b[0m\u001b[0;36m32\u001b[0m\u001b[0;34m,\u001b[0m \u001b[0;34m(\u001b[0m\u001b[0;36m3\u001b[0m\u001b[0;34m,\u001b[0m \u001b[0;36m3\u001b[0m\u001b[0;34m)\u001b[0m\u001b[0;34m,\u001b[0m \u001b[0mstrides\u001b[0m\u001b[0;34m=\u001b[0m\u001b[0;34m(\u001b[0m\u001b[0mn\u001b[0m\u001b[0;34m,\u001b[0m\u001b[0mn\u001b[0m\u001b[0;34m)\u001b[0m\u001b[0;34m,\u001b[0m \u001b[0mactivation\u001b[0m\u001b[0;34m=\u001b[0m\u001b[0;34m'relu'\u001b[0m\u001b[0;34m)\u001b[0m\u001b[0;34m)\u001b[0m\u001b[0;34m\u001b[0m\u001b[0;34m\u001b[0m\u001b[0m\n\u001b[0;32m----> 7\u001b[0;31m   \u001b[0mmodel\u001b[0m\u001b[0;34m.\u001b[0m\u001b[0madd\u001b[0m\u001b[0;34m(\u001b[0m\u001b[0mMaxPooling2D\u001b[0m\u001b[0;34m(\u001b[0m\u001b[0;34m(\u001b[0m\u001b[0;36m2\u001b[0m\u001b[0;34m,\u001b[0m \u001b[0;36m2\u001b[0m\u001b[0;34m)\u001b[0m\u001b[0;34m)\u001b[0m\u001b[0;34m)\u001b[0m\u001b[0;34m\u001b[0m\u001b[0;34m\u001b[0m\u001b[0m\n\u001b[0m\u001b[1;32m      8\u001b[0m \u001b[0;34m\u001b[0m\u001b[0m\n\u001b[1;32m      9\u001b[0m   \u001b[0mmodel\u001b[0m\u001b[0;34m.\u001b[0m\u001b[0madd\u001b[0m\u001b[0;34m(\u001b[0m\u001b[0mFlatten\u001b[0m\u001b[0;34m(\u001b[0m\u001b[0;34m)\u001b[0m\u001b[0;34m)\u001b[0m\u001b[0;34m\u001b[0m\u001b[0;34m\u001b[0m\u001b[0m\n",
      "\u001b[0;32m/usr/local/lib/python3.6/dist-packages/tensorflow/python/training/tracking/base.py\u001b[0m in \u001b[0;36m_method_wrapper\u001b[0;34m(self, *args, **kwargs)\u001b[0m\n\u001b[1;32m    455\u001b[0m     \u001b[0mself\u001b[0m\u001b[0;34m.\u001b[0m\u001b[0m_self_setattr_tracking\u001b[0m \u001b[0;34m=\u001b[0m \u001b[0;32mFalse\u001b[0m  \u001b[0;31m# pylint: disable=protected-access\u001b[0m\u001b[0;34m\u001b[0m\u001b[0;34m\u001b[0m\u001b[0m\n\u001b[1;32m    456\u001b[0m     \u001b[0;32mtry\u001b[0m\u001b[0;34m:\u001b[0m\u001b[0;34m\u001b[0m\u001b[0;34m\u001b[0m\u001b[0m\n\u001b[0;32m--> 457\u001b[0;31m       \u001b[0mresult\u001b[0m \u001b[0;34m=\u001b[0m \u001b[0mmethod\u001b[0m\u001b[0;34m(\u001b[0m\u001b[0mself\u001b[0m\u001b[0;34m,\u001b[0m \u001b[0;34m*\u001b[0m\u001b[0margs\u001b[0m\u001b[0;34m,\u001b[0m \u001b[0;34m**\u001b[0m\u001b[0mkwargs\u001b[0m\u001b[0;34m)\u001b[0m\u001b[0;34m\u001b[0m\u001b[0;34m\u001b[0m\u001b[0m\n\u001b[0m\u001b[1;32m    458\u001b[0m     \u001b[0;32mfinally\u001b[0m\u001b[0;34m:\u001b[0m\u001b[0;34m\u001b[0m\u001b[0;34m\u001b[0m\u001b[0m\n\u001b[1;32m    459\u001b[0m       \u001b[0mself\u001b[0m\u001b[0;34m.\u001b[0m\u001b[0m_self_setattr_tracking\u001b[0m \u001b[0;34m=\u001b[0m \u001b[0mprevious_value\u001b[0m  \u001b[0;31m# pylint: disable=protected-access\u001b[0m\u001b[0;34m\u001b[0m\u001b[0;34m\u001b[0m\u001b[0m\n",
      "\u001b[0;32m/usr/local/lib/python3.6/dist-packages/tensorflow/python/keras/engine/sequential.py\u001b[0m in \u001b[0;36madd\u001b[0;34m(self, layer)\u001b[0m\n\u001b[1;32m    219\u001b[0m       \u001b[0;31m# If the model is being built continuously on top of an input layer:\u001b[0m\u001b[0;34m\u001b[0m\u001b[0;34m\u001b[0m\u001b[0;34m\u001b[0m\u001b[0m\n\u001b[1;32m    220\u001b[0m       \u001b[0;31m# refresh its output.\u001b[0m\u001b[0;34m\u001b[0m\u001b[0;34m\u001b[0m\u001b[0;34m\u001b[0m\u001b[0m\n\u001b[0;32m--> 221\u001b[0;31m       \u001b[0moutput_tensor\u001b[0m \u001b[0;34m=\u001b[0m \u001b[0mlayer\u001b[0m\u001b[0;34m(\u001b[0m\u001b[0mself\u001b[0m\u001b[0;34m.\u001b[0m\u001b[0moutputs\u001b[0m\u001b[0;34m[\u001b[0m\u001b[0;36m0\u001b[0m\u001b[0;34m]\u001b[0m\u001b[0;34m)\u001b[0m\u001b[0;34m\u001b[0m\u001b[0;34m\u001b[0m\u001b[0m\n\u001b[0m\u001b[1;32m    222\u001b[0m       \u001b[0;32mif\u001b[0m \u001b[0mlen\u001b[0m\u001b[0;34m(\u001b[0m\u001b[0mnest\u001b[0m\u001b[0;34m.\u001b[0m\u001b[0mflatten\u001b[0m\u001b[0;34m(\u001b[0m\u001b[0moutput_tensor\u001b[0m\u001b[0;34m)\u001b[0m\u001b[0;34m)\u001b[0m \u001b[0;34m!=\u001b[0m \u001b[0;36m1\u001b[0m\u001b[0;34m:\u001b[0m\u001b[0;34m\u001b[0m\u001b[0;34m\u001b[0m\u001b[0m\n\u001b[1;32m    223\u001b[0m         \u001b[0;32mraise\u001b[0m \u001b[0mValueError\u001b[0m\u001b[0;34m(\u001b[0m\u001b[0mSINGLE_LAYER_OUTPUT_ERROR_MSG\u001b[0m\u001b[0;34m)\u001b[0m\u001b[0;34m\u001b[0m\u001b[0;34m\u001b[0m\u001b[0m\n",
      "\u001b[0;32m/usr/local/lib/python3.6/dist-packages/tensorflow/python/keras/engine/base_layer.py\u001b[0m in \u001b[0;36m__call__\u001b[0;34m(self, *args, **kwargs)\u001b[0m\n\u001b[1;32m    924\u001b[0m     \u001b[0;32mif\u001b[0m \u001b[0m_in_functional_construction_mode\u001b[0m\u001b[0;34m(\u001b[0m\u001b[0mself\u001b[0m\u001b[0;34m,\u001b[0m \u001b[0minputs\u001b[0m\u001b[0;34m,\u001b[0m \u001b[0margs\u001b[0m\u001b[0;34m,\u001b[0m \u001b[0mkwargs\u001b[0m\u001b[0;34m,\u001b[0m \u001b[0minput_list\u001b[0m\u001b[0;34m)\u001b[0m\u001b[0;34m:\u001b[0m\u001b[0;34m\u001b[0m\u001b[0;34m\u001b[0m\u001b[0m\n\u001b[1;32m    925\u001b[0m       return self._functional_construction_call(inputs, args, kwargs,\n\u001b[0;32m--> 926\u001b[0;31m                                                 input_list)\n\u001b[0m\u001b[1;32m    927\u001b[0m \u001b[0;34m\u001b[0m\u001b[0m\n\u001b[1;32m    928\u001b[0m     \u001b[0;31m# Maintains info about the `Layer.call` stack.\u001b[0m\u001b[0;34m\u001b[0m\u001b[0;34m\u001b[0m\u001b[0;34m\u001b[0m\u001b[0m\n",
      "\u001b[0;32m/usr/local/lib/python3.6/dist-packages/tensorflow/python/keras/engine/base_layer.py\u001b[0m in \u001b[0;36m_functional_construction_call\u001b[0;34m(self, inputs, args, kwargs, input_list)\u001b[0m\n\u001b[1;32m   1115\u001b[0m           \u001b[0;32mtry\u001b[0m\u001b[0;34m:\u001b[0m\u001b[0;34m\u001b[0m\u001b[0;34m\u001b[0m\u001b[0m\n\u001b[1;32m   1116\u001b[0m             \u001b[0;32mwith\u001b[0m \u001b[0mops\u001b[0m\u001b[0;34m.\u001b[0m\u001b[0menable_auto_cast_variables\u001b[0m\u001b[0;34m(\u001b[0m\u001b[0mself\u001b[0m\u001b[0;34m.\u001b[0m\u001b[0m_compute_dtype_object\u001b[0m\u001b[0;34m)\u001b[0m\u001b[0;34m:\u001b[0m\u001b[0;34m\u001b[0m\u001b[0;34m\u001b[0m\u001b[0m\n\u001b[0;32m-> 1117\u001b[0;31m               \u001b[0moutputs\u001b[0m \u001b[0;34m=\u001b[0m \u001b[0mcall_fn\u001b[0m\u001b[0;34m(\u001b[0m\u001b[0mcast_inputs\u001b[0m\u001b[0;34m,\u001b[0m \u001b[0;34m*\u001b[0m\u001b[0margs\u001b[0m\u001b[0;34m,\u001b[0m \u001b[0;34m**\u001b[0m\u001b[0mkwargs\u001b[0m\u001b[0;34m)\u001b[0m\u001b[0;34m\u001b[0m\u001b[0;34m\u001b[0m\u001b[0m\n\u001b[0m\u001b[1;32m   1118\u001b[0m \u001b[0;34m\u001b[0m\u001b[0m\n\u001b[1;32m   1119\u001b[0m           \u001b[0;32mexcept\u001b[0m \u001b[0merrors\u001b[0m\u001b[0;34m.\u001b[0m\u001b[0mOperatorNotAllowedInGraphError\u001b[0m \u001b[0;32mas\u001b[0m \u001b[0me\u001b[0m\u001b[0;34m:\u001b[0m\u001b[0;34m\u001b[0m\u001b[0;34m\u001b[0m\u001b[0m\n",
      "\u001b[0;32m/usr/local/lib/python3.6/dist-packages/tensorflow/python/keras/layers/pooling.py\u001b[0m in \u001b[0;36mcall\u001b[0;34m(self, inputs)\u001b[0m\n\u001b[1;32m    294\u001b[0m         \u001b[0mstrides\u001b[0m\u001b[0;34m=\u001b[0m\u001b[0mstrides\u001b[0m\u001b[0;34m,\u001b[0m\u001b[0;34m\u001b[0m\u001b[0;34m\u001b[0m\u001b[0m\n\u001b[1;32m    295\u001b[0m         \u001b[0mpadding\u001b[0m\u001b[0;34m=\u001b[0m\u001b[0mself\u001b[0m\u001b[0;34m.\u001b[0m\u001b[0mpadding\u001b[0m\u001b[0;34m.\u001b[0m\u001b[0mupper\u001b[0m\u001b[0;34m(\u001b[0m\u001b[0;34m)\u001b[0m\u001b[0;34m,\u001b[0m\u001b[0;34m\u001b[0m\u001b[0;34m\u001b[0m\u001b[0m\n\u001b[0;32m--> 296\u001b[0;31m         data_format=conv_utils.convert_data_format(self.data_format, 4))\n\u001b[0m\u001b[1;32m    297\u001b[0m     \u001b[0;32mreturn\u001b[0m \u001b[0moutputs\u001b[0m\u001b[0;34m\u001b[0m\u001b[0;34m\u001b[0m\u001b[0m\n\u001b[1;32m    298\u001b[0m \u001b[0;34m\u001b[0m\u001b[0m\n",
      "\u001b[0;32m/usr/local/lib/python3.6/dist-packages/tensorflow/python/util/dispatch.py\u001b[0m in \u001b[0;36mwrapper\u001b[0;34m(*args, **kwargs)\u001b[0m\n\u001b[1;32m    199\u001b[0m     \u001b[0;34m\"\"\"Call target, and fall back on dispatchers if there is a TypeError.\"\"\"\u001b[0m\u001b[0;34m\u001b[0m\u001b[0;34m\u001b[0m\u001b[0m\n\u001b[1;32m    200\u001b[0m     \u001b[0;32mtry\u001b[0m\u001b[0;34m:\u001b[0m\u001b[0;34m\u001b[0m\u001b[0;34m\u001b[0m\u001b[0m\n\u001b[0;32m--> 201\u001b[0;31m       \u001b[0;32mreturn\u001b[0m \u001b[0mtarget\u001b[0m\u001b[0;34m(\u001b[0m\u001b[0;34m*\u001b[0m\u001b[0margs\u001b[0m\u001b[0;34m,\u001b[0m \u001b[0;34m**\u001b[0m\u001b[0mkwargs\u001b[0m\u001b[0;34m)\u001b[0m\u001b[0;34m\u001b[0m\u001b[0;34m\u001b[0m\u001b[0m\n\u001b[0m\u001b[1;32m    202\u001b[0m     \u001b[0;32mexcept\u001b[0m \u001b[0;34m(\u001b[0m\u001b[0mTypeError\u001b[0m\u001b[0;34m,\u001b[0m \u001b[0mValueError\u001b[0m\u001b[0;34m)\u001b[0m\u001b[0;34m:\u001b[0m\u001b[0;34m\u001b[0m\u001b[0;34m\u001b[0m\u001b[0m\n\u001b[1;32m    203\u001b[0m       \u001b[0;31m# Note: convert_to_eager_tensor currently raises a ValueError, not a\u001b[0m\u001b[0;34m\u001b[0m\u001b[0;34m\u001b[0m\u001b[0;34m\u001b[0m\u001b[0m\n",
      "\u001b[0;32m/usr/local/lib/python3.6/dist-packages/tensorflow/python/ops/nn_ops.py\u001b[0m in \u001b[0;36mmax_pool\u001b[0;34m(value, ksize, strides, padding, data_format, name, input)\u001b[0m\n\u001b[1;32m   4519\u001b[0m         \u001b[0mpadding\u001b[0m\u001b[0;34m=\u001b[0m\u001b[0mpadding\u001b[0m\u001b[0;34m,\u001b[0m\u001b[0;34m\u001b[0m\u001b[0;34m\u001b[0m\u001b[0m\n\u001b[1;32m   4520\u001b[0m         \u001b[0mdata_format\u001b[0m\u001b[0;34m=\u001b[0m\u001b[0mdata_format\u001b[0m\u001b[0;34m,\u001b[0m\u001b[0;34m\u001b[0m\u001b[0;34m\u001b[0m\u001b[0m\n\u001b[0;32m-> 4521\u001b[0;31m         name=name)\n\u001b[0m\u001b[1;32m   4522\u001b[0m \u001b[0;34m\u001b[0m\u001b[0m\n\u001b[1;32m   4523\u001b[0m \u001b[0;34m\u001b[0m\u001b[0m\n",
      "\u001b[0;32m/usr/local/lib/python3.6/dist-packages/tensorflow/python/ops/gen_nn_ops.py\u001b[0m in \u001b[0;36mmax_pool\u001b[0;34m(input, ksize, strides, padding, data_format, name)\u001b[0m\n\u001b[1;32m   5267\u001b[0m   _, _, _op, _outputs = _op_def_library._apply_op_helper(\n\u001b[1;32m   5268\u001b[0m         \u001b[0;34m\"MaxPool\"\u001b[0m\u001b[0;34m,\u001b[0m \u001b[0minput\u001b[0m\u001b[0;34m=\u001b[0m\u001b[0minput\u001b[0m\u001b[0;34m,\u001b[0m \u001b[0mksize\u001b[0m\u001b[0;34m=\u001b[0m\u001b[0mksize\u001b[0m\u001b[0;34m,\u001b[0m \u001b[0mstrides\u001b[0m\u001b[0;34m=\u001b[0m\u001b[0mstrides\u001b[0m\u001b[0;34m,\u001b[0m \u001b[0mpadding\u001b[0m\u001b[0;34m=\u001b[0m\u001b[0mpadding\u001b[0m\u001b[0;34m,\u001b[0m\u001b[0;34m\u001b[0m\u001b[0;34m\u001b[0m\u001b[0m\n\u001b[0;32m-> 5269\u001b[0;31m                    data_format=data_format, name=name)\n\u001b[0m\u001b[1;32m   5270\u001b[0m   \u001b[0m_result\u001b[0m \u001b[0;34m=\u001b[0m \u001b[0m_outputs\u001b[0m\u001b[0;34m[\u001b[0m\u001b[0;34m:\u001b[0m\u001b[0;34m]\u001b[0m\u001b[0;34m\u001b[0m\u001b[0;34m\u001b[0m\u001b[0m\n\u001b[1;32m   5271\u001b[0m   \u001b[0;32mif\u001b[0m \u001b[0m_execute\u001b[0m\u001b[0;34m.\u001b[0m\u001b[0mmust_record_gradient\u001b[0m\u001b[0;34m(\u001b[0m\u001b[0;34m)\u001b[0m\u001b[0;34m:\u001b[0m\u001b[0;34m\u001b[0m\u001b[0;34m\u001b[0m\u001b[0m\n",
      "\u001b[0;32m/usr/local/lib/python3.6/dist-packages/tensorflow/python/framework/op_def_library.py\u001b[0m in \u001b[0;36m_apply_op_helper\u001b[0;34m(op_type_name, name, **keywords)\u001b[0m\n\u001b[1;32m    742\u001b[0m       op = g._create_op_internal(op_type_name, inputs, dtypes=None,\n\u001b[1;32m    743\u001b[0m                                  \u001b[0mname\u001b[0m\u001b[0;34m=\u001b[0m\u001b[0mscope\u001b[0m\u001b[0;34m,\u001b[0m \u001b[0minput_types\u001b[0m\u001b[0;34m=\u001b[0m\u001b[0minput_types\u001b[0m\u001b[0;34m,\u001b[0m\u001b[0;34m\u001b[0m\u001b[0;34m\u001b[0m\u001b[0m\n\u001b[0;32m--> 744\u001b[0;31m                                  attrs=attr_protos, op_def=op_def)\n\u001b[0m\u001b[1;32m    745\u001b[0m \u001b[0;34m\u001b[0m\u001b[0m\n\u001b[1;32m    746\u001b[0m     \u001b[0;31m# `outputs` is returned as a separate return value so that the output\u001b[0m\u001b[0;34m\u001b[0m\u001b[0;34m\u001b[0m\u001b[0;34m\u001b[0m\u001b[0m\n",
      "\u001b[0;32m/usr/local/lib/python3.6/dist-packages/tensorflow/python/framework/func_graph.py\u001b[0m in \u001b[0;36m_create_op_internal\u001b[0;34m(self, op_type, inputs, dtypes, input_types, name, attrs, op_def, compute_device)\u001b[0m\n\u001b[1;32m    591\u001b[0m     return super(FuncGraph, self)._create_op_internal(  # pylint: disable=protected-access\n\u001b[1;32m    592\u001b[0m         \u001b[0mop_type\u001b[0m\u001b[0;34m,\u001b[0m \u001b[0minputs\u001b[0m\u001b[0;34m,\u001b[0m \u001b[0mdtypes\u001b[0m\u001b[0;34m,\u001b[0m \u001b[0minput_types\u001b[0m\u001b[0;34m,\u001b[0m \u001b[0mname\u001b[0m\u001b[0;34m,\u001b[0m \u001b[0mattrs\u001b[0m\u001b[0;34m,\u001b[0m \u001b[0mop_def\u001b[0m\u001b[0;34m,\u001b[0m\u001b[0;34m\u001b[0m\u001b[0;34m\u001b[0m\u001b[0m\n\u001b[0;32m--> 593\u001b[0;31m         compute_device)\n\u001b[0m\u001b[1;32m    594\u001b[0m \u001b[0;34m\u001b[0m\u001b[0m\n\u001b[1;32m    595\u001b[0m   \u001b[0;32mdef\u001b[0m \u001b[0mcapture\u001b[0m\u001b[0;34m(\u001b[0m\u001b[0mself\u001b[0m\u001b[0;34m,\u001b[0m \u001b[0mtensor\u001b[0m\u001b[0;34m,\u001b[0m \u001b[0mname\u001b[0m\u001b[0;34m=\u001b[0m\u001b[0;32mNone\u001b[0m\u001b[0;34m,\u001b[0m \u001b[0mshape\u001b[0m\u001b[0;34m=\u001b[0m\u001b[0;32mNone\u001b[0m\u001b[0;34m)\u001b[0m\u001b[0;34m:\u001b[0m\u001b[0;34m\u001b[0m\u001b[0;34m\u001b[0m\u001b[0m\n",
      "\u001b[0;32m/usr/local/lib/python3.6/dist-packages/tensorflow/python/framework/ops.py\u001b[0m in \u001b[0;36m_create_op_internal\u001b[0;34m(self, op_type, inputs, dtypes, input_types, name, attrs, op_def, compute_device)\u001b[0m\n\u001b[1;32m   3483\u001b[0m           \u001b[0minput_types\u001b[0m\u001b[0;34m=\u001b[0m\u001b[0minput_types\u001b[0m\u001b[0;34m,\u001b[0m\u001b[0;34m\u001b[0m\u001b[0;34m\u001b[0m\u001b[0m\n\u001b[1;32m   3484\u001b[0m           \u001b[0moriginal_op\u001b[0m\u001b[0;34m=\u001b[0m\u001b[0mself\u001b[0m\u001b[0;34m.\u001b[0m\u001b[0m_default_original_op\u001b[0m\u001b[0;34m,\u001b[0m\u001b[0;34m\u001b[0m\u001b[0;34m\u001b[0m\u001b[0m\n\u001b[0;32m-> 3485\u001b[0;31m           op_def=op_def)\n\u001b[0m\u001b[1;32m   3486\u001b[0m       \u001b[0mself\u001b[0m\u001b[0;34m.\u001b[0m\u001b[0m_create_op_helper\u001b[0m\u001b[0;34m(\u001b[0m\u001b[0mret\u001b[0m\u001b[0;34m,\u001b[0m \u001b[0mcompute_device\u001b[0m\u001b[0;34m=\u001b[0m\u001b[0mcompute_device\u001b[0m\u001b[0;34m)\u001b[0m\u001b[0;34m\u001b[0m\u001b[0;34m\u001b[0m\u001b[0m\n\u001b[1;32m   3487\u001b[0m     \u001b[0;32mreturn\u001b[0m \u001b[0mret\u001b[0m\u001b[0;34m\u001b[0m\u001b[0;34m\u001b[0m\u001b[0m\n",
      "\u001b[0;32m/usr/local/lib/python3.6/dist-packages/tensorflow/python/framework/ops.py\u001b[0m in \u001b[0;36m__init__\u001b[0;34m(self, node_def, g, inputs, output_types, control_inputs, input_types, original_op, op_def)\u001b[0m\n\u001b[1;32m   1973\u001b[0m         \u001b[0mop_def\u001b[0m \u001b[0;34m=\u001b[0m \u001b[0mself\u001b[0m\u001b[0;34m.\u001b[0m\u001b[0m_graph\u001b[0m\u001b[0;34m.\u001b[0m\u001b[0m_get_op_def\u001b[0m\u001b[0;34m(\u001b[0m\u001b[0mnode_def\u001b[0m\u001b[0;34m.\u001b[0m\u001b[0mop\u001b[0m\u001b[0;34m)\u001b[0m\u001b[0;34m\u001b[0m\u001b[0;34m\u001b[0m\u001b[0m\n\u001b[1;32m   1974\u001b[0m       self._c_op = _create_c_op(self._graph, node_def, inputs,\n\u001b[0;32m-> 1975\u001b[0;31m                                 control_input_ops, op_def)\n\u001b[0m\u001b[1;32m   1976\u001b[0m       \u001b[0mname\u001b[0m \u001b[0;34m=\u001b[0m \u001b[0mcompat\u001b[0m\u001b[0;34m.\u001b[0m\u001b[0mas_str\u001b[0m\u001b[0;34m(\u001b[0m\u001b[0mnode_def\u001b[0m\u001b[0;34m.\u001b[0m\u001b[0mname\u001b[0m\u001b[0;34m)\u001b[0m\u001b[0;34m\u001b[0m\u001b[0;34m\u001b[0m\u001b[0m\n\u001b[1;32m   1977\u001b[0m     \u001b[0;31m# pylint: enable=protected-access\u001b[0m\u001b[0;34m\u001b[0m\u001b[0;34m\u001b[0m\u001b[0;34m\u001b[0m\u001b[0m\n",
      "\u001b[0;32m/usr/local/lib/python3.6/dist-packages/tensorflow/python/framework/ops.py\u001b[0m in \u001b[0;36m_create_c_op\u001b[0;34m(graph, node_def, inputs, control_inputs, op_def)\u001b[0m\n\u001b[1;32m   1813\u001b[0m   \u001b[0;32mexcept\u001b[0m \u001b[0merrors\u001b[0m\u001b[0;34m.\u001b[0m\u001b[0mInvalidArgumentError\u001b[0m \u001b[0;32mas\u001b[0m \u001b[0me\u001b[0m\u001b[0;34m:\u001b[0m\u001b[0;34m\u001b[0m\u001b[0;34m\u001b[0m\u001b[0m\n\u001b[1;32m   1814\u001b[0m     \u001b[0;31m# Convert to ValueError for backwards compatibility.\u001b[0m\u001b[0;34m\u001b[0m\u001b[0;34m\u001b[0m\u001b[0;34m\u001b[0m\u001b[0m\n\u001b[0;32m-> 1815\u001b[0;31m     \u001b[0;32mraise\u001b[0m \u001b[0mValueError\u001b[0m\u001b[0;34m(\u001b[0m\u001b[0mstr\u001b[0m\u001b[0;34m(\u001b[0m\u001b[0me\u001b[0m\u001b[0;34m)\u001b[0m\u001b[0;34m)\u001b[0m\u001b[0;34m\u001b[0m\u001b[0;34m\u001b[0m\u001b[0m\n\u001b[0m\u001b[1;32m   1816\u001b[0m \u001b[0;34m\u001b[0m\u001b[0m\n\u001b[1;32m   1817\u001b[0m   \u001b[0;32mreturn\u001b[0m \u001b[0mc_op\u001b[0m\u001b[0;34m\u001b[0m\u001b[0;34m\u001b[0m\u001b[0m\n",
      "\u001b[0;31mValueError\u001b[0m: Negative dimension size caused by subtracting 2 from 1 for '{{node max_pooling2d_30/MaxPool}} = MaxPool[T=DT_FLOAT, data_format=\"NHWC\", ksize=[1, 2, 2, 1], padding=\"VALID\", strides=[1, 2, 2, 1]](conv2d_30/Relu)' with input shapes: [?,1,1,32]."
     ]
    }
   ],
   "source": [
    "import time\n",
    "train = []\n",
    "test = []\n",
    "total_time = []\n",
    "label = [2,3]\n",
    "filter = 3\n",
    "train_acc, test_acc, total = model_lay(2,filter,trainX, trainy, testX,testy)\n",
    "train.append(train_acc)\n",
    "test.append(test_acc)\n",
    "total_time.append(total)\n",
    "for i in label:\n",
    "\n",
    "  train_acc, test_acc, total = stride(i,trainX, trainy, testX,testy)\n",
    "  train.append(train_acc)\n",
    "  test.append(test_acc)\n",
    "  total_time.append(total)\n",
    "# there will be the error because of image size."
   ]
  },
  {
   "cell_type": "code",
   "execution_count": null,
   "metadata": {
    "id": "Yw2LWXcRj4ds"
   },
   "outputs": [],
   "source": [
    "import matplotlib.pyplot as plt \n",
    "# creating the bar plot \n",
    "label = [None,2,3]\n",
    "plt.bar(label, train) \n",
    "\n",
    "plt.xlabel(\"Striding\") \n",
    "plt.ylabel(\"Training Accuracy\") \n",
    "plt.title(\"Training Acc v/s Striding\") \n",
    "plt.show() \n",
    "\n",
    "plt.bar(label, test ) \n",
    "  \n",
    "plt.xlabel(\"Striding\") \n",
    "plt.ylabel(\"Testing Accuracy\") \n",
    "plt.title(\"Testing Acc v/s No. of Layers\") \n",
    "plt.show() \n",
    "\n",
    "plt.bar(label, total_time ) \n",
    "  \n",
    "plt.xlabel(\"Striding\") \n",
    "plt.ylabel(\"Running Time\") \n",
    "plt.title(\"Running Time v/s Striding\") \n",
    "plt.show() "
   ]
  },
  {
   "cell_type": "markdown",
   "metadata": {
    "id": "sFUOginVkJD8"
   },
   "source": [
    "##8. Influence of Padding:"
   ]
  },
  {
   "cell_type": "code",
   "execution_count": 36,
   "metadata": {
    "id": "kOX4asUkkT-Q"
   },
   "outputs": [],
   "source": [
    "def padding(filter,x_train,y_train , X_test,y_test):\n",
    "  model = keras.Sequential()\n",
    "  model.add(Conv2D(32, (filter, filter), padding='same' ,activation='relu',  input_shape=(28, 28, 1)))\n",
    "  model.add(MaxPooling2D((2, 2)))\n",
    "\n",
    "  model.add(Conv2D(32, (filter, filter), padding='same', activation='relu'))\n",
    "  model.add(MaxPooling2D((2, 2)))\n",
    "\n",
    "  model.add(Flatten())\n",
    "\n",
    "  model.add(Dense(100, activation='relu'))\n",
    "  model.add(Dense(10, activation='softmax'))\n",
    "  \n",
    "  model.compile(optimizer='adam', loss='categorical_crossentropy', metrics=['accuracy'])\n",
    "  start = time.time()\n",
    "  model.fit(x_train, y_train, epochs=5,verbose = None,batch_size=32)\n",
    "      # sleeping for 1 sec to get 10 sec runtime\n",
    "  time.sleep(1)\n",
    "\n",
    "  # end time\n",
    "  end = time.time()\n",
    "  _, train_acc = model.evaluate(x_train, y_train)\n",
    "  _, test_acc = model.evaluate(X_test,y_test)\n",
    "\n",
    "  total = end-start\n",
    "  return train_acc, test_acc, total\n"
   ]
  },
  {
   "cell_type": "code",
   "execution_count": 40,
   "metadata": {
    "colab": {
     "base_uri": "https://localhost:8080/",
     "height": 117
    },
    "id": "qdCJF65AofPn",
    "outputId": "af887d43-5933-4f6e-a1db-a5d14c4919fa"
   },
   "outputs": [
    {
     "name": "stdout",
     "output_type": "stream",
     "text": [
      "1875/1875 [==============================] - 17s 9ms/step - loss: 0.0177 - accuracy: 0.9942\n",
      "313/313 [==============================] - 3s 10ms/step - loss: 0.0428 - accuracy: 0.9863\n",
      "1875/1875 [==============================] - 29s 15ms/step - loss: 0.0071 - accuracy: 0.9980\n",
      "313/313 [==============================] - 5s 16ms/step - loss: 0.0273 - accuracy: 0.9927\n",
      "1875/1875 [==============================] - 47s 25ms/step - loss: 0.0086 - accuracy: 0.9973\n",
      "313/313 [==============================] - 8s 25ms/step - loss: 0.0303 - accuracy: 0.9906\n"
     ]
    }
   ],
   "source": [
    "import time\n",
    "train = []\n",
    "test = []\n",
    "total_time = []\n",
    "label = [3,5,7]\n",
    "\n",
    "for i in label:\n",
    "  train_acc, test_acc, total = padding(i,trainX, trainy, testX,testy)\n",
    "  train.append(train_acc)\n",
    "  test.append(test_acc)\n",
    "  total_time.append(total)"
   ]
  },
  {
   "cell_type": "code",
   "execution_count": 41,
   "metadata": {
    "colab": {
     "base_uri": "https://localhost:8080/",
     "height": 851
    },
    "id": "28dHEjuJovzZ",
    "outputId": "44ae48af-78cd-4737-f569-bf60e36c7982"
   },
   "outputs": [
    {
     "data": {
      "image/png": "[encoded data removed]",
      "text/plain": [
       "<Figure size 432x288 with 1 Axes>"
      ]
     },
     "metadata": {
      "needs_background": "light",
      "tags": []
     },
     "output_type": "display_data"
    },
    {
     "data": {
      "image/png": "[encoded data removed]",
      "text/plain": [
       "<Figure size 432x288 with 1 Axes>"
      ]
     },
     "metadata": {
      "needs_background": "light",
      "tags": []
     },
     "output_type": "display_data"
    },
    {
     "data": {
      "image/png": "[encoded data removed]",
      "text/plain": [
       "<Figure size 432x288 with 1 Axes>"
      ]
     },
     "metadata": {
      "needs_background": "light",
      "tags": []
     },
     "output_type": "display_data"
    }
   ],
   "source": [
    "import matplotlib.pyplot as plt \n",
    "# creating the bar plot \n",
    "\n",
    "plt.bar(label, train) \n",
    "\n",
    "plt.xlabel(\"Padding\") \n",
    "plt.ylabel(\"Training Accuracy\") \n",
    "plt.title(\"Training Acc v/s Padding\") \n",
    "plt.show() \n",
    "\n",
    "plt.bar(label, test ) \n",
    "  \n",
    "plt.xlabel(\"Padding\") \n",
    "plt.ylabel(\"Testing Accuracy\") \n",
    "plt.title(\"Testing Acc v/s Padding\") \n",
    "plt.show() \n",
    "\n",
    "plt.bar(label, total_time ) \n",
    "  \n",
    "plt.xlabel(\"Padding\") \n",
    "plt.ylabel(\"Running Time\") \n",
    "plt.title(\"Running Time v/s Padding\") \n",
    "plt.show() "
   ]
  },
  {
   "cell_type": "markdown",
   "metadata": {
    "id": "pdzBVypZrmtW"
   },
   "source": [
    "##9. Influence of Pooling:"
   ]
  },
  {
   "cell_type": "code",
   "execution_count": 42,
   "metadata": {
    "id": "pN9y9nCCrrM2"
   },
   "outputs": [],
   "source": [
    "def pooling(i,filter,x_train,y_train , X_test,y_test):\n",
    "  model = keras.Sequential()\n",
    "  model.add(Conv2D(32, (filter, filter), padding='same' ,activation='relu',  input_shape=(28, 28, 1)))\n",
    "  model.add(MaxPooling2D((i, i)))\n",
    "\n",
    "  model.add(Conv2D(32, (filter, filter), padding='same', activation='relu'))\n",
    "  model.add(MaxPooling2D((i, i)))\n",
    "\n",
    "  model.add(Flatten())\n",
    "\n",
    "  model.add(Dense(100, activation='relu'))\n",
    "  model.add(Dense(10, activation='softmax'))\n",
    "  \n",
    "  model.compile(optimizer='adam', loss='categorical_crossentropy', metrics=['accuracy'])\n",
    "  start = time.time()\n",
    "  model.fit(x_train, y_train, epochs=5,verbose = None,batch_size=32)\n",
    "      # sleeping for 1 sec to get 10 sec runtime\n",
    "  time.sleep(1)\n",
    "\n",
    "  # end time\n",
    "  end = time.time()\n",
    "  _, train_acc = model.evaluate(x_train, y_train)\n",
    "  _, test_acc = model.evaluate(X_test,y_test)\n",
    "\n",
    "  total = end-start\n",
    "  return train_acc, test_acc, total\n"
   ]
  },
  {
   "cell_type": "code",
   "execution_count": 43,
   "metadata": {
    "colab": {
     "base_uri": "https://localhost:8080/",
     "height": 84
    },
    "id": "RG1c-apxtZS5",
    "outputId": "7c5d6eda-85bf-48f1-9057-7caab55d78f6"
   },
   "outputs": [
    {
     "name": "stdout",
     "output_type": "stream",
     "text": [
      "1875/1875 [==============================] - 18s 9ms/step - loss: 0.0128 - accuracy: 0.9959\n",
      "313/313 [==============================] - 3s 10ms/step - loss: 0.0293 - accuracy: 0.9903\n",
      "1875/1875 [==============================] - 14s 7ms/step - loss: 0.0336 - accuracy: 0.9888\n",
      "313/313 [==============================] - 2s 8ms/step - loss: 0.0513 - accuracy: 0.9850\n"
     ]
    }
   ],
   "source": [
    "import time\n",
    "train = []\n",
    "test = []\n",
    "total_time = []\n",
    "label = [2,3]\n",
    "\n",
    "for i in label:\n",
    "\n",
    "  train_acc, test_acc, total = pooling(i,3,trainX, trainy, testX,testy)\n",
    "  train.append(train_acc)\n",
    "  test.append(test_acc)\n",
    "  total_time.append(total)"
   ]
  },
  {
   "cell_type": "code",
   "execution_count": 44,
   "metadata": {
    "colab": {
     "base_uri": "https://localhost:8080/",
     "height": 851
    },
    "id": "WcNzrbroucyJ",
    "outputId": "87c813c5-8f70-43a0-9b21-782e5b6359a3"
   },
   "outputs": [
    {
     "data": {
      "image/png": "[encoded data removed]",
      "text/plain": [
       "<Figure size 432x288 with 1 Axes>"
      ]
     },
     "metadata": {
      "needs_background": "light",
      "tags": []
     },
     "output_type": "display_data"
    },
    {
     "data": {
      "image/png": "[encoded data removed]",
      "text/plain": [
       "<Figure size 432x288 with 1 Axes>"
      ]
     },
     "metadata": {
      "needs_background": "light",
      "tags": []
     },
     "output_type": "display_data"
    },
    {
     "data": {
      "image/png": "[encoded data removed]",
      "text/plain": [
       "<Figure size 432x288 with 1 Axes>"
      ]
     },
     "metadata": {
      "needs_background": "light",
      "tags": []
     },
     "output_type": "display_data"
    }
   ],
   "source": [
    "import matplotlib.pyplot as plt \n",
    "# creating the bar plot \n",
    "\n",
    "plt.bar(label, train) \n",
    "\n",
    "plt.xlabel(\"Pooling\") \n",
    "plt.ylabel(\"Training Accuracy\") \n",
    "plt.title(\"Training Acc v/s Pooling\") \n",
    "plt.show() \n",
    "\n",
    "plt.bar(label, test ) \n",
    "  \n",
    "plt.xlabel(\"Pooling\") \n",
    "plt.ylabel(\"Testing Accuracy\") \n",
    "plt.title(\"Testing Acc v/s Pooling\") \n",
    "plt.show() \n",
    "\n",
    "plt.bar(label, total_time ) \n",
    "  \n",
    "plt.xlabel(\"Pooling\") \n",
    "plt.ylabel(\"Running Time\") \n",
    "plt.title(\"Running Time v/s Pooling \") \n",
    "plt.show() "
   ]
  },
  {
   "cell_type": "code",
   "execution_count": null,
   "metadata": {
    "id": "fzjPAXe00jlw"
   },
   "outputs": [],
   "source": []
  },
  {
   "cell_type": "code",
   "execution_count": null,
   "metadata": {},
   "outputs": [],
   "source": []
  }
 ],
 "metadata": {
  "colab": {
   "collapsed_sections": [],
   "name": "Vasu Gupta E18CSE199 Lab Assignment 6 – Convolutional Neural Networks Exploration.ipynb",
   "provenance": []
  },
  "kernelspec": {
   "display_name": "Python 3",
   "language": "python",
   "name": "python3"
  },
  "language_info": {
   "codemirror_mode": {
    "name": "ipython",
    "version": 3
   },
   "file_extension": ".py",
   "mimetype": "text/x-python",
   "name": "python",
   "nbconvert_exporter": "python",
   "pygments_lexer": "ipython3",
   "version": "3.7.4"
  }
 },
 "nbformat": 4,
 "nbformat_minor": 1
}
