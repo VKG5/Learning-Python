{
  "nbformat": 4,
  "nbformat_minor": 0,
  "metadata": {
    "colab": {
      "name": "CNN_DL_Lab_V006.ipynb",
      "provenance": [],
      "collapsed_sections": []
    },
    "kernelspec": {
      "name": "python3",
      "display_name": "Python 3"
    },
    "accelerator": "GPU"
  },
  "cells": [
    {
      "cell_type": "markdown",
      "metadata": {
        "id": "P7gQWswFf8YP"
      },
      "source": [
        "### Importing the data\n",
        "\n",
        "1. We'll use the MNIST dataset"
      ]
    },
    {
      "cell_type": "code",
      "metadata": {
        "id": "uvJXE4b4fnT7"
      },
      "source": [
        "# Base Libraries\n",
        "import cv2 as cv\n",
        "import numpy as np\n",
        "import pandas as pd\n",
        "\n",
        "# Loading the minst dataset\n",
        "from keras.datasets import mnist \n",
        "\n",
        "# Tensorflow\n",
        "import tensorflow as tf\n",
        "from tensorflow import keras\n",
        "from tensorflow.keras import layers\n",
        "from keras.layers import Dense\n",
        "from keras.layers import Conv2D\n",
        "from keras.layers import MaxPooling2D\n",
        "from keras.layers import Flatten\n",
        "\n",
        "# Sklearn dependencies\n",
        "from sklearn.model_selection import train_test_split\n",
        "from google.colab.patches import cv2_imshow\n",
        "from sklearn.preprocessing import MinMaxScaler\n",
        "import matplotlib.pyplot as plt\n",
        "import time"
      ],
      "execution_count": 1,
      "outputs": []
    },
    {
      "cell_type": "markdown",
      "metadata": {
        "id": "MZwWA7MFgsTA"
      },
      "source": [
        "**Importing the whole data**"
      ]
    },
    {
      "cell_type": "code",
      "metadata": {
        "id": "nc0C1hLkgD1i",
        "outputId": "a2d5e428-9bb6-4c1d-feec-6256cb3d43d0",
        "colab": {
          "base_uri": "https://localhost:8080/",
          "height": 50
        }
      },
      "source": [
        "# Loading the dataset\n",
        "\n",
        "(X_train, y_train), (X_test, y_test) = mnist.load_data()"
      ],
      "execution_count": 2,
      "outputs": [
        {
          "output_type": "stream",
          "text": [
            "Downloading data from https://storage.googleapis.com/tensorflow/tf-keras-datasets/mnist.npz\n",
            "11493376/11490434 [==============================] - 0s 0us/step\n"
          ],
          "name": "stdout"
        }
      ]
    },
    {
      "cell_type": "code",
      "metadata": {
        "id": "iyQ4bjRhhKqu",
        "outputId": "bf4e1cb0-5092-44ad-d62a-986daacd06f6",
        "colab": {
          "base_uri": "https://localhost:8080/",
          "height": 840
        }
      },
      "source": [
        "# Checking X\n",
        "X_train"
      ],
      "execution_count": 3,
      "outputs": [
        {
          "output_type": "execute_result",
          "data": {
            "text/plain": [
              "array([[[0, 0, 0, ..., 0, 0, 0],\n",
              "        [0, 0, 0, ..., 0, 0, 0],\n",
              "        [0, 0, 0, ..., 0, 0, 0],\n",
              "        ...,\n",
              "        [0, 0, 0, ..., 0, 0, 0],\n",
              "        [0, 0, 0, ..., 0, 0, 0],\n",
              "        [0, 0, 0, ..., 0, 0, 0]],\n",
              "\n",
              "       [[0, 0, 0, ..., 0, 0, 0],\n",
              "        [0, 0, 0, ..., 0, 0, 0],\n",
              "        [0, 0, 0, ..., 0, 0, 0],\n",
              "        ...,\n",
              "        [0, 0, 0, ..., 0, 0, 0],\n",
              "        [0, 0, 0, ..., 0, 0, 0],\n",
              "        [0, 0, 0, ..., 0, 0, 0]],\n",
              "\n",
              "       [[0, 0, 0, ..., 0, 0, 0],\n",
              "        [0, 0, 0, ..., 0, 0, 0],\n",
              "        [0, 0, 0, ..., 0, 0, 0],\n",
              "        ...,\n",
              "        [0, 0, 0, ..., 0, 0, 0],\n",
              "        [0, 0, 0, ..., 0, 0, 0],\n",
              "        [0, 0, 0, ..., 0, 0, 0]],\n",
              "\n",
              "       ...,\n",
              "\n",
              "       [[0, 0, 0, ..., 0, 0, 0],\n",
              "        [0, 0, 0, ..., 0, 0, 0],\n",
              "        [0, 0, 0, ..., 0, 0, 0],\n",
              "        ...,\n",
              "        [0, 0, 0, ..., 0, 0, 0],\n",
              "        [0, 0, 0, ..., 0, 0, 0],\n",
              "        [0, 0, 0, ..., 0, 0, 0]],\n",
              "\n",
              "       [[0, 0, 0, ..., 0, 0, 0],\n",
              "        [0, 0, 0, ..., 0, 0, 0],\n",
              "        [0, 0, 0, ..., 0, 0, 0],\n",
              "        ...,\n",
              "        [0, 0, 0, ..., 0, 0, 0],\n",
              "        [0, 0, 0, ..., 0, 0, 0],\n",
              "        [0, 0, 0, ..., 0, 0, 0]],\n",
              "\n",
              "       [[0, 0, 0, ..., 0, 0, 0],\n",
              "        [0, 0, 0, ..., 0, 0, 0],\n",
              "        [0, 0, 0, ..., 0, 0, 0],\n",
              "        ...,\n",
              "        [0, 0, 0, ..., 0, 0, 0],\n",
              "        [0, 0, 0, ..., 0, 0, 0],\n",
              "        [0, 0, 0, ..., 0, 0, 0]]], dtype=uint8)"
            ]
          },
          "metadata": {
            "tags": []
          },
          "execution_count": 3
        }
      ]
    },
    {
      "cell_type": "code",
      "metadata": {
        "id": "bhibq6YGguFd",
        "outputId": "1150d13e-b0cd-47e7-9215-f64f10dde315",
        "colab": {
          "base_uri": "https://localhost:8080/",
          "height": 50
        }
      },
      "source": [
        "# To check the data\n",
        "X_train_shape = X_train.shape\n",
        "y_train_shape = y_train.shape\n",
        "X_test_shape  = X_test.shape\n",
        "y_test_shape  = y_test.shape\n",
        "\n",
        "print(f\"X_train: {X_train_shape} , y_train: {y_train_shape}\")\n",
        "print(f\"X_test: {X_test_shape} , y_test: {y_test_shape}\")"
      ],
      "execution_count": 4,
      "outputs": [
        {
          "output_type": "stream",
          "text": [
            "X_train: (60000, 28, 28) , y_train: (60000,)\n",
            "X_test: (10000, 28, 28) , y_test: (10000,)\n"
          ],
          "name": "stdout"
        }
      ]
    },
    {
      "cell_type": "code",
      "metadata": {
        "id": "Z-NG9tWPhHwS",
        "outputId": "9b92c8d7-74ad-440c-b2cd-327bbfc198af",
        "colab": {
          "base_uri": "https://localhost:8080/",
          "height": 268
        }
      },
      "source": [
        "# Printing the images\n",
        "for i in range(9):\n",
        "  # Defining Subplot\n",
        "  plt.subplot(330 + 1 + i)\n",
        "\n",
        "  # Plotting the image\n",
        "  plt.imshow(X_train[i], cmap = 'gray')\n",
        "\n",
        "# Showing the plot\n",
        "plt.show()"
      ],
      "execution_count": 5,
      "outputs": [
        {
          "output_type": "display_data",
          "data": {
            "image/png": "[encoded data removed]",
            "text/plain": [
              "<Figure size 432x288 with 9 Axes>"
            ]
          },
          "metadata": {
            "tags": [],
            "needs_background": "light"
          }
        }
      ]
    },
    {
      "cell_type": "markdown",
      "metadata": {
        "id": "fDAgAll7iupX"
      },
      "source": [
        "**Preprocessing the data**"
      ]
    },
    {
      "cell_type": "code",
      "metadata": {
        "id": "LK2IhJ62h4HI",
        "outputId": "5622970f-7a41-4244-adf1-04d689374334",
        "colab": {
          "base_uri": "https://localhost:8080/",
          "height": 50
        }
      },
      "source": [
        "# One hot encoding the data\n",
        "y_train = tf.keras.utils.to_categorical(y_train)\n",
        "y_test = tf.keras.utils.to_categorical(y_test)\n",
        "\n",
        "# Checking the shapes\n",
        "print(y_train.shape)\n",
        "print(y_test.shape)"
      ],
      "execution_count": 6,
      "outputs": [
        {
          "output_type": "stream",
          "text": [
            "(60000, 10)\n",
            "(10000, 10)\n"
          ],
          "name": "stdout"
        }
      ]
    },
    {
      "cell_type": "code",
      "metadata": {
        "id": "6oS8EewVjQop",
        "outputId": "0ed0fdca-3bcc-4e6d-b744-94cc7b81be44",
        "colab": {
          "base_uri": "https://localhost:8080/",
          "height": 134
        }
      },
      "source": [
        "y_test"
      ],
      "execution_count": 7,
      "outputs": [
        {
          "output_type": "execute_result",
          "data": {
            "text/plain": [
              "array([[0., 0., 0., ..., 1., 0., 0.],\n",
              "       [0., 0., 1., ..., 0., 0., 0.],\n",
              "       [0., 1., 0., ..., 0., 0., 0.],\n",
              "       ...,\n",
              "       [0., 0., 0., ..., 0., 0., 0.],\n",
              "       [0., 0., 0., ..., 0., 0., 0.],\n",
              "       [0., 0., 0., ..., 0., 0., 0.]], dtype=float32)"
            ]
          },
          "metadata": {
            "tags": []
          },
          "execution_count": 7
        }
      ]
    },
    {
      "cell_type": "code",
      "metadata": {
        "id": "nIrttg_MjcGv"
      },
      "source": [
        "# Reshape dataset to have a single channel\n",
        "X_train = X_train.reshape((X_train.shape[0], 28, 28, 1))\n",
        "X_test = X_test.reshape((X_test.shape[0], 28, 28, 1))"
      ],
      "execution_count": 8,
      "outputs": []
    },
    {
      "cell_type": "code",
      "metadata": {
        "id": "X_pHlv1Skbkp",
        "outputId": "1b1c7032-15bf-414b-9c85-6feca1942375",
        "colab": {
          "base_uri": "https://localhost:8080/",
          "height": 34
        }
      },
      "source": [
        "# To check the data reshaping\n",
        "X_train_shape = X_train.shape\n",
        "X_test_shape  = X_test.shape\n",
        "\n",
        "print(f\"X_train: {X_train_shape} , X_test: {X_train_shape}\")"
      ],
      "execution_count": 9,
      "outputs": [
        {
          "output_type": "stream",
          "text": [
            "X_train: (60000, 28, 28, 1) , X_test: (60000, 28, 28, 1)\n"
          ],
          "name": "stdout"
        }
      ]
    },
    {
      "cell_type": "markdown",
      "metadata": {
        "id": "dfzyzMmLksW2"
      },
      "source": [
        "### Prepare Pixel Data\n",
        "1. Normalize"
      ]
    },
    {
      "cell_type": "code",
      "metadata": {
        "id": "t570bINzkgx_"
      },
      "source": [
        "# Convert from integers to floats\n",
        "def prep_pixels(train, test):\n",
        "  train_norm = train.astype('float32')\n",
        "  test_norm = test.astype('float32')\n",
        "\n",
        "  # Normalize to range 0-1\n",
        "  train_norm = train_norm / 255.0\n",
        "  test_norm = test_norm / 255.0\n",
        "\n",
        "  # Return normalized images\n",
        "  return train_norm, test_norm"
      ],
      "execution_count": 10,
      "outputs": []
    },
    {
      "cell_type": "markdown",
      "metadata": {
        "id": "V7uA4gy4lfZP"
      },
      "source": [
        "### Defining the Model"
      ]
    },
    {
      "cell_type": "code",
      "metadata": {
        "id": "FgPSWAmBlMUY"
      },
      "source": [
        "def my_model(number_filters, X_train, y_train):\n",
        "  model = keras.Sequential()\n",
        "\n",
        "  print(f\"\\n\\n\\n------------------------------------Filters {number_filters}------------------------------------\\n\\n\\n\")\n",
        "  # Layer 1\n",
        "  model.add(Conv2D(number_filters, (3, 3), activation='relu', input_shape=(28, 28, 1)))\n",
        "  model.add(MaxPooling2D((2, 2)))\n",
        "  model.add(Flatten())\n",
        "\n",
        "  # Fully Connected Layers\n",
        "  # FCL1\n",
        "  model.add(Dense(100, activation='relu'))\n",
        "\n",
        "  #FCL2\n",
        "  model.add(Dense(10, activation='softmax'))\n",
        "\n",
        "  # Compile model\n",
        "  model.compile(optimizer='adam', loss='categorical_crossentropy', metrics=['accuracy'])\n",
        "\n",
        "  # Calculating the time for training the model\n",
        "  start = time.time()\n",
        "  history = model.fit(X_train, y_train, epochs=5, batch_size=32, validation_data=(X_test, y_test), verbose=0)\n",
        "      \n",
        "  # Sleeping for 1 sec to get 10 sec runtime\n",
        "  time.sleep(1)\n",
        "\n",
        "  # End time\n",
        "  end = time.time()\n",
        "  \n",
        "  # Accuracies\n",
        "  _, train_acc = model.evaluate(X_train, y_train)\n",
        "  _, test_acc = model.evaluate(X_test,y_test)\n",
        "  \n",
        "  total = end-start\n",
        "\n",
        "  return train_acc, test_acc, total"
      ],
      "execution_count": 11,
      "outputs": []
    },
    {
      "cell_type": "markdown",
      "metadata": {
        "id": "haq1RUBkmvZt"
      },
      "source": [
        "**Running the model**\n",
        "\n",
        "1. Different # of Filters"
      ]
    },
    {
      "cell_type": "code",
      "metadata": {
        "id": "m57SY2wElmDe",
        "outputId": "c707115b-2fd5-4f1f-971b-e07ffb84fdc4",
        "colab": {
          "base_uri": "https://localhost:8080/",
          "height": 961
        }
      },
      "source": [
        "# Automated loop for different # of Filterss\n",
        "number_filter = [3, 4, 32, 128, 512, 2056]\n",
        "test_acc = []\n",
        "train_acc = []\n",
        "time_ls = []\n",
        "\n",
        "for i in number_filter:\n",
        "  train, test, time_calc = my_model(i, X_train, y_train)\n",
        "  train_acc.append(train)\n",
        "  test_acc.append(test)\n",
        "  time_ls.append(time_calc)"
      ],
      "execution_count": 12,
      "outputs": [
        {
          "output_type": "stream",
          "text": [
            "\n",
            "\n",
            "\n",
            "------------------------------------Filters 3------------------------------------\n",
            "\n",
            "\n",
            "\n",
            "1875/1875 [==============================] - 5s 3ms/step - loss: 0.0632 - accuracy: 0.9790\n",
            "313/313 [==============================] - 1s 3ms/step - loss: 0.1415 - accuracy: 0.9636\n",
            "\n",
            "\n",
            "\n",
            "------------------------------------Filters 4------------------------------------\n",
            "\n",
            "\n",
            "\n",
            "1875/1875 [==============================] - 5s 3ms/step - loss: 0.0639 - accuracy: 0.9803\n",
            "313/313 [==============================] - 1s 3ms/step - loss: 0.1168 - accuracy: 0.9694\n",
            "\n",
            "\n",
            "\n",
            "------------------------------------Filters 32------------------------------------\n",
            "\n",
            "\n",
            "\n",
            "1875/1875 [==============================] - 6s 3ms/step - loss: 0.0291 - accuracy: 0.9913\n",
            "313/313 [==============================] - 1s 3ms/step - loss: 0.0803 - accuracy: 0.9791\n",
            "\n",
            "\n",
            "\n",
            "------------------------------------Filters 128------------------------------------\n",
            "\n",
            "\n",
            "\n",
            "1875/1875 [==============================] - 8s 4ms/step - loss: 0.0222 - accuracy: 0.9924\n",
            "313/313 [==============================] - 1s 4ms/step - loss: 0.0887 - accuracy: 0.9775\n",
            "\n",
            "\n",
            "\n",
            "------------------------------------Filters 512------------------------------------\n",
            "\n",
            "\n",
            "\n",
            "1875/1875 [==============================] - 12s 6ms/step - loss: 0.0166 - accuracy: 0.9948\n",
            "313/313 [==============================] - 2s 6ms/step - loss: 0.1058 - accuracy: 0.9777\n",
            "\n",
            "\n",
            "\n",
            "------------------------------------Filters 2056------------------------------------\n",
            "\n",
            "\n",
            "\n",
            "   1/1875 [..............................] - ETA: 27s - loss: 7.9386e-04 - accuracy: 1.0000WARNING:tensorflow:Callbacks method `on_test_batch_end` is slow compared to the batch time (batch time: 0.0047s vs `on_test_batch_end` time: 0.0134s). Check your callbacks.\n",
            "1875/1875 [==============================] - 33s 17ms/step - loss: 0.0229 - accuracy: 0.9934\n",
            "313/313 [==============================] - 6s 18ms/step - loss: 0.1256 - accuracy: 0.9765\n"
          ],
          "name": "stdout"
        }
      ]
    },
    {
      "cell_type": "code",
      "metadata": {
        "id": "Y9fBQjRmSMJb",
        "outputId": "ba943b5a-fdd2-49f4-b52c-ed08eb863a4a",
        "colab": {
          "base_uri": "https://localhost:8080/",
          "height": 67
        }
      },
      "source": [
        "print(test_acc)\n",
        "print(train_acc)\n",
        "print(time_ls)"
      ],
      "execution_count": 13,
      "outputs": [
        {
          "output_type": "stream",
          "text": [
            "[0.9635999798774719, 0.9693999886512756, 0.9790999889373779, 0.9775000214576721, 0.9776999950408936, 0.9764999747276306]\n",
            "[0.9789833426475525, 0.9803000092506409, 0.9913333058357239, 0.9923999905586243, 0.9948333501815796, 0.9933833479881287]\n",
            "[29.364259719848633, 24.189356327056885, 25.453785181045532, 46.916311264038086, 127.39341378211975, 495.0593640804291]\n"
          ],
          "name": "stdout"
        }
      ]
    },
    {
      "cell_type": "code",
      "metadata": {
        "id": "mX2Gvg5MSTbN",
        "outputId": "651ced23-c9c2-4091-e86a-022d5204677f",
        "colab": {
          "base_uri": "https://localhost:8080/",
          "height": 851
        }
      },
      "source": [
        "# Creating the bar plots\n",
        "# Train graph\n",
        "plt.bar(number_filter, train_acc, width = 10) \n",
        "\n",
        "plt.xlabel(\"# of Filters\") \n",
        "plt.ylabel(\"Training Accuracy\") \n",
        "plt.title(\"Training Acc v/s # of Filters\") \n",
        "plt.show() \n",
        "\n",
        "# Test graph\n",
        "plt.bar(number_filter, test_acc, width = 10 ) \n",
        "  \n",
        "plt.xlabel(\"# of Filters\") \n",
        "plt.ylabel(\"Testing Accuracy\") \n",
        "plt.title(\"Testing Acc v/s # of Filters\") \n",
        "plt.show() \n",
        "\n",
        "# Time graph\n",
        "plt.bar(number_filter, time_ls, width = 10 ) \n",
        "  \n",
        "plt.xlabel(\"# of Filters\") \n",
        "plt.ylabel(\"Running Time\") \n",
        "plt.title(\"Running Time v/s# of Filters\") \n",
        "plt.show() "
      ],
      "execution_count": 14,
      "outputs": [
        {
          "output_type": "display_data",
          "data": {
            "image/png": "[encoded data removed]",
            "text/plain": [
              "<Figure size 432x288 with 1 Axes>"
            ]
          },
          "metadata": {
            "tags": [],
            "needs_background": "light"
          }
        },
        {
          "output_type": "display_data",
          "data": {
            "image/png": "[encoded data removed]",
            "text/plain": [
              "<Figure size 432x288 with 1 Axes>"
            ]
          },
          "metadata": {
            "tags": [],
            "needs_background": "light"
          }
        },
        {
          "output_type": "display_data",
          "data": {
            "image/png": "[encoded data removed]",
            "text/plain": [
              "<Figure size 432x288 with 1 Axes>"
            ]
          },
          "metadata": {
            "tags": [],
            "needs_background": "light"
          }
        }
      ]
    },
    {
      "cell_type": "code",
      "metadata": {
        "id": "TMOKQQ_jnfHj",
        "outputId": "f77d2077-8f48-4e99-fff6-ddab67e9c85e",
        "colab": {
          "base_uri": "https://localhost:8080/",
          "height": 35
        }
      },
      "source": [
        "# Calculating the accuracy\n",
        "'''\n",
        "Optional to run\n",
        "You'll have to define the model first\n",
        "'''\n",
        "# _, acc = model.evaluate(X_test, y_test, verbose=0)\n",
        "# print('%.3f' % (acc * 100.0))"
      ],
      "execution_count": 15,
      "outputs": [
        {
          "output_type": "execute_result",
          "data": {
            "application/vnd.google.colaboratory.intrinsic+json": {
              "type": "string"
            },
            "text/plain": [
              "\"\\nOptional to run\\nYou'll have to define the model first\\n\""
            ]
          },
          "metadata": {
            "tags": []
          },
          "execution_count": 15
        }
      ]
    },
    {
      "cell_type": "markdown",
      "metadata": {
        "id": "S5_UmL2QPnpp"
      },
      "source": [
        "2.  Different Number of CL"
      ]
    },
    {
      "cell_type": "code",
      "metadata": {
        "id": "Ifuli0U0QUMv"
      },
      "source": [
        "def my_model(n, X_train, y_train):\n",
        "  model = keras.Sequential()\n",
        "\n",
        "  print(f\"\\n\\n\\n------------------------------------Layers {n}------------------------------------\\n\\n\\n\")\n",
        "  \n",
        "  # Layer 1\n",
        "  # I'm gonna loop over the same code for n number of times :)\n",
        "  model.add(Conv2D(32, (3, 3), activation='relu', input_shape=(28, 28, 1)))\n",
        "  model.add(MaxPooling2D((2, 2)))\n",
        "  \n",
        "  # Looping\n",
        "  '''\n",
        "  Since we're using the same type and # of Filters, etc. in every layer\n",
        "  '''\n",
        "  for i in range(1,n):\n",
        "    model.add(Conv2D(32, (3, 3), activation='relu'))\n",
        "    model.add(MaxPooling2D((2, 2)))\n",
        "  \n",
        "  # Flatten layer is included once\n",
        "  model.add(Flatten())\n",
        "\n",
        "  # Fully Connected Layers\n",
        "  # FCL1\n",
        "  model.add(Dense(100, activation='relu'))\n",
        "\n",
        "  #FCL2\n",
        "  model.add(Dense(10, activation='softmax'))\n",
        "\n",
        "  # Compile model\n",
        "  model.compile(optimizer='adam', loss='categorical_crossentropy', metrics=['accuracy'])\n",
        "\n",
        "  # Calculating the time for training the model\n",
        "  start = time.time()\n",
        "  history = model.fit(X_train, y_train, epochs=10, batch_size=32, validation_data=(X_test, y_test), verbose=0)\n",
        "      \n",
        "  # Sleeping for 1 sec to get 10 sec runtime\n",
        "  time.sleep(1)\n",
        "\n",
        "  # End time\n",
        "  end = time.time()\n",
        "  \n",
        "  # Accuracies\n",
        "  _, train_acc = model.evaluate(X_train, y_train)\n",
        "  _, test_acc = model.evaluate(X_test,y_test)\n",
        "  \n",
        "  total = end-start\n",
        "\n",
        "  return train_acc, test_acc, total"
      ],
      "execution_count": 28,
      "outputs": []
    },
    {
      "cell_type": "code",
      "metadata": {
        "id": "84XV6jqDQPun",
        "outputId": "af66622a-ce0c-47cc-8b30-a1b035858545",
        "colab": {
          "base_uri": "https://localhost:8080/",
          "height": 470
        }
      },
      "source": [
        "# Automated loop for different number of layers\n",
        "number_layers = [1, 2, 3]\n",
        "test_acc = []\n",
        "train_acc = []\n",
        "time_ls = []\n",
        "\n",
        "for i in number_layers:\n",
        "  train, test, time_calc = my_model(i, X_train, y_train)\n",
        "  train_acc.append(train)\n",
        "  test_acc.append(test)\n",
        "  time_ls.append(time_calc)"
      ],
      "execution_count": 29,
      "outputs": [
        {
          "output_type": "stream",
          "text": [
            "\n",
            "\n",
            "\n",
            "------------------------------------Layers 1------------------------------------\n",
            "\n",
            "\n",
            "\n",
            "1875/1875 [==============================] - 6s 3ms/step - loss: 0.0160 - accuracy: 0.9952\n",
            "313/313 [==============================] - 1s 3ms/step - loss: 0.1580 - accuracy: 0.9790\n",
            "\n",
            "\n",
            "\n",
            "------------------------------------Layers 2------------------------------------\n",
            "\n",
            "\n",
            "\n",
            "1875/1875 [==============================] - 6s 3ms/step - loss: 0.0124 - accuracy: 0.9960\n",
            "313/313 [==============================] - 1s 3ms/step - loss: 0.0567 - accuracy: 0.9864\n",
            "\n",
            "\n",
            "\n",
            "------------------------------------Layers 3------------------------------------\n",
            "\n",
            "\n",
            "\n",
            "1875/1875 [==============================] - 6s 3ms/step - loss: 0.0269 - accuracy: 0.9910\n",
            "313/313 [==============================] - 1s 3ms/step - loss: 0.0716 - accuracy: 0.9809\n"
          ],
          "name": "stdout"
        }
      ]
    },
    {
      "cell_type": "code",
      "metadata": {
        "id": "FRpznkE7RLfQ",
        "outputId": "c88092d1-acd8-49c0-9433-31d4a82f20a6",
        "colab": {
          "base_uri": "https://localhost:8080/",
          "height": 67
        }
      },
      "source": [
        "print(test_acc)\n",
        "print(train_acc)\n",
        "print(time_ls)"
      ],
      "execution_count": 30,
      "outputs": [
        {
          "output_type": "stream",
          "text": [
            "[0.9789999723434448, 0.9864000082015991, 0.98089998960495]\n",
            "[0.9952499866485596, 0.9959999918937683, 0.9910333156585693]\n",
            "[49.32712697982788, 52.57544684410095, 57.168922662734985]\n"
          ],
          "name": "stdout"
        }
      ]
    },
    {
      "cell_type": "code",
      "metadata": {
        "id": "pUk0oeD6S0EN",
        "outputId": "2a6e8c72-6ff2-4c2f-8fa3-0cb3cb0a1775",
        "colab": {
          "base_uri": "https://localhost:8080/",
          "height": 851
        }
      },
      "source": [
        "# Creating the bar plots\n",
        "# Train graph\n",
        "plt.bar(number_layers, train_acc) \n",
        "\n",
        "plt.xlabel(\"# of Layers\") \n",
        "plt.ylabel(\"Training Accuracy\") \n",
        "plt.title(\"Training Acc v/s # of Layers\") \n",
        "plt.show() \n",
        "\n",
        "# Test graph\n",
        "plt.bar(number_layers, test_acc) \n",
        "  \n",
        "plt.xlabel(\"# of Layers\") \n",
        "plt.ylabel(\"Testing Accuracy\") \n",
        "plt.title(\"Testing Acc v/s # of Layers\") \n",
        "plt.show() \n",
        "\n",
        "# Time graph\n",
        "plt.bar(number_layers, time_ls) \n",
        "  \n",
        "plt.xlabel(\"# of Layers\") \n",
        "plt.ylabel(\"Running Time\") \n",
        "plt.title(\"Running Time v/s # of Layers\") \n",
        "plt.show() "
      ],
      "execution_count": 31,
      "outputs": [
        {
          "output_type": "display_data",
          "data": {
            "image/png": "[encoded data removed]",
            "text/plain": [
              "<Figure size 432x288 with 1 Axes>"
            ]
          },
          "metadata": {
            "tags": [],
            "needs_background": "light"
          }
        },
        {
          "output_type": "display_data",
          "data": {
            "image/png": "[encoded data removed]",
            "text/plain": [
              "<Figure size 432x288 with 1 Axes>"
            ]
          },
          "metadata": {
            "tags": [],
            "needs_background": "light"
          }
        },
        {
          "output_type": "display_data",
          "data": {
            "image/png": "[encoded data removed]",
            "text/plain": [
              "<Figure size 432x288 with 1 Axes>"
            ]
          },
          "metadata": {
            "tags": [],
            "needs_background": "light"
          }
        }
      ]
    },
    {
      "cell_type": "markdown",
      "metadata": {
        "id": "TjD99zAeUe7q"
      },
      "source": [
        "3. Different Filter Size"
      ]
    },
    {
      "cell_type": "code",
      "metadata": {
        "id": "Qsd8rx24TP6N"
      },
      "source": [
        "def my_model(n, X_train, y_train):\n",
        "  model = keras.Sequential()\n",
        "\n",
        "  print(f\"\\n\\n\\n------------------------------------Filter Size {n}------------------------------------\\n\\n\\n\")\n",
        "  \n",
        "  # Layer 1\n",
        "  # I'm gonna loop over the same code for n number of times :)\n",
        "  model.add(Conv2D(16, (n, n), activation='relu', input_shape=(28, 28, 1)))\n",
        "  model.add(MaxPooling2D((2, 2)))\n",
        "  \n",
        "  # Layer 2\n",
        "  model.add(Conv2D(16, (n, n), activation='relu'))\n",
        "  model.add(MaxPooling2D((2, 2)))\n",
        "  \n",
        "  # Flatten layer is included once\n",
        "  model.add(Flatten())\n",
        "\n",
        "  # Fully Connected Layers\n",
        "  # FCL1\n",
        "  model.add(Dense(100, activation='relu'))\n",
        "\n",
        "  #FCL2\n",
        "  model.add(Dense(10, activation='softmax'))\n",
        "\n",
        "  # Compile model\n",
        "  model.compile(optimizer='adam', loss='categorical_crossentropy', metrics=['accuracy'])\n",
        "\n",
        "  # Calculating the time for training the model\n",
        "  start = time.time()\n",
        "  history = model.fit(X_train, y_train, epochs=10, batch_size=32, validation_data=(X_test, y_test), verbose=0)\n",
        "      \n",
        "  # Sleeping for 1 sec to get 10 sec runtime\n",
        "  time.sleep(1)\n",
        "\n",
        "  # End time\n",
        "  end = time.time()\n",
        "  \n",
        "  # Accuracies\n",
        "  _, train_acc = model.evaluate(X_train, y_train)\n",
        "  _, test_acc = model.evaluate(X_test,y_test)\n",
        "  \n",
        "  total = end-start\n",
        "\n",
        "  return train_acc, test_acc, total"
      ],
      "execution_count": 32,
      "outputs": []
    },
    {
      "cell_type": "code",
      "metadata": {
        "id": "MNMSscl7TQpF",
        "outputId": "9829218f-2f7d-4202-fb7e-3c72b3a1c394",
        "colab": {
          "base_uri": "https://localhost:8080/",
          "height": 470
        }
      },
      "source": [
        "# Automated loop for different filter sizes\n",
        "number_layers = [3, 5, 7]\n",
        "test_acc = []\n",
        "train_acc = []\n",
        "time_ls = []\n",
        "\n",
        "for i in number_layers:\n",
        "  train, test, time_calc = my_model(i, X_train, y_train)\n",
        "  train_acc.append(train)\n",
        "  test_acc.append(test)\n",
        "  time_ls.append(time_calc)"
      ],
      "execution_count": 33,
      "outputs": [
        {
          "output_type": "stream",
          "text": [
            "\n",
            "\n",
            "\n",
            "------------------------------------Filter Size 3------------------------------------\n",
            "\n",
            "\n",
            "\n",
            "1875/1875 [==============================] - 6s 3ms/step - loss: 0.0188 - accuracy: 0.9946\n",
            "313/313 [==============================] - 1s 3ms/step - loss: 0.0693 - accuracy: 0.9848\n",
            "\n",
            "\n",
            "\n",
            "------------------------------------Filter Size 5------------------------------------\n",
            "\n",
            "\n",
            "\n",
            "1875/1875 [==============================] - 6s 3ms/step - loss: 0.0236 - accuracy: 0.9930\n",
            "313/313 [==============================] - 1s 3ms/step - loss: 0.0639 - accuracy: 0.9837\n",
            "\n",
            "\n",
            "\n",
            "------------------------------------Filter Size 7------------------------------------\n",
            "\n",
            "\n",
            "\n",
            "1875/1875 [==============================] - 6s 3ms/step - loss: 0.0516 - accuracy: 0.9861\n",
            "313/313 [==============================] - 1s 3ms/step - loss: 0.1080 - accuracy: 0.9772\n"
          ],
          "name": "stdout"
        }
      ]
    },
    {
      "cell_type": "code",
      "metadata": {
        "id": "sXn60XujVCg1",
        "outputId": "86afbce4-a92b-445a-c73c-7ab4e1c6229f",
        "colab": {
          "base_uri": "https://localhost:8080/",
          "height": 851
        }
      },
      "source": [
        "# Creating the bar plots\n",
        "# Train graph\n",
        "plt.bar(number_layers, train_acc) \n",
        "\n",
        "plt.xlabel(\"Filter Size\") \n",
        "plt.ylabel(\"Training Accuracy\") \n",
        "plt.title(\"Training Acc v/s Filter Size\") \n",
        "plt.show() \n",
        "\n",
        "# Test graph\n",
        "plt.bar(number_layers, test_acc) \n",
        "  \n",
        "plt.xlabel(\"Filter Size\") \n",
        "plt.ylabel(\"Testing Accuracy\") \n",
        "plt.title(\"Testing Acc v/s Filter Size\") \n",
        "plt.show() \n",
        "\n",
        "# Time graph\n",
        "plt.bar(number_layers, time_ls) \n",
        "  \n",
        "plt.xlabel(\"Filter Size\") \n",
        "plt.ylabel(\"Running Time\") \n",
        "plt.title(\"Running Time v/s Filter Size\") \n",
        "plt.show() "
      ],
      "execution_count": 34,
      "outputs": [
        {
          "output_type": "display_data",
          "data": {
            "image/png": "[encoded data removed]",
            "text/plain": [
              "<Figure size 432x288 with 1 Axes>"
            ]
          },
          "metadata": {
            "tags": [],
            "needs_background": "light"
          }
        },
        {
          "output_type": "display_data",
          "data": {
            "image/png": "[encoded data removed]",
            "text/plain": [
              "<Figure size 432x288 with 1 Axes>"
            ]
          },
          "metadata": {
            "tags": [],
            "needs_background": "light"
          }
        },
        {
          "output_type": "display_data",
          "data": {
            "image/png": "[encoded data removed]",
            "text/plain": [
              "<Figure size 432x288 with 1 Axes>"
            ]
          },
          "metadata": {
            "tags": [],
            "needs_background": "light"
          }
        }
      ]
    },
    {
      "cell_type": "markdown",
      "metadata": {
        "id": "97dvCKiqVFVy"
      },
      "source": [
        "4. Different Activation"
      ]
    },
    {
      "cell_type": "code",
      "metadata": {
        "id": "SfMCMSglVE3d"
      },
      "source": [
        "def my_model(act, X_train, y_train):\n",
        "  model = keras.Sequential()\n",
        "\n",
        "  print(\"\\n\\n\\n------------------------------------Activation Function : \",act,\"------------------------------------\\n\\n\\n\")\n",
        "  \n",
        "  # Layer 1\n",
        "  # I'm gonna loop over the same code for n number of times :)\n",
        "  model.add(Conv2D(16, (3, 3), activation=act, input_shape=(28, 28, 1)))\n",
        "  model.add(MaxPooling2D((2, 2)))\n",
        "  \n",
        "  # Layer 2\n",
        "  model.add(Conv2D(16, (3, 3), activation=act))\n",
        "  model.add(MaxPooling2D((2, 2)))\n",
        "  \n",
        "  # Flatten layer is included once\n",
        "  model.add(Flatten())\n",
        "\n",
        "  # Fully Connected Layers\n",
        "  # FCL1\n",
        "  model.add(Dense(100, activation=act))\n",
        "\n",
        "  #FCL2\n",
        "  model.add(Dense(10, activation=act))\n",
        "\n",
        "  # Compile model\n",
        "  model.compile(optimizer='adam', loss='categorical_crossentropy', metrics=['accuracy'])\n",
        "\n",
        "  # Calculating the time for training the model\n",
        "  start = time.time()\n",
        "  history = model.fit(X_train, y_train, epochs=10, batch_size=32, validation_data=(X_test, y_test), verbose=0)\n",
        "      \n",
        "  # Sleeping for 1 sec to get 10 sec runtime\n",
        "  time.sleep(1)\n",
        "\n",
        "  # End time\n",
        "  end = time.time()\n",
        "  \n",
        "  # Accuracies\n",
        "  _, train_acc = model.evaluate(X_train, y_train)\n",
        "  _, test_acc = model.evaluate(X_test,y_test)\n",
        "  \n",
        "  total = end-start\n",
        "\n",
        "  return train_acc, test_acc, total"
      ],
      "execution_count": 35,
      "outputs": []
    },
    {
      "cell_type": "code",
      "metadata": {
        "id": "0wlhoCV7Vx5Q",
        "outputId": "7431898b-27ae-4aec-a93e-596ac17c5dee",
        "colab": {
          "base_uri": "https://localhost:8080/",
          "height": 470
        }
      },
      "source": [
        "# Automated loop for different activation functions\n",
        "number_layers = ['sigmoid', 'tanh', 'relu']\n",
        "test_acc = []\n",
        "train_acc = []\n",
        "time_ls = []\n",
        "\n",
        "for i in number_layers:\n",
        "  train, test, time_calc = my_model(i, X_train, y_train)\n",
        "  train_acc.append(train)\n",
        "  test_acc.append(test)\n",
        "  time_ls.append(time_calc)"
      ],
      "execution_count": 36,
      "outputs": [
        {
          "output_type": "stream",
          "text": [
            "\n",
            "\n",
            "\n",
            "------------------------------------Activation Function :  sigmoid ------------------------------------\n",
            "\n",
            "\n",
            "\n",
            "1875/1875 [==============================] - 5s 3ms/step - loss: 0.0221 - accuracy: 0.9937\n",
            "313/313 [==============================] - 1s 3ms/step - loss: 0.0345 - accuracy: 0.9887\n",
            "\n",
            "\n",
            "\n",
            "------------------------------------Activation Function :  tanh ------------------------------------\n",
            "\n",
            "\n",
            "\n",
            "1875/1875 [==============================] - 5s 3ms/step - loss: 7.8858 - accuracy: 0.1388\n",
            "313/313 [==============================] - 1s 2ms/step - loss: 7.9366 - accuracy: 0.1329\n",
            "\n",
            "\n",
            "\n",
            "------------------------------------Activation Function :  relu ------------------------------------\n",
            "\n",
            "\n",
            "\n",
            "1875/1875 [==============================] - 5s 3ms/step - loss: 4.2992 - accuracy: 0.6944\n",
            "313/313 [==============================] - 1s 3ms/step - loss: 4.3185 - accuracy: 0.6978\n"
          ],
          "name": "stdout"
        }
      ]
    },
    {
      "cell_type": "code",
      "metadata": {
        "id": "o6ZwCUFWV_Bd",
        "outputId": "a775298e-13d0-4118-8451-5891e7d6c15c",
        "colab": {
          "base_uri": "https://localhost:8080/",
          "height": 851
        }
      },
      "source": [
        "# Creating the bar plots\n",
        "# Train graph\n",
        "plt.bar(number_layers, train_acc) \n",
        "\n",
        "plt.xlabel(\"Activation Func\") \n",
        "plt.ylabel(\"Training Accuracy\") \n",
        "plt.title(\"Training Acc v/s Activation Func\") \n",
        "plt.show() \n",
        "\n",
        "# Test graph\n",
        "plt.bar(number_layers, test_acc) \n",
        "  \n",
        "plt.xlabel(\"Activation Func\") \n",
        "plt.ylabel(\"Testing Accuracy\") \n",
        "plt.title(\"Testing Acc v/s Activation Func\") \n",
        "plt.show() \n",
        "\n",
        "# Time graph\n",
        "plt.bar(number_layers, time_ls) \n",
        "  \n",
        "plt.xlabel(\"Activation Func\") \n",
        "plt.ylabel(\"Running Time\") \n",
        "plt.title(\"Running Time v/s Activation Func\") \n",
        "plt.show() "
      ],
      "execution_count": 37,
      "outputs": [
        {
          "output_type": "display_data",
          "data": {
            "image/png": "[encoded data removed]",
            "text/plain": [
              "<Figure size 432x288 with 1 Axes>"
            ]
          },
          "metadata": {
            "tags": [],
            "needs_background": "light"
          }
        },
        {
          "output_type": "display_data",
          "data": {
            "image/png": "[encoded data removed]",
            "text/plain": [
              "<Figure size 432x288 with 1 Axes>"
            ]
          },
          "metadata": {
            "tags": [],
            "needs_background": "light"
          }
        },
        {
          "output_type": "display_data",
          "data": {
            "image/png": "[encoded data removed]",
            "text/plain": [
              "<Figure size 432x288 with 1 Axes>"
            ]
          },
          "metadata": {
            "tags": [],
            "needs_background": "light"
          }
        }
      ]
    },
    {
      "cell_type": "markdown",
      "metadata": {
        "id": "b1w6APMvWUfq"
      },
      "source": [
        "5. Combination of filter sizes"
      ]
    },
    {
      "cell_type": "code",
      "metadata": {
        "id": "SpCKbH1wWT_X"
      },
      "source": [
        "def my_model(X_train, y_train):\n",
        "  model = keras.Sequential()\n",
        "\n",
        "  print(f\"\\n\\n\\n------------------------------------Combination------------------------------------\\n\\n\\n\")\n",
        "  \n",
        "  # Layer 1\n",
        "  # I'm gonna loop over the same code for n number of times :)\n",
        "  model.add(Conv2D(16, (3, 3), activation='relu', input_shape=(28, 28, 1)))\n",
        "  model.add(MaxPooling2D((2, 2)))\n",
        "  \n",
        "  # Layer 2\n",
        "  model.add(Conv2D(16, (5, 5), activation='relu'))\n",
        "  model.add(MaxPooling2D((2, 2)))\n",
        "  \n",
        "  # Flatten layer is included once\n",
        "  model.add(Flatten())\n",
        "\n",
        "  # Fully Connected Layers\n",
        "  # FCL1\n",
        "  model.add(Dense(100, activation='relu'))\n",
        "\n",
        "  #FCL2\n",
        "  model.add(Dense(10, activation='softmax'))\n",
        "\n",
        "  # Compile model\n",
        "  model.compile(optimizer='adam', loss='categorical_crossentropy', metrics=['accuracy'])\n",
        "\n",
        "  # Calculating the time for training the model\n",
        "  start = time.time()\n",
        "  history = model.fit(X_train, y_train, epochs=10, batch_size=32, validation_data=(X_test, y_test), verbose=0)\n",
        "      \n",
        "  # Sleeping for 1 sec to get 10 sec runtime\n",
        "  time.sleep(1)\n",
        "\n",
        "  # End time\n",
        "  end = time.time()\n",
        "  \n",
        "  # Accuracies\n",
        "  _, train_acc = model.evaluate(X_train, y_train)\n",
        "  _, test_acc = model.evaluate(X_test,y_test)\n",
        "  \n",
        "  total = end-start\n",
        "\n",
        "  return train_acc, test_acc, total"
      ],
      "execution_count": 40,
      "outputs": []
    },
    {
      "cell_type": "code",
      "metadata": {
        "id": "PjcJV2c3X6b-",
        "outputId": "e5a03e1b-35f9-4fb8-a08d-d4d99cde07dc",
        "colab": {
          "base_uri": "https://localhost:8080/",
          "height": 168
        }
      },
      "source": [
        "# Automated loop for different combination of filter sizes\n",
        "test_acc = []\n",
        "train_acc = []\n",
        "time_ls = []\n",
        "\n",
        "train, test, time_calc = my_model(X_train, y_train)\n",
        "train_acc.append(train)\n",
        "test_acc.append(test)\n",
        "time_ls.append(time_calc)"
      ],
      "execution_count": 41,
      "outputs": [
        {
          "output_type": "stream",
          "text": [
            "\n",
            "\n",
            "\n",
            "------------------------------------Combination------------------------------------\n",
            "\n",
            "\n",
            "\n",
            "1875/1875 [==============================] - 6s 3ms/step - loss: 0.0204 - accuracy: 0.9933\n",
            "313/313 [==============================] - 1s 3ms/step - loss: 0.0618 - accuracy: 0.9862\n"
          ],
          "name": "stdout"
        }
      ]
    },
    {
      "cell_type": "code",
      "metadata": {
        "id": "FwMfQyvSiV83",
        "outputId": "25b7ee28-9745-4f70-c902-9a5f33235f45",
        "colab": {
          "base_uri": "https://localhost:8080/",
          "height": 67
        }
      },
      "source": [
        "print(test_acc)\n",
        "print(train_acc)\n",
        "print(time_ls)"
      ],
      "execution_count": 42,
      "outputs": [
        {
          "output_type": "stream",
          "text": [
            "[0.9861999750137329]\n",
            "[0.9932666420936584]\n",
            "[63.98779821395874]\n"
          ],
          "name": "stdout"
        }
      ]
    },
    {
      "cell_type": "markdown",
      "metadata": {
        "id": "ZKvzaHPLYEpA"
      },
      "source": [
        "6. Layer filter Combinations"
      ]
    },
    {
      "cell_type": "code",
      "metadata": {
        "id": "j-1v49rnYEKu"
      },
      "source": [
        "def my_model(n, f, X_train, y_train):\n",
        "  model = keras.Sequential()\n",
        "\n",
        "  print(f\"\\n\\n\\n------------------------------------Layers {n}------------------------------------\\n\\n\\n\")\n",
        "  print(f\"\\n\\n\\n------------------------------------Filter Size {f}------------------------------------\\n\\n\\n\")\n",
        "\n",
        "  # Layer 1\n",
        "  # I'm gonna loop over the same code for n number of times :)\n",
        "  model.add(Conv2D(16, (3, 3), activation='relu', input_shape=(28, 28, 1)))\n",
        "  model.add(MaxPooling2D((2, 2)))\n",
        "  \n",
        "  # Looping\n",
        "  '''\n",
        "  Since we're using the same type and # of Filters, etc. in every layer\n",
        "  '''\n",
        "  for i in range(1,n):\n",
        "    model.add(Conv2D(16, (f, f), activation='relu'))\n",
        "    model.add(MaxPooling2D((2, 2)))\n",
        "  \n",
        "  # Flatten layer is included once\n",
        "  model.add(Flatten())\n",
        "\n",
        "  # Fully Connected Layers\n",
        "  # FCL1\n",
        "  model.add(Dense(100, activation='relu'))\n",
        "\n",
        "  #FCL2\n",
        "  model.add(Dense(10, activation='softmax'))\n",
        "\n",
        "  # Compile model\n",
        "  model.compile(optimizer='adam', loss='categorical_crossentropy', metrics=['accuracy'])\n",
        "\n",
        "  # Calculating the time for training the model\n",
        "  start = time.time()\n",
        "  history = model.fit(X_train, y_train, epochs=10, batch_size=32, validation_data=(X_test, y_test), verbose=0)\n",
        "      \n",
        "  # Sleeping for 1 sec to get 10 sec runtime\n",
        "  time.sleep(1)\n",
        "\n",
        "  # End time\n",
        "  end = time.time()\n",
        "  \n",
        "  # Accuracies\n",
        "  _, train_acc = model.evaluate(X_train, y_train)\n",
        "  _, test_acc = model.evaluate(X_test,y_test)\n",
        "  \n",
        "  total = end-start\n",
        "\n",
        "  return train_acc, test_acc, total"
      ],
      "execution_count": 49,
      "outputs": []
    },
    {
      "cell_type": "code",
      "metadata": {
        "id": "xQiYWauLYat9",
        "outputId": "58f867cb-b5cc-4bb1-fdce-38816506a125",
        "colab": {
          "base_uri": "https://localhost:8080/",
          "height": 823
        }
      },
      "source": [
        "# Automated loop for different number of layers\n",
        "number_layers = [1]\n",
        "filter_size = [4, 32, 64]\n",
        "test_acc = []\n",
        "train_acc = []\n",
        "time_ls = []\n",
        "\n",
        "for i in range(len(number_layers)):\n",
        "  for j in range(len(filter_size)):\n",
        "    train, test, time_calc = my_model(number_layers[i], filter_size[j], X_train, y_train)\n",
        "    train_acc.append(train)\n",
        "    test_acc.append(test)\n",
        "    time_ls.append(time_calc)"
      ],
      "execution_count": 50,
      "outputs": [
        {
          "output_type": "stream",
          "text": [
            "\n",
            "\n",
            "\n",
            "------------------------------------Layers 1------------------------------------\n",
            "\n",
            "\n",
            "\n",
            "\n",
            "\n",
            "\n",
            "------------------------------------Filter Size 4------------------------------------\n",
            "\n",
            "\n",
            "\n",
            "1875/1875 [==============================] - 5s 3ms/step - loss: 0.0135 - accuracy: 0.9966\n",
            "313/313 [==============================] - 1s 3ms/step - loss: 0.1496 - accuracy: 0.9790\n",
            "\n",
            "\n",
            "\n",
            "------------------------------------Layers 1------------------------------------\n",
            "\n",
            "\n",
            "\n",
            "\n",
            "\n",
            "\n",
            "------------------------------------Filter Size 32------------------------------------\n",
            "\n",
            "\n",
            "\n",
            "1875/1875 [==============================] - 5s 3ms/step - loss: 0.0091 - accuracy: 0.9968\n",
            "313/313 [==============================] - 1s 3ms/step - loss: 0.1218 - accuracy: 0.9782\n",
            "\n",
            "\n",
            "\n",
            "------------------------------------Layers 1------------------------------------\n",
            "\n",
            "\n",
            "\n",
            "\n",
            "\n",
            "\n",
            "------------------------------------Filter Size 64------------------------------------\n",
            "\n",
            "\n",
            "\n",
            "1875/1875 [==============================] - 6s 3ms/step - loss: 0.0156 - accuracy: 0.9951\n",
            "313/313 [==============================] - 1s 3ms/step - loss: 0.1166 - accuracy: 0.9777\n"
          ],
          "name": "stdout"
        }
      ]
    },
    {
      "cell_type": "code",
      "metadata": {
        "id": "OhVkZ2ecl2ec",
        "outputId": "8e77253d-e0f3-451a-d720-ec5067271e38",
        "colab": {
          "base_uri": "https://localhost:8080/",
          "height": 67
        }
      },
      "source": [
        "print(test_acc)\n",
        "print(train_acc)\n",
        "print(time_ls)"
      ],
      "execution_count": 55,
      "outputs": [
        {
          "output_type": "stream",
          "text": [
            "[0.9789999723434448, 0.9782000184059143, 0.9776999950408936]\n",
            "[0.9966333508491516, 0.9968000054359436, 0.9950833320617676]\n",
            "[56.346837282180786, 56.5301513671875, 56.696410179138184]\n"
          ],
          "name": "stdout"
        }
      ]
    },
    {
      "cell_type": "code",
      "metadata": {
        "id": "ybGS_nqYYuWF",
        "outputId": "65d77706-1d5f-4cff-aa9e-3480062a8abe",
        "colab": {
          "base_uri": "https://localhost:8080/",
          "height": 851
        }
      },
      "source": [
        "# Creating the bar plots\n",
        "# Train graph\n",
        "plt.bar(filter_size, train_acc) \n",
        "\n",
        "plt.xlabel(\"Filter Size\") \n",
        "plt.ylabel(\"Training Accuracy\") \n",
        "plt.title(\"Training Acc v/s Filter Size\") \n",
        "plt.show() \n",
        "\n",
        "# Test graph\n",
        "plt.bar(filter_size, test_acc) \n",
        "  \n",
        "plt.xlabel(\"Filter Size\") \n",
        "plt.ylabel(\"Testing Accuracy\") \n",
        "plt.title(\"Testing Acc v/s Filter Size\") \n",
        "plt.show() \n",
        "\n",
        "# Time graph\n",
        "plt.bar(filter_size, time_ls) \n",
        "  \n",
        "plt.xlabel(\"Filter Size\") \n",
        "plt.ylabel(\"Running Time\") \n",
        "plt.title(\"Running Time v/s Filter Size\") \n",
        "plt.show() "
      ],
      "execution_count": 58,
      "outputs": [
        {
          "output_type": "display_data",
          "data": {
            "image/png": "[encoded data removed]",
            "text/plain": [
              "<Figure size 432x288 with 1 Axes>"
            ]
          },
          "metadata": {
            "tags": [],
            "needs_background": "light"
          }
        },
        {
          "output_type": "display_data",
          "data": {
            "image/png": "[encoded data removed]",
            "text/plain": [
              "<Figure size 432x288 with 1 Axes>"
            ]
          },
          "metadata": {
            "tags": [],
            "needs_background": "light"
          }
        },
        {
          "output_type": "display_data",
          "data": {
            "image/png": "[encoded data removed]",
            "text/plain": [
              "<Figure size 432x288 with 1 Axes>"
            ]
          },
          "metadata": {
            "tags": [],
            "needs_background": "light"
          }
        }
      ]
    },
    {
      "cell_type": "markdown",
      "metadata": {
        "id": "ipiP-igZY3_G"
      },
      "source": [
        "7. Influence of Striding"
      ]
    },
    {
      "cell_type": "code",
      "metadata": {
        "id": "th7q9l0rY6GQ"
      },
      "source": [
        "def my_model(n, X_train, y_train):\n",
        "  model = keras.Sequential()\n",
        "\n",
        "  print(f\"\\n\\n\\n------------------------------------Striding Size {n}------------------------------------\\n\\n\\n\")\n",
        "  \n",
        "  # Layer 1\n",
        "  # I'm gonna loop over the same code for n number of times :)\n",
        "  model.add(Conv2D(16, (3, 3), strides=(n, n), activation='relu', input_shape=(28, 28, 1)))\n",
        "  model.add(MaxPooling2D((2, 2)))\n",
        "  \n",
        "  # Looping\n",
        "  '''\n",
        "  Since we're using the same type and # of Filters, etc. in every layer\n",
        "  '''\n",
        "  for i in range(1,n):\n",
        "    model.add(Conv2D(16, (3, 3), strides=(n, n), activation='relu'))\n",
        "    model.add(MaxPooling2D((2, 2)))\n",
        "  \n",
        "  # Flatten layer is included once\n",
        "  model.add(Flatten())\n",
        "\n",
        "  # Fully Connected Layers\n",
        "  # FCL1\n",
        "  model.add(Dense(100, activation='relu'))\n",
        "\n",
        "  #FCL2\n",
        "  model.add(Dense(10, activation='softmax'))\n",
        "\n",
        "  # Compile model\n",
        "  model.compile(optimizer='adam', loss='categorical_crossentropy', metrics=['accuracy'])\n",
        "\n",
        "  # Calculating the time for training the model\n",
        "  start = time.time()\n",
        "  history = model.fit(X_train, y_train, epochs=10, batch_size=32, validation_data=(X_test, y_test), verbose=0)\n",
        "      \n",
        "  # Sleeping for 1 sec to get 10 sec runtime\n",
        "  time.sleep(1)\n",
        "\n",
        "  # End time\n",
        "  end = time.time()\n",
        "  \n",
        "  # Accuracies\n",
        "  _, train_acc = model.evaluate(X_train, y_train)\n",
        "  _, test_acc = model.evaluate(X_test,y_test)\n",
        "  \n",
        "  total = end-start\n",
        "\n",
        "  return train_acc, test_acc, total"
      ],
      "execution_count": 71,
      "outputs": []
    },
    {
      "cell_type": "code",
      "metadata": {
        "id": "BGqtwhRmeNeu",
        "outputId": "263a2778-cdb5-41e7-b5ef-91e98195bd13",
        "colab": {
          "base_uri": "https://localhost:8080/",
          "height": 319
        }
      },
      "source": [
        "# Automated loop for different striding sizes\n",
        "number_layers = [1, 2]\n",
        "test_acc = []\n",
        "train_acc = []\n",
        "time_ls = []\n",
        "\n",
        "# Error for 3 filter size for striding because of image\n",
        "for i in number_layers:\n",
        "  train, test, time_calc = my_model(i, X_train, y_train)\n",
        "  train_acc.append(train)\n",
        "  test_acc.append(test)\n",
        "  time_ls.append(time_calc)"
      ],
      "execution_count": 72,
      "outputs": [
        {
          "output_type": "stream",
          "text": [
            "\n",
            "\n",
            "\n",
            "------------------------------------Striding Size 1------------------------------------\n",
            "\n",
            "\n",
            "\n",
            "1875/1875 [==============================] - 5s 3ms/step - loss: 0.0132 - accuracy: 0.9960\n",
            "313/313 [==============================] - 1s 3ms/step - loss: 0.1056 - accuracy: 0.9788\n",
            "\n",
            "\n",
            "\n",
            "------------------------------------Striding Size 2------------------------------------\n",
            "\n",
            "\n",
            "\n",
            "1875/1875 [==============================] - 6s 3ms/step - loss: 0.0957 - accuracy: 0.9691\n",
            "313/313 [==============================] - 1s 3ms/step - loss: 0.1338 - accuracy: 0.9619\n"
          ],
          "name": "stdout"
        }
      ]
    },
    {
      "cell_type": "code",
      "metadata": {
        "id": "uILnfjAZqpiV",
        "outputId": "48ba08c3-a932-46c3-c4e8-645b05f7776c",
        "colab": {
          "base_uri": "https://localhost:8080/",
          "height": 67
        }
      },
      "source": [
        "# Updating the number_layers to plot graph\n",
        "number_layers = [1, 2]\n",
        "\n",
        "print(test_acc)\n",
        "print(train_acc)\n",
        "print(time_ls)"
      ],
      "execution_count": 73,
      "outputs": [
        {
          "output_type": "stream",
          "text": [
            "[0.9787999987602234, 0.961899995803833]\n",
            "[0.9960333108901978, 0.9691166877746582]\n",
            "[56.45902895927429, 50.09596848487854]\n"
          ],
          "name": "stdout"
        }
      ]
    },
    {
      "cell_type": "code",
      "metadata": {
        "id": "PxWyGbwVp8YR",
        "outputId": "b8796670-2691-4f2d-af28-e6a24854f819",
        "colab": {
          "base_uri": "https://localhost:8080/",
          "height": 851
        }
      },
      "source": [
        "# Creating the bar plots\n",
        "# Train graph\n",
        "plt.bar(number_layers, train_acc) \n",
        "\n",
        "plt.xlabel(\"Striding Filter\") \n",
        "plt.ylabel(\"Training Accuracy\") \n",
        "plt.title(\"Training Acc v/s Striding Filter\") \n",
        "plt.show() \n",
        "\n",
        "# Test graph\n",
        "plt.bar(number_layers, test_acc) \n",
        "  \n",
        "plt.xlabel(\"Striding Filter\") \n",
        "plt.ylabel(\"Testing Accuracy\") \n",
        "plt.title(\"Testing Acc v/s Striding Filter\") \n",
        "plt.show() \n",
        "\n",
        "# Time graph\n",
        "plt.bar(number_layers, time_ls) \n",
        "  \n",
        "plt.xlabel(\"Striding Filter\") \n",
        "plt.ylabel(\"Running Time\") \n",
        "plt.title(\"Running Time v/s Striding Filter\") \n",
        "plt.show() "
      ],
      "execution_count": 74,
      "outputs": [
        {
          "output_type": "display_data",
          "data": {
            "image/png": "[encoded data removed]",
            "text/plain": [
              "<Figure size 432x288 with 1 Axes>"
            ]
          },
          "metadata": {
            "tags": [],
            "needs_background": "light"
          }
        },
        {
          "output_type": "display_data",
          "data": {
            "image/png": "[encoded data removed]",
            "text/plain": [
              "<Figure size 432x288 with 1 Axes>"
            ]
          },
          "metadata": {
            "tags": [],
            "needs_background": "light"
          }
        },
        {
          "output_type": "display_data",
          "data": {
            "image/png": "[encoded data removed]",
            "text/plain": [
              "<Figure size 432x288 with 1 Axes>"
            ]
          },
          "metadata": {
            "tags": [],
            "needs_background": "light"
          }
        }
      ]
    },
    {
      "cell_type": "markdown",
      "metadata": {
        "id": "TKnUa5qYq2I8"
      },
      "source": [
        "8. Influence of Padding"
      ]
    },
    {
      "cell_type": "code",
      "metadata": {
        "id": "VZqnomJAqsCv"
      },
      "source": [
        "def my_model(n, X_train, y_train):\n",
        "  model = keras.Sequential()\n",
        "\n",
        "  print(f\"\\n\\n\\n------------------------------------Padding Same, Filter Size {n}x{n}------------------------------------\\n\\n\\n\")\n",
        "  \n",
        "  # Layer 1\n",
        "  # I'm gonna loop over the same code for n number of times :)\n",
        "  model.add(Conv2D(16, (n, n), padding='same', activation='relu', input_shape=(28, 28, 1)))\n",
        "  model.add(MaxPooling2D((2, 2)))\n",
        "  \n",
        "  # Looping\n",
        "  '''\n",
        "  Since we're using the same type and # of Filters, etc. in every layer\n",
        "  '''\n",
        "  for i in range(1,2):\n",
        "    model.add(Conv2D(16, (n, n), padding='same', activation='relu'))\n",
        "    model.add(MaxPooling2D((2, 2)))\n",
        "  \n",
        "  # Flatten layer is included once\n",
        "  model.add(Flatten())\n",
        "\n",
        "  # Fully Connected Layers\n",
        "  # FCL1\n",
        "  model.add(Dense(100, activation='relu'))\n",
        "\n",
        "  #FCL2\n",
        "  model.add(Dense(10, activation='softmax'))\n",
        "\n",
        "  # Compile model\n",
        "  model.compile(optimizer='adam', loss='categorical_crossentropy', metrics=['accuracy'])\n",
        "\n",
        "  # Calculating the time for training the model\n",
        "  start = time.time()\n",
        "  history = model.fit(X_train, y_train, epochs=10, batch_size=32, validation_data=(X_test, y_test), verbose=0)\n",
        "      \n",
        "  # Sleeping for 1 sec to get 10 sec runtime\n",
        "  time.sleep(1)\n",
        "\n",
        "  # End time\n",
        "  end = time.time()\n",
        "  \n",
        "  # Accuracies\n",
        "  _, train_acc = model.evaluate(X_train, y_train)\n",
        "  _, test_acc = model.evaluate(X_test,y_test)\n",
        "  \n",
        "  total = end-start\n",
        "\n",
        "  return train_acc, test_acc, total"
      ],
      "execution_count": 75,
      "outputs": []
    },
    {
      "cell_type": "code",
      "metadata": {
        "id": "6KKboeSOrs_F",
        "outputId": "8a4de224-d12e-4314-f7e4-f48f69a15118",
        "colab": {
          "base_uri": "https://localhost:8080/",
          "height": 470
        }
      },
      "source": [
        "# Automated loop for different striding sizes\n",
        "filter_size = [1, 2, 3]\n",
        "test_acc = []\n",
        "train_acc = []\n",
        "time_ls = []\n",
        "\n",
        "# Error for 3 filter size for striding because of image\n",
        "for i in filter_size:\n",
        "  train, test, time_calc = my_model(i, X_train, y_train)\n",
        "  train_acc.append(train)\n",
        "  test_acc.append(test)\n",
        "  time_ls.append(time_calc)"
      ],
      "execution_count": 79,
      "outputs": [
        {
          "output_type": "stream",
          "text": [
            "\n",
            "\n",
            "\n",
            "------------------------------------Padding Same, Filter Size 1x1------------------------------------\n",
            "\n",
            "\n",
            "\n",
            "1875/1875 [==============================] - 6s 3ms/step - loss: 0.1673 - accuracy: 0.9438\n",
            "313/313 [==============================] - 1s 3ms/step - loss: 0.2080 - accuracy: 0.9345\n",
            "\n",
            "\n",
            "\n",
            "------------------------------------Padding Same, Filter Size 2x2------------------------------------\n",
            "\n",
            "\n",
            "\n",
            "1875/1875 [==============================] - 6s 3ms/step - loss: 0.0190 - accuracy: 0.9938\n",
            "313/313 [==============================] - 1s 3ms/step - loss: 0.0846 - accuracy: 0.9812\n",
            "\n",
            "\n",
            "\n",
            "------------------------------------Padding Same, Filter Size 3x3------------------------------------\n",
            "\n",
            "\n",
            "\n",
            "1875/1875 [==============================] - 6s 3ms/step - loss: 0.0153 - accuracy: 0.9952\n",
            "313/313 [==============================] - 1s 3ms/step - loss: 0.0700 - accuracy: 0.9856\n"
          ],
          "name": "stdout"
        }
      ]
    },
    {
      "cell_type": "code",
      "metadata": {
        "id": "NXJUBVSOszfV",
        "outputId": "05c2da32-a1db-49c3-b26b-3f0de858319e",
        "colab": {
          "base_uri": "https://localhost:8080/",
          "height": 67
        }
      },
      "source": [
        "print(test_acc)\n",
        "print(train_acc)\n",
        "print(time_ls)"
      ],
      "execution_count": 80,
      "outputs": [
        {
          "output_type": "stream",
          "text": [
            "[0.934499979019165, 0.9811999797821045, 0.9855999946594238]\n",
            "[0.9438166618347168, 0.9938333630561829, 0.9952333569526672]\n",
            "[52.3418447971344, 58.65100288391113, 57.87803363800049]\n"
          ],
          "name": "stdout"
        }
      ]
    },
    {
      "cell_type": "code",
      "metadata": {
        "id": "L06HjCFLs2TO",
        "outputId": "6c22bd02-4781-4e86-8f2f-cd99cfa4e99d",
        "colab": {
          "base_uri": "https://localhost:8080/",
          "height": 851
        }
      },
      "source": [
        "# Creating the bar plots\n",
        "# Train graph\n",
        "plt.bar(filter_size, train_acc) \n",
        "\n",
        "plt.xlabel(\"Filter Size\") \n",
        "plt.ylabel(\"Training Accuracy\") \n",
        "plt.title(\"Training Acc v/s Filter Size\") \n",
        "plt.show() \n",
        "\n",
        "# Test graph\n",
        "plt.bar(filter_size, test_acc) \n",
        "  \n",
        "plt.xlabel(\"Filter Size\") \n",
        "plt.ylabel(\"Testing Accuracy\") \n",
        "plt.title(\"Testing Acc v/s Filter Size\") \n",
        "plt.show() \n",
        "\n",
        "# Time graph\n",
        "plt.bar(filter_size, time_ls) \n",
        "  \n",
        "plt.xlabel(\"Filter Size\") \n",
        "plt.ylabel(\"Running Time\") \n",
        "plt.title(\"Running Time v/s Filter Size\") \n",
        "plt.show() "
      ],
      "execution_count": 81,
      "outputs": [
        {
          "output_type": "display_data",
          "data": {
            "image/png": "[encoded data removed]",
            "text/plain": [
              "<Figure size 432x288 with 1 Axes>"
            ]
          },
          "metadata": {
            "tags": [],
            "needs_background": "light"
          }
        },
        {
          "output_type": "display_data",
          "data": {
            "image/png": "[encoded data removed]",
            "text/plain": [
              "<Figure size 432x288 with 1 Axes>"
            ]
          },
          "metadata": {
            "tags": [],
            "needs_background": "light"
          }
        },
        {
          "output_type": "display_data",
          "data": {
            "image/png": "[encoded data removed]",
            "text/plain": [
              "<Figure size 432x288 with 1 Axes>"
            ]
          },
          "metadata": {
            "tags": [],
            "needs_background": "light"
          }
        }
      ]
    },
    {
      "cell_type": "markdown",
      "metadata": {
        "id": "Fl-Y0ONXtHLu"
      },
      "source": [
        "9. Influence of Pooling\n"
      ]
    },
    {
      "cell_type": "code",
      "metadata": {
        "id": "uoTyfbQfs7AN"
      },
      "source": [
        "def my_model(n, X_train, y_train):\n",
        "  model = keras.Sequential()\n",
        "\n",
        "  print(f\"\\n\\n\\n------------------------------------Pooling Filter Size {n}x{n}------------------------------------\\n\\n\\n\")\n",
        "  \n",
        "  # Layer 1\n",
        "  # I'm gonna loop over the same code for n number of times :)\n",
        "  model.add(Conv2D(16, (3, 3), activation='relu', input_shape=(28, 28, 1)))\n",
        "  model.add(MaxPooling2D((n, n)))\n",
        "  \n",
        "  # Looping\n",
        "  '''\n",
        "  Since we're using the same type and # of Filters, etc. in every layer\n",
        "  '''\n",
        "  for i in range(1,2):\n",
        "    model.add(Conv2D(16, (3, 3), activation='relu'))\n",
        "    model.add(MaxPooling2D((n, n)))\n",
        "  \n",
        "  # Flatten layer is included once\n",
        "  model.add(Flatten())\n",
        "\n",
        "  # Fully Connected Layers\n",
        "  # FCL1\n",
        "  model.add(Dense(100, activation='relu'))\n",
        "\n",
        "  #FCL2\n",
        "  model.add(Dense(10, activation='softmax'))\n",
        "\n",
        "  # Compile model\n",
        "  model.compile(optimizer='adam', loss='categorical_crossentropy', metrics=['accuracy'])\n",
        "\n",
        "  # Calculating the time for training the model\n",
        "  start = time.time()\n",
        "  history = model.fit(X_train, y_train, epochs=10, batch_size=32, validation_data=(X_test, y_test), verbose=0)\n",
        "      \n",
        "  # Sleeping for 1 sec to get 10 sec runtime\n",
        "  time.sleep(1)\n",
        "\n",
        "  # End time\n",
        "  end = time.time()\n",
        "  \n",
        "  # Accuracies\n",
        "  _, train_acc = model.evaluate(X_train, y_train)\n",
        "  _, test_acc = model.evaluate(X_test,y_test)\n",
        "  \n",
        "  total = end-start\n",
        "\n",
        "  return train_acc, test_acc, total"
      ],
      "execution_count": 82,
      "outputs": []
    },
    {
      "cell_type": "code",
      "metadata": {
        "id": "uYK86pS9tVDP",
        "outputId": "d8217299-006d-4277-f6d6-12f36fa52833",
        "colab": {
          "base_uri": "https://localhost:8080/",
          "height": 622
        }
      },
      "source": [
        "# Automated loop for different striding sizes\n",
        "filter_size = [1, 2, 3, 4]\n",
        "test_acc = []\n",
        "train_acc = []\n",
        "time_ls = []\n",
        "\n",
        "# Error for 3 filter size for striding because of image\n",
        "for i in filter_size:\n",
        "  train, test, time_calc = my_model(i, X_train, y_train)\n",
        "  train_acc.append(train)\n",
        "  test_acc.append(test)\n",
        "  time_ls.append(time_calc)"
      ],
      "execution_count": 86,
      "outputs": [
        {
          "output_type": "stream",
          "text": [
            "\n",
            "\n",
            "\n",
            "------------------------------------Pooling Filter Size 1x1------------------------------------\n",
            "\n",
            "\n",
            "\n",
            "1875/1875 [==============================] - 6s 3ms/step - loss: 0.0077 - accuracy: 0.9978\n",
            "313/313 [==============================] - 1s 3ms/step - loss: 0.1512 - accuracy: 0.9811\n",
            "\n",
            "\n",
            "\n",
            "------------------------------------Pooling Filter Size 2x2------------------------------------\n",
            "\n",
            "\n",
            "\n",
            "1875/1875 [==============================] - 6s 3ms/step - loss: 0.0139 - accuracy: 0.9958\n",
            "313/313 [==============================] - 1s 3ms/step - loss: 0.0768 - accuracy: 0.9839\n",
            "\n",
            "\n",
            "\n",
            "------------------------------------Pooling Filter Size 3x3------------------------------------\n",
            "\n",
            "\n",
            "\n",
            "1875/1875 [==============================] - 6s 3ms/step - loss: 0.0286 - accuracy: 0.9910\n",
            "313/313 [==============================] - 1s 3ms/step - loss: 0.0521 - accuracy: 0.9854\n",
            "\n",
            "\n",
            "\n",
            "------------------------------------Pooling Filter Size 4x4------------------------------------\n",
            "\n",
            "\n",
            "\n",
            "1875/1875 [==============================] - 5s 3ms/step - loss: 0.1008 - accuracy: 0.9668\n",
            "313/313 [==============================] - 1s 3ms/step - loss: 0.1222 - accuracy: 0.9622\n"
          ],
          "name": "stdout"
        }
      ]
    },
    {
      "cell_type": "code",
      "metadata": {
        "id": "aSY6NUTztXp8",
        "outputId": "aa1245e1-bcf7-49be-cd60-79847a8af21e",
        "colab": {
          "base_uri": "https://localhost:8080/",
          "height": 67
        }
      },
      "source": [
        "print(test_acc)\n",
        "print(train_acc)\n",
        "print(time_ls)"
      ],
      "execution_count": 87,
      "outputs": [
        {
          "output_type": "stream",
          "text": [
            "[0.9811000227928162, 0.9839000105857849, 0.9854000210762024, 0.9621999859809875]\n",
            "[0.9978166818618774, 0.9958333373069763, 0.9909999966621399, 0.9667500257492065]\n",
            "[72.11777973175049, 58.76347780227661, 59.35420799255371, 50.95042848587036]\n"
          ],
          "name": "stdout"
        }
      ]
    },
    {
      "cell_type": "code",
      "metadata": {
        "id": "B2WBMihXtZC7",
        "outputId": "7f6ace3e-68d0-4466-b371-833cd7364356",
        "colab": {
          "base_uri": "https://localhost:8080/",
          "height": 851
        }
      },
      "source": [
        "# Creating the bar plots\n",
        "# Train graph\n",
        "plt.bar(filter_size, train_acc) \n",
        "\n",
        "plt.xlabel(\"Filter Size\") \n",
        "plt.ylabel(\"Training Accuracy\") \n",
        "plt.title(\"Training Acc v/s Filter Size\") \n",
        "plt.show() \n",
        "\n",
        "# Test graph\n",
        "plt.bar(filter_size, test_acc) \n",
        "  \n",
        "plt.xlabel(\"Filter Size\") \n",
        "plt.ylabel(\"Testing Accuracy\") \n",
        "plt.title(\"Testing Acc v/s Filter Size\") \n",
        "plt.show() \n",
        "\n",
        "# Time graph\n",
        "plt.bar(filter_size, time_ls) \n",
        "  \n",
        "plt.xlabel(\"Filter Size\") \n",
        "plt.ylabel(\"Running Time\") \n",
        "plt.title(\"Running Time v/s Filter Size\") \n",
        "plt.show() "
      ],
      "execution_count": 88,
      "outputs": [
        {
          "output_type": "display_data",
          "data": {
            "image/png": "[encoded data removed]",
            "text/plain": [
              "<Figure size 432x288 with 1 Axes>"
            ]
          },
          "metadata": {
            "tags": [],
            "needs_background": "light"
          }
        },
        {
          "output_type": "display_data",
          "data": {
            "image/png": "[encoded data removed]",
            "text/plain": [
              "<Figure size 432x288 with 1 Axes>"
            ]
          },
          "metadata": {
            "tags": [],
            "needs_background": "light"
          }
        },
        {
          "output_type": "display_data",
          "data": {
            "image/png": "[encoded data removed]",
            "text/plain": [
              "<Figure size 432x288 with 1 Axes>"
            ]
          },
          "metadata": {
            "tags": [],
            "needs_background": "light"
          }
        }
      ]
    },
    {
      "cell_type": "code",
      "metadata": {
        "id": "rq3V4z3itaZh"
      },
      "source": [
        ""
      ],
      "execution_count": null,
      "outputs": []
    }
  ]
}