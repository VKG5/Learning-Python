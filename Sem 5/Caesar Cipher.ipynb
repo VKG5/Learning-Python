{
 "cells": [
  {
   "cell_type": "markdown",
   "metadata": {},
   "source": [
    "# CAESAR CIPHER"
   ]
  },
  {
   "cell_type": "code",
   "execution_count": 3,
   "metadata": {},
   "outputs": [
    {
     "name": "stdout",
     "output_type": "stream",
     "text": [
      "Enter the message: ATTACKATONCE\n",
      "Enter key: 4\n",
      "Choose one of the following:\n",
      "1. Encrypt the message\n",
      "2. Decrypt the message\n"
     ]
    }
   ],
   "source": [
    "msg = input(\"Enter the message: \")\n",
    "key = int(input(\"Enter key: \"))\n",
    "\n",
    "print(\"Choose one of the following:\\n1. Encrypt the message\\n2. Decrypt the message\")"
   ]
  },
  {
   "cell_type": "code",
   "execution_count": 54,
   "metadata": {},
   "outputs": [],
   "source": [
    "def encrypt(msg, s):\n",
    "    ans = \"\"\n",
    "    \n",
    "    for i in range(len(msg)):\n",
    "        if(msg[i].isupper()):\n",
    "            ans += chr((ord(msg[i]) + s-65) % 26 + 65)\n",
    "        \n",
    "        else:\n",
    "            ans += chr((ord(msg[i]) + s-97) % 26 + 97)\n",
    "            \n",
    "    return ans"
   ]
  },
  {
   "cell_type": "code",
   "execution_count": 55,
   "metadata": {},
   "outputs": [
    {
     "name": "stdout",
     "output_type": "stream",
     "text": [
      "EXXEGOEXSRGI\n"
     ]
    }
   ],
   "source": [
    "result = encrypt(msg, key)\n",
    "print(result)"
   ]
  },
  {
   "cell_type": "code",
   "execution_count": 56,
   "metadata": {},
   "outputs": [],
   "source": [
    "def decrypt(msg, s):\n",
    "    ans = \"\"\n",
    "    s = 26-s\n",
    "    \n",
    "    for i in range(len(msg)):\n",
    "        if(msg[i].isupper()):\n",
    "            ans += chr((ord(msg[i]) + s-65) % 26 + 65)\n",
    "        \n",
    "        else:\n",
    "            ans += chr((ord(msg[i]) + s-97) % 26 + 97)\n",
    "            \n",
    "    return ans"
   ]
  },
  {
   "cell_type": "code",
   "execution_count": 57,
   "metadata": {},
   "outputs": [],
   "source": [
    "result = decrypt(result, key)"
   ]
  },
  {
   "cell_type": "code",
   "execution_count": null,
   "metadata": {},
   "outputs": [],
   "source": [
    "result"
   ]
  },
  {
   "cell_type": "markdown",
   "metadata": {},
   "source": [
    "# Final"
   ]
  },
  {
   "cell_type": "code",
   "execution_count": 62,
   "metadata": {},
   "outputs": [
    {
     "name": "stdout",
     "output_type": "stream",
     "text": [
      "Enter the message: EXXEGOEXSRGI\n",
      "Enter key: 4\n",
      "Choose one of the following:\n",
      "1. Encrypt the message\n",
      "2. Decrypt the message\n",
      "2\n",
      "ATTACKATONCE\n"
     ]
    }
   ],
   "source": [
    "def encrypt_decrypt(msg, s):\n",
    "    ans = \"\"\n",
    "    \n",
    "    for i in range(len(msg)):\n",
    "        if(msg[i].isupper()):\n",
    "            ans += chr((ord(msg[i]) + s-65) % 26 + 65)\n",
    "        \n",
    "        else:\n",
    "            ans += chr((ord(msg[i]) + s-97) % 26 + 97)\n",
    "            \n",
    "    return ans\n",
    "\n",
    "msg = input(\"Enter the message: \")\n",
    "key = int(input(\"Enter key: \"))\n",
    "\n",
    "print(\"Choose one of the following:\\n1. Encrypt the message\\n2. Decrypt the message\")\n",
    "choice = int(input())\n",
    "\n",
    "if(choice==1):\n",
    "    print(encrypt_decrypt(msg, key))\n",
    "elif(choice==2):\n",
    "    print(encrypt_decrypt(msg, 26-key))\n",
    "else:\n",
    "    print(\"Wrong Choice!\")"
   ]
  },
  {
   "cell_type": "markdown",
   "metadata": {},
   "source": [
    "## Nonce\n",
    "Hint: A nonce is a random or semi-random number that is generated for a specific use, typically related\n",
    "to cryptographic communication or information technology. The term itself stands for “number used\n",
    "once” or “number once” and is most commonly referred to specifically as a cryptographic nonce.\n",
    "\n",
    "(The program has to generate 10 cryptographic nonce in the range [1, 10000])"
   ]
  },
  {
   "cell_type": "code",
   "execution_count": 67,
   "metadata": {},
   "outputs": [
    {
     "name": "stdout",
     "output_type": "stream",
     "text": [
      "Input message: ATTACKATONCE\n",
      "\n",
      "Key: 260\n",
      "Encrypted Message: ATTACKATONCE\n",
      "Decrypted Message: ATTACKATONCE\n",
      "\n",
      "Key: 177\n",
      "Encrypted Message: VOOVXFVOJIXZ\n",
      "Decrypted Message: FYYFHPFYTSHJ\n",
      "\n",
      "Key: 68\n",
      "Encrypted Message: QJJQSAQJEDSU\n",
      "Decrypted Message: KDDKMUKDYXMO\n",
      "\n",
      "Key: 333\n",
      "Encrypted Message: VOOVXFVOJIXZ\n",
      "Decrypted Message: FYYFHPFYTSHJ\n",
      "\n",
      "Key: 148\n",
      "Encrypted Message: SLLSUCSLGFUW\n",
      "Decrypted Message: IBBIKSIBWVKM\n",
      "\n",
      "Key: 885\n",
      "Encrypted Message: BUUBDLBUPODF\n",
      "Decrypted Message: ZSSZBJZSNMBD\n",
      "\n",
      "Key: 278\n",
      "Encrypted Message: SLLSUCSLGFUW\n",
      "Decrypted Message: IBBIKSIBWVKM\n",
      "\n",
      "Key: 264\n",
      "Encrypted Message: EXXEGOEXSRGI\n",
      "Decrypted Message: WPPWYGWPKJYA\n",
      "\n",
      "Key: 493\n",
      "Encrypted Message: ZSSZBJZSNMBD\n",
      "Decrypted Message: BUUBDLBUPODF\n",
      "\n",
      "Key: 194\n",
      "Encrypted Message: MFFMOWMFAZOQ\n",
      "Decrypted Message: OHHOQYOHCBQS\n",
      "\n"
     ]
    }
   ],
   "source": [
    "# For a program that input 10 random numbers and 10 Ciphers\n",
    "import random\n",
    "\n",
    "msg = \"ATTACKATONCE\"\n",
    "print(\"Input message:\", msg)\n",
    "print()\n",
    "\n",
    "i = 10\n",
    "while(i):\n",
    "    # To generate a random key \n",
    "    key = random.randrange(1, 1000, 1)\n",
    "    \n",
    "    print(\"Key:\", key)\n",
    "    print(\"Encrypted Message:\", encrypt_decrypt(msg, key))\n",
    "    print(\"Decrypted Message:\", encrypt_decrypt(msg, 26 - key))\n",
    "    print()\n",
    "    \n",
    "    i-=1"
   ]
  },
  {
   "cell_type": "code",
   "execution_count": null,
   "metadata": {},
   "outputs": [],
   "source": []
  }
 ],
 "metadata": {
  "kernelspec": {
   "display_name": "Python 3",
   "language": "python",
   "name": "python3"
  },
  "language_info": {
   "codemirror_mode": {
    "name": "ipython",
    "version": 3
   },
   "file_extension": ".py",
   "mimetype": "text/x-python",
   "name": "python",
   "nbconvert_exporter": "python",
   "pygments_lexer": "ipython3",
   "version": "3.7.4"
  }
 },
 "nbformat": 4,
 "nbformat_minor": 2
}
